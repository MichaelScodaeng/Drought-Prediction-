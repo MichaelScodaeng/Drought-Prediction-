{
 "cells": [
  {
   "cell_type": "code",
   "execution_count": null,
   "id": "daeb900a",
   "metadata": {},
   "outputs": [],
   "source": [
    "import sys\n",
    "import os\n",
    "import numpy as np\n",
    "import pandas as pd\n",
    "\n",
    "# Add project root to Python path to find 'src'\n",
    "notebook_dir = os.getcwd()\n",
    "project_root = os.path.abspath(os.path.join(notebook_dir, '..'))\n",
    "if project_root not in sys.path:\n",
    "    sys.path.append(project_root)\n",
    "    print(f\"Added project root to sys.path: {project_root}\")\n",
    "\n",
    "# Import your new pipeline class\n",
    "from src.lstm_local_pipeline import LSTMPyTorchLightningLocalPipeline"
   ]
  },
  {
   "cell_type": "code",
   "execution_count": null,
   "id": "ea2765be",
   "metadata": {},
   "outputs": [],
   "source": [
    "# Point to your new LSTM-specific config file\n",
    "config_file = \"../config_LSTM_PyTorchLightning.yaml\" \n",
    "\n",
    "# Create an instance of the pipeline\n",
    "lstm_pipeline = LSTMPyTorchLightningLocalPipeline(config_path=config_file)\n",
    "\n",
    "# Execute the pipeline. This will take some time as it trains a model for each location.\n",
    "# The number of tuning trials is set in your config file (n_trials: 20)\n",
    "all_lstm_metrics = lstm_pipeline.run_pipeline()"
   ]
  },
  {
   "cell_type": "code",
   "execution_count": null,
   "id": "55dde36d",
   "metadata": {},
   "outputs": [],
   "source": [
    "print(\"\\n--- LSTM Pipeline Execution Finished ---\")\n",
    "if all_lstm_metrics and isinstance(all_lstm_metrics, list):\n",
    "    print(f\"Processed {len(all_lstm_metrics)} locations with LSTM.\")\n",
    "\n",
    "    # Convert results to a DataFrame for easy analysis\n",
    "    lstm_results_df = pd.json_normalize(all_lstm_metrics)\n",
    "\n",
    "    print(\"\\n--- LSTM Test Set Performance Summary ---\")\n",
    "    # The column names will be like 'test.rmse', 'test.r2', etc.\n",
    "    if 'test.rmse' in lstm_results_df.columns:\n",
    "        print(lstm_results_df[['test.rmse', 'test.mae', 'test.r2']].describe())\n",
    "    else:\n",
    "        print(\"No successful test metrics to display.\")\n",
    "\n",
    "elif isinstance(all_lstm_metrics, str): # Error string returned\n",
    "    print(f\"Pipeline execution failed: {all_lstm_metrics}\")\n",
    "else:\n",
    "    print(\"No metrics returned from the LSTM pipeline.\")"
   ]
  }
 ],
 "metadata": {
  "language_info": {
   "name": "python"
  }
 },
 "nbformat": 4,
 "nbformat_minor": 5
}
