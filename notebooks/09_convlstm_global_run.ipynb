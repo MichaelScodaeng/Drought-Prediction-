{
 "cells": [
  {
   "cell_type": "code",
   "execution_count": 1,
   "id": "67856288",
   "metadata": {},
   "outputs": [
    {
     "name": "stdout",
     "output_type": "stream",
     "text": [
      "Added project root to sys.path: c:\\Users\\peera\\Desktop\\DroughtLSTM_oneday\n"
     ]
    },
    {
     "name": "stderr",
     "output_type": "stream",
     "text": [
      "c:\\Users\\peera\\.conda\\envs\\drought_lstm_base\\Lib\\site-packages\\tqdm\\auto.py:21: TqdmWarning: IProgress not found. Please update jupyter and ipywidgets. See https://ipywidgets.readthedocs.io/en/stable/user_install.html\n",
      "  from .autonotebook import tqdm as notebook_tqdm\n"
     ]
    },
    {
     "name": "stdout",
     "output_type": "stream",
     "text": [
      "PyTorch, PyTorch Lightning, and Optuna successfully imported.\n",
      "ConvLSTM Pipeline: Successfully imported utility functions.\n"
     ]
    }
   ],
   "source": [
    "import sys\n",
    "import os\n",
    "import pandas as pd\n",
    "\n",
    "# Add project root to Python path to find the 'src' directory\n",
    "notebook_dir = os.getcwd()\n",
    "project_root = os.path.abspath(os.path.join(notebook_dir, '..'))\n",
    "if project_root not in sys.path:\n",
    "    sys.path.append(project_root)\n",
    "    print(f\"Added project root to sys.path: {project_root}\")\n",
    "\n",
    "# Import your new ConvLSTM pipeline class\n",
    "from src.convlstm_pipeline import ConvLSTMPipeline"
   ]
  },
  {
   "cell_type": "code",
   "execution_count": 2,
   "id": "601e28ea",
   "metadata": {},
   "outputs": [
    {
     "data": {
      "text/plain": [
       "'c:\\\\Users\\\\peera\\\\Desktop\\\\DroughtLSTM_oneday\\\\notebooks'"
      ]
     },
     "execution_count": 2,
     "metadata": {},
     "output_type": "execute_result"
    }
   ],
   "source": [
    "pwd"
   ]
  },
  {
   "cell_type": "code",
   "execution_count": 3,
   "id": "299e0bb4",
   "metadata": {},
   "outputs": [
    {
     "name": "stdout",
     "output_type": "stream",
     "text": [
      "Configuration loaded from c:\\Users\\peera\\Desktop\\DroughtLSTM_oneday\\config_ConvLSTM.yaml\n",
      "\n",
      "--- Starting ConvLSTM Global Pipeline ---\n",
      "Successfully loaded data from c:\\Users\\peera\\Desktop\\DroughtLSTM_oneday\\data\\full.csv. Shape: (264201, 19)\n",
      "Converted column 'time' to datetime.\n",
      "Data sorted by ['time', 'lat', 'lon'].\n",
      "--- Starting Data Gridding Process (Fixed Step Method) ---\n",
      "Using fixed grid step of: 0.5 degrees\n",
      "Grid boundaries: LAT (6.25, 20.25), LON (97.75, 105.25)\n",
      "Calculated grid dimensions: Height=29, Width=16\n",
      "Created 2D validity mask (29x16) with 179 valid data pixels.\n",
      "Pivoting data into a 4D tensor of shape (1476, 29, 16, 16)...\n"
     ]
    },
    {
     "name": "stderr",
     "output_type": "stream",
     "text": [
      "[I 2025-06-07 01:53:59,254] A new study created in memory with name: no-name-56b915a4-6192-46bc-84ea-b1d0f806dac5\n",
      "GPU available: True (cuda), used: True\n",
      "TPU available: False, using: 0 TPU cores\n",
      "HPU available: False, using: 0 HPUs\n",
      "You are using a CUDA device ('NVIDIA GeForce RTX 4060 Laptop GPU') that has Tensor Cores. To properly utilize them, you should set `torch.set_float32_matmul_precision('medium' | 'high')` which will trade-off precision for performance. For more details, read https://pytorch.org/docs/stable/generated/torch.set_float32_matmul_precision.html#torch.set_float32_matmul_precision\n",
      "LOCAL_RANK: 0 - CUDA_VISIBLE_DEVICES: [0]\n",
      "\n",
      "  | Name      | Type              | Params | Mode \n",
      "--------------------------------------------------------\n",
      "0 | model     | ConvLSTMRegressor | 563 K  | train\n",
      "1 | criterion | MSELoss           | 0      | train\n",
      "--------------------------------------------------------\n",
      "563 K     Trainable params\n",
      "0         Non-trainable params\n",
      "563 K     Total params\n",
      "2.254     Total estimated model params size (MB)\n",
      "11        Modules in train mode\n",
      "0         Modules in eval mode\n"
     ]
    },
    {
     "name": "stdout",
     "output_type": "stream",
     "text": [
      "--- Data Gridding Process Finished ---\n"
     ]
    },
    {
     "name": "stderr",
     "output_type": "stream",
     "text": [
      "C:\\Users\\peera\\AppData\\Roaming\\Python\\Python312\\site-packages\\pytorch_lightning\\trainer\\connectors\\data_connector.py:425: The 'val_dataloader' does not have many workers which may be a bottleneck. Consider increasing the value of the `num_workers` argument` to `num_workers=19` in the `DataLoader` to improve performance.\n",
      "C:\\Users\\peera\\AppData\\Roaming\\Python\\Python312\\site-packages\\pytorch_lightning\\trainer\\connectors\\data_connector.py:425: The 'train_dataloader' does not have many workers which may be a bottleneck. Consider increasing the value of the `num_workers` argument` to `num_workers=19` in the `DataLoader` to improve performance.\n",
      "C:\\Users\\peera\\AppData\\Roaming\\Python\\Python312\\site-packages\\optuna\\trial\\_trial.py:497: UserWarning: The reported value is ignored because this `step` 0 is already reported.\n",
      "  warnings.warn(\n",
      "`Trainer.fit` stopped: `max_epochs=2` reached.\n",
      "[I 2025-06-07 01:54:11,635] Trial 0 finished with value: 1.0027885437011719 and parameters: {'learning_rate': 1.1931397339621804e-06, 'n_layers': 3, 'hidden_channels': 32, 'kernel_size': 5}. Best is trial 0 with value: 1.0027885437011719.\n",
      "GPU available: True (cuda), used: True\n",
      "TPU available: False, using: 0 TPU cores\n",
      "HPU available: False, using: 0 HPUs\n",
      "LOCAL_RANK: 0 - CUDA_VISIBLE_DEVICES: [0]\n",
      "\n",
      "  | Name      | Type              | Params | Mode \n",
      "--------------------------------------------------------\n",
      "0 | model     | ConvLSTMRegressor | 2.2 M  | train\n",
      "1 | criterion | MSELoss           | 0      | train\n",
      "--------------------------------------------------------\n",
      "2.2 M     Trainable params\n",
      "0         Non-trainable params\n",
      "2.2 M     Total params\n",
      "8.605     Total estimated model params size (MB)\n",
      "11        Modules in train mode\n",
      "0         Modules in eval mode\n",
      "`Trainer.fit` stopped: `max_epochs=2` reached.\n",
      "[I 2025-06-07 01:54:37,474] Trial 1 finished with value: 1.112221360206604 and parameters: {'learning_rate': 5.242574118019664e-06, 'n_layers': 3, 'hidden_channels': 64, 'kernel_size': 5}. Best is trial 0 with value: 1.0027885437011719.\n",
      "GPU available: True (cuda), used: True\n",
      "TPU available: False, using: 0 TPU cores\n",
      "HPU available: False, using: 0 HPUs\n",
      "LOCAL_RANK: 0 - CUDA_VISIBLE_DEVICES: [0]\n",
      "\n",
      "  | Name      | Type              | Params | Mode \n",
      "--------------------------------------------------------\n",
      "0 | model     | ConvLSTMRegressor | 55.5 K | train\n",
      "1 | criterion | MSELoss           | 0      | train\n",
      "--------------------------------------------------------\n",
      "55.5 K    Trainable params\n",
      "0         Non-trainable params\n",
      "55.5 K    Total params\n",
      "0.222     Total estimated model params size (MB)\n",
      "11        Modules in train mode\n",
      "0         Modules in eval mode\n",
      "`Trainer.fit` stopped: `max_epochs=2` reached.\n",
      "[I 2025-06-07 01:55:09,412] Trial 2 finished with value: 0.967175304889679 and parameters: {'learning_rate': 2.517005205284247e-06, 'n_layers': 3, 'hidden_channels': 16, 'kernel_size': 3}. Best is trial 2 with value: 0.967175304889679.\n",
      "GPU available: True (cuda), used: True\n",
      "TPU available: False, using: 0 TPU cores\n",
      "HPU available: False, using: 0 HPUs\n",
      "LOCAL_RANK: 0 - CUDA_VISIBLE_DEVICES: [0]\n",
      "\n",
      "  | Name      | Type              | Params | Mode \n",
      "--------------------------------------------------------\n",
      "0 | model     | ConvLSTMRegressor | 18.5 K | train\n",
      "1 | criterion | MSELoss           | 0      | train\n",
      "--------------------------------------------------------\n",
      "18.5 K    Trainable params\n",
      "0         Non-trainable params\n",
      "18.5 K    Total params\n",
      "0.074     Total estimated model params size (MB)\n",
      "7         Modules in train mode\n",
      "0         Modules in eval mode\n",
      "`Trainer.fit` stopped: `max_epochs=2` reached.\n",
      "[I 2025-06-07 01:55:17,358] Trial 3 finished with value: 1.130705714225769 and parameters: {'learning_rate': 3.827569012869435e-06, 'n_layers': 1, 'hidden_channels': 16, 'kernel_size': 3}. Best is trial 2 with value: 0.967175304889679.\n",
      "GPU available: True (cuda), used: True\n",
      "TPU available: False, using: 0 TPU cores\n",
      "HPU available: False, using: 0 HPUs\n",
      "LOCAL_RANK: 0 - CUDA_VISIBLE_DEVICES: [0]\n",
      "\n",
      "  | Name      | Type              | Params | Mode \n",
      "--------------------------------------------------------\n",
      "0 | model     | ConvLSTMRegressor | 37.0 K | train\n",
      "1 | criterion | MSELoss           | 0      | train\n",
      "--------------------------------------------------------\n",
      "37.0 K    Trainable params\n",
      "0         Non-trainable params\n",
      "37.0 K    Total params\n",
      "0.148     Total estimated model params size (MB)\n",
      "9         Modules in train mode\n",
      "0         Modules in eval mode\n",
      "`Trainer.fit` stopped: `max_epochs=2` reached.\n",
      "[I 2025-06-07 01:55:39,634] Trial 4 finished with value: 1.1681103706359863 and parameters: {'learning_rate': 9.858832685589657e-06, 'n_layers': 2, 'hidden_channels': 16, 'kernel_size': 3}. Best is trial 2 with value: 0.967175304889679.\n",
      "GPU available: True (cuda), used: True\n",
      "TPU available: False, using: 0 TPU cores\n",
      "HPU available: False, using: 0 HPUs\n",
      "LOCAL_RANK: 0 - CUDA_VISIBLE_DEVICES: [0]\n",
      "\n",
      "  | Name      | Type              | Params | Mode \n",
      "--------------------------------------------------------\n",
      "0 | model     | ConvLSTMRegressor | 203 K  | train\n",
      "1 | criterion | MSELoss           | 0      | train\n",
      "--------------------------------------------------------\n",
      "203 K     Trainable params\n",
      "0         Non-trainable params\n",
      "203 K     Total params\n",
      "0.813     Total estimated model params size (MB)\n",
      "11        Modules in train mode\n",
      "0         Modules in eval mode\n",
      "[I 2025-06-07 01:55:39,905] Trial 5 finished with value: inf and parameters: {'learning_rate': 2.943933460754929e-06, 'n_layers': 3, 'hidden_channels': 32, 'kernel_size': 3}. Best is trial 2 with value: 0.967175304889679.\n",
      "GPU available: True (cuda), used: True\n",
      "TPU available: False, using: 0 TPU cores\n",
      "HPU available: False, using: 0 HPUs\n",
      "LOCAL_RANK: 0 - CUDA_VISIBLE_DEVICES: [0]\n",
      "\n",
      "  | Name      | Type              | Params | Mode \n",
      "--------------------------------------------------------\n",
      "0 | model     | ConvLSTMRegressor | 55.5 K | train\n",
      "1 | criterion | MSELoss           | 0      | train\n",
      "--------------------------------------------------------\n",
      "55.5 K    Trainable params\n",
      "0         Non-trainable params\n",
      "55.5 K    Total params\n",
      "0.222     Total estimated model params size (MB)\n",
      "7         Modules in train mode\n",
      "0         Modules in eval mode\n",
      "[I 2025-06-07 01:55:40,067] Trial 6 finished with value: inf and parameters: {'learning_rate': 2.4127703492149057e-06, 'n_layers': 1, 'hidden_channels': 32, 'kernel_size': 3}. Best is trial 2 with value: 0.967175304889679.\n",
      "GPU available: True (cuda), used: True\n",
      "TPU available: False, using: 0 TPU cores\n",
      "HPU available: False, using: 0 HPUs\n",
      "LOCAL_RANK: 0 - CUDA_VISIBLE_DEVICES: [0]\n",
      "\n",
      "  | Name      | Type              | Params | Mode \n",
      "--------------------------------------------------------\n",
      "0 | model     | ConvLSTMRegressor | 129 K  | train\n",
      "1 | criterion | MSELoss           | 0      | train\n",
      "--------------------------------------------------------\n",
      "129 K     Trainable params\n",
      "0         Non-trainable params\n",
      "129 K     Total params\n",
      "0.517     Total estimated model params size (MB)\n",
      "9         Modules in train mode\n",
      "0         Modules in eval mode\n",
      "`Trainer.fit` stopped: `max_epochs=2` reached.\n",
      "[I 2025-06-07 01:56:03,393] Trial 7 finished with value: 1.075576663017273 and parameters: {'learning_rate': 5.256032127602684e-06, 'n_layers': 2, 'hidden_channels': 32, 'kernel_size': 3}. Best is trial 2 with value: 0.967175304889679.\n",
      "GPU available: True (cuda), used: True\n",
      "TPU available: False, using: 0 TPU cores\n",
      "HPU available: False, using: 0 HPUs\n",
      "LOCAL_RANK: 0 - CUDA_VISIBLE_DEVICES: [0]\n",
      "\n",
      "  | Name      | Type              | Params | Mode \n",
      "--------------------------------------------------------\n",
      "0 | model     | ConvLSTMRegressor | 153 K  | train\n",
      "1 | criterion | MSELoss           | 0      | train\n",
      "--------------------------------------------------------\n",
      "153 K     Trainable params\n",
      "0         Non-trainable params\n",
      "153 K     Total params\n",
      "0.615     Total estimated model params size (MB)\n",
      "11        Modules in train mode\n",
      "0         Modules in eval mode\n",
      "`Trainer.fit` stopped: `max_epochs=2` reached.\n",
      "[I 2025-06-07 01:56:19,089] Trial 8 finished with value: 1.0092471837997437 and parameters: {'learning_rate': 1.6562199958457312e-06, 'n_layers': 3, 'hidden_channels': 16, 'kernel_size': 5}. Best is trial 2 with value: 0.967175304889679.\n",
      "GPU available: True (cuda), used: True\n",
      "TPU available: False, using: 0 TPU cores\n",
      "HPU available: False, using: 0 HPUs\n",
      "LOCAL_RANK: 0 - CUDA_VISIBLE_DEVICES: [0]\n",
      "\n",
      "  | Name      | Type              | Params | Mode \n",
      "--------------------------------------------------------\n",
      "0 | model     | ConvLSTMRegressor | 774 K  | train\n",
      "1 | criterion | MSELoss           | 0      | train\n",
      "--------------------------------------------------------\n",
      "774 K     Trainable params\n",
      "0         Non-trainable params\n",
      "774 K     Total params\n",
      "3.100     Total estimated model params size (MB)\n",
      "11        Modules in train mode\n",
      "0         Modules in eval mode\n",
      "[I 2025-06-07 01:56:19,201] Trial 9 finished with value: inf and parameters: {'learning_rate': 1.147176805683731e-06, 'n_layers': 3, 'hidden_channels': 64, 'kernel_size': 3}. Best is trial 2 with value: 0.967175304889679.\n",
      "GPU available: True (cuda), used: True\n",
      "TPU available: False, using: 0 TPU cores\n",
      "HPU available: False, using: 0 HPUs\n",
      "LOCAL_RANK: 0 - CUDA_VISIBLE_DEVICES: [0]\n",
      "\n",
      "  | Name      | Type              | Params | Mode \n",
      "--------------------------------------------------------\n",
      "0 | model     | ConvLSTMRegressor | 102 K  | train\n",
      "1 | criterion | MSELoss           | 0      | train\n",
      "--------------------------------------------------------\n",
      "102 K     Trainable params\n",
      "0         Non-trainable params\n",
      "102 K     Total params\n",
      "0.410     Total estimated model params size (MB)\n",
      "9         Modules in train mode\n",
      "0         Modules in eval mode\n",
      "[I 2025-06-07 01:56:19,261] Trial 10 finished with value: inf and parameters: {'learning_rate': 1.9068281277297864e-06, 'n_layers': 2, 'hidden_channels': 16, 'kernel_size': 5}. Best is trial 2 with value: 0.967175304889679.\n",
      "GPU available: True (cuda), used: True\n",
      "TPU available: False, using: 0 TPU cores\n",
      "HPU available: False, using: 0 HPUs\n",
      "LOCAL_RANK: 0 - CUDA_VISIBLE_DEVICES: [0]\n",
      "\n",
      "  | Name      | Type              | Params | Mode \n",
      "--------------------------------------------------------\n",
      "0 | model     | ConvLSTMRegressor | 563 K  | train\n",
      "1 | criterion | MSELoss           | 0      | train\n",
      "--------------------------------------------------------\n",
      "563 K     Trainable params\n",
      "0         Non-trainable params\n",
      "563 K     Total params\n",
      "2.254     Total estimated model params size (MB)\n",
      "11        Modules in train mode\n",
      "0         Modules in eval mode\n",
      "[I 2025-06-07 01:56:19,362] Trial 11 finished with value: inf and parameters: {'learning_rate': 1.0604986979556576e-06, 'n_layers': 3, 'hidden_channels': 32, 'kernel_size': 5}. Best is trial 2 with value: 0.967175304889679.\n",
      "GPU available: True (cuda), used: True\n",
      "TPU available: False, using: 0 TPU cores\n",
      "HPU available: False, using: 0 HPUs\n",
      "LOCAL_RANK: 0 - CUDA_VISIBLE_DEVICES: [0]\n",
      "\n",
      "  | Name      | Type              | Params | Mode \n",
      "--------------------------------------------------------\n",
      "0 | model     | ConvLSTMRegressor | 102 K  | train\n",
      "1 | criterion | MSELoss           | 0      | train\n",
      "--------------------------------------------------------\n",
      "102 K     Trainable params\n",
      "0         Non-trainable params\n",
      "102 K     Total params\n",
      "0.410     Total estimated model params size (MB)\n",
      "9         Modules in train mode\n",
      "0         Modules in eval mode\n",
      "`Trainer.fit` stopped: `max_epochs=2` reached.\n",
      "[I 2025-06-07 01:56:26,844] Trial 12 finished with value: 1.018507719039917 and parameters: {'learning_rate': 1.5441509806888786e-06, 'n_layers': 2, 'hidden_channels': 16, 'kernel_size': 5}. Best is trial 2 with value: 0.967175304889679.\n",
      "GPU available: True (cuda), used: True\n",
      "TPU available: False, using: 0 TPU cores\n",
      "HPU available: False, using: 0 HPUs\n",
      "LOCAL_RANK: 0 - CUDA_VISIBLE_DEVICES: [0]\n",
      "\n",
      "  | Name      | Type              | Params | Mode \n",
      "--------------------------------------------------------\n",
      "0 | model     | ConvLSTMRegressor | 563 K  | train\n",
      "1 | criterion | MSELoss           | 0      | train\n",
      "--------------------------------------------------------\n",
      "563 K     Trainable params\n",
      "0         Non-trainable params\n",
      "563 K     Total params\n",
      "2.254     Total estimated model params size (MB)\n",
      "11        Modules in train mode\n",
      "0         Modules in eval mode\n",
      "[I 2025-06-07 01:56:26,940] Trial 13 finished with value: inf and parameters: {'learning_rate': 2.2749543593200446e-06, 'n_layers': 3, 'hidden_channels': 32, 'kernel_size': 5}. Best is trial 2 with value: 0.967175304889679.\n",
      "GPU available: True (cuda), used: True\n",
      "TPU available: False, using: 0 TPU cores\n",
      "HPU available: False, using: 0 HPUs\n",
      "LOCAL_RANK: 0 - CUDA_VISIBLE_DEVICES: [0]\n",
      "\n",
      "  | Name      | Type              | Params | Mode \n",
      "--------------------------------------------------------\n",
      "0 | model     | ConvLSTMRegressor | 479 K  | train\n",
      "1 | criterion | MSELoss           | 0      | train\n",
      "--------------------------------------------------------\n",
      "479 K     Trainable params\n",
      "0         Non-trainable params\n",
      "479 K     Total params\n",
      "1.919     Total estimated model params size (MB)\n",
      "9         Modules in train mode\n",
      "0         Modules in eval mode\n",
      "[I 2025-06-07 01:56:27,047] Trial 14 finished with value: inf and parameters: {'learning_rate': 1.3259267878612146e-06, 'n_layers': 2, 'hidden_channels': 64, 'kernel_size': 3}. Best is trial 2 with value: 0.967175304889679.\n",
      "GPU available: True (cuda), used: True\n",
      "TPU available: False, using: 0 TPU cores\n",
      "HPU available: False, using: 0 HPUs\n",
      "C:\\Users\\peera\\AppData\\Roaming\\Python\\Python312\\site-packages\\pytorch_lightning\\callbacks\\model_checkpoint.py:654: Checkpoint directory C:\\Users\\peera\\Desktop\\DroughtLSTM_oneday\\models_saved\\SPEI_ConvLSTM_Global_Run exists and is not empty.\n",
      "LOCAL_RANK: 0 - CUDA_VISIBLE_DEVICES: [0]\n",
      "\n",
      "  | Name      | Type              | Params | Mode \n",
      "--------------------------------------------------------\n",
      "0 | model     | ConvLSTMRegressor | 55.5 K | train\n",
      "1 | criterion | MSELoss           | 0      | train\n",
      "--------------------------------------------------------\n",
      "55.5 K    Trainable params\n",
      "0         Non-trainable params\n",
      "55.5 K    Total params\n",
      "0.222     Total estimated model params size (MB)\n",
      "11        Modules in train mode\n",
      "0         Modules in eval mode\n"
     ]
    },
    {
     "name": "stdout",
     "output_type": "stream",
     "text": [
      "Pipeline: Optuna found best params: {'learning_rate': 2.517005205284247e-06, 'n_layers': 3, 'hidden_channels': 16, 'kernel_size': 3}\n",
      "Epoch 1: 100%|██████████| 177/177 [00:06<00:00, 28.87it/s]                 "
     ]
    },
    {
     "name": "stderr",
     "output_type": "stream",
     "text": [
      "`Trainer.fit` stopped: `max_epochs=2` reached.\n"
     ]
    },
    {
     "name": "stdout",
     "output_type": "stream",
     "text": [
      "Epoch 1: 100%|██████████| 177/177 [00:06<00:00, 28.82it/s]\n",
      "Pipeline: Final model training complete. Best model saved at: C:\\Users\\peera\\Desktop\\DroughtLSTM_oneday\\models_saved\\SPEI_ConvLSTM_Global_Run\\global-convlstm-best-v1.ckpt\n"
     ]
    },
    {
     "name": "stderr",
     "output_type": "stream",
     "text": [
      "LOCAL_RANK: 0 - CUDA_VISIBLE_DEVICES: [0]\n",
      "C:\\Users\\peera\\AppData\\Roaming\\Python\\Python312\\site-packages\\pytorch_lightning\\trainer\\connectors\\data_connector.py:425: The 'predict_dataloader' does not have many workers which may be a bottleneck. Consider increasing the value of the `num_workers` argument` to `num_workers=19` in the `DataLoader` to improve performance.\n"
     ]
    },
    {
     "name": "stdout",
     "output_type": "stream",
     "text": [
      "\n",
      "--- Final Model Evaluation ---\n",
      "Predicting DataLoader 0: 100%|██████████| 174/174 [00:02<00:00, 86.45it/s]\n"
     ]
    },
    {
     "name": "stderr",
     "output_type": "stream",
     "text": [
      "c:\\Users\\peera\\.conda\\envs\\drought_lstm_base\\Lib\\site-packages\\sklearn\\metrics\\_regression.py:492: FutureWarning: 'squared' is deprecated in version 1.4 and will be removed in 1.6. To calculate the root mean squared error, use the function'root_mean_squared_error'.\n",
      "  warnings.warn(\n",
      "LOCAL_RANK: 0 - CUDA_VISIBLE_DEVICES: [0]\n",
      "C:\\Users\\peera\\AppData\\Roaming\\Python\\Python312\\site-packages\\pytorch_lightning\\trainer\\connectors\\data_connector.py:425: The 'predict_dataloader' does not have many workers which may be a bottleneck. Consider increasing the value of the `num_workers` argument` to `num_workers=19` in the `DataLoader` to improve performance.\n"
     ]
    },
    {
     "name": "stdout",
     "output_type": "stream",
     "text": [
      "  Train Set: RMSE=1.0205, MAE=0.8313, R2=-0.0506\n",
      "Predicting DataLoader 0: 100%|██████████| 3/3 [00:00<00:00, 90.75it/s]"
     ]
    },
    {
     "name": "stderr",
     "output_type": "stream",
     "text": [
      "c:\\Users\\peera\\.conda\\envs\\drought_lstm_base\\Lib\\site-packages\\sklearn\\metrics\\_regression.py:492: FutureWarning: 'squared' is deprecated in version 1.4 and will be removed in 1.6. To calculate the root mean squared error, use the function'root_mean_squared_error'.\n",
      "  warnings.warn(\n",
      "LOCAL_RANK: 0 - CUDA_VISIBLE_DEVICES: [0]\n",
      "C:\\Users\\peera\\AppData\\Roaming\\Python\\Python312\\site-packages\\pytorch_lightning\\trainer\\connectors\\data_connector.py:425: The 'predict_dataloader' does not have many workers which may be a bottleneck. Consider increasing the value of the `num_workers` argument` to `num_workers=19` in the `DataLoader` to improve performance.\n"
     ]
    },
    {
     "name": "stdout",
     "output_type": "stream",
     "text": [
      "\n",
      "  Validation Set: RMSE=1.1780, MAE=1.0161, R2=-0.5962\n",
      "Predicting DataLoader 0: 100%|██████████| 3/3 [00:00<00:00, 90.91it/s] "
     ]
    },
    {
     "name": "stderr",
     "output_type": "stream",
     "text": [
      "c:\\Users\\peera\\.conda\\envs\\drought_lstm_base\\Lib\\site-packages\\sklearn\\metrics\\_regression.py:492: FutureWarning: 'squared' is deprecated in version 1.4 and will be removed in 1.6. To calculate the root mean squared error, use the function'root_mean_squared_error'.\n",
      "  warnings.warn(\n",
      "GPU available: True (cuda), used: True\n"
     ]
    },
    {
     "name": "stdout",
     "output_type": "stream",
     "text": [
      "\n",
      "  Test Set: RMSE=1.0461, MAE=0.8894, R2=-0.0137\n",
      "Pipeline: Evaluation metrics saved.\n",
      "\n",
      "Pipeline: Generating predictions on the full raw dataset...\n"
     ]
    },
    {
     "name": "stderr",
     "output_type": "stream",
     "text": [
      "TPU available: False, using: 0 TPU cores\n",
      "HPU available: False, using: 0 HPUs\n",
      "LOCAL_RANK: 0 - CUDA_VISIBLE_DEVICES: [0]\n",
      "C:\\Users\\peera\\AppData\\Roaming\\Python\\Python312\\site-packages\\pytorch_lightning\\trainer\\connectors\\data_connector.py:425: The 'predict_dataloader' does not have many workers which may be a bottleneck. Consider increasing the value of the `num_workers` argument` to `num_workers=19` in the `DataLoader` to improve performance.\n"
     ]
    },
    {
     "name": "stdout",
     "output_type": "stream",
     "text": [
      "Predicting DataLoader 0: 100%|██████████| 183/183 [00:01<00:00, 98.51it/s] \n",
      "Pipeline: Un-gridding predictions to create output CSV...\n",
      "Pipeline: Full data predictions saved to c:\\Users\\peera\\Desktop\\DroughtLSTM_oneday\\run_outputs\\SPEI_ConvLSTM_Global_Run\\global_convlstm_full_predictions.csv\n",
      "--- ConvLSTM Global Pipeline Run Finished ---\n"
     ]
    }
   ],
   "source": [
    "# Point to your new ConvLSTM-specific config file\n",
    "config_file = \"../config_ConvLSTM.yaml\" \n",
    "\n",
    "# Create an instance of the pipeline\n",
    "pipeline = ConvLSTMPipeline(config_path=config_file)\n",
    "\n",
    "# Execute the pipeline. This will be the most computationally intensive run yet.\n",
    "# It will grid the data, tune hyperparameters, and train the ConvLSTM model.\n",
    "results = pipeline.run_pipeline()"
   ]
  },
  {
   "cell_type": "code",
   "execution_count": 4,
   "id": "e12bba7b",
   "metadata": {},
   "outputs": [
    {
     "name": "stdout",
     "output_type": "stream",
     "text": [
      "\n",
      "--- ConvLSTM Global Pipeline Finished ---\n",
      "Final Model Performance:\n",
      "\n",
      "Metrics for train set:\n",
      "  RMSE: 1.0205\n",
      "  MAE: 0.8313\n",
      "  R2: -0.0506\n",
      "\n",
      "Metrics for validation set:\n",
      "  RMSE: 1.1780\n",
      "  MAE: 1.0161\n",
      "  R2: -0.5962\n",
      "\n",
      "Metrics for test set:\n",
      "  RMSE: 1.0461\n",
      "  MAE: 0.8894\n",
      "  R2: -0.0137\n"
     ]
    }
   ],
   "source": [
    "print(\"\\n--- ConvLSTM Global Pipeline Finished ---\")\n",
    "if isinstance(results, dict) and results:\n",
    "    print(\"Final Model Performance:\")\n",
    "    for split_name, metrics in results.items():\n",
    "        print(f\"\\nMetrics for {split_name} set:\")\n",
    "        if metrics:\n",
    "            for metric_name, value in metrics.items():\n",
    "                print(f\"  {metric_name.upper()}: {value:.4f}\")\n",
    "        else:\n",
    "            print(\"  Metrics not available for this split.\")\n",
    "else:\n",
    "    print(f\"Pipeline may have returned an error status or incomplete results: {results}\")"
   ]
  }
 ],
 "metadata": {
  "kernelspec": {
   "display_name": "drought_lstm_base",
   "language": "python",
   "name": "python3"
  },
  "language_info": {
   "codemirror_mode": {
    "name": "ipython",
    "version": 3
   },
   "file_extension": ".py",
   "mimetype": "text/x-python",
   "name": "python",
   "nbconvert_exporter": "python",
   "pygments_lexer": "ipython3",
   "version": "3.12.7"
  }
 },
 "nbformat": 4,
 "nbformat_minor": 5
}
