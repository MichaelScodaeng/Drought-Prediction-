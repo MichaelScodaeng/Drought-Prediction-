{
 "cells": [
  {
   "cell_type": "code",
   "execution_count": 1,
   "id": "67856288",
   "metadata": {},
   "outputs": [
    {
     "name": "stdout",
     "output_type": "stream",
     "text": [
      "Added project root to sys.path: c:\\Users\\peera\\Desktop\\DroughtLSTM_oneday\n"
     ]
    },
    {
     "name": "stderr",
     "output_type": "stream",
     "text": [
      "c:\\Users\\peera\\.conda\\envs\\drought_lstm_base\\Lib\\site-packages\\tqdm\\auto.py:21: TqdmWarning: IProgress not found. Please update jupyter and ipywidgets. See https://ipywidgets.readthedocs.io/en/stable/user_install.html\n",
      "  from .autonotebook import tqdm as notebook_tqdm\n"
     ]
    },
    {
     "name": "stdout",
     "output_type": "stream",
     "text": [
      "PyTorch, PyTorch Lightning, and Optuna successfully imported.\n",
      "ConvLSTM Pipeline: Successfully imported utility functions.\n"
     ]
    }
   ],
   "source": [
    "import sys\n",
    "import os\n",
    "import pandas as pd\n",
    "\n",
    "# Add project root to Python path to find the 'src' directory\n",
    "notebook_dir = os.getcwd()\n",
    "project_root = os.path.abspath(os.path.join(notebook_dir, '..'))\n",
    "if project_root not in sys.path:\n",
    "    sys.path.append(project_root)\n",
    "    print(f\"Added project root to sys.path: {project_root}\")\n",
    "\n",
    "# Import your new ConvLSTM pipeline class\n",
    "from src.improved_convlstm_multitask_pipeline import MultitaskConvLSTMPipeline"
   ]
  },
  {
   "cell_type": "code",
   "execution_count": 2,
   "id": "b2021ceb",
   "metadata": {},
   "outputs": [
    {
     "name": "stdout",
     "output_type": "stream",
     "text": [
      "Warning: Config file c:\\Users\\peera\\Desktop\\DroughtLSTM_oneday\\notebooks\\config_Improved_ConvLSTM_Multitask.yaml not found. Using default config.\n",
      "Pipeline Mode: Single Task\n",
      "Target Variables: ['pre']\n",
      "=== PATH DIAGNOSIS ===\n",
      "Config path: c:\\Users\\peera\\Desktop\\DroughtLSTM_oneday\\notebooks\\config_Improved_ConvLSTM_Multitask.yaml\n",
      "Project root: c:\\Users\\peera\\Desktop\\DroughtLSTM_oneday\\notebooks\n",
      "Models dir: c:\\Users\\peera\\Desktop\\DroughtLSTM_oneday\\notebooks\\models_saved\\multitask_convlstm_experiment\n",
      "Current working dir: c:\\Users\\peera\\Desktop\\DroughtLSTM_oneday\\notebooks\n"
     ]
    }
   ],
   "source": [
    "# First, let's see what's wrong with your current pipeline\n",
    "\n",
    "config_file = \"config_Improved_ConvLSTM_Multitask.yaml\"\n",
    "pipeline = MultitaskConvLSTMPipeline(config_file)\n",
    "\n",
    "print(\"=== PATH DIAGNOSIS ===\")\n",
    "print(f\"Config path: {pipeline.config_path_abs}\")\n",
    "print(f\"Project root: {pipeline.project_root_for_paths}\")\n",
    "print(f\"Models dir: {pipeline.run_models_dir}\")\n",
    "print(f\"Current working dir: {os.getcwd()}\")"
   ]
  },
  {
   "cell_type": "code",
   "execution_count": 3,
   "id": "d0da6302",
   "metadata": {},
   "outputs": [
    {
     "name": "stdout",
     "output_type": "stream",
     "text": [
      "Configuration loaded from c:\\Users\\peera\\Desktop\\DroughtLSTM_oneday\\config_Improved_ConvLSTM_Multitask.yaml\n",
      "Pipeline Mode: Multitask\n",
      "Target Variables: ['pre', 'pet']\n",
      "\n",
      "--- Starting Multitask ConvLSTM Pipeline ---\n",
      "Successfully loaded data from c:\\Users\\peera\\Desktop\\DroughtLSTM_oneday\\data\\full.csv. Shape: (264201, 19)\n",
      "Converted column 'time' to datetime.\n",
      "Data sorted by ['time', 'lat', 'lon'].\n",
      "Data loaded: 264201 records\n",
      "Warning: Could not import get_target_scaler. Assuming no scaling was applied.\n",
      "--- Starting Data Gridding Process (Fixed Step Method) ---\n",
      "Using fixed grid step of: 0.5 degrees\n",
      "Grid boundaries: LAT (6.25, 20.25), LON (97.75, 105.25)\n",
      "Calculated grid dimensions: Height=29, Width=16\n",
      "Created 2D validity mask (29x16) with 179 valid data pixels.\n",
      "Pivoting data into a 4D tensor of shape (1476, 29, 16, 15)...\n"
     ]
    },
    {
     "name": "stderr",
     "output_type": "stream",
     "text": [
      "[I 2025-06-08 18:48:22,983] A new study created in memory with name: no-name-f466c373-4dfa-4c5c-8e29-701f69262111\n",
      "GPU available: True (cuda), used: True\n"
     ]
    },
    {
     "name": "stdout",
     "output_type": "stream",
     "text": [
      "--- Data Gridding Process Finished ---\n",
      "Grid shape: (1476, 29, 16, 15), Valid pixels: 179\n",
      "Train: 1404, Val: 36, Test: 36 time steps\n",
      "Dataset sizes - Train: 1392, Val: 24, Test: 24\n",
      "\n",
      "--- Starting Hyperparameter Optimization ---\n",
      "Initializing Multitask ConvLSTM for targets: ['pre', 'pet']\n"
     ]
    },
    {
     "name": "stderr",
     "output_type": "stream",
     "text": [
      "TPU available: False, using: 0 TPU cores\n",
      "HPU available: False, using: 0 HPUs\n",
      "You are using a CUDA device ('NVIDIA GeForce RTX 4060 Laptop GPU') that has Tensor Cores. To properly utilize them, you should set `torch.set_float32_matmul_precision('medium' | 'high')` which will trade-off precision for performance. For more details, read https://pytorch.org/docs/stable/generated/torch.set_float32_matmul_precision.html#torch.set_float32_matmul_precision\n",
      "LOCAL_RANK: 0 - CUDA_VISIBLE_DEVICES: [0]\n",
      "\n",
      "  | Name     | Type                                 | Params | Mode \n",
      "--------------------------------------------------------------------------\n",
      "0 | model    | MultitaskEncodingForecastingConvLSTM | 1.4 M  | train\n",
      "1 | mse_loss | MSELoss                              | 0      | train\n",
      "2 | mae_loss | L1Loss                               | 0      | train\n",
      "--------------------------------------------------------------------------\n",
      "1.4 M     Trainable params\n",
      "0         Non-trainable params\n",
      "1.4 M     Total params\n",
      "5.632     Total estimated model params size (MB)\n",
      "50        Modules in train mode\n",
      "0         Modules in eval mode\n"
     ]
    },
    {
     "name": "stdout",
     "output_type": "stream",
     "text": [
      "Sanity Checking DataLoader 0:   0%|          | 0/2 [00:00<?, ?it/s]"
     ]
    },
    {
     "name": "stderr",
     "output_type": "stream",
     "text": [
      "C:\\Users\\peera\\AppData\\Roaming\\Python\\Python312\\site-packages\\pytorch_lightning\\trainer\\connectors\\data_connector.py:425: The 'val_dataloader' does not have many workers which may be a bottleneck. Consider increasing the value of the `num_workers` argument` to `num_workers=19` in the `DataLoader` to improve performance.\n"
     ]
    },
    {
     "name": "stdout",
     "output_type": "stream",
     "text": [
      "                                                                           "
     ]
    },
    {
     "name": "stderr",
     "output_type": "stream",
     "text": [
      "C:\\Users\\peera\\AppData\\Roaming\\Python\\Python312\\site-packages\\pytorch_lightning\\trainer\\connectors\\data_connector.py:425: The 'train_dataloader' does not have many workers which may be a bottleneck. Consider increasing the value of the `num_workers` argument` to `num_workers=19` in the `DataLoader` to improve performance.\n"
     ]
    },
    {
     "name": "stdout",
     "output_type": "stream",
     "text": [
      "Epoch 1:   2%|▏         | 3/174 [00:00<00:08, 19.69it/s, train_mse_loss_step=7.01e+3, val_loss=2.13e+4, val_rmse=141.0, train_mse_loss_epoch=2.36e+4]  "
     ]
    },
    {
     "name": "stderr",
     "output_type": "stream",
     "text": [
      "C:\\Users\\peera\\AppData\\Roaming\\Python\\Python312\\site-packages\\optuna\\trial\\_trial.py:497: UserWarning: The reported value is ignored because this `step` 0 is already reported.\n",
      "  warnings.warn(\n"
     ]
    },
    {
     "name": "stdout",
     "output_type": "stream",
     "text": [
      "Epoch 1: 100%|██████████| 174/174 [00:10<00:00, 16.47it/s, train_mse_loss_step=5.1e+3, val_loss=1.92e+4, val_rmse=134.0, train_mse_loss_epoch=1.05e+4] "
     ]
    },
    {
     "name": "stderr",
     "output_type": "stream",
     "text": [
      "`Trainer.fit` stopped: `max_epochs=2` reached.\n"
     ]
    },
    {
     "name": "stdout",
     "output_type": "stream",
     "text": [
      "Epoch 1: 100%|██████████| 174/174 [00:10<00:00, 16.46it/s, train_mse_loss_step=5.1e+3, val_loss=1.92e+4, val_rmse=134.0, train_mse_loss_epoch=1.05e+4]"
     ]
    },
    {
     "name": "stderr",
     "output_type": "stream",
     "text": [
      "[I 2025-06-08 18:48:45,308] Trial 0 finished with value: 19189.4921875 and parameters: {'learning_rate': 0.00011818782976423613, 'n_layers': 2, 'hidden_dim_size': 64, 'kernel_size': 3, 'dropout': 0.0537571051667003, 'weight_decay': 1.3724721048267912e-06, 'batch_norm': True, 'teacher_forcing_ratio': 0.38320992488282385, 'multitask_fusion': 'separate', 'weight_pre': 1.394386515381253, 'weight_pet': 1.165616834002776}. Best is trial 0 with value: 19189.4921875.\n"
     ]
    },
    {
     "name": "stdout",
     "output_type": "stream",
     "text": [
      "\n",
      "Initializing Multitask ConvLSTM for targets: ['pre', 'pet']\n"
     ]
    },
    {
     "name": "stderr",
     "output_type": "stream",
     "text": [
      "GPU available: True (cuda), used: True\n",
      "TPU available: False, using: 0 TPU cores\n",
      "HPU available: False, using: 0 HPUs\n",
      "LOCAL_RANK: 0 - CUDA_VISIBLE_DEVICES: [0]\n",
      "\n",
      "  | Name     | Type                                 | Params | Mode \n",
      "--------------------------------------------------------------------------\n",
      "0 | model    | MultitaskEncodingForecastingConvLSTM | 519 K  | train\n",
      "1 | mse_loss | MSELoss                              | 0      | train\n",
      "2 | mae_loss | L1Loss                               | 0      | train\n",
      "--------------------------------------------------------------------------\n",
      "519 K     Trainable params\n",
      "0         Non-trainable params\n",
      "519 K     Total params\n",
      "2.078     Total estimated model params size (MB)\n",
      "35        Modules in train mode\n",
      "0         Modules in eval mode\n"
     ]
    },
    {
     "name": "stdout",
     "output_type": "stream",
     "text": [
      "Epoch 1: 100%|██████████| 174/174 [00:06<00:00, 25.47it/s, train_mse_loss_step=5.26e+3, val_loss=6.35e+3, val_rmse=78.10, train_mse_loss_epoch=6.25e+3]"
     ]
    },
    {
     "name": "stderr",
     "output_type": "stream",
     "text": [
      "`Trainer.fit` stopped: `max_epochs=2` reached.\n"
     ]
    },
    {
     "name": "stdout",
     "output_type": "stream",
     "text": [
      "Epoch 1: 100%|██████████| 174/174 [00:06<00:00, 25.45it/s, train_mse_loss_step=5.26e+3, val_loss=6.35e+3, val_rmse=78.10, train_mse_loss_epoch=6.25e+3]\n"
     ]
    },
    {
     "name": "stderr",
     "output_type": "stream",
     "text": [
      "[I 2025-06-08 18:48:59,386] Trial 1 finished with value: 6347.77099609375 and parameters: {'learning_rate': 0.00023166833209732862, 'n_layers': 1, 'hidden_dim_size': 64, 'kernel_size': 3, 'dropout': 0.018627385619300486, 'weight_decay': 4.9448597329855626e-06, 'batch_norm': False, 'teacher_forcing_ratio': 0.5660439907877823, 'multitask_fusion': 'separate', 'weight_pre': 0.7484619141862818, 'weight_pet': 0.6153130684765092}. Best is trial 1 with value: 6347.77099609375.\n",
      "C:\\Users\\peera\\AppData\\Roaming\\Python\\Python312\\site-packages\\lightning_fabric\\connector.py:572: `precision=16` is supported for historical reasons but its usage is discouraged. Please set your precision to 16-mixed instead!\n",
      "Using 16bit Automatic Mixed Precision (AMP)\n"
     ]
    },
    {
     "name": "stdout",
     "output_type": "stream",
     "text": [
      "Best hyperparameters found: {'learning_rate': 0.00023166833209732862, 'n_layers': 1, 'hidden_dim_size': 64, 'kernel_size': 3, 'dropout': 0.018627385619300486, 'weight_decay': 4.9448597329855626e-06, 'batch_norm': False, 'teacher_forcing_ratio': 0.5660439907877823, 'multitask_fusion': 'separate', 'weight_pre': 0.7484619141862818, 'weight_pet': 0.6153130684765092}\n",
      "\n",
      "--- Training Final Model ---\n",
      "Initializing Multitask ConvLSTM for targets: ['pre', 'pet']\n"
     ]
    },
    {
     "name": "stderr",
     "output_type": "stream",
     "text": [
      "GPU available: True (cuda), used: True\n",
      "TPU available: False, using: 0 TPU cores\n",
      "HPU available: False, using: 0 HPUs\n"
     ]
    },
    {
     "name": "stdout",
     "output_type": "stream",
     "text": [
      "Training final model with best hyperparameters...\n"
     ]
    },
    {
     "name": "stderr",
     "output_type": "stream",
     "text": [
      "C:\\Users\\peera\\AppData\\Roaming\\Python\\Python312\\site-packages\\pytorch_lightning\\callbacks\\model_checkpoint.py:654: Checkpoint directory C:\\Users\\peera\\Desktop\\DroughtLSTM_oneday\\models_saved\\Advanced_PRE_PET_Multitask exists and is not empty.\n",
      "LOCAL_RANK: 0 - CUDA_VISIBLE_DEVICES: [0]\n",
      "\n",
      "  | Name     | Type                                 | Params | Mode \n",
      "--------------------------------------------------------------------------\n",
      "0 | model    | MultitaskEncodingForecastingConvLSTM | 519 K  | train\n",
      "1 | mse_loss | MSELoss                              | 0      | train\n",
      "2 | mae_loss | L1Loss                               | 0      | train\n",
      "--------------------------------------------------------------------------\n",
      "519 K     Trainable params\n",
      "0         Non-trainable params\n",
      "519 K     Total params\n",
      "2.078     Total estimated model params size (MB)\n",
      "35        Modules in train mode\n",
      "0         Modules in eval mode\n"
     ]
    },
    {
     "name": "stdout",
     "output_type": "stream",
     "text": [
      "Epoch 0: 100%|██████████| 177/177 [00:07<00:00, 24.98it/s, v_num=3, train_mse_loss_step=7.62e+3, val_loss=7.37e+3, val_rmse=84.10, train_mse_loss_epoch=1.23e+4]"
     ]
    },
    {
     "name": "stderr",
     "output_type": "stream",
     "text": [
      "Metric val_loss improved. New best score: 7367.431\n"
     ]
    },
    {
     "name": "stdout",
     "output_type": "stream",
     "text": [
      "Epoch 1: 100%|██████████| 177/177 [00:06<00:00, 26.11it/s, v_num=3, train_mse_loss_step=4.92e+3, val_loss=6.07e+3, val_rmse=76.50, train_mse_loss_epoch=6.08e+3]"
     ]
    },
    {
     "name": "stderr",
     "output_type": "stream",
     "text": [
      "Metric val_loss improved by 1292.867 >= min_delta = 1e-06. New best score: 6074.564\n"
     ]
    },
    {
     "name": "stdout",
     "output_type": "stream",
     "text": [
      "Epoch 2: 100%|██████████| 177/177 [00:06<00:00, 25.74it/s, v_num=3, train_mse_loss_step=6.26e+3, val_loss=5.63e+3, val_rmse=73.60, train_mse_loss_epoch=5.18e+3]"
     ]
    },
    {
     "name": "stderr",
     "output_type": "stream",
     "text": [
      "Metric val_loss improved by 440.543 >= min_delta = 1e-06. New best score: 5634.021\n",
      "`Trainer.fit` stopped: `max_epochs=3` reached.\n"
     ]
    },
    {
     "name": "stdout",
     "output_type": "stream",
     "text": [
      "Epoch 2: 100%|██████████| 177/177 [00:06<00:00, 25.59it/s, v_num=3, train_mse_loss_step=6.26e+3, val_loss=5.63e+3, val_rmse=73.60, train_mse_loss_epoch=5.18e+3]\n",
      "Best model saved at: C:\\Users\\peera\\Desktop\\DroughtLSTM_oneday\\models_saved\\Advanced_PRE_PET_Multitask\\multitask-convlstm-best-epoch=02-val_loss=5634.0210.ckpt\n",
      "\n",
      "--- Comprehensive Multitask Model Evaluation ---\n",
      "Evaluating train set...\n"
     ]
    },
    {
     "name": "stderr",
     "output_type": "stream",
     "text": [
      "Evaluating train: 100%|██████████| 174/174 [00:02<00:00, 58.19it/s]\n"
     ]
    },
    {
     "name": "stdout",
     "output_type": "stream",
     "text": [
      "Applying inverse transformation to predictions and actuals...\n",
      "  Train Metrics (Original Units):\n",
      "    PRE:\n",
      "      RMSE: 80.9436\n",
      "      MAE:  49.3322\n",
      "      R²:   0.6245\n",
      "      MAPE: 22084202496.00%\n",
      "    PET:\n",
      "      RMSE: 12.8793\n",
      "      MAE:  9.3495\n",
      "      R²:   0.8943\n",
      "      MAPE: 9066995712.00%\n",
      "Evaluating validation set...\n"
     ]
    },
    {
     "name": "stderr",
     "output_type": "stream",
     "text": [
      "Evaluating validation: 100%|██████████| 3/3 [00:00<00:00, 140.43it/s]\n"
     ]
    },
    {
     "name": "stdout",
     "output_type": "stream",
     "text": [
      "Applying inverse transformation to predictions and actuals...\n",
      "  Validation Metrics (Original Units):\n",
      "    PRE:\n",
      "      RMSE: 85.7720\n",
      "      MAE:  54.1379\n",
      "      R²:   0.5794\n",
      "      MAPE: 3103735296.00%\n",
      "    PET:\n",
      "      RMSE: 14.3886\n",
      "      MAE:  10.7275\n",
      "      R²:   0.5176\n",
      "      MAPE: 9.53%\n",
      "Evaluating test set...\n"
     ]
    },
    {
     "name": "stderr",
     "output_type": "stream",
     "text": [
      "Evaluating test: 100%|██████████| 3/3 [00:00<00:00, 120.30it/s]\n",
      "GPU available: True (cuda), used: True\n",
      "TPU available: False, using: 0 TPU cores\n",
      "HPU available: False, using: 0 HPUs\n",
      "LOCAL_RANK: 0 - CUDA_VISIBLE_DEVICES: [0]\n",
      "C:\\Users\\peera\\AppData\\Roaming\\Python\\Python312\\site-packages\\pytorch_lightning\\trainer\\connectors\\data_connector.py:425: The 'predict_dataloader' does not have many workers which may be a bottleneck. Consider increasing the value of the `num_workers` argument` to `num_workers=19` in the `DataLoader` to improve performance.\n"
     ]
    },
    {
     "name": "stdout",
     "output_type": "stream",
     "text": [
      "Applying inverse transformation to predictions and actuals...\n",
      "  Test Metrics (Original Units):\n",
      "    PRE:\n",
      "      RMSE: 96.0648\n",
      "      MAE:  61.4321\n",
      "      R²:   0.5688\n",
      "      MAPE: 750394368.00%\n",
      "    PET:\n",
      "      RMSE: 13.8969\n",
      "      MAE:  10.5460\n",
      "      R²:   0.3994\n",
      "      MAPE: 9.72%\n",
      "Evaluation metrics saved to: c:\\Users\\peera\\Desktop\\DroughtLSTM_oneday\\run_outputs\\Advanced_PRE_PET_Multitask\\advanced_multitask_metrics.json\n",
      "\n",
      "--- Generating Full Dataset Predictions (Multitask) ---\n",
      "Generating predictions for 1464 sequences...\n",
      "Predicting DataLoader 0: 100%|██████████| 183/183 [00:01<00:00, 137.49it/s]\n",
      "Warning: No scalers available - predictions remain in scaled space\n",
      "Prediction shape: (1464, 1, 2, 29, 16)\n",
      "Converting grid predictions to CSV format...\n"
     ]
    },
    {
     "name": "stderr",
     "output_type": "stream",
     "text": [
      "Converting predictions: 100%|██████████| 1464/1464 [00:15<00:00, 92.74it/s] \n"
     ]
    },
    {
     "name": "stdout",
     "output_type": "stream",
     "text": [
      "Full predictions saved to: c:\\Users\\peera\\Desktop\\DroughtLSTM_oneday\\run_outputs\\Advanced_PRE_PET_Multitask\\advanced_multitask_predictions.csv\n",
      "Prediction summary saved to: c:\\Users\\peera\\Desktop\\DroughtLSTM_oneday\\run_outputs\\Advanced_PRE_PET_Multitask\\prediction_summary.json\n",
      "Summary for PRE (Original Units): MAE=55.7541, RMSE=87.7425, R²=0.5817\n",
      "Summary for PET (Original Units): MAE=9.8574, RMSE=13.3166, R²=0.5626\n",
      "\n",
      "--- Multitask ConvLSTM Pipeline Completed ---\n",
      "Results saved to: c:\\Users\\peera\\Desktop\\DroughtLSTM_oneday\\run_outputs\\Advanced_PRE_PET_Multitask\n"
     ]
    }
   ],
   "source": [
    "\n",
    "config_file = \"../config_Improved_ConvLSTM_Multitask.yaml\" \n",
    "\n",
    "# Usage\n",
    "pipeline = MultitaskConvLSTMPipeline(config_file)  # Changed class name\n",
    "results = pipeline.run_pipeline()"
   ]
  },
  {
   "cell_type": "code",
   "execution_count": null,
   "id": "9250522f",
   "metadata": {},
   "outputs": [],
   "source": []
  }
 ],
 "metadata": {
  "kernelspec": {
   "display_name": "drought_lstm_base",
   "language": "python",
   "name": "python3"
  },
  "language_info": {
   "codemirror_mode": {
    "name": "ipython",
    "version": 3
   },
   "file_extension": ".py",
   "mimetype": "text/x-python",
   "name": "python",
   "nbconvert_exporter": "python",
   "pygments_lexer": "ipython3",
   "version": "3.12.7"
  }
 },
 "nbformat": 4,
 "nbformat_minor": 5
}
