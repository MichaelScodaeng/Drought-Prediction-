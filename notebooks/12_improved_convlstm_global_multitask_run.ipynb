{
 "cells": [
  {
   "cell_type": "code",
   "execution_count": 1,
   "id": "67856288",
   "metadata": {},
   "outputs": [
    {
     "name": "stdout",
     "output_type": "stream",
     "text": [
      "Added project root to sys.path: c:\\Users\\peera\\Desktop\\DroughtLSTM_oneday\n"
     ]
    },
    {
     "name": "stderr",
     "output_type": "stream",
     "text": [
      "c:\\Users\\peera\\.conda\\envs\\drought_lstm_base\\Lib\\site-packages\\tqdm\\auto.py:21: TqdmWarning: IProgress not found. Please update jupyter and ipywidgets. See https://ipywidgets.readthedocs.io/en/stable/user_install.html\n",
      "  from .autonotebook import tqdm as notebook_tqdm\n"
     ]
    },
    {
     "name": "stdout",
     "output_type": "stream",
     "text": [
      "PyTorch, PyTorch Lightning, and Optuna successfully imported.\n",
      "ConvLSTM Pipeline: Successfully imported utility functions.\n"
     ]
    }
   ],
   "source": [
    "import sys\n",
    "import os\n",
    "import pandas as pd\n",
    "\n",
    "# Add project root to Python path to find the 'src' directory\n",
    "notebook_dir = os.getcwd()\n",
    "project_root = os.path.abspath(os.path.join(notebook_dir, '..'))\n",
    "if project_root not in sys.path:\n",
    "    sys.path.append(project_root)\n",
    "    print(f\"Added project root to sys.path: {project_root}\")\n",
    "\n",
    "# Import your new ConvLSTM pipeline class\n",
    "from src.improved_convlstm_multitask_pipeline import MultitaskConvLSTMPipeline"
   ]
  },
  {
   "cell_type": "code",
   "execution_count": 2,
   "id": "b2021ceb",
   "metadata": {},
   "outputs": [
    {
     "name": "stdout",
     "output_type": "stream",
     "text": [
      "Warning: Config file c:\\Users\\peera\\Desktop\\DroughtLSTM_oneday\\notebooks\\config_Improved_ConvLSTM_Multitask.yaml not found. Using default config.\n",
      "Pipeline Mode: Single Task\n",
      "Target Variables: ['pre']\n",
      "=== PATH DIAGNOSIS ===\n",
      "Config path: c:\\Users\\peera\\Desktop\\DroughtLSTM_oneday\\notebooks\\config_Improved_ConvLSTM_Multitask.yaml\n",
      "Project root: c:\\Users\\peera\\Desktop\\DroughtLSTM_oneday\\notebooks\n",
      "Models dir: c:\\Users\\peera\\Desktop\\DroughtLSTM_oneday\\notebooks\\models_saved\\multitask_convlstm_experiment\n",
      "Current working dir: c:\\Users\\peera\\Desktop\\DroughtLSTM_oneday\\notebooks\n"
     ]
    }
   ],
   "source": [
    "# First, let's see what's wrong with your current pipeline\n",
    "\n",
    "config_file = \"config_Improved_ConvLSTM_Multitask.yaml\"\n",
    "pipeline = MultitaskConvLSTMPipeline(config_file)\n",
    "\n",
    "print(\"=== PATH DIAGNOSIS ===\")\n",
    "print(f\"Config path: {pipeline.config_path_abs}\")\n",
    "print(f\"Project root: {pipeline.project_root_for_paths}\")\n",
    "print(f\"Models dir: {pipeline.run_models_dir}\")\n",
    "print(f\"Current working dir: {os.getcwd()}\")"
   ]
  },
  {
   "cell_type": "code",
   "execution_count": 3,
   "id": "d0da6302",
   "metadata": {},
   "outputs": [
    {
     "name": "stdout",
     "output_type": "stream",
     "text": [
      "Configuration loaded from c:\\Users\\peera\\Desktop\\DroughtLSTM_oneday\\config_Improved_ConvLSTM_Multitask.yaml\n",
      "Pipeline Mode: Multitask\n",
      "Target Variables: ['pre', 'pet']\n",
      "\n",
      "--- Starting Multitask ConvLSTM Pipeline ---\n",
      "Successfully loaded data from c:\\Users\\peera\\Desktop\\DroughtLSTM_oneday\\data\\full.csv. Shape: (264201, 19)\n",
      "Converted column 'time' to datetime.\n",
      "Data sorted by ['time', 'lat', 'lon'].\n",
      "Data loaded: 264201 records\n",
      "Warning: Could not import get_target_scaler. Assuming no scaling was applied.\n",
      "--- Starting Data Gridding Process (Fixed Step Method) ---\n",
      "Using fixed grid step of: 0.5 degrees\n",
      "Grid boundaries: LAT (6.25, 20.25), LON (97.75, 105.25)\n",
      "Calculated grid dimensions: Height=29, Width=16\n",
      "Created 2D validity mask (29x16) with 179 valid data pixels.\n",
      "Pivoting data into a 4D tensor of shape (1476, 29, 16, 15)...\n"
     ]
    },
    {
     "name": "stderr",
     "output_type": "stream",
     "text": [
      "[I 2025-06-08 11:51:13,715] A new study created in memory with name: no-name-900210e9-6326-403c-a303-d7a286c0cd3a\n",
      "GPU available: True (cuda), used: True\n",
      "TPU available: False, using: 0 TPU cores\n",
      "HPU available: False, using: 0 HPUs\n",
      "You are using a CUDA device ('NVIDIA GeForce RTX 4060 Laptop GPU') that has Tensor Cores. To properly utilize them, you should set `torch.set_float32_matmul_precision('medium' | 'high')` which will trade-off precision for performance. For more details, read https://pytorch.org/docs/stable/generated/torch.set_float32_matmul_precision.html#torch.set_float32_matmul_precision\n",
      "LOCAL_RANK: 0 - CUDA_VISIBLE_DEVICES: [0]\n"
     ]
    },
    {
     "name": "stdout",
     "output_type": "stream",
     "text": [
      "--- Data Gridding Process Finished ---\n",
      "Grid shape: (1476, 29, 16, 15), Valid pixels: 179\n",
      "Train: 1404, Val: 36, Test: 36 time steps\n",
      "Dataset sizes - Train: 1392, Val: 24, Test: 24\n",
      "\n",
      "--- Starting Hyperparameter Optimization ---\n",
      "Initializing Multitask ConvLSTM for targets: ['pre', 'pet']\n"
     ]
    },
    {
     "name": "stderr",
     "output_type": "stream",
     "text": [
      "\n",
      "  | Name     | Type                                 | Params | Mode \n",
      "--------------------------------------------------------------------------\n",
      "0 | model    | MultitaskEncodingForecastingConvLSTM | 518 K  | train\n",
      "1 | mse_loss | MSELoss                              | 0      | train\n",
      "2 | mae_loss | L1Loss                               | 0      | train\n",
      "--------------------------------------------------------------------------\n",
      "518 K     Trainable params\n",
      "0         Non-trainable params\n",
      "518 K     Total params\n",
      "2.073     Total estimated model params size (MB)\n",
      "27        Modules in train mode\n",
      "0         Modules in eval mode\n"
     ]
    },
    {
     "name": "stdout",
     "output_type": "stream",
     "text": [
      "Sanity Checking DataLoader 0:   0%|          | 0/2 [00:00<?, ?it/s]"
     ]
    },
    {
     "name": "stderr",
     "output_type": "stream",
     "text": [
      "C:\\Users\\peera\\AppData\\Roaming\\Python\\Python312\\site-packages\\pytorch_lightning\\trainer\\connectors\\data_connector.py:425: The 'val_dataloader' does not have many workers which may be a bottleneck. Consider increasing the value of the `num_workers` argument` to `num_workers=19` in the `DataLoader` to improve performance.\n"
     ]
    },
    {
     "name": "stdout",
     "output_type": "stream",
     "text": [
      "                                                                           "
     ]
    },
    {
     "name": "stderr",
     "output_type": "stream",
     "text": [
      "C:\\Users\\peera\\AppData\\Roaming\\Python\\Python312\\site-packages\\pytorch_lightning\\trainer\\connectors\\data_connector.py:425: The 'train_dataloader' does not have many workers which may be a bottleneck. Consider increasing the value of the `num_workers` argument` to `num_workers=19` in the `DataLoader` to improve performance.\n"
     ]
    },
    {
     "name": "stdout",
     "output_type": "stream",
     "text": [
      "Epoch 1:   2%|▏         | 2/87 [00:00<00:06, 13.20it/s, train_mse_loss_step=1.12e+4, val_loss=1.54e+4, val_rmse=122.0, train_mse_loss_epoch=2.53e+4] "
     ]
    },
    {
     "name": "stderr",
     "output_type": "stream",
     "text": [
      "C:\\Users\\peera\\AppData\\Roaming\\Python\\Python312\\site-packages\\optuna\\trial\\_trial.py:497: UserWarning: The reported value is ignored because this `step` 0 is already reported.\n",
      "  warnings.warn(\n"
     ]
    },
    {
     "name": "stdout",
     "output_type": "stream",
     "text": [
      "Epoch 1: 100%|██████████| 87/87 [00:05<00:00, 14.67it/s, train_mse_loss_step=1.34e+4, val_loss=1.22e+4, val_rmse=109.0, train_mse_loss_epoch=1.28e+4]"
     ]
    },
    {
     "name": "stderr",
     "output_type": "stream",
     "text": [
      "`Trainer.fit` stopped: `max_epochs=2` reached.\n"
     ]
    },
    {
     "name": "stdout",
     "output_type": "stream",
     "text": [
      "Epoch 1: 100%|██████████| 87/87 [00:05<00:00, 14.67it/s, train_mse_loss_step=1.34e+4, val_loss=1.22e+4, val_rmse=109.0, train_mse_loss_epoch=1.28e+4]"
     ]
    },
    {
     "name": "stderr",
     "output_type": "stream",
     "text": [
      "[I 2025-06-08 11:51:26,844] Trial 0 finished with value: 12215.2490234375 and parameters: {'learning_rate': 0.0008524375907362282, 'n_layers': 1, 'hidden_dim_size': 32, 'kernel_size': 7, 'dropout': 0.1686557063299328, 'weight_decay': 6.424436813651658e-05, 'batch_norm': True, 'teacher_forcing_ratio': 0.602130369123329, 'multitask_fusion': 'shared', 'weight_pre': 0.9342702369656175, 'weight_pet': 1.2706529269614295}. Best is trial 0 with value: 12215.2490234375.\n"
     ]
    },
    {
     "name": "stdout",
     "output_type": "stream",
     "text": [
      "\n"
     ]
    },
    {
     "name": "stderr",
     "output_type": "stream",
     "text": [
      "C:\\Users\\peera\\AppData\\Roaming\\Python\\Python312\\site-packages\\lightning_fabric\\connector.py:572: `precision=16` is supported for historical reasons but its usage is discouraged. Please set your precision to 16-mixed instead!\n",
      "Using 16bit Automatic Mixed Precision (AMP)\n"
     ]
    },
    {
     "name": "stdout",
     "output_type": "stream",
     "text": [
      "Best hyperparameters found: {'learning_rate': 0.0008524375907362282, 'n_layers': 1, 'hidden_dim_size': 32, 'kernel_size': 7, 'dropout': 0.1686557063299328, 'weight_decay': 6.424436813651658e-05, 'batch_norm': True, 'teacher_forcing_ratio': 0.602130369123329, 'multitask_fusion': 'shared', 'weight_pre': 0.9342702369656175, 'weight_pet': 1.2706529269614295}\n",
      "\n",
      "--- Training Final Model ---\n",
      "Initializing Multitask ConvLSTM for targets: ['pre', 'pet']\n"
     ]
    },
    {
     "name": "stderr",
     "output_type": "stream",
     "text": [
      "GPU available: True (cuda), used: True\n",
      "TPU available: False, using: 0 TPU cores\n",
      "HPU available: False, using: 0 HPUs\n"
     ]
    },
    {
     "name": "stdout",
     "output_type": "stream",
     "text": [
      "Training final model with best hyperparameters...\n"
     ]
    },
    {
     "name": "stderr",
     "output_type": "stream",
     "text": [
      "C:\\Users\\peera\\AppData\\Roaming\\Python\\Python312\\site-packages\\pytorch_lightning\\callbacks\\model_checkpoint.py:654: Checkpoint directory C:\\Users\\peera\\Desktop\\DroughtLSTM_oneday\\models_saved\\Advanced_PRE_PET_Multitask exists and is not empty.\n",
      "LOCAL_RANK: 0 - CUDA_VISIBLE_DEVICES: [0]\n",
      "\n",
      "  | Name     | Type                                 | Params | Mode \n",
      "--------------------------------------------------------------------------\n",
      "0 | model    | MultitaskEncodingForecastingConvLSTM | 518 K  | train\n",
      "1 | mse_loss | MSELoss                              | 0      | train\n",
      "2 | mae_loss | L1Loss                               | 0      | train\n",
      "--------------------------------------------------------------------------\n",
      "518 K     Trainable params\n",
      "0         Non-trainable params\n",
      "518 K     Total params\n",
      "2.073     Total estimated model params size (MB)\n",
      "27        Modules in train mode\n",
      "0         Modules in eval mode\n"
     ]
    },
    {
     "name": "stdout",
     "output_type": "stream",
     "text": [
      "Epoch 0: 100%|██████████| 89/89 [00:05<00:00, 15.15it/s, v_num=0, train_mse_loss_step=1.43e+4, val_loss=1.56e+4, val_rmse=124.0, train_mse_loss_epoch=2.6e+4]"
     ]
    },
    {
     "name": "stderr",
     "output_type": "stream",
     "text": [
      "Metric val_loss improved. New best score: 15614.309\n"
     ]
    },
    {
     "name": "stdout",
     "output_type": "stream",
     "text": [
      "Epoch 1: 100%|██████████| 89/89 [00:06<00:00, 13.14it/s, v_num=0, train_mse_loss_step=1.39e+4, val_loss=1.08e+4, val_rmse=103.0, train_mse_loss_epoch=1.14e+4]"
     ]
    },
    {
     "name": "stderr",
     "output_type": "stream",
     "text": [
      "Metric val_loss improved by 4784.604 >= min_delta = 1e-06. New best score: 10829.704\n",
      "`Trainer.fit` stopped: `max_epochs=2` reached.\n"
     ]
    },
    {
     "name": "stdout",
     "output_type": "stream",
     "text": [
      "Epoch 1: 100%|██████████| 89/89 [00:06<00:00, 13.07it/s, v_num=0, train_mse_loss_step=1.39e+4, val_loss=1.08e+4, val_rmse=103.0, train_mse_loss_epoch=1.14e+4]\n",
      "Best model saved at: C:\\Users\\peera\\Desktop\\DroughtLSTM_oneday\\models_saved\\Advanced_PRE_PET_Multitask\\multitask-convlstm-best-epoch=01-val_loss=10829.7041.ckpt\n",
      "\n",
      "--- Comprehensive Multitask Model Evaluation ---\n",
      "Evaluating train set...\n"
     ]
    },
    {
     "name": "stderr",
     "output_type": "stream",
     "text": [
      "Evaluating train: 100%|██████████| 87/87 [00:03<00:00, 28.96it/s]\n"
     ]
    },
    {
     "name": "stdout",
     "output_type": "stream",
     "text": [
      "Applying inverse transformation to predictions and actuals...\n",
      "  Train Metrics (Original Units):\n",
      "    PRE:\n",
      "      RMSE: 90.9110\n",
      "      MAE:  54.6929\n",
      "      R²:   0.5271\n",
      "      MAPE: 29116870656.00%\n",
      "    PET:\n",
      "      RMSE: 39.0343\n",
      "      MAE:  30.0738\n",
      "      R²:   0.0165\n",
      "      MAPE: 13893982208.00%\n",
      "Evaluating validation set...\n"
     ]
    },
    {
     "name": "stderr",
     "output_type": "stream",
     "text": [
      "Evaluating validation: 100%|██████████| 2/2 [00:00<00:00, 80.19it/s]\n"
     ]
    },
    {
     "name": "stdout",
     "output_type": "stream",
     "text": [
      "Applying inverse transformation to predictions and actuals...\n",
      "  Validation Metrics (Original Units):\n",
      "    PRE:\n",
      "      RMSE: 95.3832\n",
      "      MAE:  60.9949\n",
      "      R²:   0.4799\n",
      "      MAPE: 10119359488.00%\n",
      "    PET:\n",
      "      RMSE: 42.8048\n",
      "      MAE:  34.2949\n",
      "      R²:   -3.2694\n",
      "      MAPE: 29.38%\n",
      "Evaluating test set...\n"
     ]
    },
    {
     "name": "stderr",
     "output_type": "stream",
     "text": [
      "Evaluating test: 100%|██████████| 2/2 [00:00<00:00, 71.46it/s]\n",
      "GPU available: True (cuda), used: True\n",
      "TPU available: False, using: 0 TPU cores\n",
      "HPU available: False, using: 0 HPUs\n",
      "LOCAL_RANK: 0 - CUDA_VISIBLE_DEVICES: [0]\n",
      "C:\\Users\\peera\\AppData\\Roaming\\Python\\Python312\\site-packages\\pytorch_lightning\\trainer\\connectors\\data_connector.py:425: The 'predict_dataloader' does not have many workers which may be a bottleneck. Consider increasing the value of the `num_workers` argument` to `num_workers=19` in the `DataLoader` to improve performance.\n"
     ]
    },
    {
     "name": "stdout",
     "output_type": "stream",
     "text": [
      "Applying inverse transformation to predictions and actuals...\n",
      "  Test Metrics (Original Units):\n",
      "    PRE:\n",
      "      RMSE: 110.1474\n",
      "      MAE:  67.6928\n",
      "      R²:   0.4331\n",
      "      MAPE: 1091521920.00%\n",
      "    PET:\n",
      "      RMSE: 38.9912\n",
      "      MAE:  31.0225\n",
      "      R²:   -3.7278\n",
      "      MAPE: 28.11%\n",
      "Evaluation metrics saved to: c:\\Users\\peera\\Desktop\\DroughtLSTM_oneday\\run_outputs\\Advanced_PRE_PET_Multitask\\advanced_multitask_metrics.json\n",
      "\n",
      "--- Generating Full Dataset Predictions (Multitask) ---\n",
      "Generating predictions for 1464 sequences...\n",
      "Predicting DataLoader 0: 100%|██████████| 92/92 [00:01<00:00, 77.98it/s]\n",
      "Warning: No scalers available - predictions remain in scaled space\n",
      "Prediction shape: (1464, 1, 2, 29, 16)\n",
      "Converting grid predictions to CSV format...\n"
     ]
    },
    {
     "name": "stderr",
     "output_type": "stream",
     "text": [
      "Converting predictions: 100%|██████████| 1464/1464 [00:16<00:00, 87.97it/s] \n"
     ]
    },
    {
     "name": "stdout",
     "output_type": "stream",
     "text": [
      "Full predictions saved to: c:\\Users\\peera\\Desktop\\DroughtLSTM_oneday\\run_outputs\\Advanced_PRE_PET_Multitask\\advanced_multitask_predictions.csv\n",
      "Prediction summary saved to: c:\\Users\\peera\\Desktop\\DroughtLSTM_oneday\\run_outputs\\Advanced_PRE_PET_Multitask\\prediction_summary.json\n",
      "Summary for PRE (Original Units): MAE=61.3600, RMSE=98.4055, R²=0.4739\n",
      "Summary for PET (Original Units): MAE=32.3975, RMSE=40.7547, R²=-3.0965\n",
      "\n",
      "--- Multitask ConvLSTM Pipeline Completed ---\n",
      "Results saved to: c:\\Users\\peera\\Desktop\\DroughtLSTM_oneday\\run_outputs\\Advanced_PRE_PET_Multitask\n"
     ]
    }
   ],
   "source": [
    "\n",
    "config_file = \"../config_Improved_ConvLSTM_Multitask.yaml\" \n",
    "\n",
    "# Usage\n",
    "pipeline = MultitaskConvLSTMPipeline(config_file)  # Changed class name\n",
    "results = pipeline.run_pipeline()"
   ]
  },
  {
   "cell_type": "code",
   "execution_count": null,
   "id": "9250522f",
   "metadata": {},
   "outputs": [],
   "source": []
  }
 ],
 "metadata": {
  "kernelspec": {
   "display_name": "drought_lstm_base",
   "language": "python",
   "name": "python3"
  },
  "language_info": {
   "codemirror_mode": {
    "name": "ipython",
    "version": 3
   },
   "file_extension": ".py",
   "mimetype": "text/x-python",
   "name": "python",
   "nbconvert_exporter": "python",
   "pygments_lexer": "ipython3",
   "version": "3.12.7"
  }
 },
 "nbformat": 4,
 "nbformat_minor": 5
}
