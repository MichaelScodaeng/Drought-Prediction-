{
 "cells": [
  {
   "cell_type": "code",
   "execution_count": 1,
   "id": "67856288",
   "metadata": {},
   "outputs": [
    {
     "name": "stdout",
     "output_type": "stream",
     "text": [
      "Added project root to sys.path: c:\\Users\\peera\\Desktop\\DroughtLSTM_oneday\n"
     ]
    },
    {
     "name": "stderr",
     "output_type": "stream",
     "text": [
      "c:\\Users\\peera\\.conda\\envs\\drought_lstm_base\\Lib\\site-packages\\tqdm\\auto.py:21: TqdmWarning: IProgress not found. Please update jupyter and ipywidgets. See https://ipywidgets.readthedocs.io/en/stable/user_install.html\n",
      "  from .autonotebook import tqdm as notebook_tqdm\n"
     ]
    },
    {
     "name": "stdout",
     "output_type": "stream",
     "text": [
      "PyTorch, PyTorch Lightning, and Optuna successfully imported.\n",
      "ConvLSTM Pipeline: Successfully imported utility functions.\n"
     ]
    }
   ],
   "source": [
    "import sys\n",
    "import os\n",
    "import pandas as pd\n",
    "\n",
    "# Add project root to Python path to find the 'src' directory\n",
    "notebook_dir = os.getcwd()\n",
    "project_root = os.path.abspath(os.path.join(notebook_dir, '..'))\n",
    "if project_root not in sys.path:\n",
    "    sys.path.append(project_root)\n",
    "    print(f\"Added project root to sys.path: {project_root}\")\n",
    "\n",
    "# Import your new ConvLSTM pipeline class\n",
    "from src.improved_convlstm_multitask_pipeline import MultitaskConvLSTMPipeline"
   ]
  },
  {
   "cell_type": "code",
   "execution_count": 2,
   "id": "b2021ceb",
   "metadata": {},
   "outputs": [
    {
     "name": "stdout",
     "output_type": "stream",
     "text": [
      "Warning: Config file c:\\Users\\peera\\Desktop\\DroughtLSTM_oneday\\notebooks\\config_Improved_ConvLSTM_Multitask.yaml not found. Using default config.\n",
      "Pipeline Mode: Single Task\n",
      "Target Variables: ['pre']\n",
      "=== PATH DIAGNOSIS ===\n",
      "Config path: c:\\Users\\peera\\Desktop\\DroughtLSTM_oneday\\notebooks\\config_Improved_ConvLSTM_Multitask.yaml\n",
      "Project root: c:\\Users\\peera\\Desktop\\DroughtLSTM_oneday\\notebooks\n",
      "Models dir: c:\\Users\\peera\\Desktop\\DroughtLSTM_oneday\\notebooks\\models_saved\\multitask_convlstm_experiment\n",
      "Current working dir: c:\\Users\\peera\\Desktop\\DroughtLSTM_oneday\\notebooks\n"
     ]
    }
   ],
   "source": [
    "# First, let's see what's wrong with your current pipeline\n",
    "\n",
    "config_file = \"config_Improved_ConvLSTM_Multitask.yaml\"\n",
    "pipeline = MultitaskConvLSTMPipeline(config_file)\n",
    "\n",
    "print(\"=== PATH DIAGNOSIS ===\")\n",
    "print(f\"Config path: {pipeline.config_path_abs}\")\n",
    "print(f\"Project root: {pipeline.project_root_for_paths}\")\n",
    "print(f\"Models dir: {pipeline.run_models_dir}\")\n",
    "print(f\"Current working dir: {os.getcwd()}\")"
   ]
  },
  {
   "cell_type": "code",
   "execution_count": 3,
   "id": "d0da6302",
   "metadata": {},
   "outputs": [
    {
     "name": "stdout",
     "output_type": "stream",
     "text": [
      "Configuration loaded from c:\\Users\\peera\\Desktop\\DroughtLSTM_oneday\\config_Improved_ConvLSTM_Multitask.yaml\n",
      "Pipeline Mode: Multitask\n",
      "Target Variables: ['pre', 'pet']\n",
      "\n",
      "--- Starting Multitask ConvLSTM Pipeline ---\n",
      "Successfully loaded data from c:\\Users\\peera\\Desktop\\DroughtLSTM_oneday\\data\\full.csv. Shape: (264201, 19)\n",
      "Converted column 'time' to datetime.\n",
      "Data sorted by ['time', 'lat', 'lon'].\n",
      "Data loaded: 264201 records\n",
      "Warning: Could not import get_target_scaler. Assuming no scaling was applied.\n",
      "--- Starting Data Gridding Process (Fixed Step Method) ---\n",
      "Using fixed grid step of: 0.5 degrees\n",
      "Grid boundaries: LAT (6.25, 20.25), LON (97.75, 105.25)\n",
      "Calculated grid dimensions: Height=29, Width=16\n",
      "Created 2D validity mask (29x16) with 179 valid data pixels.\n",
      "Pivoting data into a 4D tensor of shape (1476, 29, 16, 15)...\n"
     ]
    },
    {
     "name": "stderr",
     "output_type": "stream",
     "text": [
      "[I 2025-06-08 16:55:24,754] A new study created in memory with name: no-name-0d73f62b-b76b-441b-93ca-a091565ba5d9\n"
     ]
    },
    {
     "name": "stdout",
     "output_type": "stream",
     "text": [
      "--- Data Gridding Process Finished ---\n",
      "Grid shape: (1476, 29, 16, 15), Valid pixels: 179\n",
      "Train: 1404, Val: 36, Test: 36 time steps\n",
      "Dataset sizes - Train: 1392, Val: 24, Test: 24\n",
      "\n",
      "--- Starting Hyperparameter Optimization ---\n",
      "Initializing Multitask ConvLSTM for targets: ['pre', 'pet']\n"
     ]
    },
    {
     "name": "stderr",
     "output_type": "stream",
     "text": [
      "GPU available: True (cuda), used: True\n",
      "TPU available: False, using: 0 TPU cores\n",
      "HPU available: False, using: 0 HPUs\n",
      "You are using a CUDA device ('NVIDIA GeForce RTX 4060 Laptop GPU') that has Tensor Cores. To properly utilize them, you should set `torch.set_float32_matmul_precision('medium' | 'high')` which will trade-off precision for performance. For more details, read https://pytorch.org/docs/stable/generated/torch.set_float32_matmul_precision.html#torch.set_float32_matmul_precision\n",
      "LOCAL_RANK: 0 - CUDA_VISIBLE_DEVICES: [0]\n",
      "\n",
      "  | Name     | Type                                 | Params | Mode \n",
      "--------------------------------------------------------------------------\n",
      "0 | model    | MultitaskEncodingForecastingConvLSTM | 20.4 M | train\n",
      "1 | mse_loss | MSELoss                              | 0      | train\n",
      "2 | mae_loss | L1Loss                               | 0      | train\n",
      "--------------------------------------------------------------------------\n",
      "20.4 M    Trainable params\n",
      "0         Non-trainable params\n",
      "20.4 M    Total params\n",
      "81.526    Total estimated model params size (MB)\n",
      "22        Modules in train mode\n",
      "0         Modules in eval mode\n"
     ]
    },
    {
     "name": "stdout",
     "output_type": "stream",
     "text": [
      "Sanity Checking DataLoader 0:   0%|          | 0/2 [00:00<?, ?it/s]"
     ]
    },
    {
     "name": "stderr",
     "output_type": "stream",
     "text": [
      "C:\\Users\\peera\\AppData\\Roaming\\Python\\Python312\\site-packages\\pytorch_lightning\\trainer\\connectors\\data_connector.py:425: The 'val_dataloader' does not have many workers which may be a bottleneck. Consider increasing the value of the `num_workers` argument` to `num_workers=19` in the `DataLoader` to improve performance.\n"
     ]
    },
    {
     "name": "stdout",
     "output_type": "stream",
     "text": [
      "                                                                           "
     ]
    },
    {
     "name": "stderr",
     "output_type": "stream",
     "text": [
      "C:\\Users\\peera\\AppData\\Roaming\\Python\\Python312\\site-packages\\pytorch_lightning\\trainer\\connectors\\data_connector.py:425: The 'train_dataloader' does not have many workers which may be a bottleneck. Consider increasing the value of the `num_workers` argument` to `num_workers=19` in the `DataLoader` to improve performance.\n"
     ]
    },
    {
     "name": "stdout",
     "output_type": "stream",
     "text": [
      "Epoch 1:   1%|          | 1/174 [00:00<00:26,  6.47it/s, train_mse_loss_step=5.37e+3, val_loss=9.05e+3, val_rmse=93.70, train_mse_loss_epoch=7.38e+3]  "
     ]
    },
    {
     "name": "stderr",
     "output_type": "stream",
     "text": [
      "C:\\Users\\peera\\AppData\\Roaming\\Python\\Python312\\site-packages\\optuna\\trial\\_trial.py:497: UserWarning: The reported value is ignored because this `step` 0 is already reported.\n",
      "  warnings.warn(\n"
     ]
    },
    {
     "name": "stdout",
     "output_type": "stream",
     "text": [
      "Epoch 4: 100%|██████████| 174/174 [01:03<00:00,  2.74it/s, train_mse_loss_step=4.69e+3, val_loss=4.14e+3, val_rmse=63.80, train_mse_loss_epoch=3.26e+3]"
     ]
    },
    {
     "name": "stderr",
     "output_type": "stream",
     "text": [
      "`Trainer.fit` stopped: `max_epochs=5` reached.\n"
     ]
    },
    {
     "name": "stdout",
     "output_type": "stream",
     "text": [
      "Epoch 4: 100%|██████████| 174/174 [01:03<00:00,  2.74it/s, train_mse_loss_step=4.69e+3, val_loss=4.14e+3, val_rmse=63.80, train_mse_loss_epoch=3.26e+3]\n"
     ]
    },
    {
     "name": "stderr",
     "output_type": "stream",
     "text": [
      "[I 2025-06-08 17:00:49,993] Trial 0 finished with value: 4139.94873046875 and parameters: {'learning_rate': 0.00016234453047498938, 'n_layers': 1, 'hidden_dim_size': 512, 'kernel_size': 3, 'dropout': 0.2841633945481501, 'weight_decay': 0.0009392810563355156, 'batch_norm': True, 'teacher_forcing_ratio': 0.437178046255531, 'multitask_fusion': 'concat', 'weight_pre': 1.134917511261547, 'weight_pet': 1.7195918529957337}. Best is trial 0 with value: 4139.94873046875.\n"
     ]
    },
    {
     "name": "stdout",
     "output_type": "stream",
     "text": [
      "Best hyperparameters found: {'learning_rate': 0.00016234453047498938, 'n_layers': 1, 'hidden_dim_size': 512, 'kernel_size': 3, 'dropout': 0.2841633945481501, 'weight_decay': 0.0009392810563355156, 'batch_norm': True, 'teacher_forcing_ratio': 0.437178046255531, 'multitask_fusion': 'concat', 'weight_pre': 1.134917511261547, 'weight_pet': 1.7195918529957337}\n",
      "\n",
      "--- Training Final Model ---\n",
      "Initializing Multitask ConvLSTM for targets: ['pre', 'pet']\n"
     ]
    },
    {
     "name": "stderr",
     "output_type": "stream",
     "text": [
      "C:\\Users\\peera\\AppData\\Roaming\\Python\\Python312\\site-packages\\lightning_fabric\\connector.py:572: `precision=16` is supported for historical reasons but its usage is discouraged. Please set your precision to 16-mixed instead!\n",
      "Using 16bit Automatic Mixed Precision (AMP)\n",
      "GPU available: True (cuda), used: True\n",
      "TPU available: False, using: 0 TPU cores\n",
      "HPU available: False, using: 0 HPUs\n"
     ]
    },
    {
     "name": "stdout",
     "output_type": "stream",
     "text": [
      "Training final model with best hyperparameters...\n"
     ]
    },
    {
     "name": "stderr",
     "output_type": "stream",
     "text": [
      "C:\\Users\\peera\\AppData\\Roaming\\Python\\Python312\\site-packages\\pytorch_lightning\\callbacks\\model_checkpoint.py:654: Checkpoint directory C:\\Users\\peera\\Desktop\\DroughtLSTM_oneday\\models_saved\\Advanced_PRE_PET_Multitask exists and is not empty.\n",
      "LOCAL_RANK: 0 - CUDA_VISIBLE_DEVICES: [0]\n",
      "\n",
      "  | Name     | Type                                 | Params | Mode \n",
      "--------------------------------------------------------------------------\n",
      "0 | model    | MultitaskEncodingForecastingConvLSTM | 20.4 M | train\n",
      "1 | mse_loss | MSELoss                              | 0      | train\n",
      "2 | mae_loss | L1Loss                               | 0      | train\n",
      "--------------------------------------------------------------------------\n",
      "20.4 M    Trainable params\n",
      "0         Non-trainable params\n",
      "20.4 M    Total params\n",
      "81.526    Total estimated model params size (MB)\n",
      "22        Modules in train mode\n",
      "0         Modules in eval mode\n"
     ]
    },
    {
     "name": "stdout",
     "output_type": "stream",
     "text": [
      "Epoch 0: 100%|██████████| 177/177 [00:44<00:00,  3.97it/s, v_num=2, train_mse_loss_step=5.6e+3, val_loss=5.6e+3, val_rmse=74.30, train_mse_loss_epoch=1.11e+4]"
     ]
    },
    {
     "name": "stderr",
     "output_type": "stream",
     "text": [
      "Metric val_loss improved. New best score: 5596.637\n"
     ]
    },
    {
     "name": "stdout",
     "output_type": "stream",
     "text": [
      "Epoch 1: 100%|██████████| 177/177 [00:45<00:00,  3.86it/s, v_num=2, train_mse_loss_step=3.04e+3, val_loss=4.71e+3, val_rmse=67.60, train_mse_loss_epoch=4.71e+3]"
     ]
    },
    {
     "name": "stderr",
     "output_type": "stream",
     "text": [
      "Metric val_loss improved by 885.242 >= min_delta = 1e-06. New best score: 4711.395\n"
     ]
    },
    {
     "name": "stdout",
     "output_type": "stream",
     "text": [
      "Epoch 2: 100%|██████████| 177/177 [00:44<00:00,  3.97it/s, v_num=2, train_mse_loss_step=6.02e+3, val_loss=4.61e+3, val_rmse=67.50, train_mse_loss_epoch=4.11e+3]"
     ]
    },
    {
     "name": "stderr",
     "output_type": "stream",
     "text": [
      "Metric val_loss improved by 100.107 >= min_delta = 1e-06. New best score: 4611.288\n"
     ]
    },
    {
     "name": "stdout",
     "output_type": "stream",
     "text": [
      "Epoch 3: 100%|██████████| 177/177 [00:45<00:00,  3.92it/s, v_num=2, train_mse_loss_step=4.23e+3, val_loss=4.1e+3, val_rmse=63.70, train_mse_loss_epoch=3.6e+3]  "
     ]
    },
    {
     "name": "stderr",
     "output_type": "stream",
     "text": [
      "Metric val_loss improved by 510.199 >= min_delta = 1e-06. New best score: 4101.089\n"
     ]
    },
    {
     "name": "stdout",
     "output_type": "stream",
     "text": [
      "Epoch 4: 100%|██████████| 177/177 [00:40<00:00,  4.34it/s, v_num=2, train_mse_loss_step=2.93e+3, val_loss=3.96e+3, val_rmse=62.20, train_mse_loss_epoch=3.33e+3]"
     ]
    },
    {
     "name": "stderr",
     "output_type": "stream",
     "text": [
      "Metric val_loss improved by 145.958 >= min_delta = 1e-06. New best score: 3955.131\n",
      "`Trainer.fit` stopped: `max_epochs=5` reached.\n"
     ]
    },
    {
     "name": "stdout",
     "output_type": "stream",
     "text": [
      "Epoch 4: 100%|██████████| 177/177 [00:42<00:00,  4.20it/s, v_num=2, train_mse_loss_step=2.93e+3, val_loss=3.96e+3, val_rmse=62.20, train_mse_loss_epoch=3.33e+3]\n",
      "Best model saved at: C:\\Users\\peera\\Desktop\\DroughtLSTM_oneday\\models_saved\\Advanced_PRE_PET_Multitask\\multitask-convlstm-best-epoch=04-val_loss=3955.1309.ckpt\n",
      "\n",
      "--- Comprehensive Multitask Model Evaluation ---\n",
      "Evaluating train set...\n"
     ]
    },
    {
     "name": "stderr",
     "output_type": "stream",
     "text": [
      "Evaluating train: 100%|██████████| 174/174 [00:22<00:00,  7.75it/s]\n"
     ]
    },
    {
     "name": "stdout",
     "output_type": "stream",
     "text": [
      "Applying inverse transformation to predictions and actuals...\n",
      "  Train Metrics (Original Units):\n",
      "    PRE:\n",
      "      RMSE: 53.1790\n",
      "      MAE:  32.9357\n",
      "      R²:   0.8392\n",
      "      MAPE: 4790561792.00%\n",
      "    PET:\n",
      "      RMSE: 6.3729\n",
      "      MAE:  4.5917\n",
      "      R²:   0.9727\n",
      "      MAPE: 1209537408.00%\n",
      "Evaluating validation set...\n"
     ]
    },
    {
     "name": "stderr",
     "output_type": "stream",
     "text": [
      "Evaluating validation: 100%|██████████| 3/3 [00:00<00:00,  9.78it/s]\n"
     ]
    },
    {
     "name": "stdout",
     "output_type": "stream",
     "text": [
      "Applying inverse transformation to predictions and actuals...\n",
      "  Validation Metrics (Original Units):\n",
      "    PRE:\n",
      "      RMSE: 58.3268\n",
      "      MAE:  40.5175\n",
      "      R²:   0.8055\n",
      "      MAPE: 2103625856.00%\n",
      "    PET:\n",
      "      RMSE: 7.4060\n",
      "      MAE:  5.7137\n",
      "      R²:   0.8722\n",
      "      MAPE: 5.36%\n",
      "Evaluating test set...\n"
     ]
    },
    {
     "name": "stderr",
     "output_type": "stream",
     "text": [
      "Evaluating test: 100%|██████████| 3/3 [00:00<00:00,  9.83it/s]\n",
      "GPU available: True (cuda), used: True\n",
      "TPU available: False, using: 0 TPU cores\n",
      "HPU available: False, using: 0 HPUs\n",
      "LOCAL_RANK: 0 - CUDA_VISIBLE_DEVICES: [0]\n",
      "C:\\Users\\peera\\AppData\\Roaming\\Python\\Python312\\site-packages\\pytorch_lightning\\trainer\\connectors\\data_connector.py:425: The 'predict_dataloader' does not have many workers which may be a bottleneck. Consider increasing the value of the `num_workers` argument` to `num_workers=19` in the `DataLoader` to improve performance.\n"
     ]
    },
    {
     "name": "stdout",
     "output_type": "stream",
     "text": [
      "Applying inverse transformation to predictions and actuals...\n",
      "  Test Metrics (Original Units):\n",
      "    PRE:\n",
      "      RMSE: 62.4610\n",
      "      MAE:  42.1987\n",
      "      R²:   0.8177\n",
      "      MAPE: 267826176.00%\n",
      "    PET:\n",
      "      RMSE: 7.1138\n",
      "      MAE:  5.5630\n",
      "      R²:   0.8426\n",
      "      MAPE: 5.28%\n",
      "Evaluation metrics saved to: c:\\Users\\peera\\Desktop\\DroughtLSTM_oneday\\run_outputs\\Advanced_PRE_PET_Multitask\\advanced_multitask_metrics.json\n",
      "\n",
      "--- Generating Full Dataset Predictions (Multitask) ---\n",
      "Generating predictions for 1464 sequences...\n",
      "Predicting DataLoader 0: 100%|██████████| 183/183 [00:18<00:00, 10.00it/s]\n",
      "Warning: No scalers available - predictions remain in scaled space\n",
      "Prediction shape: (1464, 1, 2, 29, 16)\n",
      "Converting grid predictions to CSV format...\n"
     ]
    },
    {
     "name": "stderr",
     "output_type": "stream",
     "text": [
      "Converting predictions: 100%|██████████| 1464/1464 [00:31<00:00, 46.91it/s] \n"
     ]
    },
    {
     "name": "stdout",
     "output_type": "stream",
     "text": [
      "Full predictions saved to: c:\\Users\\peera\\Desktop\\DroughtLSTM_oneday\\run_outputs\\Advanced_PRE_PET_Multitask\\advanced_multitask_predictions.csv\n",
      "Prediction summary saved to: c:\\Users\\peera\\Desktop\\DroughtLSTM_oneday\\run_outputs\\Advanced_PRE_PET_Multitask\\prediction_summary.json\n",
      "Summary for PRE (Original Units): MAE=37.4290, RMSE=57.4180, R²=0.8209\n",
      "Summary for PET (Original Units): MAE=5.0269, RMSE=6.7082, R²=0.8890\n",
      "\n",
      "--- Multitask ConvLSTM Pipeline Completed ---\n",
      "Results saved to: c:\\Users\\peera\\Desktop\\DroughtLSTM_oneday\\run_outputs\\Advanced_PRE_PET_Multitask\n"
     ]
    }
   ],
   "source": [
    "\n",
    "config_file = \"../config_Improved_ConvLSTM_Multitask.yaml\" \n",
    "\n",
    "# Usage\n",
    "pipeline = MultitaskConvLSTMPipeline(config_file)  # Changed class name\n",
    "results = pipeline.run_pipeline()"
   ]
  },
  {
   "cell_type": "code",
   "execution_count": null,
   "id": "9250522f",
   "metadata": {},
   "outputs": [],
   "source": []
  }
 ],
 "metadata": {
  "kernelspec": {
   "display_name": "drought_lstm_base",
   "language": "python",
   "name": "python3"
  },
  "language_info": {
   "codemirror_mode": {
    "name": "ipython",
    "version": 3
   },
   "file_extension": ".py",
   "mimetype": "text/x-python",
   "name": "python",
   "nbconvert_exporter": "python",
   "pygments_lexer": "ipython3",
   "version": "3.12.7"
  }
 },
 "nbformat": 4,
 "nbformat_minor": 5
}
