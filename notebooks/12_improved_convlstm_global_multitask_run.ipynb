{
 "cells": [
  {
   "cell_type": "code",
   "execution_count": 6,
   "id": "67856288",
   "metadata": {},
   "outputs": [],
   "source": [
    "import sys\n",
    "import os\n",
    "import pandas as pd\n",
    "\n",
    "# Add project root to Python path to find the 'src' directory\n",
    "notebook_dir = os.getcwd()\n",
    "project_root = os.path.abspath(os.path.join(notebook_dir, '..'))\n",
    "if project_root not in sys.path:\n",
    "    sys.path.append(project_root)\n",
    "    print(f\"Added project root to sys.path: {project_root}\")\n",
    "\n",
    "# Import your new ConvLSTM pipeline class\n",
    "from src.improved_convlstm_multitask_pipeline import MultitaskConvLSTMPipeline"
   ]
  },
  {
   "cell_type": "code",
   "execution_count": 11,
   "id": "79d7cda3",
   "metadata": {},
   "outputs": [
    {
     "name": "stdout",
     "output_type": "stream",
     "text": [
      "Created: c:\\Users\\peera\\Desktop\\DroughtLSTM_oneday\\notebooks\\run_outputs\n",
      "Created: c:\\Users\\peera\\Desktop\\DroughtLSTM_oneday\\notebooks\\models_saved\n",
      "Created: c:\\Users\\peera\\Desktop\\DroughtLSTM_oneday\\notebooks\\logs\n"
     ]
    }
   ],
   "source": [
    "import os\n",
    "\n",
    "# Quick permission fix\n",
    "config_file = \"config_multitask_pre_pet.yaml\"\n",
    "project_root = os.path.dirname(os.path.abspath(config_file))\n",
    "\n",
    "# Create output directories with proper permissions\n",
    "output_dirs = ['run_outputs', 'models_saved', 'logs']\n",
    "for dir_name in output_dirs:\n",
    "    dir_path = os.path.join(project_root, dir_name)\n",
    "    os.makedirs(dir_path, exist_ok=True)\n",
    "    print(f\"Created: {dir_path}\")\n"
   ]
  },
  {
   "cell_type": "code",
   "execution_count": 12,
   "id": "601e28ea",
   "metadata": {},
   "outputs": [
    {
     "data": {
      "text/plain": [
       "'c:\\\\Users\\\\peera\\\\Desktop\\\\DroughtLSTM_oneday\\\\notebooks'"
      ]
     },
     "execution_count": 12,
     "metadata": {},
     "output_type": "execute_result"
    }
   ],
   "source": [
    "pwd"
   ]
  },
  {
   "cell_type": "code",
   "execution_count": null,
   "id": "299e0bb4",
   "metadata": {},
   "outputs": [
    {
     "name": "stdout",
     "output_type": "stream",
     "text": [
      "Configuration loaded from c:\\Users\\peera\\Desktop\\DroughtLSTM_oneday\\config_Improved_ConvLSTM_Multitask.yaml\n",
      "Pipeline Mode: Multitask\n",
      "Target Variables: ['pre', 'pet']\n",
      "\n",
      "--- Starting Multitask ConvLSTM Pipeline ---\n",
      "Successfully loaded data from c:\\Users\\peera\\Desktop\\DroughtLSTM_oneday\\data\\full.csv. Shape: (264201, 19)\n",
      "Converted column 'time' to datetime.\n",
      "Data sorted by ['time', 'lat', 'lon'].\n",
      "Data loaded: 264201 records\n",
      "Warning: Could not import get_target_scaler. Assuming no scaling was applied.\n",
      "--- Starting Data Gridding Process (Fixed Step Method) ---\n",
      "Using fixed grid step of: 0.5 degrees\n",
      "Grid boundaries: LAT (6.25, 20.25), LON (97.75, 105.25)\n",
      "Calculated grid dimensions: Height=29, Width=16\n",
      "Created 2D validity mask (29x16) with 179 valid data pixels.\n",
      "Pivoting data into a 4D tensor of shape (1476, 29, 16, 15)...\n"
     ]
    },
    {
     "name": "stderr",
     "output_type": "stream",
     "text": [
      "[I 2025-06-08 10:24:59,247] A new study created in memory with name: no-name-527fad9a-83ef-4c1a-90ea-4ff45b51fa4b\n"
     ]
    },
    {
     "name": "stdout",
     "output_type": "stream",
     "text": [
      "--- Data Gridding Process Finished ---\n",
      "Grid shape: (1476, 29, 16, 15), Valid pixels: 179\n",
      "Train: 1404, Val: 36, Test: 36 time steps\n",
      "Dataset sizes - Train: 1392, Val: 24, Test: 24\n",
      "\n",
      "--- Starting Hyperparameter Optimization ---\n",
      "Initializing Multitask ConvLSTM for targets: ['pre', 'pet']\n"
     ]
    },
    {
     "name": "stderr",
     "output_type": "stream",
     "text": [
      "GPU available: True (cuda), used: True\n",
      "TPU available: False, using: 0 TPU cores\n",
      "HPU available: False, using: 0 HPUs\n",
      "LOCAL_RANK: 0 - CUDA_VISIBLE_DEVICES: [0]\n",
      "\n",
      "  | Name     | Type                                 | Params | Mode \n",
      "--------------------------------------------------------------------------\n",
      "0 | model    | MultitaskEncodingForecastingConvLSTM | 138 M  | train\n",
      "1 | mse_loss | MSELoss                              | 0      | train\n",
      "2 | mae_loss | L1Loss                               | 0      | train\n",
      "--------------------------------------------------------------------------\n",
      "138 M     Trainable params\n",
      "0         Non-trainable params\n",
      "138 M     Total params\n",
      "554.754   Total estimated model params size (MB)\n",
      "74        Modules in train mode\n",
      "0         Modules in eval mode\n",
      "C:\\Users\\peera\\AppData\\Roaming\\Python\\Python312\\site-packages\\pytorch_lightning\\trainer\\connectors\\data_connector.py:425: The 'val_dataloader' does not have many workers which may be a bottleneck. Consider increasing the value of the `num_workers` argument` to `num_workers=19` in the `DataLoader` to improve performance.\n",
      "C:\\Users\\peera\\AppData\\Roaming\\Python\\Python312\\site-packages\\pytorch_lightning\\trainer\\connectors\\data_connector.py:425: The 'train_dataloader' does not have many workers which may be a bottleneck. Consider increasing the value of the `num_workers` argument` to `num_workers=19` in the `DataLoader` to improve performance.\n"
     ]
    }
   ],
   "source": [
    "# Point to your new ConvLSTM-specific config file\n",
    "config_file = \"../config_Improved_ConvLSTM_Multitask.yaml\" \n",
    "\n",
    "\n",
    "\n",
    "# Usage\n",
    "pipeline = MultitaskConvLSTMPipeline(config_file)  # Changed class name\n",
    "results = pipeline.run_pipeline()"
   ]
  }
 ],
 "metadata": {
  "kernelspec": {
   "display_name": "drought_lstm_base",
   "language": "python",
   "name": "python3"
  },
  "language_info": {
   "codemirror_mode": {
    "name": "ipython",
    "version": 3
   },
   "file_extension": ".py",
   "mimetype": "text/x-python",
   "name": "python",
   "nbconvert_exporter": "python",
   "pygments_lexer": "ipython3",
   "version": "3.12.7"
  }
 },
 "nbformat": 4,
 "nbformat_minor": 5
}
