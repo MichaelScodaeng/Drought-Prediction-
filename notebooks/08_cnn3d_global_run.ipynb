{
 "cells": [
  {
   "cell_type": "code",
   "execution_count": 1,
   "id": "a640f396",
   "metadata": {},
   "outputs": [
    {
     "name": "stdout",
     "output_type": "stream",
     "text": [
      "Added project root to sys.path: c:\\Users\\peera\\Desktop\\DroughtLSTM_oneday\n"
     ]
    },
    {
     "name": "stderr",
     "output_type": "stream",
     "text": [
      "c:\\Users\\peera\\.conda\\envs\\drought_lstm_base\\Lib\\site-packages\\tqdm\\auto.py:21: TqdmWarning: IProgress not found. Please update jupyter and ipywidgets. See https://ipywidgets.readthedocs.io/en/stable/user_install.html\n",
      "  from .autonotebook import tqdm as notebook_tqdm\n"
     ]
    },
    {
     "name": "stdout",
     "output_type": "stream",
     "text": [
      "PyTorch, PyTorch Lightning, and Optuna successfully imported.\n",
      "CNN3D Pipeline: Successfully imported utility functions.\n",
      "Configuration loaded from c:\\Users\\peera\\Desktop\\DroughtLSTM_oneday\\config_CNN3D.yaml\n",
      "\n",
      "--- Starting CNN3D PyTorch GLOBAL Pipeline ---\n",
      "Pipeline: Loading and gridding data...\n",
      "Successfully loaded data from c:\\Users\\peera\\Desktop\\DroughtLSTM_oneday\\data\\full.csv. Shape: (264201, 19)\n",
      "Converted column 'time' to datetime.\n",
      "Data sorted by ['time', 'lat', 'lon'].\n",
      "--- Starting Data Gridding Process (Fixed Step Method) ---\n",
      "Using fixed grid step of: 0.5 degrees\n",
      "Grid boundaries: LAT (6.25, 20.25), LON (97.75, 105.25)\n",
      "Calculated grid dimensions: Height=29, Width=16\n",
      "Created 2D validity mask (29x16) with 179 valid data pixels.\n",
      "Pivoting data into a 4D tensor of shape (1476, 29, 16, 16)...\n"
     ]
    },
    {
     "name": "stderr",
     "output_type": "stream",
     "text": [
      "[I 2025-06-07 00:39:51,927] A new study created in memory with name: no-name-b2f9ef60-1401-47c8-9cce-249575898f77\n",
      "GPU available: True (cuda), used: True\n",
      "TPU available: False, using: 0 TPU cores\n",
      "HPU available: False, using: 0 HPUs\n",
      "You are using a CUDA device ('NVIDIA GeForce RTX 4060 Laptop GPU') that has Tensor Cores. To properly utilize them, you should set `torch.set_float32_matmul_precision('medium' | 'high')` which will trade-off precision for performance. For more details, read https://pytorch.org/docs/stable/generated/torch.set_float32_matmul_precision.html#torch.set_float32_matmul_precision\n",
      "LOCAL_RANK: 0 - CUDA_VISIBLE_DEVICES: [0]\n",
      "\n",
      "  | Name      | Type           | Params | Mode \n",
      "-----------------------------------------------------\n",
      "0 | model     | CNN3DRegressor | 115 K  | train\n",
      "1 | criterion | MSELoss        | 0      | train\n",
      "-----------------------------------------------------\n",
      "115 K     Trainable params\n",
      "0         Non-trainable params\n",
      "115 K     Total params\n",
      "0.461     Total estimated model params size (MB)\n",
      "10        Modules in train mode\n",
      "0         Modules in eval mode\n"
     ]
    },
    {
     "name": "stdout",
     "output_type": "stream",
     "text": [
      "--- Data Gridding Process Finished ---\n",
      "Pipeline: Splitting gridded data...\n",
      "Pipeline: Creating Datasets and DataLoaders...\n",
      "Pipeline: Starting hyperparameter tuning...\n"
     ]
    },
    {
     "name": "stderr",
     "output_type": "stream",
     "text": [
      "C:\\Users\\peera\\AppData\\Roaming\\Python\\Python312\\site-packages\\pytorch_lightning\\trainer\\connectors\\data_connector.py:425: The 'val_dataloader' does not have many workers which may be a bottleneck. Consider increasing the value of the `num_workers` argument` to `num_workers=19` in the `DataLoader` to improve performance.\n",
      "C:\\Users\\peera\\AppData\\Roaming\\Python\\Python312\\site-packages\\pytorch_lightning\\trainer\\connectors\\data_connector.py:425: The 'train_dataloader' does not have many workers which may be a bottleneck. Consider increasing the value of the `num_workers` argument` to `num_workers=19` in the `DataLoader` to improve performance.\n",
      "C:\\Users\\peera\\AppData\\Roaming\\Python\\Python312\\site-packages\\optuna\\trial\\_trial.py:497: UserWarning: The reported value is ignored because this `step` 0 is already reported.\n",
      "  warnings.warn(\n",
      "`Trainer.fit` stopped: `max_epochs=2` reached.\n",
      "[I 2025-06-07 00:39:54,931] Trial 0 finished with value: 1.1729998588562012 and parameters: {'learning_rate': 2.99910090842618e-06, 'n_conv_layers': 3, 'out_channels_power': 5, 'kernel_size_d': 5, 'kernel_size_h': 3, 'kernel_size_w': 3}. Best is trial 0 with value: 1.1729998588562012.\n",
      "GPU available: True (cuda), used: True\n",
      "TPU available: False, using: 0 TPU cores\n",
      "HPU available: False, using: 0 HPUs\n",
      "C:\\Users\\peera\\AppData\\Roaming\\Python\\Python312\\site-packages\\pytorch_lightning\\callbacks\\model_checkpoint.py:654: Checkpoint directory C:\\Users\\peera\\Desktop\\DroughtLSTM_oneday\\models_saved\\SPEI_CNN3D_Global_Run exists and is not empty.\n",
      "LOCAL_RANK: 0 - CUDA_VISIBLE_DEVICES: [0]\n",
      "\n",
      "  | Name      | Type           | Params | Mode \n",
      "-----------------------------------------------------\n",
      "0 | model     | CNN3DRegressor | 115 K  | train\n",
      "1 | criterion | MSELoss        | 0      | train\n",
      "-----------------------------------------------------\n",
      "115 K     Trainable params\n",
      "0         Non-trainable params\n",
      "115 K     Total params\n",
      "0.461     Total estimated model params size (MB)\n",
      "10        Modules in train mode\n",
      "0         Modules in eval mode\n"
     ]
    },
    {
     "name": "stdout",
     "output_type": "stream",
     "text": [
      "Pipeline: Optuna found best params: {'learning_rate': 2.99910090842618e-06, 'n_conv_layers': 3, 'out_channels_power': 5, 'kernel_size_d': 5, 'kernel_size_h': 3, 'kernel_size_w': 3}\n",
      "Pipeline: Training final model...\n",
      "Epoch 1: 100%|██████████| 89/89 [00:01<00:00, 66.86it/s, val_loss=1.110]    "
     ]
    },
    {
     "name": "stderr",
     "output_type": "stream",
     "text": [
      "`Trainer.fit` stopped: `max_epochs=2` reached.\n"
     ]
    },
    {
     "name": "stdout",
     "output_type": "stream",
     "text": [
      "Epoch 1: 100%|██████████| 89/89 [00:01<00:00, 66.29it/s, val_loss=1.110]\n",
      "Pipeline: Final model training complete. Best model saved at: C:\\Users\\peera\\Desktop\\DroughtLSTM_oneday\\models_saved\\SPEI_CNN3D_Global_Run\\global-cnn3d-best-model-v6.ckpt\n"
     ]
    },
    {
     "name": "stderr",
     "output_type": "stream",
     "text": [
      "LOCAL_RANK: 0 - CUDA_VISIBLE_DEVICES: [0]\n",
      "C:\\Users\\peera\\AppData\\Roaming\\Python\\Python312\\site-packages\\pytorch_lightning\\trainer\\connectors\\data_connector.py:425: The 'predict_dataloader' does not have many workers which may be a bottleneck. Consider increasing the value of the `num_workers` argument` to `num_workers=19` in the `DataLoader` to improve performance.\n"
     ]
    },
    {
     "name": "stdout",
     "output_type": "stream",
     "text": [
      "\n",
      "--- Final Model Evaluation ---\n",
      "Predicting DataLoader 0: 100%|██████████| 87/87 [00:00<00:00, 172.61it/s]"
     ]
    },
    {
     "name": "stderr",
     "output_type": "stream",
     "text": [
      "c:\\Users\\peera\\.conda\\envs\\drought_lstm_base\\Lib\\site-packages\\sklearn\\metrics\\_regression.py:492: FutureWarning: 'squared' is deprecated in version 1.4 and will be removed in 1.6. To calculate the root mean squared error, use the function'root_mean_squared_error'.\n",
      "  warnings.warn(\n",
      "LOCAL_RANK: 0 - CUDA_VISIBLE_DEVICES: [0]\n"
     ]
    },
    {
     "name": "stdout",
     "output_type": "stream",
     "text": [
      "\n",
      "  Train Set: RMSE=1.0470, MAE=0.8502, R2=-0.1058\n"
     ]
    },
    {
     "name": "stderr",
     "output_type": "stream",
     "text": [
      "C:\\Users\\peera\\AppData\\Roaming\\Python\\Python312\\site-packages\\pytorch_lightning\\trainer\\connectors\\data_connector.py:425: The 'predict_dataloader' does not have many workers which may be a bottleneck. Consider increasing the value of the `num_workers` argument` to `num_workers=19` in the `DataLoader` to improve performance.\n"
     ]
    },
    {
     "name": "stdout",
     "output_type": "stream",
     "text": [
      "Predicting DataLoader 0: 100%|██████████| 2/2 [00:00<00:00, 220.43it/s]"
     ]
    },
    {
     "name": "stderr",
     "output_type": "stream",
     "text": [
      "c:\\Users\\peera\\.conda\\envs\\drought_lstm_base\\Lib\\site-packages\\sklearn\\metrics\\_regression.py:492: FutureWarning: 'squared' is deprecated in version 1.4 and will be removed in 1.6. To calculate the root mean squared error, use the function'root_mean_squared_error'.\n",
      "  warnings.warn(\n",
      "LOCAL_RANK: 0 - CUDA_VISIBLE_DEVICES: [0]\n",
      "C:\\Users\\peera\\AppData\\Roaming\\Python\\Python312\\site-packages\\pytorch_lightning\\trainer\\connectors\\data_connector.py:425: The 'predict_dataloader' does not have many workers which may be a bottleneck. Consider increasing the value of the `num_workers` argument` to `num_workers=19` in the `DataLoader` to improve performance.\n"
     ]
    },
    {
     "name": "stdout",
     "output_type": "stream",
     "text": [
      "\n",
      "  Validation Set: RMSE=1.0533, MAE=0.8935, R2=-0.2761\n",
      "Predicting DataLoader 0: 100%|██████████| 2/2 [00:00<00:00, 200.04it/s]\n",
      "  Test Set: RMSE=1.1294, MAE=0.9363, R2=-0.1817\n",
      "Pipeline: Evaluation metrics saved.\n",
      "\n",
      "Pipeline: Generating predictions on the full raw dataset...\n",
      "  Re-calculating grid indices for prediction dataframe...\n"
     ]
    },
    {
     "name": "stderr",
     "output_type": "stream",
     "text": [
      "c:\\Users\\peera\\.conda\\envs\\drought_lstm_base\\Lib\\site-packages\\sklearn\\metrics\\_regression.py:492: FutureWarning: 'squared' is deprecated in version 1.4 and will be removed in 1.6. To calculate the root mean squared error, use the function'root_mean_squared_error'.\n",
      "  warnings.warn(\n",
      "GPU available: True (cuda), used: True\n",
      "TPU available: False, using: 0 TPU cores\n",
      "HPU available: False, using: 0 HPUs\n",
      "LOCAL_RANK: 0 - CUDA_VISIBLE_DEVICES: [0]\n",
      "C:\\Users\\peera\\AppData\\Roaming\\Python\\Python312\\site-packages\\pytorch_lightning\\trainer\\connectors\\data_connector.py:425: The 'predict_dataloader' does not have many workers which may be a bottleneck. Consider increasing the value of the `num_workers` argument` to `num_workers=19` in the `DataLoader` to improve performance.\n"
     ]
    },
    {
     "name": "stdout",
     "output_type": "stream",
     "text": [
      "Predicting DataLoader 0: 100%|██████████| 92/92 [00:00<00:00, 169.45it/s]\n",
      "Pipeline: Un-gridding predictions to create output CSV...\n",
      "Pipeline: Full data predictions saved to c:\\Users\\peera\\Desktop\\DroughtLSTM_oneday\\run_outputs\\SPEI_CNN3D_Global_Run\\global_cnn3d_full_predictions.csv\n",
      "--- CNN3D Global Pipeline Run Finished ---\n",
      "\n",
      "--- CNN3D Global Pipeline Finished ---\n",
      "Final Model Performance:\n",
      "\n",
      "Metrics for train set:\n",
      "  RMSE: 1.0470\n",
      "  MAE: 0.8502\n",
      "  R2: -0.1058\n",
      "\n",
      "Metrics for validation set:\n",
      "  RMSE: 1.0533\n",
      "  MAE: 0.8935\n",
      "  R2: -0.2761\n",
      "\n",
      "Metrics for test set:\n",
      "  RMSE: 1.1294\n",
      "  MAE: 0.9363\n",
      "  R2: -0.1817\n"
     ]
    }
   ],
   "source": [
    "import sys\n",
    "import os\n",
    "import pandas as pd\n",
    "\n",
    "# Add project root to Python path to find the 'src' directory\n",
    "notebook_dir = os.getcwd()\n",
    "project_root = os.path.abspath(os.path.join(notebook_dir, '..'))\n",
    "if project_root not in sys.path:\n",
    "    sys.path.append(project_root)\n",
    "    print(f\"Added project root to sys.path: {project_root}\")\n",
    "\n",
    "# Import your new CNN3D pipeline class\n",
    "from src.cnn3d_pipeline import CNN3DGlobalPipeline\n",
    "# Point to your new CNN3D-specific config file\n",
    "config_file = \"../config_CNN3D_SPEI.yaml\" \n",
    "\n",
    "# Create an instance of the pipeline\n",
    "pipeline = CNN3DGlobalPipeline(config_path=config_file)\n",
    "\n",
    "# Execute the pipeline. This will take a significant amount of time.\n",
    "# It has to grid all the data, tune hyperparameters, and train a 3D deep learning model.\n",
    "results = pipeline.run_pipeline()\n",
    "print(\"\\n--- CNN3D Global Pipeline Finished ---\")\n",
    "if isinstance(results, dict) and results:\n",
    "    print(\"Final Model Performance:\")\n",
    "    for split_name, metrics in results.items():\n",
    "        print(f\"\\nMetrics for {split_name} set:\")\n",
    "        if metrics:\n",
    "            for metric_name, value in metrics.items():\n",
    "                print(f\"  {metric_name.upper()}: {value:.4f}\")\n",
    "        else:\n",
    "            print(\"  Metrics not available for this split.\")\n",
    "else:\n",
    "    print(f\"Pipeline may have returned an error status or incomplete results: {results}\")"
   ]
  },
  {
   "cell_type": "code",
   "execution_count": null,
   "id": "c663beb1",
   "metadata": {},
   "outputs": [],
   "source": [
    "import sys\n",
    "import os\n",
    "import pandas as pd\n",
    "\n",
    "# Add project root to Python path to find the 'src' directory\n",
    "notebook_dir = os.getcwd()\n",
    "project_root = os.path.abspath(os.path.join(notebook_dir, '..'))\n",
    "if project_root not in sys.path:\n",
    "    sys.path.append(project_root)\n",
    "    print(f\"Added project root to sys.path: {project_root}\")\n",
    "\n",
    "# Import your new CNN3D pipeline class\n",
    "from src.cnn3d_pipeline import CNN3DGlobalPipeline\n",
    "# Point to your new CNN3D-specific config file\n",
    "config_file = \"../config_CNN3D_PET.yaml\" \n",
    "\n",
    "# Create an instance of the pipeline\n",
    "pipeline = CNN3DGlobalPipeline(config_path=config_file)\n",
    "\n",
    "# Execute the pipeline. This will take a significant amount of time.\n",
    "# It has to grid all the data, tune hyperparameters, and train a 3D deep learning model.\n",
    "results = pipeline.run_pipeline()\n",
    "print(\"\\n--- CNN3D Global Pipeline Finished ---\")\n",
    "if isinstance(results, dict) and results:\n",
    "    print(\"Final Model Performance:\")\n",
    "    for split_name, metrics in results.items():\n",
    "        print(f\"\\nMetrics for {split_name} set:\")\n",
    "        if metrics:\n",
    "            for metric_name, value in metrics.items():\n",
    "                print(f\"  {metric_name.upper()}: {value:.4f}\")\n",
    "        else:\n",
    "            print(\"  Metrics not available for this split.\")\n",
    "else:\n",
    "    print(f\"Pipeline may have returned an error status or incomplete results: {results}\")"
   ]
  },
  {
   "cell_type": "code",
   "execution_count": null,
   "id": "4ba92c0e",
   "metadata": {},
   "outputs": [],
   "source": [
    "import sys\n",
    "import os\n",
    "import pandas as pd\n",
    "\n",
    "# Add project root to Python path to find the 'src' directory\n",
    "notebook_dir = os.getcwd()\n",
    "project_root = os.path.abspath(os.path.join(notebook_dir, '..'))\n",
    "if project_root not in sys.path:\n",
    "    sys.path.append(project_root)\n",
    "    print(f\"Added project root to sys.path: {project_root}\")\n",
    "\n",
    "# Import your new CNN3D pipeline class\n",
    "from src.cnn3d_pipeline import CNN3DGlobalPipeline\n",
    "# Point to your new CNN3D-specific config file\n",
    "config_file = \"../config_CNN3D_PRE.yaml\" \n",
    "\n",
    "# Create an instance of the pipeline\n",
    "pipeline = CNN3DGlobalPipeline(config_path=config_file)\n",
    "\n",
    "# Execute the pipeline. This will take a significant amount of time.\n",
    "# It has to grid all the data, tune hyperparameters, and train a 3D deep learning model.\n",
    "results = pipeline.run_pipeline()\n",
    "print(\"\\n--- CNN3D Global Pipeline Finished ---\")\n",
    "if isinstance(results, dict) and results:\n",
    "    print(\"Final Model Performance:\")\n",
    "    for split_name, metrics in results.items():\n",
    "        print(f\"\\nMetrics for {split_name} set:\")\n",
    "        if metrics:\n",
    "            for metric_name, value in metrics.items():\n",
    "                print(f\"  {metric_name.upper()}: {value:.4f}\")\n",
    "        else:\n",
    "            print(\"  Metrics not available for this split.\")\n",
    "else:\n",
    "    print(f\"Pipeline may have returned an error status or incomplete results: {results}\")"
   ]
  },
  {
   "cell_type": "code",
   "execution_count": null,
   "id": "4b56c375",
   "metadata": {},
   "outputs": [],
   "source": []
  }
 ],
 "metadata": {
  "kernelspec": {
   "display_name": "drought_lstm_base",
   "language": "python",
   "name": "python3"
  },
  "language_info": {
   "codemirror_mode": {
    "name": "ipython",
    "version": 3
   },
   "file_extension": ".py",
   "mimetype": "text/x-python",
   "name": "python",
   "nbconvert_exporter": "python",
   "pygments_lexer": "ipython3",
   "version": "3.12.7"
  }
 },
 "nbformat": 4,
 "nbformat_minor": 5
}
