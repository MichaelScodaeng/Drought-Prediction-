{
 "cells": [
  {
   "cell_type": "code",
   "execution_count": 1,
   "id": "67856288",
   "metadata": {},
   "outputs": [
    {
     "name": "stdout",
     "output_type": "stream",
     "text": [
      "Added project root to sys.path: c:\\Users\\peera\\Desktop\\DroughtLSTM_oneday\n"
     ]
    },
    {
     "name": "stderr",
     "output_type": "stream",
     "text": [
      "c:\\Users\\peera\\.conda\\envs\\drought_lstm_base\\Lib\\site-packages\\tqdm\\auto.py:21: TqdmWarning: IProgress not found. Please update jupyter and ipywidgets. See https://ipywidgets.readthedocs.io/en/stable/user_install.html\n",
      "  from .autonotebook import tqdm as notebook_tqdm\n"
     ]
    },
    {
     "name": "stdout",
     "output_type": "stream",
     "text": [
      "PyTorch, PyTorch Lightning, and Optuna successfully imported.\n",
      "ConvLSTM Pipeline: Successfully imported utility functions.\n"
     ]
    }
   ],
   "source": [
    "import sys\n",
    "import os\n",
    "import pandas as pd\n",
    "\n",
    "# Add project root to Python path to find the 'src' directory\n",
    "notebook_dir = os.getcwd()\n",
    "project_root = os.path.abspath(os.path.join(notebook_dir, '..'))\n",
    "if project_root not in sys.path:\n",
    "    sys.path.append(project_root)\n",
    "    print(f\"Added project root to sys.path: {project_root}\")\n",
    "\n",
    "# Import your new ConvLSTM pipeline class\n",
    "from src.improved_convlstm_pipeline import ImprovedConvLSTMPipeline"
   ]
  },
  {
   "cell_type": "code",
   "execution_count": 2,
   "id": "601e28ea",
   "metadata": {},
   "outputs": [
    {
     "data": {
      "text/plain": [
       "'c:\\\\Users\\\\peera\\\\Desktop\\\\DroughtLSTM_oneday\\\\notebooks'"
      ]
     },
     "execution_count": 2,
     "metadata": {},
     "output_type": "execute_result"
    }
   ],
   "source": [
    "pwd"
   ]
  },
  {
   "cell_type": "code",
   "execution_count": 3,
   "id": "299e0bb4",
   "metadata": {},
   "outputs": [
    {
     "name": "stdout",
     "output_type": "stream",
     "text": [
      "Configuration loaded from c:\\Users\\peera\\Desktop\\DroughtLSTM_oneday\\config_Improved_ConvLSTM_PRE.yaml\n",
      "\n",
      "--- Starting Improved ConvLSTM Pipeline ---\n",
      "Successfully loaded data from c:\\Users\\peera\\Desktop\\DroughtLSTM_oneday\\data\\full.csv. Shape: (264201, 19)\n",
      "Converted column 'time' to datetime.\n",
      "Data sorted by ['time', 'lat', 'lon'].\n",
      "Data loaded: 264201 records\n",
      "Warning: Could not import get_target_scaler. Assuming no scaling was applied.\n",
      "Warning: No target scaler found - predictions will remain in scaled space\n",
      "--- Starting Data Gridding Process (Fixed Step Method) ---\n",
      "Using fixed grid step of: 0.5 degrees\n",
      "Grid boundaries: LAT (6.25, 20.25), LON (97.75, 105.25)\n",
      "Calculated grid dimensions: Height=29, Width=16\n",
      "Created 2D validity mask (29x16) with 179 valid data pixels.\n",
      "Pivoting data into a 4D tensor of shape (1476, 29, 16, 15)...\n"
     ]
    },
    {
     "name": "stderr",
     "output_type": "stream",
     "text": [
      "[I 2025-06-08 09:52:14,305] A new study created in memory with name: no-name-cbd006ef-f0f3-46f1-9efa-c456c0e62fe0\n",
      "GPU available: True (cuda), used: True\n",
      "TPU available: False, using: 0 TPU cores\n",
      "HPU available: False, using: 0 HPUs\n",
      "You are using a CUDA device ('NVIDIA GeForce RTX 4060 Laptop GPU') that has Tensor Cores. To properly utilize them, you should set `torch.set_float32_matmul_precision('medium' | 'high')` which will trade-off precision for performance. For more details, read https://pytorch.org/docs/stable/generated/torch.set_float32_matmul_precision.html#torch.set_float32_matmul_precision\n",
      "LOCAL_RANK: 0 - CUDA_VISIBLE_DEVICES: [0]\n"
     ]
    },
    {
     "name": "stdout",
     "output_type": "stream",
     "text": [
      "--- Data Gridding Process Finished ---\n",
      "Grid shape: (1476, 29, 16, 15), Valid pixels: 179\n",
      "Train: 1404, Val: 36, Test: 36 time steps\n",
      "Dataset sizes - Train: 1392, Val: 24, Test: 24\n",
      "\n",
      "--- Starting Hyperparameter Optimization ---\n"
     ]
    },
    {
     "name": "stderr",
     "output_type": "stream",
     "text": [
      "\n",
      "  | Name     | Type                                | Params | Mode \n",
      "-------------------------------------------------------------------------\n",
      "0 | model    | AdvancedEncodingForecastingConvLSTM | 540 K  | train\n",
      "1 | mse_loss | MSELoss                             | 0      | train\n",
      "2 | mae_loss | L1Loss                              | 0      | train\n",
      "-------------------------------------------------------------------------\n",
      "540 K     Trainable params\n",
      "0         Non-trainable params\n",
      "540 K     Total params\n",
      "2.161     Total estimated model params size (MB)\n",
      "38        Modules in train mode\n",
      "0         Modules in eval mode\n",
      "C:\\Users\\peera\\AppData\\Roaming\\Python\\Python312\\site-packages\\pytorch_lightning\\trainer\\connectors\\data_connector.py:425: The 'val_dataloader' does not have many workers which may be a bottleneck. Consider increasing the value of the `num_workers` argument` to `num_workers=19` in the `DataLoader` to improve performance.\n",
      "C:\\Users\\peera\\AppData\\Roaming\\Python\\Python312\\site-packages\\pytorch_lightning\\trainer\\connectors\\data_connector.py:425: The 'train_dataloader' does not have many workers which may be a bottleneck. Consider increasing the value of the `num_workers` argument` to `num_workers=19` in the `DataLoader` to improve performance.\n",
      "C:\\Users\\peera\\AppData\\Roaming\\Python\\Python312\\site-packages\\optuna\\trial\\_trial.py:497: UserWarning: The reported value is ignored because this `step` 0 is already reported.\n",
      "  warnings.warn(\n",
      "`Trainer.fit` stopped: `max_epochs=2` reached.\n",
      "[I 2025-06-08 09:52:30,032] Trial 0 finished with value: 354.8468933105469 and parameters: {'learning_rate': 0.0002423265775851632, 'n_layers': 4, 'hidden_dim_size': 32, 'kernel_size': 3, 'dropout': 0.025297512973640756, 'weight_decay': 4.87448494131827e-06, 'batch_norm': False, 'teacher_forcing_ratio': 0.46888216463166493}. Best is trial 0 with value: 354.8468933105469.\n",
      "C:\\Users\\peera\\AppData\\Roaming\\Python\\Python312\\site-packages\\lightning_fabric\\connector.py:572: `precision=16` is supported for historical reasons but its usage is discouraged. Please set your precision to 16-mixed instead!\n",
      "Using 16bit Automatic Mixed Precision (AMP)\n",
      "GPU available: True (cuda), used: True\n",
      "TPU available: False, using: 0 TPU cores\n",
      "HPU available: False, using: 0 HPUs\n",
      "C:\\Users\\peera\\AppData\\Roaming\\Python\\Python312\\site-packages\\pytorch_lightning\\trainer\\connectors\\logger_connector\\logger_connector.py:76: Starting from v1.9.0, `tensorboardX` has been removed as a dependency of the `pytorch_lightning` package, due to potential conflicts with other packages in the ML ecosystem. For this reason, `logger=True` will use `CSVLogger` as the default logger, unless the `tensorboard` or `tensorboardX` packages are found. Please `pip install lightning[extra]` or one of them to enable TensorBoard support by default\n",
      "LOCAL_RANK: 0 - CUDA_VISIBLE_DEVICES: [0]\n",
      "\n",
      "  | Name     | Type                                | Params | Mode \n",
      "-------------------------------------------------------------------------\n",
      "0 | model    | AdvancedEncodingForecastingConvLSTM | 540 K  | train\n",
      "1 | mse_loss | MSELoss                             | 0      | train\n",
      "2 | mae_loss | L1Loss                              | 0      | train\n",
      "-------------------------------------------------------------------------\n",
      "540 K     Trainable params\n",
      "0         Non-trainable params\n",
      "540 K     Total params\n",
      "2.161     Total estimated model params size (MB)\n",
      "38        Modules in train mode\n",
      "0         Modules in eval mode\n"
     ]
    },
    {
     "name": "stdout",
     "output_type": "stream",
     "text": [
      "Best hyperparameters found: {'learning_rate': 0.0002423265775851632, 'n_layers': 4, 'hidden_dim_size': 32, 'kernel_size': 3, 'dropout': 0.025297512973640756, 'weight_decay': 4.87448494131827e-06, 'batch_norm': False, 'teacher_forcing_ratio': 0.46888216463166493}\n",
      "\n",
      "--- Training Final Model ---\n",
      "Epoch 0: 100%|██████████| 89/89 [00:07<00:00, 11.57it/s, v_num=4, train_mse_loss_step=3.48e+3, val_loss=4.88e+3, val_rmse=69.40, train_mse_loss_epoch=7.12e+3]"
     ]
    },
    {
     "name": "stderr",
     "output_type": "stream",
     "text": [
      "Metric val_loss improved. New best score: 4880.608\n"
     ]
    },
    {
     "name": "stdout",
     "output_type": "stream",
     "text": [
      "Epoch 1: 100%|██████████| 89/89 [00:07<00:00, 12.02it/s, v_num=4, train_mse_loss_step=2.04e+3, val_loss=2.5e+3, val_rmse=49.30, train_mse_loss_epoch=2.92e+3] "
     ]
    },
    {
     "name": "stderr",
     "output_type": "stream",
     "text": [
      "Metric val_loss improved by 2381.182 >= min_delta = 1e-06. New best score: 2499.426\n",
      "`Trainer.fit` stopped: `max_epochs=2` reached.\n"
     ]
    },
    {
     "name": "stdout",
     "output_type": "stream",
     "text": [
      "Epoch 1: 100%|██████████| 89/89 [00:07<00:00, 11.97it/s, v_num=4, train_mse_loss_step=2.04e+3, val_loss=2.5e+3, val_rmse=49.30, train_mse_loss_epoch=2.92e+3]\n",
      "Best model saved at: C:\\Users\\peera\\Desktop\\DroughtLSTM_oneday\\models_saved\\PET_ConvLSTM_EncoderDecoder_Run\\improved-convlstm-best-epoch=01-val_loss=2499.4255.ckpt\n",
      "\n",
      "--- Comprehensive Model Evaluation ---\n",
      "Evaluating train set...\n"
     ]
    },
    {
     "name": "stderr",
     "output_type": "stream",
     "text": [
      "Evaluating train: 100%|██████████| 87/87 [00:03<00:00, 22.68it/s]\n"
     ]
    },
    {
     "name": "stdout",
     "output_type": "stream",
     "text": [
      "  Train Metrics (Original pet Units):\n",
      "    RMSE: 44.6941\n",
      "    MAE:  38.7693\n",
      "    R²:   -0.2597\n",
      "    MAPE: 25792296960.00%\n",
      "Evaluating validation set...\n"
     ]
    },
    {
     "name": "stderr",
     "output_type": "stream",
     "text": [
      "Evaluating validation: 100%|██████████| 2/2 [00:00<00:00, 54.06it/s]\n"
     ]
    },
    {
     "name": "stdout",
     "output_type": "stream",
     "text": [
      "  Validation Metrics (Original pet Units):\n",
      "    RMSE: 49.9804\n",
      "    MAE:  45.2532\n",
      "    R²:   -4.8208\n",
      "    MAPE: 39.41%\n",
      "Evaluating test set...\n"
     ]
    },
    {
     "name": "stderr",
     "output_type": "stream",
     "text": [
      "Evaluating test: 100%|██████████| 2/2 [00:00<00:00, 47.02it/s]\n",
      "GPU available: True (cuda), used: True\n",
      "TPU available: False, using: 0 TPU cores\n",
      "HPU available: False, using: 0 HPUs\n",
      "LOCAL_RANK: 0 - CUDA_VISIBLE_DEVICES: [0]\n",
      "C:\\Users\\peera\\AppData\\Roaming\\Python\\Python312\\site-packages\\pytorch_lightning\\trainer\\connectors\\data_connector.py:425: The 'predict_dataloader' does not have many workers which may be a bottleneck. Consider increasing the value of the `num_workers` argument` to `num_workers=19` in the `DataLoader` to improve performance.\n"
     ]
    },
    {
     "name": "stdout",
     "output_type": "stream",
     "text": [
      "  Test Metrics (Original pet Units):\n",
      "    RMSE: 45.0218\n",
      "    MAE:  41.0433\n",
      "    R²:   -5.3034\n",
      "    MAPE: 37.42%\n",
      "Evaluation metrics saved to: c:\\Users\\peera\\Desktop\\DroughtLSTM_oneday\\run_outputs\\PET_ConvLSTM_EncoderDecoder_Run\\global_convlstm_improved_metrics.json\n",
      "\n",
      "--- Generating Full Dataset Predictions ---\n",
      "Generating predictions for 1464 sequences...\n",
      "Predicting DataLoader 0: 100%|██████████| 92/92 [00:01<00:00, 59.72it/s]\n",
      "Warning: No scaler available - predictions remain in scaled space\n",
      "Prediction shape: (1464, 29, 16)\n",
      "Converting grid predictions to CSV format...\n"
     ]
    },
    {
     "name": "stderr",
     "output_type": "stream",
     "text": [
      "Converting predictions: 100%|██████████| 1464/1464 [00:14<00:00, 101.69it/s]\n"
     ]
    },
    {
     "name": "stdout",
     "output_type": "stream",
     "text": [
      "Full predictions saved to: c:\\Users\\peera\\Desktop\\DroughtLSTM_oneday\\run_outputs\\PET_ConvLSTM_EncoderDecoder_Run\\global_convlstm_improved_full_predictions.csv\n",
      "Prediction summary saved to: c:\\Users\\peera\\Desktop\\DroughtLSTM_oneday\\run_outputs\\PET_ConvLSTM_EncoderDecoder_Run\\prediction_summary.json\n",
      "Summary (Original Units): MAE=41.1586, RMSE=46.0237, R²=-4.2242\n",
      "\n",
      "--- Improved ConvLSTM Pipeline Completed ---\n",
      "Results saved to: c:\\Users\\peera\\Desktop\\DroughtLSTM_oneday\\run_outputs\\PET_ConvLSTM_EncoderDecoder_Run\n"
     ]
    }
   ],
   "source": [
    "# Point to your new ConvLSTM-specific config file\n",
    "config_file = \"../config_Improved_ConvLSTM_PRE.yaml\" \n",
    "\n",
    "# Simple usage\n",
    "pipeline = ImprovedConvLSTMPipeline(config_file)\n",
    "results = pipeline.run_pipeline()"
   ]
  },
  {
   "cell_type": "code",
   "execution_count": 4,
   "id": "7651b714",
   "metadata": {},
   "outputs": [
    {
     "name": "stdout",
     "output_type": "stream",
     "text": [
      "Configuration loaded from c:\\Users\\peera\\Desktop\\DroughtLSTM_oneday\\config_Improved_ConvLSTM_PET.yaml\n",
      "\n",
      "--- Starting Improved ConvLSTM Pipeline ---\n",
      "Successfully loaded data from c:\\Users\\peera\\Desktop\\DroughtLSTM_oneday\\data\\full.csv. Shape: (264201, 19)\n",
      "Converted column 'time' to datetime.\n",
      "Data sorted by ['time', 'lat', 'lon'].\n",
      "Data loaded: 264201 records\n",
      "Warning: Could not import get_target_scaler. Assuming no scaling was applied.\n",
      "Warning: No target scaler found - predictions will remain in scaled space\n",
      "--- Starting Data Gridding Process (Fixed Step Method) ---\n",
      "Using fixed grid step of: 0.5 degrees\n",
      "Grid boundaries: LAT (6.25, 20.25), LON (97.75, 105.25)\n",
      "Calculated grid dimensions: Height=29, Width=16\n",
      "Created 2D validity mask (29x16) with 179 valid data pixels.\n",
      "Pivoting data into a 4D tensor of shape (1476, 29, 16, 15)...\n"
     ]
    },
    {
     "name": "stderr",
     "output_type": "stream",
     "text": [
      "[I 2025-06-08 09:53:13,995] A new study created in memory with name: no-name-22059054-013f-4610-a516-3059caee4e5c\n",
      "GPU available: True (cuda), used: True\n",
      "TPU available: False, using: 0 TPU cores\n",
      "HPU available: False, using: 0 HPUs\n",
      "LOCAL_RANK: 0 - CUDA_VISIBLE_DEVICES: [0]\n",
      "\n",
      "  | Name     | Type                                | Params | Mode \n",
      "-------------------------------------------------------------------------\n",
      "0 | model    | AdvancedEncodingForecastingConvLSTM | 2.1 M  | train\n",
      "1 | mse_loss | MSELoss                             | 0      | train\n",
      "2 | mae_loss | L1Loss                              | 0      | train\n",
      "-------------------------------------------------------------------------\n",
      "2.1 M     Trainable params\n",
      "0         Non-trainable params\n",
      "2.1 M     Total params\n",
      "8.487     Total estimated model params size (MB)\n",
      "38        Modules in train mode\n",
      "0         Modules in eval mode\n"
     ]
    },
    {
     "name": "stdout",
     "output_type": "stream",
     "text": [
      "--- Data Gridding Process Finished ---\n",
      "Grid shape: (1476, 29, 16, 15), Valid pixels: 179\n",
      "Train: 1404, Val: 36, Test: 36 time steps\n",
      "Dataset sizes - Train: 1392, Val: 24, Test: 24\n",
      "\n",
      "--- Starting Hyperparameter Optimization ---\n"
     ]
    },
    {
     "name": "stderr",
     "output_type": "stream",
     "text": [
      "C:\\Users\\peera\\AppData\\Roaming\\Python\\Python312\\site-packages\\pytorch_lightning\\trainer\\connectors\\data_connector.py:425: The 'val_dataloader' does not have many workers which may be a bottleneck. Consider increasing the value of the `num_workers` argument` to `num_workers=19` in the `DataLoader` to improve performance.\n",
      "C:\\Users\\peera\\AppData\\Roaming\\Python\\Python312\\site-packages\\pytorch_lightning\\trainer\\connectors\\data_connector.py:425: The 'train_dataloader' does not have many workers which may be a bottleneck. Consider increasing the value of the `num_workers` argument` to `num_workers=19` in the `DataLoader` to improve performance.\n",
      "C:\\Users\\peera\\AppData\\Roaming\\Python\\Python312\\site-packages\\optuna\\trial\\_trial.py:497: UserWarning: The reported value is ignored because this `step` 0 is already reported.\n",
      "  warnings.warn(\n",
      "`Trainer.fit` stopped: `max_epochs=2` reached.\n",
      "[I 2025-06-08 09:53:39,735] Trial 0 finished with value: 13970.4404296875 and parameters: {'learning_rate': 8.371435514092233e-05, 'n_layers': 4, 'hidden_dim_size': 64, 'kernel_size': 3, 'dropout': 0.2305480922464403, 'weight_decay': 1.9639406120171864e-05, 'batch_norm': False, 'teacher_forcing_ratio': 0.5422964259744988}. Best is trial 0 with value: 13970.4404296875.\n",
      "C:\\Users\\peera\\AppData\\Roaming\\Python\\Python312\\site-packages\\lightning_fabric\\connector.py:572: `precision=16` is supported for historical reasons but its usage is discouraged. Please set your precision to 16-mixed instead!\n",
      "Using 16bit Automatic Mixed Precision (AMP)\n",
      "GPU available: True (cuda), used: True\n",
      "TPU available: False, using: 0 TPU cores\n",
      "HPU available: False, using: 0 HPUs\n",
      "C:\\Users\\peera\\AppData\\Roaming\\Python\\Python312\\site-packages\\pytorch_lightning\\callbacks\\model_checkpoint.py:654: Checkpoint directory C:\\Users\\peera\\Desktop\\DroughtLSTM_oneday\\models_saved\\PRE_ConvLSTM_EncoderDecoder_Run exists and is not empty.\n",
      "LOCAL_RANK: 0 - CUDA_VISIBLE_DEVICES: [0]\n",
      "\n",
      "  | Name     | Type                                | Params | Mode \n",
      "-------------------------------------------------------------------------\n",
      "0 | model    | AdvancedEncodingForecastingConvLSTM | 2.1 M  | train\n",
      "1 | mse_loss | MSELoss                             | 0      | train\n",
      "2 | mae_loss | L1Loss                              | 0      | train\n",
      "-------------------------------------------------------------------------\n",
      "2.1 M     Trainable params\n",
      "0         Non-trainable params\n",
      "2.1 M     Total params\n",
      "8.487     Total estimated model params size (MB)\n",
      "38        Modules in train mode\n",
      "0         Modules in eval mode\n"
     ]
    },
    {
     "name": "stdout",
     "output_type": "stream",
     "text": [
      "Best hyperparameters found: {'learning_rate': 8.371435514092233e-05, 'n_layers': 4, 'hidden_dim_size': 64, 'kernel_size': 3, 'dropout': 0.2305480922464403, 'weight_decay': 1.9639406120171864e-05, 'batch_norm': False, 'teacher_forcing_ratio': 0.5422964259744988}\n",
      "\n",
      "--- Training Final Model ---\n",
      "Epoch 0: 100%|██████████| 89/89 [00:10<00:00,  8.81it/s, v_num=5, train_mse_loss_step=1.79e+4, val_loss=1.76e+4, val_rmse=131.0, train_mse_loss_epoch=2.19e+4]"
     ]
    },
    {
     "name": "stderr",
     "output_type": "stream",
     "text": [
      "Metric val_loss improved. New best score: 17587.539\n"
     ]
    },
    {
     "name": "stdout",
     "output_type": "stream",
     "text": [
      "Epoch 1: 100%|██████████| 89/89 [00:10<00:00,  8.47it/s, v_num=5, train_mse_loss_step=1.09e+4, val_loss=1.3e+4, val_rmse=110.0, train_mse_loss_epoch=1.42e+4] "
     ]
    },
    {
     "name": "stderr",
     "output_type": "stream",
     "text": [
      "Metric val_loss improved by 4602.019 >= min_delta = 1e-06. New best score: 12985.521\n",
      "`Trainer.fit` stopped: `max_epochs=2` reached.\n"
     ]
    },
    {
     "name": "stdout",
     "output_type": "stream",
     "text": [
      "Epoch 1: 100%|██████████| 89/89 [00:10<00:00,  8.36it/s, v_num=5, train_mse_loss_step=1.09e+4, val_loss=1.3e+4, val_rmse=110.0, train_mse_loss_epoch=1.42e+4]\n",
      "Best model saved at: C:\\Users\\peera\\Desktop\\DroughtLSTM_oneday\\models_saved\\PRE_ConvLSTM_EncoderDecoder_Run\\improved-convlstm-best-epoch=01-val_loss=12985.5205.ckpt\n",
      "\n",
      "--- Comprehensive Model Evaluation ---\n",
      "Evaluating train set...\n"
     ]
    },
    {
     "name": "stderr",
     "output_type": "stream",
     "text": [
      "Evaluating train: 100%|██████████| 87/87 [00:05<00:00, 16.79it/s]\n"
     ]
    },
    {
     "name": "stdout",
     "output_type": "stream",
     "text": [
      "  Train Metrics (Original pre Units):\n",
      "    RMSE: 108.6827\n",
      "    MAE:  62.0562\n",
      "    R²:   0.3285\n",
      "    MAPE: 34057293824.00%\n",
      "Evaluating validation set...\n"
     ]
    },
    {
     "name": "stderr",
     "output_type": "stream",
     "text": [
      "Evaluating validation: 100%|██████████| 2/2 [00:00<00:00, 35.64it/s]\n"
     ]
    },
    {
     "name": "stdout",
     "output_type": "stream",
     "text": [
      "  Validation Metrics (Original pre Units):\n",
      "    RMSE: 113.9431\n",
      "    MAE:  64.3468\n",
      "    R²:   0.2578\n",
      "    MAPE: 2309293568.00%\n",
      "Evaluating test set...\n"
     ]
    },
    {
     "name": "stderr",
     "output_type": "stream",
     "text": [
      "Evaluating test: 100%|██████████| 2/2 [00:00<00:00, 36.36it/s]\n",
      "GPU available: True (cuda), used: True\n",
      "TPU available: False, using: 0 TPU cores\n",
      "HPU available: False, using: 0 HPUs\n",
      "LOCAL_RANK: 0 - CUDA_VISIBLE_DEVICES: [0]\n",
      "C:\\Users\\peera\\AppData\\Roaming\\Python\\Python312\\site-packages\\pytorch_lightning\\trainer\\connectors\\data_connector.py:425: The 'predict_dataloader' does not have many workers which may be a bottleneck. Consider increasing the value of the `num_workers` argument` to `num_workers=19` in the `DataLoader` to improve performance.\n"
     ]
    },
    {
     "name": "stdout",
     "output_type": "stream",
     "text": [
      "  Test Metrics (Original pre Units):\n",
      "    RMSE: 133.7656\n",
      "    MAE:  81.7908\n",
      "    R²:   0.1639\n",
      "    MAPE: 270880928.00%\n",
      "Evaluation metrics saved to: c:\\Users\\peera\\Desktop\\DroughtLSTM_oneday\\run_outputs\\PRE_ConvLSTM_EncoderDecoder_Run\\global_convlstm_improved_metrics.json\n",
      "\n",
      "--- Generating Full Dataset Predictions ---\n",
      "Generating predictions for 1464 sequences...\n",
      "Predicting DataLoader 0: 100%|██████████| 92/92 [00:02<00:00, 31.88it/s]\n",
      "Warning: No scaler available - predictions remain in scaled space\n",
      "Prediction shape: (1464, 29, 16)\n",
      "Converting grid predictions to CSV format...\n"
     ]
    },
    {
     "name": "stderr",
     "output_type": "stream",
     "text": [
      "Converting predictions: 100%|██████████| 1464/1464 [00:12<00:00, 113.29it/s]\n"
     ]
    },
    {
     "name": "stdout",
     "output_type": "stream",
     "text": [
      "Full predictions saved to: c:\\Users\\peera\\Desktop\\DroughtLSTM_oneday\\run_outputs\\PRE_ConvLSTM_EncoderDecoder_Run\\global_convlstm_improved_full_predictions.csv\n",
      "Prediction summary saved to: c:\\Users\\peera\\Desktop\\DroughtLSTM_oneday\\run_outputs\\PRE_ConvLSTM_EncoderDecoder_Run\\prediction_summary.json\n",
      "Summary (Original Units): MAE=68.9284, RMSE=117.5217, R²=0.2496\n",
      "\n",
      "--- Improved ConvLSTM Pipeline Completed ---\n",
      "Results saved to: c:\\Users\\peera\\Desktop\\DroughtLSTM_oneday\\run_outputs\\PRE_ConvLSTM_EncoderDecoder_Run\n"
     ]
    }
   ],
   "source": [
    "# Point to your new ConvLSTM-specific config file\n",
    "config_file = \"../config_Improved_ConvLSTM_PET.yaml\" \n",
    "\n",
    "# Simple usage\n",
    "pipeline = ImprovedConvLSTMPipeline(config_file)\n",
    "results = pipeline.run_pipeline()"
   ]
  },
  {
   "cell_type": "code",
   "execution_count": 5,
   "id": "6de277ac",
   "metadata": {},
   "outputs": [
    {
     "name": "stdout",
     "output_type": "stream",
     "text": [
      "Configuration loaded from c:\\Users\\peera\\Desktop\\DroughtLSTM_oneday\\config_Improved_ConvLSTM_SPEI.yaml\n",
      "\n",
      "--- Starting Improved ConvLSTM Pipeline ---\n",
      "Successfully loaded data from c:\\Users\\peera\\Desktop\\DroughtLSTM_oneday\\data\\full.csv. Shape: (264201, 19)\n",
      "Converted column 'time' to datetime.\n",
      "Data sorted by ['time', 'lat', 'lon'].\n",
      "Data loaded: 264201 records\n",
      "Warning: Could not import get_target_scaler. Assuming no scaling was applied.\n",
      "Warning: No target scaler found - predictions will remain in scaled space\n",
      "--- Starting Data Gridding Process (Fixed Step Method) ---\n",
      "Using fixed grid step of: 0.5 degrees\n",
      "Grid boundaries: LAT (6.25, 20.25), LON (97.75, 105.25)\n",
      "Calculated grid dimensions: Height=29, Width=16\n",
      "Created 2D validity mask (29x16) with 179 valid data pixels.\n",
      "Pivoting data into a 4D tensor of shape (1476, 29, 16, 16)...\n"
     ]
    },
    {
     "name": "stderr",
     "output_type": "stream",
     "text": [
      "[I 2025-06-08 09:54:29,367] A new study created in memory with name: no-name-291a0b5d-7a6b-48c1-8f4e-66035261ab16\n",
      "GPU available: True (cuda), used: True\n",
      "TPU available: False, using: 0 TPU cores\n",
      "HPU available: False, using: 0 HPUs\n",
      "LOCAL_RANK: 0 - CUDA_VISIBLE_DEVICES: [0]\n",
      "\n",
      "  | Name     | Type                                | Params | Mode \n",
      "-------------------------------------------------------------------------\n",
      "0 | model    | AdvancedEncodingForecastingConvLSTM | 1.5 M  | train\n",
      "1 | mse_loss | MSELoss                             | 0      | train\n",
      "2 | mae_loss | L1Loss                              | 0      | train\n",
      "-------------------------------------------------------------------------\n",
      "1.5 M     Trainable params\n",
      "0         Non-trainable params\n",
      "1.5 M     Total params\n",
      "6.148     Total estimated model params size (MB)\n",
      "38        Modules in train mode\n",
      "0         Modules in eval mode\n"
     ]
    },
    {
     "name": "stdout",
     "output_type": "stream",
     "text": [
      "--- Data Gridding Process Finished ---\n",
      "Grid shape: (1476, 29, 16, 16), Valid pixels: 179\n",
      "Train: 1404, Val: 36, Test: 36 time steps\n",
      "Dataset sizes - Train: 1392, Val: 24, Test: 24\n",
      "\n",
      "--- Starting Hyperparameter Optimization ---\n"
     ]
    },
    {
     "name": "stderr",
     "output_type": "stream",
     "text": [
      "C:\\Users\\peera\\AppData\\Roaming\\Python\\Python312\\site-packages\\pytorch_lightning\\trainer\\connectors\\data_connector.py:425: The 'val_dataloader' does not have many workers which may be a bottleneck. Consider increasing the value of the `num_workers` argument` to `num_workers=19` in the `DataLoader` to improve performance.\n",
      "C:\\Users\\peera\\AppData\\Roaming\\Python\\Python312\\site-packages\\pytorch_lightning\\trainer\\connectors\\data_connector.py:425: The 'train_dataloader' does not have many workers which may be a bottleneck. Consider increasing the value of the `num_workers` argument` to `num_workers=19` in the `DataLoader` to improve performance.\n",
      "C:\\Users\\peera\\AppData\\Roaming\\Python\\Python312\\site-packages\\optuna\\trial\\_trial.py:497: UserWarning: The reported value is ignored because this `step` 0 is already reported.\n",
      "  warnings.warn(\n",
      "`Trainer.fit` stopped: `max_epochs=2` reached.\n",
      "[I 2025-06-08 09:54:51,088] Trial 0 finished with value: 1.1174722909927368 and parameters: {'learning_rate': 1.7822504765203973e-05, 'n_layers': 3, 'hidden_dim_size': 64, 'kernel_size': 3, 'dropout': 0.18006566294460527, 'weight_decay': 0.0008915808641906547, 'batch_norm': True, 'teacher_forcing_ratio': 0.7583372734774674}. Best is trial 0 with value: 1.1174722909927368.\n",
      "C:\\Users\\peera\\AppData\\Roaming\\Python\\Python312\\site-packages\\lightning_fabric\\connector.py:572: `precision=16` is supported for historical reasons but its usage is discouraged. Please set your precision to 16-mixed instead!\n",
      "Using 16bit Automatic Mixed Precision (AMP)\n",
      "GPU available: True (cuda), used: True\n",
      "TPU available: False, using: 0 TPU cores\n",
      "HPU available: False, using: 0 HPUs\n",
      "LOCAL_RANK: 0 - CUDA_VISIBLE_DEVICES: [0]\n",
      "\n",
      "  | Name     | Type                                | Params | Mode \n",
      "-------------------------------------------------------------------------\n",
      "0 | model    | AdvancedEncodingForecastingConvLSTM | 1.5 M  | train\n",
      "1 | mse_loss | MSELoss                             | 0      | train\n",
      "2 | mae_loss | L1Loss                              | 0      | train\n",
      "-------------------------------------------------------------------------\n",
      "1.5 M     Trainable params\n",
      "0         Non-trainable params\n",
      "1.5 M     Total params\n",
      "6.148     Total estimated model params size (MB)\n",
      "38        Modules in train mode\n",
      "0         Modules in eval mode\n"
     ]
    },
    {
     "name": "stdout",
     "output_type": "stream",
     "text": [
      "Best hyperparameters found: {'learning_rate': 1.7822504765203973e-05, 'n_layers': 3, 'hidden_dim_size': 64, 'kernel_size': 3, 'dropout': 0.18006566294460527, 'weight_decay': 0.0008915808641906547, 'batch_norm': True, 'teacher_forcing_ratio': 0.7583372734774674}\n",
      "\n",
      "--- Training Final Model ---\n",
      "Epoch 0: 100%|██████████| 89/89 [00:08<00:00, 10.50it/s, v_num=6, train_mse_loss_step=1.320, val_loss=1.290, val_rmse=1.130, train_mse_loss_epoch=2.040]"
     ]
    },
    {
     "name": "stderr",
     "output_type": "stream",
     "text": [
      "Metric val_loss improved. New best score: 1.288\n"
     ]
    },
    {
     "name": "stdout",
     "output_type": "stream",
     "text": [
      "Epoch 1: 100%|██████████| 89/89 [00:08<00:00,  9.94it/s, v_num=6, train_mse_loss_step=1.480, val_loss=1.160, val_rmse=1.070, train_mse_loss_epoch=1.080]"
     ]
    },
    {
     "name": "stderr",
     "output_type": "stream",
     "text": [
      "Metric val_loss improved by 0.133 >= min_delta = 1e-06. New best score: 1.155\n",
      "`Trainer.fit` stopped: `max_epochs=2` reached.\n"
     ]
    },
    {
     "name": "stdout",
     "output_type": "stream",
     "text": [
      "Epoch 1: 100%|██████████| 89/89 [00:09<00:00,  9.86it/s, v_num=6, train_mse_loss_step=1.480, val_loss=1.160, val_rmse=1.070, train_mse_loss_epoch=1.080]\n",
      "Best model saved at: C:\\Users\\peera\\Desktop\\DroughtLSTM_oneday\\models_saved\\SPEI_ConvLSTM_EncoderDecoder_Run\\improved-convlstm-best-epoch=01-val_loss=1.1551.ckpt\n",
      "\n",
      "--- Comprehensive Model Evaluation ---\n",
      "Evaluating train set...\n"
     ]
    },
    {
     "name": "stderr",
     "output_type": "stream",
     "text": [
      "Evaluating train: 100%|██████████| 87/87 [00:04<00:00, 20.29it/s]\n"
     ]
    },
    {
     "name": "stdout",
     "output_type": "stream",
     "text": [
      "  Train Metrics (Original spei Units):\n",
      "    RMSE: 0.9710\n",
      "    MAE:  0.7762\n",
      "    R²:   -0.0818\n",
      "    MAPE: 535328448.00%\n",
      "Evaluating validation set...\n"
     ]
    },
    {
     "name": "stderr",
     "output_type": "stream",
     "text": [
      "Evaluating validation: 100%|██████████| 2/2 [00:00<00:00, 44.44it/s]\n"
     ]
    },
    {
     "name": "stdout",
     "output_type": "stream",
     "text": [
      "  Validation Metrics (Original spei Units):\n",
      "    RMSE: 1.0748\n",
      "    MAE:  0.9183\n",
      "    R²:   -0.3287\n",
      "    MAPE: 157.84%\n",
      "Evaluating test set...\n"
     ]
    },
    {
     "name": "stderr",
     "output_type": "stream",
     "text": [
      "Evaluating test: 100%|██████████| 2/2 [00:00<00:00, 47.25it/s]\n",
      "GPU available: True (cuda), used: True\n",
      "TPU available: False, using: 0 TPU cores\n",
      "HPU available: False, using: 0 HPUs\n",
      "LOCAL_RANK: 0 - CUDA_VISIBLE_DEVICES: [0]\n",
      "C:\\Users\\peera\\AppData\\Roaming\\Python\\Python312\\site-packages\\pytorch_lightning\\trainer\\connectors\\data_connector.py:425: The 'predict_dataloader' does not have many workers which may be a bottleneck. Consider increasing the value of the `num_workers` argument` to `num_workers=19` in the `DataLoader` to improve performance.\n"
     ]
    },
    {
     "name": "stdout",
     "output_type": "stream",
     "text": [
      "  Test Metrics (Original spei Units):\n",
      "    RMSE: 1.1077\n",
      "    MAE:  0.9343\n",
      "    R²:   -0.1366\n",
      "    MAPE: 145.18%\n",
      "Evaluation metrics saved to: c:\\Users\\peera\\Desktop\\DroughtLSTM_oneday\\run_outputs\\SPEI_ConvLSTM_EncoderDecoder_Run\\global_convlstm_improved_metrics.json\n",
      "\n",
      "--- Generating Full Dataset Predictions ---\n",
      "Generating predictions for 1464 sequences...\n",
      "Predicting DataLoader 0: 100%|██████████| 92/92 [00:02<00:00, 39.65it/s]\n",
      "Warning: No scaler available - predictions remain in scaled space\n",
      "Prediction shape: (1464, 29, 16)\n",
      "Converting grid predictions to CSV format...\n"
     ]
    },
    {
     "name": "stderr",
     "output_type": "stream",
     "text": [
      "Converting predictions: 100%|██████████| 1464/1464 [00:12<00:00, 117.94it/s]\n"
     ]
    },
    {
     "name": "stdout",
     "output_type": "stream",
     "text": [
      "Full predictions saved to: c:\\Users\\peera\\Desktop\\DroughtLSTM_oneday\\run_outputs\\SPEI_ConvLSTM_EncoderDecoder_Run\\global_convlstm_improved_full_predictions.csv\n",
      "Prediction summary saved to: c:\\Users\\peera\\Desktop\\DroughtLSTM_oneday\\run_outputs\\SPEI_ConvLSTM_EncoderDecoder_Run\\prediction_summary.json\n",
      "Summary (Original Units): MAE=0.8280, RMSE=1.0166, R²=-0.0377\n",
      "\n",
      "--- Improved ConvLSTM Pipeline Completed ---\n",
      "Results saved to: c:\\Users\\peera\\Desktop\\DroughtLSTM_oneday\\run_outputs\\SPEI_ConvLSTM_EncoderDecoder_Run\n"
     ]
    }
   ],
   "source": [
    "# Point to your new ConvLSTM-specific config file\n",
    "config_file = \"../config_Improved_ConvLSTM_SPEI.yaml\" \n",
    "\n",
    "# Simple usage\n",
    "pipeline = ImprovedConvLSTMPipeline(config_file)\n",
    "results = pipeline.run_pipeline()"
   ]
  }
 ],
 "metadata": {
  "kernelspec": {
   "display_name": "drought_lstm_base",
   "language": "python",
   "name": "python3"
  },
  "language_info": {
   "codemirror_mode": {
    "name": "ipython",
    "version": 3
   },
   "file_extension": ".py",
   "mimetype": "text/x-python",
   "name": "python",
   "nbconvert_exporter": "python",
   "pygments_lexer": "ipython3",
   "version": "3.12.7"
  }
 },
 "nbformat": 4,
 "nbformat_minor": 5
}
