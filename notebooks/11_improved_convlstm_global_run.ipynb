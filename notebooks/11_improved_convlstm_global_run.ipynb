{
 "cells": [
  {
   "cell_type": "code",
   "execution_count": 1,
   "id": "67856288",
   "metadata": {},
   "outputs": [
    {
     "name": "stdout",
     "output_type": "stream",
     "text": [
      "Added project root to sys.path: c:\\Users\\peera\\Desktop\\DroughtLSTM_oneday\n"
     ]
    },
    {
     "name": "stderr",
     "output_type": "stream",
     "text": [
      "c:\\Users\\peera\\.conda\\envs\\drought_lstm_base\\Lib\\site-packages\\tqdm\\auto.py:21: TqdmWarning: IProgress not found. Please update jupyter and ipywidgets. See https://ipywidgets.readthedocs.io/en/stable/user_install.html\n",
      "  from .autonotebook import tqdm as notebook_tqdm\n"
     ]
    },
    {
     "name": "stdout",
     "output_type": "stream",
     "text": [
      "PyTorch, PyTorch Lightning, and Optuna successfully imported.\n",
      "ConvLSTM Pipeline: Successfully imported utility functions.\n"
     ]
    }
   ],
   "source": [
    "import sys\n",
    "import os\n",
    "import pandas as pd\n",
    "\n",
    "# Add project root to Python path to find the 'src' directory\n",
    "notebook_dir = os.getcwd()\n",
    "project_root = os.path.abspath(os.path.join(notebook_dir, '..'))\n",
    "if project_root not in sys.path:\n",
    "    sys.path.append(project_root)\n",
    "    print(f\"Added project root to sys.path: {project_root}\")\n",
    "\n",
    "# Import your new ConvLSTM pipeline class\n",
    "from src.improved_convlstm_pipeline import ImprovedConvLSTMPipeline"
   ]
  },
  {
   "cell_type": "code",
   "execution_count": 2,
   "id": "601e28ea",
   "metadata": {},
   "outputs": [
    {
     "name": "stdout",
     "output_type": "stream",
     "text": [
      "Configuration loaded from c:\\Users\\peera\\Desktop\\DroughtLSTM_oneday\\config\\clstm_single\\config_Improved_ConvLSTM_test.yaml\n",
      "\n",
      "--- Starting Improved ConvLSTM Pipeline ---\n",
      "Successfully loaded data from c:\\Users\\peera\\Desktop\\DroughtLSTM_oneday\\data\\processed\\full_scaled.csv. Shape: (264204, 19)\n",
      "Converted column 'time' to datetime.\n",
      "Data sorted by ['time', 'lat', 'lon'].\n",
      "Data loaded: 264204 records\n",
      "Warning: Could not import get_target_scaler. Assuming no scaling was applied.\n",
      "Warning: No target scaler found - predictions will remain in scaled space\n",
      "--- Starting Data Gridding Process (Fixed Step Method) ---\n",
      "Using fixed grid step of: 0.5 degrees\n",
      "Grid boundaries: LAT (6.25, 20.25), LON (97.75, 105.25)\n",
      "Calculated grid dimensions: Height=29, Width=16\n",
      "Created 2D validity mask (29x16) with 179 valid data pixels.\n",
      "Pivoting data into a 4D tensor of shape (1476, 29, 16, 15)...\n"
     ]
    },
    {
     "name": "stderr",
     "output_type": "stream",
     "text": [
      "[I 2025-06-13 02:30:42,338] A new study created in memory with name: no-name-f82e7a67-e6e0-4dfa-b479-98c84abb0470\n"
     ]
    },
    {
     "name": "stdout",
     "output_type": "stream",
     "text": [
      "--- Data Gridding Process Finished ---\n",
      "Grid shape: (1476, 29, 16, 15), Valid pixels: 179\n",
      "Train: 1404, Val: 36, Test: 36 time steps\n",
      "Dataset sizes - Train: 1392, Val: 24, Test: 24\n",
      "\n",
      "--- Starting Hyperparameter Optimization ---\n"
     ]
    },
    {
     "name": "stderr",
     "output_type": "stream",
     "text": [
      "GPU available: True (cuda), used: True\n",
      "TPU available: False, using: 0 TPU cores\n",
      "HPU available: False, using: 0 HPUs\n",
      "You are using a CUDA device ('NVIDIA GeForce RTX 4060 Laptop GPU') that has Tensor Cores. To properly utilize them, you should set `torch.set_float32_matmul_precision('medium' | 'high')` which will trade-off precision for performance. For more details, read https://pytorch.org/docs/stable/generated/torch.set_float32_matmul_precision.html#torch.set_float32_matmul_precision\n",
      "LOCAL_RANK: 0 - CUDA_VISIBLE_DEVICES: [0]\n",
      "\n",
      "  | Name     | Type                                | Params | Mode \n",
      "-------------------------------------------------------------------------\n",
      "0 | model    | AdvancedEncodingForecastingConvLSTM | 58.1 M | train\n",
      "1 | mse_loss | MSELoss                             | 0      | train\n",
      "2 | mae_loss | L1Loss                              | 0      | train\n",
      "-------------------------------------------------------------------------\n",
      "58.1 M    Trainable params\n",
      "0         Non-trainable params\n",
      "58.1 M    Total params\n",
      "232.493   Total estimated model params size (MB)\n",
      "30        Modules in train mode\n",
      "0         Modules in eval mode\n",
      "C:\\Users\\peera\\AppData\\Roaming\\Python\\Python312\\site-packages\\pytorch_lightning\\trainer\\connectors\\data_connector.py:425: The 'val_dataloader' does not have many workers which may be a bottleneck. Consider increasing the value of the `num_workers` argument` to `num_workers=19` in the `DataLoader` to improve performance.\n",
      "C:\\Users\\peera\\AppData\\Roaming\\Python\\Python312\\site-packages\\pytorch_lightning\\trainer\\connectors\\data_connector.py:425: The 'train_dataloader' does not have many workers which may be a bottleneck. Consider increasing the value of the `num_workers` argument` to `num_workers=19` in the `DataLoader` to improve performance.\n",
      "C:\\Users\\peera\\AppData\\Roaming\\Python\\Python312\\site-packages\\optuna\\trial\\_trial.py:497: UserWarning: The reported value is ignored because this `step` 0 is already reported.\n",
      "  warnings.warn(\n",
      "`Trainer.fit` stopped: `max_epochs=1` reached.\n",
      "[I 2025-06-13 02:36:04,151] Trial 0 finished with value: 0.8927318453788757 and parameters: {'learning_rate': 4.96727819033427e-05, 'n_layers': 2, 'hidden_dim_size': 512, 'kernel_size': 3, 'dropout': 0.23964198516439206, 'weight_decay': 2.852331885290323e-06, 'batch_norm': True, 'teacher_forcing_ratio': 0.6618336076954572}. Best is trial 0 with value: 0.8927318453788757.\n"
     ]
    },
    {
     "name": "stdout",
     "output_type": "stream",
     "text": [
      "Best hyperparameters found: {'learning_rate': 4.96727819033427e-05, 'n_layers': 2, 'hidden_dim_size': 512, 'kernel_size': 3, 'dropout': 0.23964198516439206, 'weight_decay': 2.852331885290323e-06, 'batch_norm': True, 'teacher_forcing_ratio': 0.6618336076954572}\n",
      "\n",
      "--- Training Final Model ---\n"
     ]
    },
    {
     "name": "stderr",
     "output_type": "stream",
     "text": [
      "C:\\Users\\peera\\AppData\\Roaming\\Python\\Python312\\site-packages\\lightning_fabric\\connector.py:572: `precision=16` is supported for historical reasons but its usage is discouraged. Please set your precision to 16-mixed instead!\n",
      "Using 16bit Automatic Mixed Precision (AMP)\n",
      "GPU available: True (cuda), used: True\n",
      "TPU available: False, using: 0 TPU cores\n",
      "HPU available: False, using: 0 HPUs\n",
      "LOCAL_RANK: 0 - CUDA_VISIBLE_DEVICES: [0]\n",
      "\n",
      "  | Name     | Type                                | Params | Mode \n",
      "-------------------------------------------------------------------------\n",
      "0 | model    | AdvancedEncodingForecastingConvLSTM | 58.1 M | train\n",
      "1 | mse_loss | MSELoss                             | 0      | train\n",
      "2 | mae_loss | L1Loss                              | 0      | train\n",
      "-------------------------------------------------------------------------\n",
      "58.1 M    Trainable params\n",
      "0         Non-trainable params\n",
      "58.1 M    Total params\n",
      "232.493   Total estimated model params size (MB)\n",
      "30        Modules in train mode\n",
      "0         Modules in eval mode\n"
     ]
    },
    {
     "name": "stdout",
     "output_type": "stream",
     "text": [
      "Epoch 0: 100%|██████████| 177/177 [03:01<00:00,  0.97it/s, v_num=4, train_mse_loss_step=0.208, val_loss=0.308, val_rmse=0.554, train_mse_loss_epoch=6.980]"
     ]
    },
    {
     "name": "stderr",
     "output_type": "stream",
     "text": [
      "Metric val_loss improved. New best score: 0.308\n",
      "`Trainer.fit` stopped: `max_epochs=1` reached.\n"
     ]
    },
    {
     "name": "stdout",
     "output_type": "stream",
     "text": [
      "Epoch 0: 100%|██████████| 177/177 [03:05<00:00,  0.95it/s, v_num=4, train_mse_loss_step=0.208, val_loss=0.308, val_rmse=0.554, train_mse_loss_epoch=6.980]\n",
      "Best model saved at: C:\\Users\\peera\\Desktop\\DroughtLSTM_oneday\\models_saved\\PRE_ConvLSTM_EncoderDecoder_Run\\improved-convlstm-best-epoch=00-val_loss=0.3084.ckpt\n",
      "\n",
      "--- Comprehensive Model Evaluation ---\n",
      "Evaluating train set...\n"
     ]
    },
    {
     "name": "stderr",
     "output_type": "stream",
     "text": [
      "Evaluating train: 100%|██████████| 174/174 [01:08<00:00,  2.54it/s]\n"
     ]
    },
    {
     "name": "stdout",
     "output_type": "stream",
     "text": [
      "  Train Metrics (Original pre Units):\n",
      "    RMSE: 0.5061\n",
      "    MAE:  0.3839\n",
      "    R²:   0.3982\n",
      "    MAPE: 186188864.00%\n",
      "Evaluating validation set...\n"
     ]
    },
    {
     "name": "stderr",
     "output_type": "stream",
     "text": [
      "Evaluating validation: 100%|██████████| 3/3 [00:01<00:00,  2.79it/s]\n"
     ]
    },
    {
     "name": "stdout",
     "output_type": "stream",
     "text": [
      "  Validation Metrics (Original pre Units):\n",
      "    RMSE: 0.5553\n",
      "    MAE:  0.4495\n",
      "    R²:   0.3555\n",
      "    MAPE: 195.04%\n",
      "Evaluating test set...\n"
     ]
    },
    {
     "name": "stderr",
     "output_type": "stream",
     "text": [
      "Evaluating test: 100%|██████████| 3/3 [00:01<00:00,  2.94it/s]\n"
     ]
    },
    {
     "name": "stdout",
     "output_type": "stream",
     "text": [
      "  Test Metrics (Original pre Units):\n",
      "    RMSE: 0.5384\n",
      "    MAE:  0.4255\n",
      "    R²:   0.5048\n",
      "    MAPE: 1235246.12%\n",
      "Evaluation metrics saved to: c:\\Users\\peera\\Desktop\\DroughtLSTM_oneday\\config\\clstm_single\\..\\..\\run_outputs\\PRE_ConvLSTM_EncoderDecoder_Run\\global_convlstm_improved_metrics.json\n",
      "\n",
      "--- Generating Full Dataset Predictions ---\n",
      "Generating predictions for 1464 sequences...\n"
     ]
    },
    {
     "name": "stderr",
     "output_type": "stream",
     "text": [
      "GPU available: True (cuda), used: True\n",
      "TPU available: False, using: 0 TPU cores\n",
      "HPU available: False, using: 0 HPUs\n",
      "LOCAL_RANK: 0 - CUDA_VISIBLE_DEVICES: [0]\n",
      "C:\\Users\\peera\\AppData\\Roaming\\Python\\Python312\\site-packages\\pytorch_lightning\\trainer\\connectors\\data_connector.py:425: The 'predict_dataloader' does not have many workers which may be a bottleneck. Consider increasing the value of the `num_workers` argument` to `num_workers=19` in the `DataLoader` to improve performance.\n"
     ]
    },
    {
     "name": "stdout",
     "output_type": "stream",
     "text": [
      "Predicting DataLoader 0: 100%|██████████| 183/183 [01:05<00:00,  2.80it/s]\n",
      "Warning: No scaler available - predictions remain in scaled space\n",
      "Prediction shape: (1464, 29, 16)\n",
      "Converting grid predictions to CSV format...\n"
     ]
    },
    {
     "name": "stderr",
     "output_type": "stream",
     "text": [
      "Converting predictions: 100%|██████████| 1464/1464 [00:24<00:00, 60.20it/s] \n"
     ]
    },
    {
     "name": "stdout",
     "output_type": "stream",
     "text": [
      "Full predictions saved to: c:\\Users\\peera\\Desktop\\DroughtLSTM_oneday\\config\\clstm_single\\..\\..\\run_outputs\\PRE_ConvLSTM_EncoderDecoder_Run\\global_convlstm_improved_full_predictions.csv\n",
      "Prediction summary saved to: c:\\Users\\peera\\Desktop\\DroughtLSTM_oneday\\config\\clstm_single\\..\\..\\run_outputs\\PRE_ConvLSTM_EncoderDecoder_Run\\prediction_summary.json\n",
      "Summary (Original Units): MAE=0.4143, RMSE=0.5363, R²=0.4287\n",
      "\n",
      "--- Improved ConvLSTM Pipeline Completed ---\n",
      "Results saved to: c:\\Users\\peera\\Desktop\\DroughtLSTM_oneday\\config\\clstm_single\\..\\..\\run_outputs\\PRE_ConvLSTM_EncoderDecoder_Run\n"
     ]
    }
   ],
   "source": [
    "# Point to your new ConvLSTM-specific config file\n",
    "config_file = \"../config/clstm_single/config_Improved_ConvLSTM_test.yaml\" \n",
    "\n",
    "# Simple usage\n",
    "pipeline = ImprovedConvLSTMPipeline(config_file)\n",
    "results = pipeline.run_pipeline()"
   ]
  },
  {
   "cell_type": "code",
   "execution_count": 5,
   "id": "d4cf8546",
   "metadata": {},
   "outputs": [
    {
     "data": {
      "text/plain": [
       "'c:\\\\Users\\\\peera\\\\Desktop\\\\DroughtLSTM_oneday\\\\notebooks'"
      ]
     },
     "execution_count": 5,
     "metadata": {},
     "output_type": "execute_result"
    }
   ],
   "source": [
    "pwd"
   ]
  },
  {
   "cell_type": "code",
   "execution_count": null,
   "id": "299e0bb4",
   "metadata": {},
   "outputs": [],
   "source": [
    "# Point to your new ConvLSTM-specific config file\n",
    "config_file = \"../config/clstm_single/config_Improved_ConvLSTM_PRE.yaml\" \n",
    "\n",
    "# Simple usage\n",
    "pipeline = ImprovedConvLSTMPipeline(config_file)\n",
    "results = pipeline.run_pipeline()"
   ]
  },
  {
   "cell_type": "code",
   "execution_count": null,
   "id": "7651b714",
   "metadata": {},
   "outputs": [],
   "source": [
    "# Point to your new ConvLSTM-specific config file\n",
    "config_file = \"../config/clstm_single/config_Improved_ConvLSTM_PET.yaml\" \n",
    "\n",
    "# Simple usage\n",
    "pipeline = ImprovedConvLSTMPipeline(config_file)\n",
    "results = pipeline.run_pipeline()"
   ]
  },
  {
   "cell_type": "code",
   "execution_count": null,
   "id": "6de277ac",
   "metadata": {},
   "outputs": [],
   "source": [
    "# Point to your new ConvLSTM-specific config file\n",
    "config_file = \"../config/clstm_single/config_Improved_ConvLSTM_SPEI.yaml\" \n",
    "\n",
    "# Simple usage\n",
    "pipeline = ImprovedConvLSTMPipeline(config_file)\n",
    "results = pipeline.run_pipeline()"
   ]
  }
 ],
 "metadata": {
  "kernelspec": {
   "display_name": "drought_lstm_base",
   "language": "python",
   "name": "python3"
  },
  "language_info": {
   "codemirror_mode": {
    "name": "ipython",
    "version": 3
   },
   "file_extension": ".py",
   "mimetype": "text/x-python",
   "name": "python",
   "nbconvert_exporter": "python",
   "pygments_lexer": "ipython3",
   "version": "3.12.7"
  }
 },
 "nbformat": 4,
 "nbformat_minor": 5
}
