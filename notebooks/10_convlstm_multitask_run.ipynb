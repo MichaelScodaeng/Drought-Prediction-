{
 "cells": [
  {
   "cell_type": "code",
   "execution_count": 1,
   "id": "10d1d1a3",
   "metadata": {},
   "outputs": [
    {
     "name": "stdout",
     "output_type": "stream",
     "text": [
      "Added project root to sys.path: c:\\Users\\peera\\Desktop\\DroughtLSTM_oneday\n"
     ]
    },
    {
     "name": "stderr",
     "output_type": "stream",
     "text": [
      "c:\\Users\\peera\\.conda\\envs\\drought_lstm_base\\Lib\\site-packages\\tqdm\\auto.py:21: TqdmWarning: IProgress not found. Please update jupyter and ipywidgets. See https://ipywidgets.readthedocs.io/en/stable/user_install.html\n",
      "  from .autonotebook import tqdm as notebook_tqdm\n"
     ]
    },
    {
     "name": "stdout",
     "output_type": "stream",
     "text": [
      "PyTorch, PyTorch Lightning, and Optuna successfully imported.\n",
      "ConvLSTM Multitask Pipeline: Successfully imported utility functions.\n",
      "Configuration loaded from c:\\Users\\peera\\Desktop\\DroughtLSTM_oneday\\config_ConvLSTM_Multitask.yaml\n",
      "\n",
      "--- Starting ConvLSTM Multitask Global Pipeline ---\n",
      "Successfully loaded data from c:\\Users\\peera\\Desktop\\DroughtLSTM_oneday\\data\\full.csv. Shape: (264201, 19)\n",
      "Converted column 'time' to datetime.\n",
      "Data sorted by ['time', 'lat', 'lon'].\n",
      "--- Starting Data Gridding Process (Fixed Step Method) ---\n",
      "Using fixed grid step of: 0.5 degrees\n",
      "Grid boundaries: LAT (6.25, 20.25), LON (97.75, 105.25)\n",
      "Calculated grid dimensions: Height=29, Width=16\n",
      "Created 2D validity mask (29x16) with 179 valid data pixels.\n",
      "Pivoting data into a 4D tensor of shape (1476, 29, 16, 16)...\n"
     ]
    },
    {
     "name": "stderr",
     "output_type": "stream",
     "text": [
      "[I 2025-06-07 07:33:40,536] A new study created in memory with name: no-name-cce74ef5-9de7-4aba-9e62-6edd0ad045cb\n",
      "GPU available: True (cuda), used: True\n"
     ]
    },
    {
     "name": "stdout",
     "output_type": "stream",
     "text": [
      "--- Data Gridding Process Finished ---\n"
     ]
    },
    {
     "name": "stderr",
     "output_type": "stream",
     "text": [
      "TPU available: False, using: 0 TPU cores\n",
      "HPU available: False, using: 0 HPUs\n",
      "You are using a CUDA device ('NVIDIA GeForce RTX 4060 Laptop GPU') that has Tensor Cores. To properly utilize them, you should set `torch.set_float32_matmul_precision('medium' | 'high')` which will trade-off precision for performance. For more details, read https://pytorch.org/docs/stable/generated/torch.set_float32_matmul_precision.html#torch.set_float32_matmul_precision\n",
      "LOCAL_RANK: 0 - CUDA_VISIBLE_DEVICES: [0]\n",
      "\n",
      "  | Name      | Type                        | Params | Mode \n",
      "------------------------------------------------------------------\n",
      "0 | model     | EncodingForecastingConvLSTM | 4.6 M  | train\n",
      "1 | criterion | MSELoss                     | 0      | train\n",
      "------------------------------------------------------------------\n",
      "4.6 M     Trainable params\n",
      "0         Non-trainable params\n",
      "4.6 M     Total params\n",
      "18.439    Total estimated model params size (MB)\n",
      "19        Modules in train mode\n",
      "0         Modules in eval mode\n",
      "C:\\Users\\peera\\AppData\\Roaming\\Python\\Python312\\site-packages\\pytorch_lightning\\trainer\\connectors\\data_connector.py:425: The 'val_dataloader' does not have many workers which may be a bottleneck. Consider increasing the value of the `num_workers` argument` to `num_workers=19` in the `DataLoader` to improve performance.\n",
      "C:\\Users\\peera\\AppData\\Roaming\\Python\\Python312\\site-packages\\pytorch_lightning\\trainer\\connectors\\data_connector.py:425: The 'train_dataloader' does not have many workers which may be a bottleneck. Consider increasing the value of the `num_workers` argument` to `num_workers=19` in the `DataLoader` to improve performance.\n",
      "C:\\Users\\peera\\AppData\\Roaming\\Python\\Python312\\site-packages\\optuna\\trial\\_trial.py:497: UserWarning: The reported value is ignored because this `step` 0 is already reported.\n",
      "  warnings.warn(\n",
      "`Trainer.fit` stopped: `max_epochs=1` reached.\n",
      "[I 2025-06-07 07:33:56,105] Trial 0 finished with value: 44172.69140625 and parameters: {'learning_rate': 5.244557780884358e-05, 'n_layers': 3, 'hidden_dim_size': 64, 'kernel_size': 5}. Best is trial 0 with value: 44172.69140625.\n",
      "GPU available: True (cuda), used: True\n",
      "TPU available: False, using: 0 TPU cores\n",
      "HPU available: False, using: 0 HPUs\n",
      "C:\\Users\\peera\\AppData\\Roaming\\Python\\Python312\\site-packages\\pytorch_lightning\\callbacks\\model_checkpoint.py:654: Checkpoint directory C:\\Users\\peera\\Desktop\\DroughtLSTM_oneday\\models_saved\\SPEI_ConvLSTM_Multitask_Run exists and is not empty.\n",
      "LOCAL_RANK: 0 - CUDA_VISIBLE_DEVICES: [0]\n",
      "\n",
      "  | Name      | Type                        | Params | Mode \n",
      "------------------------------------------------------------------\n",
      "0 | model     | EncodingForecastingConvLSTM | 4.6 M  | train\n",
      "1 | criterion | MSELoss                     | 0      | train\n",
      "------------------------------------------------------------------\n",
      "4.6 M     Trainable params\n",
      "0         Non-trainable params\n",
      "4.6 M     Total params\n",
      "18.439    Total estimated model params size (MB)\n",
      "19        Modules in train mode\n",
      "0         Modules in eval mode\n"
     ]
    },
    {
     "name": "stdout",
     "output_type": "stream",
     "text": [
      "Pipeline: Optuna found best params: {'learning_rate': 5.244557780884358e-05, 'n_layers': 3, 'hidden_dim_size': 64, 'kernel_size': 5}\n",
      "Epoch 0: 100%|██████████| 177/177 [00:14<00:00, 12.54it/s]                 "
     ]
    },
    {
     "name": "stderr",
     "output_type": "stream",
     "text": [
      "`Trainer.fit` stopped: `max_epochs=1` reached.\n"
     ]
    },
    {
     "name": "stdout",
     "output_type": "stream",
     "text": [
      "Epoch 0: 100%|██████████| 177/177 [00:14<00:00, 12.32it/s]\n",
      "Pipeline: Final model training complete. Best model saved at: C:\\Users\\peera\\Desktop\\DroughtLSTM_oneday\\models_saved\\SPEI_ConvLSTM_Multitask_Run\\global-convlstm-multitask-best-v2.ckpt\n"
     ]
    },
    {
     "name": "stderr",
     "output_type": "stream",
     "text": [
      "LOCAL_RANK: 0 - CUDA_VISIBLE_DEVICES: [0]\n",
      "C:\\Users\\peera\\AppData\\Roaming\\Python\\Python312\\site-packages\\pytorch_lightning\\trainer\\connectors\\data_connector.py:425: The 'predict_dataloader' does not have many workers which may be a bottleneck. Consider increasing the value of the `num_workers` argument` to `num_workers=19` in the `DataLoader` to improve performance.\n"
     ]
    },
    {
     "name": "stdout",
     "output_type": "stream",
     "text": [
      "\n",
      "--- Final Model Evaluation ---\n",
      "Predicting DataLoader 0: 100%|██████████| 174/174 [00:04<00:00, 40.36it/s]\n",
      "  Metrics for Train Set:\n",
      "    Target: pet -> RMSE=103.8888, MAE=101.9063, R2=-25.4520\n",
      "    Target: pre -> RMSE=189.5762, MAE=133.1800, R2=-0.9535\n"
     ]
    },
    {
     "name": "stderr",
     "output_type": "stream",
     "text": [
      "c:\\Users\\peera\\.conda\\envs\\drought_lstm_base\\Lib\\site-packages\\sklearn\\metrics\\_regression.py:492: FutureWarning: 'squared' is deprecated in version 1.4 and will be removed in 1.6. To calculate the root mean squared error, use the function'root_mean_squared_error'.\n",
      "  warnings.warn(\n",
      "c:\\Users\\peera\\.conda\\envs\\drought_lstm_base\\Lib\\site-packages\\sklearn\\metrics\\_regression.py:492: FutureWarning: 'squared' is deprecated in version 1.4 and will be removed in 1.6. To calculate the root mean squared error, use the function'root_mean_squared_error'.\n",
      "  warnings.warn(\n",
      "LOCAL_RANK: 0 - CUDA_VISIBLE_DEVICES: [0]\n",
      "C:\\Users\\peera\\AppData\\Roaming\\Python\\Python312\\site-packages\\pytorch_lightning\\trainer\\connectors\\data_connector.py:425: The 'predict_dataloader' does not have many workers which may be a bottleneck. Consider increasing the value of the `num_workers` argument` to `num_workers=19` in the `DataLoader` to improve performance.\n"
     ]
    },
    {
     "name": "stdout",
     "output_type": "stream",
     "text": [
      "Predicting DataLoader 0: 100%|██████████| 3/3 [00:00<00:00, 34.68it/s]\n"
     ]
    },
    {
     "name": "stderr",
     "output_type": "stream",
     "text": [
      "c:\\Users\\peera\\.conda\\envs\\drought_lstm_base\\Lib\\site-packages\\sklearn\\metrics\\_regression.py:492: FutureWarning: 'squared' is deprecated in version 1.4 and will be removed in 1.6. To calculate the root mean squared error, use the function'root_mean_squared_error'.\n",
      "  warnings.warn(\n",
      "c:\\Users\\peera\\.conda\\envs\\drought_lstm_base\\Lib\\site-packages\\sklearn\\metrics\\_regression.py:492: FutureWarning: 'squared' is deprecated in version 1.4 and will be removed in 1.6. To calculate the root mean squared error, use the function'root_mean_squared_error'.\n",
      "  warnings.warn(\n",
      "LOCAL_RANK: 0 - CUDA_VISIBLE_DEVICES: [0]\n"
     ]
    },
    {
     "name": "stdout",
     "output_type": "stream",
     "text": [
      "  Metrics for Validation Set:\n",
      "    Target: pet -> RMSE=108.5882, MAE=106.5570, R2=-25.9811\n",
      "    Target: pre -> RMSE=179.6542, MAE=122.5717, R2=-0.8546\n"
     ]
    },
    {
     "name": "stderr",
     "output_type": "stream",
     "text": [
      "C:\\Users\\peera\\AppData\\Roaming\\Python\\Python312\\site-packages\\pytorch_lightning\\trainer\\connectors\\data_connector.py:425: The 'predict_dataloader' does not have many workers which may be a bottleneck. Consider increasing the value of the `num_workers` argument` to `num_workers=19` in the `DataLoader` to improve performance.\n"
     ]
    },
    {
     "name": "stdout",
     "output_type": "stream",
     "text": [
      "Predicting DataLoader 0: 100%|██████████| 3/3 [00:00<00:00, 30.59it/s]\n"
     ]
    },
    {
     "name": "stderr",
     "output_type": "stream",
     "text": [
      "c:\\Users\\peera\\.conda\\envs\\drought_lstm_base\\Lib\\site-packages\\sklearn\\metrics\\_regression.py:492: FutureWarning: 'squared' is deprecated in version 1.4 and will be removed in 1.6. To calculate the root mean squared error, use the function'root_mean_squared_error'.\n",
      "  warnings.warn(\n",
      "c:\\Users\\peera\\.conda\\envs\\drought_lstm_base\\Lib\\site-packages\\sklearn\\metrics\\_regression.py:492: FutureWarning: 'squared' is deprecated in version 1.4 and will be removed in 1.6. To calculate the root mean squared error, use the function'root_mean_squared_error'.\n",
      "  warnings.warn(\n",
      "GPU available: True (cuda), used: True\n"
     ]
    },
    {
     "name": "stdout",
     "output_type": "stream",
     "text": [
      "  Metrics for Test Set:\n",
      "    Target: pet -> RMSE=103.7040, MAE=102.1139, R2=-31.8594\n",
      "    Target: pre -> RMSE=211.0629, MAE=152.4127, R2=-1.0846\n",
      "Pipeline: Evaluation metrics saved to c:\\Users\\peera\\Desktop\\DroughtLSTM_oneday\\run_outputs\\SPEI_ConvLSTM_Multitask_Run\\global_convlstm_multitask_metrics.json\n",
      "\n",
      "Pipeline: Generating predictions on the full raw dataset...\n"
     ]
    },
    {
     "name": "stderr",
     "output_type": "stream",
     "text": [
      "TPU available: False, using: 0 TPU cores\n",
      "HPU available: False, using: 0 HPUs\n",
      "LOCAL_RANK: 0 - CUDA_VISIBLE_DEVICES: [0]\n",
      "C:\\Users\\peera\\AppData\\Roaming\\Python\\Python312\\site-packages\\pytorch_lightning\\trainer\\connectors\\data_connector.py:425: The 'predict_dataloader' does not have many workers which may be a bottleneck. Consider increasing the value of the `num_workers` argument` to `num_workers=19` in the `DataLoader` to improve performance.\n"
     ]
    },
    {
     "name": "stdout",
     "output_type": "stream",
     "text": [
      "Predicting DataLoader 0: 100%|██████████| 183/183 [00:04<00:00, 40.29it/s]\n",
      "Pipeline: Un-gridding predictions to create output CSV...\n"
     ]
    },
    {
     "name": "stderr",
     "output_type": "stream",
     "text": [
      "Un-gridding predictions: 100%|██████████| 1463/1463 [04:55<00:00,  4.94it/s]\n"
     ]
    },
    {
     "name": "stdout",
     "output_type": "stream",
     "text": [
      "Pipeline: Full data predictions saved to c:\\Users\\peera\\Desktop\\DroughtLSTM_oneday\\run_outputs\\SPEI_ConvLSTM_Multitask_Run\\global_convlstm_multitask_full_predictions.csv\n",
      "--- ConvLSTM Multitask Global Pipeline Run Finished ---\n",
      "\n",
      "--- ConvLSTM Multitask Pipeline Finished ---\n",
      "Final Model Performance:\n",
      "\n",
      "--- Metrics for TRAIN SET ---\n",
      "  Target: pet\n",
      "    RMSE: 103.8888\n",
      "    MAE: 101.9063\n",
      "    R2: -25.4520\n",
      "  Target: pre\n",
      "    RMSE: 189.5762\n",
      "    MAE: 133.1800\n",
      "    R2: -0.9535\n",
      "\n",
      "--- Metrics for VALIDATION SET ---\n",
      "  Target: pet\n",
      "    RMSE: 108.5882\n",
      "    MAE: 106.5570\n",
      "    R2: -25.9811\n",
      "  Target: pre\n",
      "    RMSE: 179.6542\n",
      "    MAE: 122.5717\n",
      "    R2: -0.8546\n",
      "\n",
      "--- Metrics for TEST SET ---\n",
      "  Target: pet\n",
      "    RMSE: 103.7040\n",
      "    MAE: 102.1139\n",
      "    R2: -31.8594\n",
      "  Target: pre\n",
      "    RMSE: 211.0629\n",
      "    MAE: 152.4127\n",
      "    R2: -1.0846\n"
     ]
    }
   ],
   "source": [
    "import sys\n",
    "import os\n",
    "import pandas as pd\n",
    "\n",
    "# Add project root to Python path to find the 'src' directory\n",
    "notebook_dir = os.getcwd()\n",
    "project_root = os.path.abspath(os.path.join(notebook_dir, '..'))\n",
    "if project_root not in sys.path:\n",
    "    sys.path.append(project_root)\n",
    "    print(f\"Added project root to sys.path: {project_root}\")\n",
    "\n",
    "# Import your new ConvLSTM Multitask pipeline class\n",
    "from src.convlstm_multitask_pipeline import ConvLSTMMultitaskPipeline\n",
    "# Point to your new ConvLSTM Multitask config file\n",
    "config_file = \"../config_ConvLSTM_Multitask.yaml\" \n",
    "\n",
    "# Create an instance of the pipeline\n",
    "pipeline = ConvLSTMMultitaskPipeline(config_path=config_file)\n",
    "\n",
    "# Execute the pipeline. This is the most computationally intensive run.\n",
    "# It will grid the data, tune hyperparameters, and train the final model.\n",
    "results = pipeline.run_pipeline()\n",
    "print(\"\\n--- ConvLSTM Multitask Pipeline Finished ---\")\n",
    "if isinstance(results, dict) and results:\n",
    "    print(\"Final Model Performance:\")\n",
    "    for split_name, metrics_by_target in results.items():\n",
    "        print(f\"\\n--- Metrics for {split_name.upper()} SET ---\")\n",
    "        if metrics_by_target:\n",
    "            for target_name, metrics in metrics_by_target.items():\n",
    "                print(f\"  Target: {target_name}\")\n",
    "                for metric_name, value in metrics.items():\n",
    "                    print(f\"    {metric_name.upper()}: {value:.4f}\")\n",
    "        else:\n",
    "            print(\"  Metrics not available for this split.\")\n",
    "else:\n",
    "    print(f\"Pipeline may have returned an error status or incomplete results: {results}\")"
   ]
  },
  {
   "cell_type": "code",
   "execution_count": null,
   "id": "f4efa5ed",
   "metadata": {},
   "outputs": [],
   "source": []
  }
 ],
 "metadata": {
  "kernelspec": {
   "display_name": "drought_lstm_base",
   "language": "python",
   "name": "python3"
  },
  "language_info": {
   "codemirror_mode": {
    "name": "ipython",
    "version": 3
   },
   "file_extension": ".py",
   "mimetype": "text/x-python",
   "name": "python",
   "nbconvert_exporter": "python",
   "pygments_lexer": "ipython3",
   "version": "3.12.7"
  }
 },
 "nbformat": 4,
 "nbformat_minor": 5
}
