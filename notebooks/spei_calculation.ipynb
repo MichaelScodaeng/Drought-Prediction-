{
 "cells": [
  {
   "cell_type": "code",
   "execution_count": 2,
   "id": "d70f66d0",
   "metadata": {},
   "outputs": [
    {
     "ename": "ImportError",
     "evalue": "cannot import name 'pandas2ri' from 'rpy2.robjects' (unknown location)",
     "output_type": "error",
     "traceback": [
      "\u001b[1;31m---------------------------------------------------------------------------\u001b[0m",
      "\u001b[1;31mImportError\u001b[0m                               Traceback (most recent call last)",
      "Cell \u001b[1;32mIn[2], line 2\u001b[0m\n\u001b[0;32m      1\u001b[0m \u001b[38;5;28;01mimport\u001b[39;00m \u001b[38;5;21;01mrpy2\u001b[39;00m\u001b[38;5;21;01m.\u001b[39;00m\u001b[38;5;21;01mrobjects\u001b[39;00m \u001b[38;5;28;01mas\u001b[39;00m \u001b[38;5;21;01mrobjects\u001b[39;00m\n\u001b[1;32m----> 2\u001b[0m \u001b[38;5;28;01mfrom\u001b[39;00m \u001b[38;5;21;01mrpy2\u001b[39;00m\u001b[38;5;21;01m.\u001b[39;00m\u001b[38;5;21;01mrobjects\u001b[39;00m \u001b[38;5;28;01mimport\u001b[39;00m pandas2ri\n\u001b[0;32m      3\u001b[0m \u001b[38;5;28;01mfrom\u001b[39;00m \u001b[38;5;21;01mrpy2\u001b[39;00m\u001b[38;5;21;01m.\u001b[39;00m\u001b[38;5;21;01mrobjects\u001b[39;00m\u001b[38;5;21;01m.\u001b[39;00m\u001b[38;5;21;01mpackages\u001b[39;00m \u001b[38;5;28;01mimport\u001b[39;00m importr\n\u001b[0;32m      5\u001b[0m pandas2ri\u001b[38;5;241m.\u001b[39mactivate()\n",
      "\u001b[1;31mImportError\u001b[0m: cannot import name 'pandas2ri' from 'rpy2.robjects' (unknown location)"
     ]
    }
   ],
   "source": [
    "import rpy2.robjects as robjects\n",
    "from rpy2.robjects import pandas2ri\n",
    "from rpy2.robjects.packages import importr\n",
    "\n",
    "pandas2ri.activate()\n",
    "\n",
    "# Install SPEI and zoo packages if not already installed\n",
    "# Check if SPEI is installed, if not, install it\n",
    "if not robjects.r('require(SPEI)'):\n",
    "    print(\"SPEI package not found in R, installing...\")\n",
    "    robjects.r('install.packages(\"SPEI\", repos=\"http://cran.us.r-project.org\")')\n",
    "    print(\"SPEI package installed.\")\n",
    "else:\n",
    "    print(\"SPEI package already installed.\")\n",
    "\n",
    "# Check if zoo is installed, if not, install it\n",
    "if not robjects.r('require(zoo)'):\n",
    "    print(\"zoo package not found in R, installing...\")\n",
    "    robjects.r('install.packages(\"zoo\", repos=\"http://cran.us.r-project.org\")')\n",
    "    print(\"zoo package installed.\")\n",
    "else:\n",
    "    print(\"zoo package already installed.\")\n",
    "\n",
    "\n",
    "# Load SPEI and zoo packages\n",
    "robjects.r('''\n",
    "library(SPEI)\n",
    "library(zoo)\n",
    "''')\n",
    "\n",
    "# Load SPEI and zoo packages\n",
    "robjects.r('''\n",
    "library(SPEI)\n",
    "library(zoo)\n",
    "''')\n"
   ]
  },
  {
   "cell_type": "code",
   "execution_count": null,
   "id": "0624bfe1",
   "metadata": {},
   "outputs": [],
   "source": []
  }
 ],
 "metadata": {
  "kernelspec": {
   "display_name": "drought_lstm_base",
   "language": "python",
   "name": "python3"
  },
  "language_info": {
   "codemirror_mode": {
    "name": "ipython",
    "version": 3
   },
   "file_extension": ".py",
   "mimetype": "text/x-python",
   "name": "python",
   "nbconvert_exporter": "python",
   "pygments_lexer": "ipython3",
   "version": "3.12.7"
  }
 },
 "nbformat": 4,
 "nbformat_minor": 5
}
