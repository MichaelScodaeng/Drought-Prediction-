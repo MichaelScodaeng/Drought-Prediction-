{
 "cells": [
  {
   "cell_type": "code",
   "execution_count": 1,
   "id": "6a0558f6",
   "metadata": {},
   "outputs": [
    {
     "name": "stdout",
     "output_type": "stream",
     "text": [
      "Added project root to sys.path: c:\\Users\\peera\\Desktop\\DroughtLSTM_oneday\n",
      "SARIMA Pipeline Class: Successfully imported utility functions from data_utils.\n"
     ]
    }
   ],
   "source": [
    "import sys\n",
    "import os\n",
    "import numpy as np\n",
    "import pandas as pd\n",
    "\n",
    "# Add project root to Python path to find 'src'\n",
    "notebook_dir = os.getcwd()\n",
    "project_root = os.path.abspath(os.path.join(notebook_dir, '..'))\n",
    "if project_root not in sys.path:\n",
    "    sys.path.append(project_root)\n",
    "    print(f\"Added project root to sys.path: {project_root}\")\n",
    "\n",
    "# Import your new pipeline class\n",
    "from src.sarima_pipeline import SarimaLocalPipeline"
   ]
  },
  {
   "cell_type": "code",
   "execution_count": null,
   "id": "592275dd",
   "metadata": {},
   "outputs": [
    {
     "name": "stdout",
     "output_type": "stream",
     "text": [
      "SARIMA Pipeline Class: Loading config from: c:\\Users\\peera\\Desktop\\DroughtLSTM_oneday\\config_SARIMA_SPEI.yaml\n",
      "Configuration loaded from c:\\Users\\peera\\Desktop\\DroughtLSTM_oneday\\config_SARIMA_SPEI.yaml\n",
      "SARIMA Pipeline Class: Artifacts will be saved under 'c:\\Users\\peera\\Desktop\\DroughtLSTM_oneday\\run_outputs\\SPEI_SARIMA_Local_Run_sarima_local'\n",
      "\n",
      "--- Starting SARIMA Local Pipeline Run: Experiment 'SPEI_SARIMA_Local_Run_sarima_local' ---\n",
      "SARIMA Pipeline: Loading full raw data...\n",
      "Successfully loaded data from c:\\Users\\peera\\Desktop\\DroughtLSTM_oneday\\data\\full.csv. Shape: (264201, 19)\n",
      "Converted column 'time' to datetime.\n",
      "Data sorted by ['time', 'lat', 'lon'].\n",
      "SARIMA Pipeline: Found 179 unique locations.\n",
      "\n",
      "--- Processing Location: lat6.25_lon101.25 ---\n",
      "  Warning: Could not infer frequency for lat6.25_lon101.25.\n",
      "  Stationarity (p-value): 0.0000 -> Stationary\n",
      "  Running auto_arima with seasonal period m=12...\n",
      "  Best model found for lat6.25_lon101.25: (1, 0, 1) (2, 1, 0, 12)\n"
     ]
    },
    {
     "name": "stderr",
     "output_type": "stream",
     "text": [
      "c:\\Users\\peera\\.conda\\envs\\drought_lstm_base\\Lib\\site-packages\\statsmodels\\tsa\\base\\tsa_model.py:837: FutureWarning: No supported index is available. In the next version, calling this method in a model without a supported index will result in an exception.\n",
      "  return get_prediction_index(\n"
     ]
    },
    {
     "name": "stdout",
     "output_type": "stream",
     "text": [
      "  lat6.25_lon101.25 - Train Set:      RMSE=1.2339, MAE=0.9028, R2=-0.2688\n",
      "  lat6.25_lon101.25 - Validation Set: RMSE=2.0915, MAE=1.2013, R2=-0.3016\n",
      "  lat6.25_lon101.25 - Test Set:       RMSE=1.5753, MAE=1.0577, R2=-0.4764\n",
      "\n",
      "--- Processing Location: lat6.25_lon101.75 ---\n",
      "  Warning: Could not infer frequency for lat6.25_lon101.75.\n",
      "  Stationarity (p-value): 0.0000 -> Stationary\n",
      "  Running auto_arima with seasonal period m=12...\n",
      "  Best model found for lat6.25_lon101.75: (1, 0, 1) (2, 1, 0, 12)\n"
     ]
    },
    {
     "name": "stderr",
     "output_type": "stream",
     "text": [
      "c:\\Users\\peera\\.conda\\envs\\drought_lstm_base\\Lib\\site-packages\\statsmodels\\tsa\\base\\tsa_model.py:837: FutureWarning: No supported index is available. In the next version, calling this method in a model without a supported index will result in an exception.\n",
      "  return get_prediction_index(\n"
     ]
    },
    {
     "name": "stdout",
     "output_type": "stream",
     "text": [
      "  lat6.25_lon101.75 - Train Set:      RMSE=1.2278, MAE=0.8963, R2=-0.2559\n",
      "  lat6.25_lon101.75 - Validation Set: RMSE=2.1189, MAE=1.2204, R2=-0.2934\n",
      "  lat6.25_lon101.75 - Test Set:       RMSE=1.6424, MAE=1.0802, R2=-0.5595\n",
      "\n",
      "--- Processing Location: lat6.75_lon99.75 ---\n",
      "  Warning: Could not infer frequency for lat6.75_lon99.75.\n",
      "  Stationarity (p-value): 0.0000 -> Stationary\n",
      "  Running auto_arima with seasonal period m=12...\n",
      "  Best model found for lat6.75_lon99.75: (1, 0, 1) (2, 1, 0, 12)\n"
     ]
    },
    {
     "name": "stderr",
     "output_type": "stream",
     "text": [
      "c:\\Users\\peera\\.conda\\envs\\drought_lstm_base\\Lib\\site-packages\\statsmodels\\tsa\\base\\tsa_model.py:837: FutureWarning: No supported index is available. In the next version, calling this method in a model without a supported index will result in an exception.\n",
      "  return get_prediction_index(\n"
     ]
    },
    {
     "name": "stdout",
     "output_type": "stream",
     "text": [
      "  lat6.75_lon99.75 - Train Set:      RMSE=1.2575, MAE=0.9119, R2=-0.2673\n",
      "  lat6.75_lon99.75 - Validation Set: RMSE=1.2865, MAE=0.8638, R2=-0.2238\n",
      "  lat6.75_lon99.75 - Test Set:       RMSE=1.4998, MAE=1.0487, R2=-0.9753\n",
      "\n",
      "--- Processing Location: lat6.75_lon100.25 ---\n",
      "  Warning: Could not infer frequency for lat6.75_lon100.25.\n",
      "  Stationarity (p-value): 0.0000 -> Stationary\n",
      "  Running auto_arima with seasonal period m=12...\n",
      "  Best model found for lat6.75_lon100.25: (1, 0, 1) (2, 1, 0, 12)\n"
     ]
    },
    {
     "name": "stderr",
     "output_type": "stream",
     "text": [
      "c:\\Users\\peera\\.conda\\envs\\drought_lstm_base\\Lib\\site-packages\\statsmodels\\tsa\\base\\tsa_model.py:837: FutureWarning: No supported index is available. In the next version, calling this method in a model without a supported index will result in an exception.\n",
      "  return get_prediction_index(\n"
     ]
    },
    {
     "name": "stdout",
     "output_type": "stream",
     "text": [
      "  lat6.75_lon100.25 - Train Set:      RMSE=1.2372, MAE=0.9115, R2=-0.2667\n",
      "  lat6.75_lon100.25 - Validation Set: RMSE=1.5933, MAE=1.0052, R2=-0.2192\n",
      "  lat6.75_lon100.25 - Test Set:       RMSE=1.5612, MAE=1.0830, R2=-0.6125\n",
      "\n",
      "--- Processing Location: lat6.75_lon100.75 ---\n",
      "  Warning: Could not infer frequency for lat6.75_lon100.75.\n",
      "  Stationarity (p-value): 0.0000 -> Stationary\n",
      "  Running auto_arima with seasonal period m=12...\n",
      "  Best model found for lat6.75_lon100.75: (2, 0, 0) (2, 1, 0, 12)\n"
     ]
    },
    {
     "name": "stderr",
     "output_type": "stream",
     "text": [
      "c:\\Users\\peera\\.conda\\envs\\drought_lstm_base\\Lib\\site-packages\\statsmodels\\tsa\\base\\tsa_model.py:837: FutureWarning: No supported index is available. In the next version, calling this method in a model without a supported index will result in an exception.\n",
      "  return get_prediction_index(\n"
     ]
    },
    {
     "name": "stdout",
     "output_type": "stream",
     "text": [
      "  lat6.75_lon100.75 - Train Set:      RMSE=1.2281, MAE=0.8978, R2=-0.2628\n",
      "  lat6.75_lon100.75 - Validation Set: RMSE=1.7217, MAE=1.0763, R2=-0.1655\n",
      "  lat6.75_lon100.75 - Test Set:       RMSE=1.5795, MAE=1.0830, R2=-0.4770\n",
      "\n",
      "--- Processing Location: lat6.75_lon101.25 ---\n",
      "  Warning: Could not infer frequency for lat6.75_lon101.25.\n",
      "  Stationarity (p-value): 0.0000 -> Stationary\n",
      "  Running auto_arima with seasonal period m=12...\n",
      "  Best model found for lat6.75_lon101.25: (1, 0, 1) (2, 1, 0, 12)\n"
     ]
    },
    {
     "name": "stderr",
     "output_type": "stream",
     "text": [
      "c:\\Users\\peera\\.conda\\envs\\drought_lstm_base\\Lib\\site-packages\\statsmodels\\tsa\\base\\tsa_model.py:837: FutureWarning: No supported index is available. In the next version, calling this method in a model without a supported index will result in an exception.\n",
      "  return get_prediction_index(\n"
     ]
    },
    {
     "name": "stdout",
     "output_type": "stream",
     "text": [
      "  lat6.75_lon101.25 - Train Set:      RMSE=1.2299, MAE=0.8976, R2=-0.2663\n",
      "  lat6.75_lon101.25 - Validation Set: RMSE=1.8038, MAE=1.1284, R2=-0.2630\n",
      "  lat6.75_lon101.25 - Test Set:       RMSE=1.5897, MAE=1.0869, R2=-0.3805\n",
      "\n",
      "--- Processing Location: lat7.25_lon99.75 ---\n",
      "  Warning: Could not infer frequency for lat7.25_lon99.75.\n",
      "  Stationarity (p-value): 0.0000 -> Stationary\n",
      "  Running auto_arima with seasonal period m=12...\n",
      "  Best model found for lat7.25_lon99.75: (2, 0, 1) (2, 1, 0, 12)\n"
     ]
    },
    {
     "name": "stderr",
     "output_type": "stream",
     "text": [
      "c:\\Users\\peera\\.conda\\envs\\drought_lstm_base\\Lib\\site-packages\\statsmodels\\tsa\\base\\tsa_model.py:837: FutureWarning: No supported index is available. In the next version, calling this method in a model without a supported index will result in an exception.\n",
      "  return get_prediction_index(\n"
     ]
    },
    {
     "name": "stdout",
     "output_type": "stream",
     "text": [
      "  lat7.25_lon99.75 - Train Set:      RMSE=1.2355, MAE=0.8973, R2=-0.2607\n",
      "  lat7.25_lon99.75 - Validation Set: RMSE=1.4771, MAE=0.9488, R2=-0.1536\n",
      "  lat7.25_lon99.75 - Test Set:       RMSE=1.4487, MAE=1.0355, R2=-0.6559\n",
      "\n",
      "--- Processing Location: lat7.25_lon100.25 ---\n",
      "  Warning: Could not infer frequency for lat7.25_lon100.25.\n",
      "  Stationarity (p-value): 0.0000 -> Stationary\n",
      "  Running auto_arima with seasonal period m=12...\n",
      "  Best model found for lat7.25_lon100.25: (2, 0, 1) (2, 1, 0, 12)\n"
     ]
    },
    {
     "name": "stderr",
     "output_type": "stream",
     "text": [
      "c:\\Users\\peera\\.conda\\envs\\drought_lstm_base\\Lib\\site-packages\\statsmodels\\tsa\\base\\tsa_model.py:837: FutureWarning: No supported index is available. In the next version, calling this method in a model without a supported index will result in an exception.\n",
      "  return get_prediction_index(\n"
     ]
    },
    {
     "name": "stdout",
     "output_type": "stream",
     "text": [
      "  lat7.25_lon100.25 - Train Set:      RMSE=1.2316, MAE=0.8965, R2=-0.2578\n",
      "  lat7.25_lon100.25 - Validation Set: RMSE=1.4869, MAE=0.9565, R2=-0.1497\n",
      "  lat7.25_lon100.25 - Test Set:       RMSE=1.4758, MAE=1.0640, R2=-0.6864\n",
      "\n",
      "--- Processing Location: lat7.75_lon98.25 ---\n",
      "  Warning: Could not infer frequency for lat7.75_lon98.25.\n",
      "  Stationarity (p-value): 0.0000 -> Stationary\n",
      "  Running auto_arima with seasonal period m=12...\n",
      "  Best model found for lat7.75_lon98.25: (2, 0, 1) (2, 1, 0, 12)\n"
     ]
    },
    {
     "name": "stderr",
     "output_type": "stream",
     "text": [
      "c:\\Users\\peera\\.conda\\envs\\drought_lstm_base\\Lib\\site-packages\\statsmodels\\tsa\\base\\tsa_model.py:837: FutureWarning: No supported index is available. In the next version, calling this method in a model without a supported index will result in an exception.\n",
      "  return get_prediction_index(\n"
     ]
    },
    {
     "name": "stdout",
     "output_type": "stream",
     "text": [
      "  lat7.75_lon98.25 - Train Set:      RMSE=1.2378, MAE=0.8915, R2=-0.2426\n",
      "  lat7.75_lon98.25 - Validation Set: RMSE=0.7990, MAE=0.7712, R2=-0.0669\n",
      "  lat7.75_lon98.25 - Test Set:       RMSE=0.8394, MAE=0.7370, R2=-0.1672\n",
      "\n",
      "--- Processing Location: lat7.75_lon99.25 ---\n",
      "  Warning: Could not infer frequency for lat7.75_lon99.25.\n",
      "  Stationarity (p-value): 0.0000 -> Stationary\n",
      "  Running auto_arima with seasonal period m=12...\n",
      "  Best model found for lat7.75_lon99.25: (1, 0, 2) (2, 1, 0, 12)\n"
     ]
    },
    {
     "name": "stderr",
     "output_type": "stream",
     "text": [
      "c:\\Users\\peera\\.conda\\envs\\drought_lstm_base\\Lib\\site-packages\\statsmodels\\tsa\\base\\tsa_model.py:837: FutureWarning: No supported index is available. In the next version, calling this method in a model without a supported index will result in an exception.\n",
      "  return get_prediction_index(\n"
     ]
    },
    {
     "name": "stdout",
     "output_type": "stream",
     "text": [
      "  lat7.75_lon99.25 - Train Set:      RMSE=1.2224, MAE=0.8904, R2=-0.2502\n",
      "  lat7.75_lon99.25 - Validation Set: RMSE=1.5668, MAE=1.0165, R2=-0.2306\n",
      "  lat7.75_lon99.25 - Test Set:       RMSE=1.8964, MAE=1.1288, R2=-0.7937\n",
      "\n",
      "--- Processing Location: lat7.75_lon99.75 ---\n",
      "  Warning: Could not infer frequency for lat7.75_lon99.75.\n",
      "  Stationarity (p-value): 0.0000 -> Stationary\n",
      "  Running auto_arima with seasonal period m=12...\n",
      "  Best model found for lat7.75_lon99.75: (2, 0, 1) (2, 1, 0, 12)\n"
     ]
    },
    {
     "name": "stderr",
     "output_type": "stream",
     "text": [
      "c:\\Users\\peera\\.conda\\envs\\drought_lstm_base\\Lib\\site-packages\\statsmodels\\tsa\\base\\tsa_model.py:837: FutureWarning: No supported index is available. In the next version, calling this method in a model without a supported index will result in an exception.\n",
      "  return get_prediction_index(\n"
     ]
    },
    {
     "name": "stdout",
     "output_type": "stream",
     "text": [
      "  lat7.75_lon99.75 - Train Set:      RMSE=1.2142, MAE=0.8890, R2=-0.2411\n",
      "  lat7.75_lon99.75 - Validation Set: RMSE=1.4732, MAE=0.9825, R2=-0.1335\n",
      "  lat7.75_lon99.75 - Test Set:       RMSE=1.5985, MAE=1.0704, R2=-0.6245\n",
      "\n",
      "--- Processing Location: lat8.25_lon98.75 ---\n",
      "  Warning: Could not infer frequency for lat8.25_lon98.75.\n",
      "  Stationarity (p-value): 0.0000 -> Stationary\n",
      "  Running auto_arima with seasonal period m=12...\n",
      "  Best model found for lat8.25_lon98.75: (2, 0, 1) (2, 1, 0, 12)\n"
     ]
    },
    {
     "name": "stderr",
     "output_type": "stream",
     "text": [
      "c:\\Users\\peera\\.conda\\envs\\drought_lstm_base\\Lib\\site-packages\\statsmodels\\tsa\\base\\tsa_model.py:837: FutureWarning: No supported index is available. In the next version, calling this method in a model without a supported index will result in an exception.\n",
      "  return get_prediction_index(\n"
     ]
    },
    {
     "name": "stdout",
     "output_type": "stream",
     "text": [
      "  lat8.25_lon98.75 - Train Set:      RMSE=1.2032, MAE=0.8761, R2=-0.2371\n",
      "  lat8.25_lon98.75 - Validation Set: RMSE=1.4821, MAE=1.0062, R2=-0.1463\n",
      "  lat8.25_lon98.75 - Test Set:       RMSE=1.8456, MAE=1.1718, R2=-0.4907\n",
      "\n",
      "--- Processing Location: lat8.25_lon99.25 ---\n",
      "  Warning: Could not infer frequency for lat8.25_lon99.25.\n",
      "  Stationarity (p-value): 0.0000 -> Stationary\n",
      "  Running auto_arima with seasonal period m=12...\n",
      "  Best model found for lat8.25_lon99.25: (1, 0, 1) (2, 1, 0, 12)\n"
     ]
    },
    {
     "name": "stderr",
     "output_type": "stream",
     "text": [
      "c:\\Users\\peera\\.conda\\envs\\drought_lstm_base\\Lib\\site-packages\\statsmodels\\tsa\\base\\tsa_model.py:837: FutureWarning: No supported index is available. In the next version, calling this method in a model without a supported index will result in an exception.\n",
      "  return get_prediction_index(\n"
     ]
    },
    {
     "name": "stdout",
     "output_type": "stream",
     "text": [
      "  lat8.25_lon99.25 - Train Set:      RMSE=1.2089, MAE=0.8823, R2=-0.2435\n",
      "  lat8.25_lon99.25 - Validation Set: RMSE=1.5225, MAE=1.0128, R2=-0.1811\n",
      "  lat8.25_lon99.25 - Test Set:       RMSE=1.8974, MAE=1.1789, R2=-0.5059\n",
      "\n",
      "--- Processing Location: lat8.25_lon99.75 ---\n",
      "  Warning: Could not infer frequency for lat8.25_lon99.75.\n",
      "  Stationarity (p-value): 0.0000 -> Stationary\n",
      "  Running auto_arima with seasonal period m=12...\n",
      "  Best model found for lat8.25_lon99.75: (1, 0, 1) (2, 1, 0, 12)\n"
     ]
    },
    {
     "name": "stderr",
     "output_type": "stream",
     "text": [
      "c:\\Users\\peera\\.conda\\envs\\drought_lstm_base\\Lib\\site-packages\\statsmodels\\tsa\\base\\tsa_model.py:837: FutureWarning: No supported index is available. In the next version, calling this method in a model without a supported index will result in an exception.\n",
      "  return get_prediction_index(\n"
     ]
    },
    {
     "name": "stdout",
     "output_type": "stream",
     "text": [
      "  lat8.25_lon99.75 - Train Set:      RMSE=1.2094, MAE=0.8865, R2=-0.2384\n",
      "  lat8.25_lon99.75 - Validation Set: RMSE=1.3819, MAE=0.9754, R2=-0.1634\n",
      "  lat8.25_lon99.75 - Test Set:       RMSE=1.7014, MAE=1.1087, R2=-0.5250\n",
      "\n",
      "--- Processing Location: lat8.25_lon100.25 ---\n",
      "  Warning: Could not infer frequency for lat8.25_lon100.25.\n",
      "  Stationarity (p-value): 0.0000 -> Stationary\n",
      "  Running auto_arima with seasonal period m=12...\n",
      "  Best model found for lat8.25_lon100.25: (1, 0, 1) (2, 1, 0, 12)\n"
     ]
    },
    {
     "name": "stderr",
     "output_type": "stream",
     "text": [
      "c:\\Users\\peera\\.conda\\envs\\drought_lstm_base\\Lib\\site-packages\\statsmodels\\tsa\\base\\tsa_model.py:837: FutureWarning: No supported index is available. In the next version, calling this method in a model without a supported index will result in an exception.\n",
      "  return get_prediction_index(\n"
     ]
    },
    {
     "name": "stdout",
     "output_type": "stream",
     "text": [
      "  lat8.25_lon100.25 - Train Set:      RMSE=1.2294, MAE=0.8927, R2=-0.2413\n",
      "  lat8.25_lon100.25 - Validation Set: RMSE=1.2746, MAE=0.9717, R2=-0.3210\n",
      "  lat8.25_lon100.25 - Test Set:       RMSE=1.4895, MAE=1.0205, R2=-0.7811\n",
      "\n",
      "--- Processing Location: lat8.75_lon98.25 ---\n",
      "  Warning: Could not infer frequency for lat8.75_lon98.25.\n",
      "  Stationarity (p-value): 0.0000 -> Stationary\n",
      "  Running auto_arima with seasonal period m=12...\n",
      "  Best model found for lat8.75_lon98.25: (2, 0, 1) (2, 1, 0, 12)\n"
     ]
    },
    {
     "name": "stderr",
     "output_type": "stream",
     "text": [
      "c:\\Users\\peera\\.conda\\envs\\drought_lstm_base\\Lib\\site-packages\\statsmodels\\tsa\\base\\tsa_model.py:837: FutureWarning: No supported index is available. In the next version, calling this method in a model without a supported index will result in an exception.\n",
      "  return get_prediction_index(\n"
     ]
    },
    {
     "name": "stdout",
     "output_type": "stream",
     "text": [
      "  lat8.75_lon98.25 - Train Set:      RMSE=1.2098, MAE=0.8658, R2=-0.2556\n",
      "  lat8.75_lon98.25 - Validation Set: RMSE=1.6902, MAE=1.0566, R2=-0.2023\n",
      "  lat8.75_lon98.25 - Test Set:       RMSE=2.4861, MAE=1.3593, R2=-0.4624\n",
      "\n",
      "--- Processing Location: lat8.75_lon98.75 ---\n",
      "  Warning: Could not infer frequency for lat8.75_lon98.75.\n",
      "  Stationarity (p-value): 0.0000 -> Stationary\n",
      "  Running auto_arima with seasonal period m=12...\n",
      "  Best model found for lat8.75_lon98.75: (2, 0, 1) (2, 1, 0, 12)\n"
     ]
    },
    {
     "name": "stderr",
     "output_type": "stream",
     "text": [
      "c:\\Users\\peera\\.conda\\envs\\drought_lstm_base\\Lib\\site-packages\\statsmodels\\tsa\\base\\tsa_model.py:837: FutureWarning: No supported index is available. In the next version, calling this method in a model without a supported index will result in an exception.\n",
      "  return get_prediction_index(\n"
     ]
    },
    {
     "name": "stdout",
     "output_type": "stream",
     "text": [
      "  lat8.75_lon98.75 - Train Set:      RMSE=1.2044, MAE=0.8664, R2=-0.2461\n",
      "  lat8.75_lon98.75 - Validation Set: RMSE=1.5971, MAE=1.0123, R2=-0.1774\n",
      "  lat8.75_lon98.75 - Test Set:       RMSE=2.2428, MAE=1.2925, R2=-0.4628\n",
      "\n",
      "--- Processing Location: lat8.75_lon99.25 ---\n",
      "  Warning: Could not infer frequency for lat8.75_lon99.25.\n",
      "  Stationarity (p-value): 0.0000 -> Stationary\n",
      "  Running auto_arima with seasonal period m=12...\n",
      "  Best model found for lat8.75_lon99.25: (2, 0, 1) (2, 1, 0, 12)\n"
     ]
    },
    {
     "name": "stderr",
     "output_type": "stream",
     "text": [
      "c:\\Users\\peera\\.conda\\envs\\drought_lstm_base\\Lib\\site-packages\\statsmodels\\tsa\\base\\tsa_model.py:837: FutureWarning: No supported index is available. In the next version, calling this method in a model without a supported index will result in an exception.\n",
      "  return get_prediction_index(\n"
     ]
    },
    {
     "name": "stdout",
     "output_type": "stream",
     "text": [
      "  lat8.75_lon99.25 - Train Set:      RMSE=1.1971, MAE=0.8669, R2=-0.2357\n",
      "  lat8.75_lon99.25 - Validation Set: RMSE=1.4458, MAE=0.9709, R2=-0.1661\n",
      "  lat8.75_lon99.25 - Test Set:       RMSE=2.1073, MAE=1.2435, R2=-0.4642\n",
      "\n",
      "--- Processing Location: lat8.75_lon99.75 ---\n",
      "  Warning: Could not infer frequency for lat8.75_lon99.75.\n",
      "  Stationarity (p-value): 0.0000 -> Stationary\n",
      "  Running auto_arima with seasonal period m=12...\n",
      "  Best model found for lat8.75_lon99.75: (1, 0, 1) (2, 1, 0, 12)\n"
     ]
    },
    {
     "name": "stderr",
     "output_type": "stream",
     "text": [
      "c:\\Users\\peera\\.conda\\envs\\drought_lstm_base\\Lib\\site-packages\\statsmodels\\tsa\\base\\tsa_model.py:837: FutureWarning: No supported index is available. In the next version, calling this method in a model without a supported index will result in an exception.\n",
      "  return get_prediction_index(\n"
     ]
    },
    {
     "name": "stdout",
     "output_type": "stream",
     "text": [
      "  lat8.75_lon99.75 - Train Set:      RMSE=1.2170, MAE=0.8808, R2=-0.2440\n",
      "  lat8.75_lon99.75 - Validation Set: RMSE=1.2870, MAE=0.9187, R2=-0.2250\n",
      "  lat8.75_lon99.75 - Test Set:       RMSE=1.7252, MAE=1.1129, R2=-0.4568\n",
      "\n",
      "--- Processing Location: lat9.25_lon98.25 ---\n",
      "  Warning: Could not infer frequency for lat9.25_lon98.25.\n",
      "  Stationarity (p-value): 0.0000 -> Stationary\n",
      "  Running auto_arima with seasonal period m=12...\n",
      "  Best model found for lat9.25_lon98.25: (1, 0, 1) (2, 1, 0, 12)\n"
     ]
    },
    {
     "name": "stderr",
     "output_type": "stream",
     "text": [
      "c:\\Users\\peera\\.conda\\envs\\drought_lstm_base\\Lib\\site-packages\\statsmodels\\tsa\\base\\tsa_model.py:837: FutureWarning: No supported index is available. In the next version, calling this method in a model without a supported index will result in an exception.\n",
      "  return get_prediction_index(\n"
     ]
    },
    {
     "name": "stdout",
     "output_type": "stream",
     "text": [
      "  lat9.25_lon98.25 - Train Set:      RMSE=1.2261, MAE=0.8694, R2=-0.2719\n",
      "  lat9.25_lon98.25 - Validation Set: RMSE=2.0259, MAE=1.1368, R2=-0.2647\n",
      "  lat9.25_lon98.25 - Test Set:       RMSE=2.2571, MAE=1.2425, R2=-0.5875\n",
      "\n",
      "--- Processing Location: lat9.25_lon98.75 ---\n",
      "  Warning: Could not infer frequency for lat9.25_lon98.75.\n",
      "  Stationarity (p-value): 0.0000 -> Stationary\n",
      "  Running auto_arima with seasonal period m=12...\n",
      "  Best model found for lat9.25_lon98.75: (1, 0, 2) (2, 1, 0, 12)\n"
     ]
    },
    {
     "name": "stderr",
     "output_type": "stream",
     "text": [
      "c:\\Users\\peera\\.conda\\envs\\drought_lstm_base\\Lib\\site-packages\\statsmodels\\tsa\\base\\tsa_model.py:837: FutureWarning: No supported index is available. In the next version, calling this method in a model without a supported index will result in an exception.\n",
      "  return get_prediction_index(\n"
     ]
    },
    {
     "name": "stdout",
     "output_type": "stream",
     "text": [
      "  lat9.25_lon98.75 - Train Set:      RMSE=1.2286, MAE=0.8738, R2=-0.2634\n",
      "  lat9.25_lon98.75 - Validation Set: RMSE=1.8396, MAE=1.0617, R2=-0.2628\n",
      "  lat9.25_lon98.75 - Test Set:       RMSE=2.0496, MAE=1.1759, R2=-0.6058\n",
      "\n",
      "--- Processing Location: lat9.25_lon99.25 ---\n",
      "  Warning: Could not infer frequency for lat9.25_lon99.25.\n",
      "  Stationarity (p-value): 0.0000 -> Stationary\n",
      "  Running auto_arima with seasonal period m=12...\n",
      "  Best model found for lat9.25_lon99.25: (1, 0, 1) (2, 1, 0, 12)\n"
     ]
    },
    {
     "name": "stderr",
     "output_type": "stream",
     "text": [
      "c:\\Users\\peera\\.conda\\envs\\drought_lstm_base\\Lib\\site-packages\\statsmodels\\tsa\\base\\tsa_model.py:837: FutureWarning: No supported index is available. In the next version, calling this method in a model without a supported index will result in an exception.\n",
      "  return get_prediction_index(\n"
     ]
    },
    {
     "name": "stdout",
     "output_type": "stream",
     "text": [
      "  lat9.25_lon99.25 - Train Set:      RMSE=1.2254, MAE=0.8692, R2=-0.2604\n",
      "  lat9.25_lon99.25 - Validation Set: RMSE=1.7673, MAE=0.9953, R2=-0.2609\n",
      "  lat9.25_lon99.25 - Test Set:       RMSE=1.9731, MAE=1.1377, R2=-0.6057\n",
      "\n",
      "--- Processing Location: lat9.25_lon99.75 ---\n",
      "  Warning: Could not infer frequency for lat9.25_lon99.75.\n",
      "  Stationarity (p-value): 0.0000 -> Stationary\n",
      "  Running auto_arima with seasonal period m=12...\n",
      "  Best model found for lat9.25_lon99.75: (2, 0, 0) (2, 1, 0, 12)\n"
     ]
    },
    {
     "name": "stderr",
     "output_type": "stream",
     "text": [
      "c:\\Users\\peera\\.conda\\envs\\drought_lstm_base\\Lib\\site-packages\\statsmodels\\tsa\\base\\tsa_model.py:837: FutureWarning: No supported index is available. In the next version, calling this method in a model without a supported index will result in an exception.\n",
      "  return get_prediction_index(\n"
     ]
    },
    {
     "name": "stdout",
     "output_type": "stream",
     "text": [
      "  lat9.25_lon99.75 - Train Set:      RMSE=1.2041, MAE=0.8654, R2=-0.2418\n",
      "  lat9.25_lon99.75 - Validation Set: RMSE=1.4602, MAE=0.9320, R2=-0.2379\n",
      "  lat9.25_lon99.75 - Test Set:       RMSE=2.2144, MAE=1.2564, R2=-0.5008\n",
      "\n",
      "--- Processing Location: lat9.75_lon98.75 ---\n",
      "  Warning: Could not infer frequency for lat9.75_lon98.75.\n",
      "  Stationarity (p-value): 0.0000 -> Stationary\n",
      "  Running auto_arima with seasonal period m=12...\n",
      "  Best model found for lat9.75_lon98.75: (2, 0, 0) (2, 1, 0, 12)\n"
     ]
    },
    {
     "name": "stderr",
     "output_type": "stream",
     "text": [
      "c:\\Users\\peera\\.conda\\envs\\drought_lstm_base\\Lib\\site-packages\\statsmodels\\tsa\\base\\tsa_model.py:837: FutureWarning: No supported index is available. In the next version, calling this method in a model without a supported index will result in an exception.\n",
      "  return get_prediction_index(\n"
     ]
    },
    {
     "name": "stdout",
     "output_type": "stream",
     "text": [
      "  lat9.75_lon98.75 - Train Set:      RMSE=1.2333, MAE=0.8703, R2=-0.2831\n",
      "  lat9.75_lon98.75 - Validation Set: RMSE=1.9782, MAE=1.1812, R2=-0.3837\n",
      "  lat9.75_lon98.75 - Test Set:       RMSE=2.4807, MAE=1.3088, R2=-0.4712\n",
      "\n",
      "--- Processing Location: lat10.25_lon98.75 ---\n",
      "  Warning: Could not infer frequency for lat10.25_lon98.75.\n",
      "  Stationarity (p-value): 0.0000 -> Stationary\n",
      "  Running auto_arima with seasonal period m=12...\n",
      "  Best model found for lat10.25_lon98.75: (1, 0, 1) (2, 1, 0, 12)\n"
     ]
    },
    {
     "name": "stderr",
     "output_type": "stream",
     "text": [
      "c:\\Users\\peera\\.conda\\envs\\drought_lstm_base\\Lib\\site-packages\\statsmodels\\tsa\\base\\tsa_model.py:837: FutureWarning: No supported index is available. In the next version, calling this method in a model without a supported index will result in an exception.\n",
      "  return get_prediction_index(\n"
     ]
    },
    {
     "name": "stdout",
     "output_type": "stream",
     "text": [
      "  lat10.25_lon98.75 - Train Set:      RMSE=1.2398, MAE=0.8729, R2=-0.2759\n",
      "  lat10.25_lon98.75 - Validation Set: RMSE=1.9516, MAE=1.1730, R2=-0.4243\n",
      "  lat10.25_lon98.75 - Test Set:       RMSE=2.2091, MAE=1.1823, R2=-0.6597\n",
      "\n",
      "--- Processing Location: lat10.75_lon99.25 ---\n",
      "  Warning: Could not infer frequency for lat10.75_lon99.25.\n",
      "  Stationarity (p-value): 0.0000 -> Stationary\n",
      "  Running auto_arima with seasonal period m=12...\n",
      "  Best model found for lat10.75_lon99.25: (1, 0, 0) (2, 1, 0, 12)\n"
     ]
    },
    {
     "name": "stderr",
     "output_type": "stream",
     "text": [
      "c:\\Users\\peera\\.conda\\envs\\drought_lstm_base\\Lib\\site-packages\\statsmodels\\tsa\\base\\tsa_model.py:837: FutureWarning: No supported index is available. In the next version, calling this method in a model without a supported index will result in an exception.\n",
      "  return get_prediction_index(\n"
     ]
    },
    {
     "name": "stdout",
     "output_type": "stream",
     "text": [
      "  lat10.75_lon99.25 - Train Set:      RMSE=1.2197, MAE=0.8752, R2=-0.2705\n",
      "  lat10.75_lon99.25 - Validation Set: RMSE=2.0473, MAE=1.2859, R2=-0.5498\n",
      "  lat10.75_lon99.25 - Test Set:       RMSE=2.5900, MAE=1.3389, R2=-0.5836\n",
      "\n",
      "--- Processing Location: lat11.25_lon99.25 ---\n",
      "  Warning: Could not infer frequency for lat11.25_lon99.25.\n",
      "  Stationarity (p-value): 0.0000 -> Stationary\n",
      "  Running auto_arima with seasonal period m=12...\n",
      "  Best model found for lat11.25_lon99.25: (1, 0, 0) (2, 1, 0, 12)\n"
     ]
    },
    {
     "name": "stderr",
     "output_type": "stream",
     "text": [
      "c:\\Users\\peera\\.conda\\envs\\drought_lstm_base\\Lib\\site-packages\\statsmodels\\tsa\\base\\tsa_model.py:837: FutureWarning: No supported index is available. In the next version, calling this method in a model without a supported index will result in an exception.\n",
      "  return get_prediction_index(\n"
     ]
    },
    {
     "name": "stdout",
     "output_type": "stream",
     "text": [
      "  lat11.25_lon99.25 - Train Set:      RMSE=1.2237, MAE=0.8864, R2=-0.2716\n",
      "  lat11.25_lon99.25 - Validation Set: RMSE=1.9116, MAE=1.2151, R2=-0.5664\n",
      "  lat11.25_lon99.25 - Test Set:       RMSE=2.4877, MAE=1.3014, R2=-0.5955\n",
      "\n",
      "--- Processing Location: lat11.75_lon99.75 ---\n",
      "  Warning: Could not infer frequency for lat11.75_lon99.75.\n",
      "  Stationarity (p-value): 0.0000 -> Stationary\n",
      "  Running auto_arima with seasonal period m=12...\n",
      "  Best model found for lat11.75_lon99.75: (1, 0, 1) (2, 1, 0, 12)\n"
     ]
    },
    {
     "name": "stderr",
     "output_type": "stream",
     "text": [
      "c:\\Users\\peera\\.conda\\envs\\drought_lstm_base\\Lib\\site-packages\\statsmodels\\tsa\\base\\tsa_model.py:837: FutureWarning: No supported index is available. In the next version, calling this method in a model without a supported index will result in an exception.\n",
      "  return get_prediction_index(\n"
     ]
    },
    {
     "name": "stdout",
     "output_type": "stream",
     "text": [
      "  lat11.75_lon99.75 - Train Set:      RMSE=1.2126, MAE=0.8836, R2=-0.2505\n",
      "  lat11.75_lon99.75 - Validation Set: RMSE=1.6512, MAE=1.0314, R2=-0.5982\n",
      "  lat11.75_lon99.75 - Test Set:       RMSE=2.2254, MAE=1.2710, R2=-0.6942\n",
      "\n",
      "--- Processing Location: lat11.75_lon102.75 ---\n",
      "  Warning: Could not infer frequency for lat11.75_lon102.75.\n",
      "  Stationarity (p-value): 0.0000 -> Stationary\n",
      "  Running auto_arima with seasonal period m=12...\n",
      "  Best model found for lat11.75_lon102.75: (0, 0, 0) (2, 1, 0, 12)\n"
     ]
    },
    {
     "name": "stderr",
     "output_type": "stream",
     "text": [
      "c:\\Users\\peera\\.conda\\envs\\drought_lstm_base\\Lib\\site-packages\\statsmodels\\tsa\\base\\tsa_model.py:837: FutureWarning: No supported index is available. In the next version, calling this method in a model without a supported index will result in an exception.\n",
      "  return get_prediction_index(\n"
     ]
    },
    {
     "name": "stdout",
     "output_type": "stream",
     "text": [
      "  lat11.75_lon102.75 - Train Set:      RMSE=1.2964, MAE=0.8946, R2=-0.3014\n",
      "  lat11.75_lon102.75 - Validation Set: RMSE=1.3404, MAE=0.9873, R2=-0.7751\n",
      "  lat11.75_lon102.75 - Test Set:       RMSE=1.1203, MAE=0.8613, R2=-0.7131\n",
      "\n",
      "--- Processing Location: lat12.25_lon99.75 ---\n",
      "  Warning: Could not infer frequency for lat12.25_lon99.75.\n",
      "  Stationarity (p-value): 0.0000 -> Stationary\n",
      "  Running auto_arima with seasonal period m=12...\n",
      "  Best model found for lat12.25_lon99.75: (3, 0, 2) (2, 1, 0, 12)\n"
     ]
    },
    {
     "name": "stderr",
     "output_type": "stream",
     "text": [
      "c:\\Users\\peera\\.conda\\envs\\drought_lstm_base\\Lib\\site-packages\\statsmodels\\tsa\\base\\tsa_model.py:837: FutureWarning: No supported index is available. In the next version, calling this method in a model without a supported index will result in an exception.\n",
      "  return get_prediction_index(\n"
     ]
    },
    {
     "name": "stdout",
     "output_type": "stream",
     "text": [
      "  lat12.25_lon99.75 - Train Set:      RMSE=1.2161, MAE=0.8899, R2=-0.2339\n",
      "  lat12.25_lon99.75 - Validation Set: RMSE=0.9640, MAE=0.7908, R2=-0.9268\n",
      "  lat12.25_lon99.75 - Test Set:       RMSE=1.5043, MAE=1.0213, R2=-0.5114\n",
      "\n",
      "--- Processing Location: lat12.25_lon102.25 ---\n",
      "  Warning: Could not infer frequency for lat12.25_lon102.25.\n",
      "  Stationarity (p-value): 0.0000 -> Stationary\n",
      "  Running auto_arima with seasonal period m=12...\n",
      "  Best model found for lat12.25_lon102.25: (2, 0, 2) (2, 1, 0, 12)\n"
     ]
    },
    {
     "name": "stderr",
     "output_type": "stream",
     "text": [
      "c:\\Users\\peera\\.conda\\envs\\drought_lstm_base\\Lib\\site-packages\\statsmodels\\tsa\\base\\tsa_model.py:837: FutureWarning: No supported index is available. In the next version, calling this method in a model without a supported index will result in an exception.\n",
      "  return get_prediction_index(\n"
     ]
    },
    {
     "name": "stdout",
     "output_type": "stream",
     "text": [
      "  lat12.25_lon102.25 - Train Set:      RMSE=1.2647, MAE=0.9021, R2=-0.2817\n",
      "  lat12.25_lon102.25 - Validation Set: RMSE=1.1517, MAE=0.8641, R2=-0.6741\n",
      "  lat12.25_lon102.25 - Test Set:       RMSE=1.6558, MAE=1.0819, R2=-0.8904\n",
      "\n",
      "--- Processing Location: lat12.75_lon99.25 ---\n",
      "  Warning: Could not infer frequency for lat12.75_lon99.25.\n",
      "  Stationarity (p-value): 0.0000 -> Stationary\n",
      "  Running auto_arima with seasonal period m=12...\n",
      "  Best model found for lat12.75_lon99.25: (3, 0, 1) (2, 1, 0, 12)\n"
     ]
    },
    {
     "name": "stderr",
     "output_type": "stream",
     "text": [
      "c:\\Users\\peera\\.conda\\envs\\drought_lstm_base\\Lib\\site-packages\\statsmodels\\tsa\\base\\tsa_model.py:837: FutureWarning: No supported index is available. In the next version, calling this method in a model without a supported index will result in an exception.\n",
      "  return get_prediction_index(\n"
     ]
    },
    {
     "name": "stdout",
     "output_type": "stream",
     "text": [
      "  lat12.75_lon99.25 - Train Set:      RMSE=1.2248, MAE=0.8636, R2=-0.2409\n",
      "  lat12.75_lon99.25 - Validation Set: RMSE=1.7711, MAE=1.1546, R2=-1.0645\n",
      "  lat12.75_lon99.25 - Test Set:       RMSE=1.9267, MAE=1.1247, R2=-0.5809\n",
      "\n",
      "--- Processing Location: lat12.75_lon99.75 ---\n",
      "  Warning: Could not infer frequency for lat12.75_lon99.75.\n",
      "  Stationarity (p-value): 0.0000 -> Stationary\n",
      "  Running auto_arima with seasonal period m=12...\n",
      "  Best model found for lat12.75_lon99.75: (3, 0, 1) (2, 1, 0, 12)\n"
     ]
    },
    {
     "name": "stderr",
     "output_type": "stream",
     "text": [
      "c:\\Users\\peera\\.conda\\envs\\drought_lstm_base\\Lib\\site-packages\\statsmodels\\tsa\\base\\tsa_model.py:837: FutureWarning: No supported index is available. In the next version, calling this method in a model without a supported index will result in an exception.\n",
      "  return get_prediction_index(\n"
     ]
    },
    {
     "name": "stdout",
     "output_type": "stream",
     "text": [
      "  lat12.75_lon99.75 - Train Set:      RMSE=1.2228, MAE=0.8578, R2=-0.2348\n",
      "  lat12.75_lon99.75 - Validation Set: RMSE=1.6000, MAE=1.0638, R2=-0.8791\n",
      "  lat12.75_lon99.75 - Test Set:       RMSE=2.0929, MAE=1.2038, R2=-0.7200\n",
      "\n",
      "--- Processing Location: lat12.75_lon101.25 ---\n",
      "  Warning: Could not infer frequency for lat12.75_lon101.25.\n",
      "  Stationarity (p-value): 0.0000 -> Stationary\n",
      "  Running auto_arima with seasonal period m=12...\n",
      "  Best model found for lat12.75_lon101.25: (3, 0, 1) (2, 1, 0, 12)\n"
     ]
    },
    {
     "name": "stderr",
     "output_type": "stream",
     "text": [
      "c:\\Users\\peera\\.conda\\envs\\drought_lstm_base\\Lib\\site-packages\\statsmodels\\tsa\\base\\tsa_model.py:837: FutureWarning: No supported index is available. In the next version, calling this method in a model without a supported index will result in an exception.\n",
      "  return get_prediction_index(\n"
     ]
    },
    {
     "name": "stdout",
     "output_type": "stream",
     "text": [
      "  lat12.75_lon101.25 - Train Set:      RMSE=1.2223, MAE=0.8644, R2=-0.2436\n",
      "  lat12.75_lon101.25 - Validation Set: RMSE=1.3473, MAE=0.9506, R2=-0.5828\n",
      "  lat12.75_lon101.25 - Test Set:       RMSE=2.1895, MAE=1.2424, R2=-0.8593\n",
      "\n",
      "--- Processing Location: lat12.75_lon101.75 ---\n",
      "  Warning: Could not infer frequency for lat12.75_lon101.75.\n",
      "  Stationarity (p-value): 0.0000 -> Stationary\n",
      "  Running auto_arima with seasonal period m=12...\n",
      "  Best model found for lat12.75_lon101.75: (2, 0, 0) (2, 1, 0, 12)\n"
     ]
    },
    {
     "name": "stderr",
     "output_type": "stream",
     "text": [
      "c:\\Users\\peera\\.conda\\envs\\drought_lstm_base\\Lib\\site-packages\\statsmodels\\tsa\\base\\tsa_model.py:837: FutureWarning: No supported index is available. In the next version, calling this method in a model without a supported index will result in an exception.\n",
      "  return get_prediction_index(\n"
     ]
    },
    {
     "name": "stdout",
     "output_type": "stream",
     "text": [
      "  lat12.75_lon101.75 - Train Set:      RMSE=1.2405, MAE=0.8886, R2=-0.2562\n",
      "  lat12.75_lon101.75 - Validation Set: RMSE=1.0852, MAE=0.8366, R2=-0.7483\n",
      "  lat12.75_lon101.75 - Test Set:       RMSE=1.6947, MAE=1.0910, R2=-0.8266\n",
      "\n",
      "--- Processing Location: lat12.75_lon102.25 ---\n",
      "  Warning: Could not infer frequency for lat12.75_lon102.25.\n",
      "  Stationarity (p-value): 0.0000 -> Stationary\n",
      "  Running auto_arima with seasonal period m=12...\n"
     ]
    }
   ],
   "source": [
    "# Ensure this path is correct from your notebook's location\n",
    "config_file = \"../config_SARIMA_SPEI.yaml\"\n",
    "\n",
    "# Create an instance of the pipeline\n",
    "sarima_pipeline = SarimaLocalPipeline(config_path=config_file)\n",
    "\n",
    "# Execute the pipeline\n",
    "all_sarima_metrics = sarima_pipeline.run_pipeline()"
   ]
  },
  {
   "cell_type": "code",
   "execution_count": 2,
   "id": "810652a1",
   "metadata": {},
   "outputs": [
    {
     "name": "stdout",
     "output_type": "stream",
     "text": [
      "SARIMA Pipeline Class: Loading config from: c:\\Users\\peera\\Desktop\\DroughtLSTM_oneday\\config_SARIMA_PRE.yaml\n",
      "Configuration loaded from c:\\Users\\peera\\Desktop\\DroughtLSTM_oneday\\config_SARIMA_PRE.yaml\n",
      "SARIMA Pipeline Class: Artifacts will be saved under 'c:\\Users\\peera\\Desktop\\DroughtLSTM_oneday\\run_outputs\\PRE_SARIMA_Local_Run_sarima_local'\n",
      "\n",
      "--- Starting SARIMA Local Pipeline Run: Experiment 'PRE_SARIMA_Local_Run_sarima_local' ---\n",
      "SARIMA Pipeline: Loading full raw data...\n",
      "Successfully loaded data from c:\\Users\\peera\\Desktop\\DroughtLSTM_oneday\\data\\full.csv. Shape: (264201, 19)\n",
      "Converted column 'time' to datetime.\n",
      "Data sorted by ['time', 'lat', 'lon'].\n",
      "SARIMA Pipeline: Found 179 unique locations.\n",
      "\n",
      "--- Processing Location: lat6.25_lon101.25 ---\n",
      "  Warning: Could not infer frequency for lat6.25_lon101.25.\n",
      "  Stationarity (p-value): 0.0000 -> Stationary\n",
      "  Running auto_arima with seasonal period m=12...\n",
      "  Best model found for lat6.25_lon101.25: (0, 0, 0) (2, 1, 0, 12)\n"
     ]
    },
    {
     "name": "stderr",
     "output_type": "stream",
     "text": [
      "c:\\Users\\peera\\.conda\\envs\\drought_lstm_base\\Lib\\site-packages\\statsmodels\\tsa\\base\\tsa_model.py:837: FutureWarning: No supported index is available. In the next version, calling this method in a model without a supported index will result in an exception.\n",
      "  return get_prediction_index(\n"
     ]
    },
    {
     "name": "stdout",
     "output_type": "stream",
     "text": [
      "  lat6.25_lon101.25 - Train Set:      RMSE=7561.7380, MAE=58.9292, R2=0.5053\n",
      "  lat6.25_lon101.25 - Validation Set: RMSE=7666.9765, MAE=67.5815, R2=0.3709\n",
      "  lat6.25_lon101.25 - Test Set:       RMSE=6438.0367, MAE=60.2883, R2=0.5686\n",
      "\n",
      "--- Processing Location: lat6.25_lon101.75 ---\n",
      "  Warning: Could not infer frequency for lat6.25_lon101.75.\n",
      "  Stationarity (p-value): 0.0000 -> Stationary\n",
      "  Running auto_arima with seasonal period m=12...\n",
      "  Best model found for lat6.25_lon101.75: (0, 0, 0) (2, 1, 0, 12)\n"
     ]
    },
    {
     "name": "stderr",
     "output_type": "stream",
     "text": [
      "c:\\Users\\peera\\.conda\\envs\\drought_lstm_base\\Lib\\site-packages\\statsmodels\\tsa\\base\\tsa_model.py:837: FutureWarning: No supported index is available. In the next version, calling this method in a model without a supported index will result in an exception.\n",
      "  return get_prediction_index(\n"
     ]
    },
    {
     "name": "stdout",
     "output_type": "stream",
     "text": [
      "  lat6.25_lon101.75 - Train Set:      RMSE=13527.6346, MAE=68.2013, R2=0.5565\n",
      "  lat6.25_lon101.75 - Validation Set: RMSE=12752.3361, MAE=79.8975, R2=0.3768\n",
      "  lat6.25_lon101.75 - Test Set:       RMSE=11009.4617, MAE=68.3853, R2=0.6770\n",
      "\n",
      "--- Processing Location: lat6.75_lon99.75 ---\n",
      "  Warning: Could not infer frequency for lat6.75_lon99.75.\n",
      "  Stationarity (p-value): 0.0000 -> Stationary\n",
      "  Running auto_arima with seasonal period m=12...\n",
      "  Best model found for lat6.75_lon99.75: (0, 0, 0) (2, 1, 0, 12)\n"
     ]
    },
    {
     "name": "stderr",
     "output_type": "stream",
     "text": [
      "c:\\Users\\peera\\.conda\\envs\\drought_lstm_base\\Lib\\site-packages\\statsmodels\\tsa\\base\\tsa_model.py:837: FutureWarning: No supported index is available. In the next version, calling this method in a model without a supported index will result in an exception.\n",
      "  return get_prediction_index(\n"
     ]
    },
    {
     "name": "stdout",
     "output_type": "stream",
     "text": [
      "  lat6.75_lon99.75 - Train Set:      RMSE=6092.6408, MAE=56.9050, R2=0.4848\n",
      "  lat6.75_lon99.75 - Validation Set: RMSE=3717.5845, MAE=47.0892, R2=0.7155\n",
      "  lat6.75_lon99.75 - Test Set:       RMSE=5757.8134, MAE=62.0092, R2=0.5418\n",
      "\n",
      "--- Processing Location: lat6.75_lon100.25 ---\n",
      "  Warning: Could not infer frequency for lat6.75_lon100.25.\n",
      "  Stationarity (p-value): 0.0000 -> Stationary\n",
      "  Running auto_arima with seasonal period m=12...\n",
      "  Best model found for lat6.75_lon100.25: (0, 0, 0) (2, 1, 0, 12)\n"
     ]
    },
    {
     "name": "stderr",
     "output_type": "stream",
     "text": [
      "c:\\Users\\peera\\.conda\\envs\\drought_lstm_base\\Lib\\site-packages\\statsmodels\\tsa\\base\\tsa_model.py:837: FutureWarning: No supported index is available. In the next version, calling this method in a model without a supported index will result in an exception.\n",
      "  return get_prediction_index(\n"
     ]
    },
    {
     "name": "stdout",
     "output_type": "stream",
     "text": [
      "  lat6.75_lon100.25 - Train Set:      RMSE=5666.6355, MAE=54.9179, R2=0.4173\n",
      "  lat6.75_lon100.25 - Validation Set: RMSE=4757.1926, MAE=54.7788, R2=0.5294\n",
      "  lat6.75_lon100.25 - Test Set:       RMSE=5835.6983, MAE=61.9201, R2=0.4406\n",
      "\n",
      "--- Processing Location: lat6.75_lon100.75 ---\n",
      "  Warning: Could not infer frequency for lat6.75_lon100.75.\n",
      "  Stationarity (p-value): 0.0000 -> Stationary\n",
      "  Running auto_arima with seasonal period m=12...\n",
      "  Best model found for lat6.75_lon100.75: (1, 0, 1) (2, 1, 0, 12)\n"
     ]
    },
    {
     "name": "stderr",
     "output_type": "stream",
     "text": [
      "c:\\Users\\peera\\.conda\\envs\\drought_lstm_base\\Lib\\site-packages\\statsmodels\\tsa\\base\\tsa_model.py:837: FutureWarning: No supported index is available. In the next version, calling this method in a model without a supported index will result in an exception.\n",
      "  return get_prediction_index(\n"
     ]
    },
    {
     "name": "stdout",
     "output_type": "stream",
     "text": [
      "  lat6.75_lon100.75 - Train Set:      RMSE=4364.1045, MAE=47.3066, R2=0.6277\n",
      "  lat6.75_lon100.75 - Validation Set: RMSE=5799.5256, MAE=57.3332, R2=0.4675\n",
      "  lat6.75_lon100.75 - Test Set:       RMSE=6146.5531, MAE=55.6969, R2=0.5829\n",
      "\n",
      "--- Processing Location: lat6.75_lon101.25 ---\n",
      "  Warning: Could not infer frequency for lat6.75_lon101.25.\n",
      "  Stationarity (p-value): 0.0000 -> Stationary\n",
      "  Running auto_arima with seasonal period m=12...\n",
      "  Best model found for lat6.75_lon101.25: (0, 0, 0) (2, 1, 0, 12)\n"
     ]
    },
    {
     "name": "stderr",
     "output_type": "stream",
     "text": [
      "c:\\Users\\peera\\.conda\\envs\\drought_lstm_base\\Lib\\site-packages\\statsmodels\\tsa\\base\\tsa_model.py:837: FutureWarning: No supported index is available. In the next version, calling this method in a model without a supported index will result in an exception.\n",
      "  return get_prediction_index(\n"
     ]
    },
    {
     "name": "stdout",
     "output_type": "stream",
     "text": [
      "  lat6.75_lon101.25 - Train Set:      RMSE=10092.0917, MAE=56.9093, R2=0.5577\n",
      "  lat6.75_lon101.25 - Validation Set: RMSE=9093.6363, MAE=66.3174, R2=0.4365\n",
      "  lat6.75_lon101.25 - Test Set:       RMSE=10033.3614, MAE=58.9774, R2=0.6462\n",
      "\n",
      "--- Processing Location: lat7.25_lon99.75 ---\n",
      "  Warning: Could not infer frequency for lat7.25_lon99.75.\n",
      "  Stationarity (p-value): 0.0000 -> Stationary\n",
      "  Running auto_arima with seasonal period m=12...\n",
      "  Best model found for lat7.25_lon99.75: (0, 0, 0) (2, 1, 0, 12)\n"
     ]
    },
    {
     "name": "stderr",
     "output_type": "stream",
     "text": [
      "c:\\Users\\peera\\.conda\\envs\\drought_lstm_base\\Lib\\site-packages\\statsmodels\\tsa\\base\\tsa_model.py:837: FutureWarning: No supported index is available. In the next version, calling this method in a model without a supported index will result in an exception.\n",
      "  return get_prediction_index(\n"
     ]
    },
    {
     "name": "stdout",
     "output_type": "stream",
     "text": [
      "  lat7.25_lon99.75 - Train Set:      RMSE=5852.9468, MAE=57.4188, R2=0.5117\n",
      "  lat7.25_lon99.75 - Validation Set: RMSE=4783.5762, MAE=52.6860, R2=0.6420\n",
      "  lat7.25_lon99.75 - Test Set:       RMSE=5908.8634, MAE=61.6573, R2=0.5479\n",
      "\n",
      "--- Processing Location: lat7.25_lon100.25 ---\n",
      "  Warning: Could not infer frequency for lat7.25_lon100.25.\n",
      "  Stationarity (p-value): 0.0000 -> Stationary\n",
      "  Running auto_arima with seasonal period m=12...\n",
      "  Best model found for lat7.25_lon100.25: (1, 0, 0) (2, 1, 0, 12)\n"
     ]
    },
    {
     "name": "stderr",
     "output_type": "stream",
     "text": [
      "c:\\Users\\peera\\.conda\\envs\\drought_lstm_base\\Lib\\site-packages\\statsmodels\\tsa\\base\\tsa_model.py:837: FutureWarning: No supported index is available. In the next version, calling this method in a model without a supported index will result in an exception.\n",
      "  return get_prediction_index(\n"
     ]
    },
    {
     "name": "stdout",
     "output_type": "stream",
     "text": [
      "  lat7.25_lon100.25 - Train Set:      RMSE=6844.2472, MAE=55.9278, R2=0.5442\n",
      "  lat7.25_lon100.25 - Validation Set: RMSE=5973.5682, MAE=55.7580, R2=0.5478\n",
      "  lat7.25_lon100.25 - Test Set:       RMSE=6337.9476, MAE=59.0864, R2=0.6301\n",
      "\n",
      "--- Processing Location: lat7.75_lon98.25 ---\n",
      "  Warning: Could not infer frequency for lat7.75_lon98.25.\n",
      "  Stationarity (p-value): 0.0000 -> Stationary\n",
      "  Running auto_arima with seasonal period m=12...\n",
      "  Best model found for lat7.75_lon98.25: (0, 0, 0) (2, 1, 0, 12)\n"
     ]
    },
    {
     "name": "stderr",
     "output_type": "stream",
     "text": [
      "c:\\Users\\peera\\.conda\\envs\\drought_lstm_base\\Lib\\site-packages\\statsmodels\\tsa\\base\\tsa_model.py:837: FutureWarning: No supported index is available. In the next version, calling this method in a model without a supported index will result in an exception.\n",
      "  return get_prediction_index(\n"
     ]
    },
    {
     "name": "stdout",
     "output_type": "stream",
     "text": [
      "  lat7.75_lon98.25 - Train Set:      RMSE=5346.7100, MAE=53.0637, R2=0.7132\n",
      "  lat7.75_lon98.25 - Validation Set: RMSE=2370.2074, MAE=39.3866, R2=0.8664\n",
      "  lat7.75_lon98.25 - Test Set:       RMSE=3071.4721, MAE=40.0360, R2=0.8350\n",
      "\n",
      "--- Processing Location: lat7.75_lon99.25 ---\n",
      "  Warning: Could not infer frequency for lat7.75_lon99.25.\n",
      "  Stationarity (p-value): 0.0000 -> Stationary\n",
      "  Running auto_arima with seasonal period m=12...\n",
      "  Best model found for lat7.75_lon99.25: (0, 0, 0) (2, 1, 0, 12)\n"
     ]
    },
    {
     "name": "stderr",
     "output_type": "stream",
     "text": [
      "c:\\Users\\peera\\.conda\\envs\\drought_lstm_base\\Lib\\site-packages\\statsmodels\\tsa\\base\\tsa_model.py:837: FutureWarning: No supported index is available. In the next version, calling this method in a model without a supported index will result in an exception.\n",
      "  return get_prediction_index(\n"
     ]
    },
    {
     "name": "stdout",
     "output_type": "stream",
     "text": [
      "  lat7.75_lon99.25 - Train Set:      RMSE=5802.5461, MAE=56.8360, R2=0.5790\n",
      "  lat7.75_lon99.25 - Validation Set: RMSE=6155.3646, MAE=62.9883, R2=0.5967\n",
      "  lat7.75_lon99.25 - Test Set:       RMSE=8657.3731, MAE=71.0678, R2=0.4968\n",
      "\n",
      "--- Processing Location: lat7.75_lon99.75 ---\n",
      "  Warning: Could not infer frequency for lat7.75_lon99.75.\n",
      "  Stationarity (p-value): 0.0000 -> Stationary\n",
      "  Running auto_arima with seasonal period m=12...\n",
      "  Best model found for lat7.75_lon99.75: (0, 0, 0) (2, 1, 0, 12)\n"
     ]
    },
    {
     "name": "stderr",
     "output_type": "stream",
     "text": [
      "c:\\Users\\peera\\.conda\\envs\\drought_lstm_base\\Lib\\site-packages\\statsmodels\\tsa\\base\\tsa_model.py:837: FutureWarning: No supported index is available. In the next version, calling this method in a model without a supported index will result in an exception.\n",
      "  return get_prediction_index(\n"
     ]
    },
    {
     "name": "stdout",
     "output_type": "stream",
     "text": [
      "  lat7.75_lon99.75 - Train Set:      RMSE=6546.7443, MAE=58.9680, R2=0.5045\n",
      "  lat7.75_lon99.75 - Validation Set: RMSE=6853.9025, MAE=60.4987, R2=0.4952\n",
      "  lat7.75_lon99.75 - Test Set:       RMSE=7459.8353, MAE=66.3454, R2=0.5150\n",
      "\n",
      "--- Processing Location: lat8.25_lon98.75 ---\n",
      "  Warning: Could not infer frequency for lat8.25_lon98.75.\n",
      "  Stationarity (p-value): 0.0000 -> Stationary\n",
      "  Running auto_arima with seasonal period m=12...\n",
      "  Best model found for lat8.25_lon98.75: (0, 0, 0) (2, 1, 0, 12)\n"
     ]
    },
    {
     "name": "stderr",
     "output_type": "stream",
     "text": [
      "c:\\Users\\peera\\.conda\\envs\\drought_lstm_base\\Lib\\site-packages\\statsmodels\\tsa\\base\\tsa_model.py:837: FutureWarning: No supported index is available. In the next version, calling this method in a model without a supported index will result in an exception.\n",
      "  return get_prediction_index(\n"
     ]
    },
    {
     "name": "stdout",
     "output_type": "stream",
     "text": [
      "  lat8.25_lon98.75 - Train Set:      RMSE=6184.5378, MAE=58.0911, R2=0.6255\n",
      "  lat8.25_lon98.75 - Validation Set: RMSE=5621.1981, MAE=58.6360, R2=0.6896\n",
      "  lat8.25_lon98.75 - Test Set:       RMSE=9827.5263, MAE=77.7762, R2=0.5340\n",
      "\n",
      "--- Processing Location: lat8.25_lon99.25 ---\n",
      "  Warning: Could not infer frequency for lat8.25_lon99.25.\n",
      "  Stationarity (p-value): 0.0000 -> Stationary\n",
      "  Running auto_arima with seasonal period m=12...\n",
      "  Best model found for lat8.25_lon99.25: (0, 0, 0) (2, 1, 0, 12)\n"
     ]
    },
    {
     "name": "stderr",
     "output_type": "stream",
     "text": [
      "c:\\Users\\peera\\.conda\\envs\\drought_lstm_base\\Lib\\site-packages\\statsmodels\\tsa\\base\\tsa_model.py:837: FutureWarning: No supported index is available. In the next version, calling this method in a model without a supported index will result in an exception.\n",
      "  return get_prediction_index(\n"
     ]
    },
    {
     "name": "stdout",
     "output_type": "stream",
     "text": [
      "  lat8.25_lon99.25 - Train Set:      RMSE=5393.9791, MAE=54.9320, R2=0.5707\n",
      "  lat8.25_lon99.25 - Validation Set: RMSE=6965.2441, MAE=60.1443, R2=0.4851\n",
      "  lat8.25_lon99.25 - Test Set:       RMSE=8864.3836, MAE=71.9444, R2=0.4918\n",
      "\n",
      "--- Processing Location: lat8.25_lon99.75 ---\n",
      "  Warning: Could not infer frequency for lat8.25_lon99.75.\n",
      "  Stationarity (p-value): 0.0000 -> Stationary\n",
      "  Running auto_arima with seasonal period m=12...\n",
      "  Best model found for lat8.25_lon99.75: (3, 0, 0) (2, 1, 0, 12)\n"
     ]
    },
    {
     "name": "stderr",
     "output_type": "stream",
     "text": [
      "c:\\Users\\peera\\.conda\\envs\\drought_lstm_base\\Lib\\site-packages\\statsmodels\\tsa\\base\\tsa_model.py:837: FutureWarning: No supported index is available. In the next version, calling this method in a model without a supported index will result in an exception.\n",
      "  return get_prediction_index(\n"
     ]
    },
    {
     "name": "stdout",
     "output_type": "stream",
     "text": [
      "  lat8.25_lon99.75 - Train Set:      RMSE=7806.3252, MAE=60.6028, R2=0.5814\n",
      "  lat8.25_lon99.75 - Validation Set: RMSE=12104.7139, MAE=68.8293, R2=0.3535\n",
      "  lat8.25_lon99.75 - Test Set:       RMSE=10502.6884, MAE=72.4519, R2=0.5789\n",
      "\n",
      "--- Processing Location: lat8.25_lon100.25 ---\n",
      "  Warning: Could not infer frequency for lat8.25_lon100.25.\n",
      "  Stationarity (p-value): 0.0000 -> Stationary\n",
      "  Running auto_arima with seasonal period m=12...\n",
      "  Best model found for lat8.25_lon100.25: (0, 0, 0) (2, 1, 0, 12)\n"
     ]
    },
    {
     "name": "stderr",
     "output_type": "stream",
     "text": [
      "c:\\Users\\peera\\.conda\\envs\\drought_lstm_base\\Lib\\site-packages\\statsmodels\\tsa\\base\\tsa_model.py:837: FutureWarning: No supported index is available. In the next version, calling this method in a model without a supported index will result in an exception.\n",
      "  return get_prediction_index(\n"
     ]
    },
    {
     "name": "stdout",
     "output_type": "stream",
     "text": [
      "  lat8.25_lon100.25 - Train Set:      RMSE=12228.9078, MAE=64.9498, R2=0.6075\n",
      "  lat8.25_lon100.25 - Validation Set: RMSE=12026.0523, MAE=64.1514, R2=0.5165\n",
      "  lat8.25_lon100.25 - Test Set:       RMSE=8609.6315, MAE=64.2962, R2=0.7190\n",
      "\n",
      "--- Processing Location: lat8.75_lon98.25 ---\n",
      "  Warning: Could not infer frequency for lat8.75_lon98.25.\n",
      "  Stationarity (p-value): 0.0000 -> Stationary\n",
      "  Running auto_arima with seasonal period m=12...\n",
      "  Best model found for lat8.75_lon98.25: (0, 0, 0) (2, 1, 0, 12)\n"
     ]
    },
    {
     "name": "stderr",
     "output_type": "stream",
     "text": [
      "c:\\Users\\peera\\.conda\\envs\\drought_lstm_base\\Lib\\site-packages\\statsmodels\\tsa\\base\\tsa_model.py:837: FutureWarning: No supported index is available. In the next version, calling this method in a model without a supported index will result in an exception.\n",
      "  return get_prediction_index(\n"
     ]
    },
    {
     "name": "stdout",
     "output_type": "stream",
     "text": [
      "  lat8.75_lon98.25 - Train Set:      RMSE=7395.4710, MAE=59.4854, R2=0.7513\n",
      "  lat8.75_lon98.25 - Validation Set: RMSE=7444.9806, MAE=67.3382, R2=0.7949\n",
      "  lat8.75_lon98.25 - Test Set:       RMSE=17353.5809, MAE=100.3395, R2=0.5677\n",
      "\n",
      "--- Processing Location: lat8.75_lon98.75 ---\n",
      "  Warning: Could not infer frequency for lat8.75_lon98.75.\n",
      "  Stationarity (p-value): 0.0000 -> Stationary\n",
      "  Running auto_arima with seasonal period m=12...\n",
      "  Best model found for lat8.75_lon98.75: (0, 0, 0) (2, 1, 0, 12)\n"
     ]
    },
    {
     "name": "stderr",
     "output_type": "stream",
     "text": [
      "c:\\Users\\peera\\.conda\\envs\\drought_lstm_base\\Lib\\site-packages\\statsmodels\\tsa\\base\\tsa_model.py:837: FutureWarning: No supported index is available. In the next version, calling this method in a model without a supported index will result in an exception.\n",
      "  return get_prediction_index(\n"
     ]
    },
    {
     "name": "stdout",
     "output_type": "stream",
     "text": [
      "  lat8.75_lon98.75 - Train Set:      RMSE=5965.1239, MAE=55.5569, R2=0.6910\n",
      "  lat8.75_lon98.75 - Validation Set: RMSE=5803.6456, MAE=59.3523, R2=0.7406\n",
      "  lat8.75_lon98.75 - Test Set:       RMSE=12538.9052, MAE=86.1093, R2=0.5259\n",
      "\n",
      "--- Processing Location: lat8.75_lon99.25 ---\n",
      "  Warning: Could not infer frequency for lat8.75_lon99.25.\n",
      "  Stationarity (p-value): 0.0000 -> Stationary\n",
      "  Running auto_arima with seasonal period m=12...\n",
      "  Best model found for lat8.75_lon99.25: (0, 0, 0) (2, 1, 0, 12)\n"
     ]
    },
    {
     "name": "stderr",
     "output_type": "stream",
     "text": [
      "c:\\Users\\peera\\.conda\\envs\\drought_lstm_base\\Lib\\site-packages\\statsmodels\\tsa\\base\\tsa_model.py:837: FutureWarning: No supported index is available. In the next version, calling this method in a model without a supported index will result in an exception.\n",
      "  return get_prediction_index(\n"
     ]
    },
    {
     "name": "stdout",
     "output_type": "stream",
     "text": [
      "  lat8.75_lon99.25 - Train Set:      RMSE=4776.9394, MAE=49.4950, R2=0.6057\n",
      "  lat8.75_lon99.25 - Validation Set: RMSE=6266.8366, MAE=54.3086, R2=0.4797\n",
      "  lat8.75_lon99.25 - Test Set:       RMSE=9096.4522, MAE=69.9725, R2=0.5041\n",
      "\n",
      "--- Processing Location: lat8.75_lon99.75 ---\n",
      "  Warning: Could not infer frequency for lat8.75_lon99.75.\n",
      "  Stationarity (p-value): 0.0000 -> Stationary\n",
      "  Running auto_arima with seasonal period m=12...\n",
      "  Best model found for lat8.75_lon99.75: (3, 0, 0) (2, 1, 0, 12)\n"
     ]
    },
    {
     "name": "stderr",
     "output_type": "stream",
     "text": [
      "c:\\Users\\peera\\.conda\\envs\\drought_lstm_base\\Lib\\site-packages\\statsmodels\\tsa\\base\\tsa_model.py:837: FutureWarning: No supported index is available. In the next version, calling this method in a model without a supported index will result in an exception.\n",
      "  return get_prediction_index(\n"
     ]
    },
    {
     "name": "stdout",
     "output_type": "stream",
     "text": [
      "  lat8.75_lon99.75 - Train Set:      RMSE=7518.4958, MAE=57.1127, R2=0.6217\n",
      "  lat8.75_lon99.75 - Validation Set: RMSE=11791.1185, MAE=63.5222, R2=0.3557\n",
      "  lat8.75_lon99.75 - Test Set:       RMSE=10566.1109, MAE=69.4213, R2=0.6122\n",
      "\n",
      "--- Processing Location: lat9.25_lon98.25 ---\n",
      "  Warning: Could not infer frequency for lat9.25_lon98.25.\n",
      "  Stationarity (p-value): 0.0000 -> Stationary\n",
      "  Running auto_arima with seasonal period m=12...\n",
      "  Best model found for lat9.25_lon98.25: (0, 0, 0) (2, 1, 0, 12)\n"
     ]
    },
    {
     "name": "stderr",
     "output_type": "stream",
     "text": [
      "c:\\Users\\peera\\.conda\\envs\\drought_lstm_base\\Lib\\site-packages\\statsmodels\\tsa\\base\\tsa_model.py:837: FutureWarning: No supported index is available. In the next version, calling this method in a model without a supported index will result in an exception.\n",
      "  return get_prediction_index(\n"
     ]
    },
    {
     "name": "stdout",
     "output_type": "stream",
     "text": [
      "  lat9.25_lon98.25 - Train Set:      RMSE=11644.1006, MAE=71.2605, R2=0.7496\n",
      "  lat9.25_lon98.25 - Validation Set: RMSE=14608.9811, MAE=91.8607, R2=0.7668\n",
      "  lat9.25_lon98.25 - Test Set:       RMSE=20527.3107, MAE=103.5669, R2=0.6229\n",
      "\n",
      "--- Processing Location: lat9.25_lon98.75 ---\n",
      "  Warning: Could not infer frequency for lat9.25_lon98.75.\n",
      "  Stationarity (p-value): 0.0000 -> Stationary\n",
      "  Running auto_arima with seasonal period m=12...\n",
      "  Best model found for lat9.25_lon98.75: (0, 0, 0) (2, 1, 0, 12)\n"
     ]
    },
    {
     "name": "stderr",
     "output_type": "stream",
     "text": [
      "c:\\Users\\peera\\.conda\\envs\\drought_lstm_base\\Lib\\site-packages\\statsmodels\\tsa\\base\\tsa_model.py:837: FutureWarning: No supported index is available. In the next version, calling this method in a model without a supported index will result in an exception.\n",
      "  return get_prediction_index(\n"
     ]
    },
    {
     "name": "stdout",
     "output_type": "stream",
     "text": [
      "  lat9.25_lon98.75 - Train Set:      RMSE=8897.6071, MAE=66.2334, R2=0.7037\n",
      "  lat9.25_lon98.75 - Validation Set: RMSE=10273.6273, MAE=76.6684, R2=0.7467\n",
      "  lat9.25_lon98.75 - Test Set:       RMSE=14460.2704, MAE=89.0681, R2=0.5770\n",
      "\n",
      "--- Processing Location: lat9.25_lon99.25 ---\n",
      "  Warning: Could not infer frequency for lat9.25_lon99.25.\n",
      "  Stationarity (p-value): 0.0000 -> Stationary\n",
      "  Running auto_arima with seasonal period m=12...\n",
      "  Best model found for lat9.25_lon99.25: (0, 0, 0) (2, 1, 0, 12)\n"
     ]
    },
    {
     "name": "stderr",
     "output_type": "stream",
     "text": [
      "c:\\Users\\peera\\.conda\\envs\\drought_lstm_base\\Lib\\site-packages\\statsmodels\\tsa\\base\\tsa_model.py:837: FutureWarning: No supported index is available. In the next version, calling this method in a model without a supported index will result in an exception.\n",
      "  return get_prediction_index(\n"
     ]
    },
    {
     "name": "stdout",
     "output_type": "stream",
     "text": [
      "  lat9.25_lon99.25 - Train Set:      RMSE=4991.1020, MAE=50.0098, R2=0.6229\n",
      "  lat9.25_lon99.25 - Validation Set: RMSE=5918.8595, MAE=55.7541, R2=0.6298\n",
      "  lat9.25_lon99.25 - Test Set:       RMSE=8003.8144, MAE=64.9809, R2=0.5069\n",
      "\n",
      "--- Processing Location: lat9.25_lon99.75 ---\n",
      "  Warning: Could not infer frequency for lat9.25_lon99.75.\n",
      "  Stationarity (p-value): 0.0000 -> Stationary\n",
      "  Running auto_arima with seasonal period m=12...\n",
      "  Best model found for lat9.25_lon99.75: (0, 0, 1) (2, 1, 0, 12)\n"
     ]
    },
    {
     "name": "stderr",
     "output_type": "stream",
     "text": [
      "c:\\Users\\peera\\.conda\\envs\\drought_lstm_base\\Lib\\site-packages\\statsmodels\\tsa\\base\\tsa_model.py:837: FutureWarning: No supported index is available. In the next version, calling this method in a model without a supported index will result in an exception.\n",
      "  return get_prediction_index(\n"
     ]
    },
    {
     "name": "stdout",
     "output_type": "stream",
     "text": [
      "  lat9.25_lon99.75 - Train Set:      RMSE=5399.0238, MAE=47.6285, R2=0.6463\n",
      "  lat9.25_lon99.75 - Validation Set: RMSE=7927.9109, MAE=52.5499, R2=0.4111\n",
      "  lat9.25_lon99.75 - Test Set:       RMSE=9997.5542, MAE=66.2383, R2=0.5734\n",
      "\n",
      "--- Processing Location: lat9.75_lon98.75 ---\n",
      "  Warning: Could not infer frequency for lat9.75_lon98.75.\n",
      "  Stationarity (p-value): 0.0000 -> Stationary\n",
      "  Running auto_arima with seasonal period m=12...\n",
      "  Best model found for lat9.75_lon98.75: (0, 0, 0) (2, 1, 0, 12)\n"
     ]
    },
    {
     "name": "stderr",
     "output_type": "stream",
     "text": [
      "c:\\Users\\peera\\.conda\\envs\\drought_lstm_base\\Lib\\site-packages\\statsmodels\\tsa\\base\\tsa_model.py:837: FutureWarning: No supported index is available. In the next version, calling this method in a model without a supported index will result in an exception.\n",
      "  return get_prediction_index(\n"
     ]
    },
    {
     "name": "stdout",
     "output_type": "stream",
     "text": [
      "  lat9.75_lon98.75 - Train Set:      RMSE=11503.7787, MAE=69.6986, R2=0.7873\n",
      "  lat9.75_lon98.75 - Validation Set: RMSE=12684.3027, MAE=86.0786, R2=0.8147\n",
      "  lat9.75_lon98.75 - Test Set:       RMSE=25990.4571, MAE=114.7353, R2=0.5956\n",
      "\n",
      "--- Processing Location: lat10.25_lon98.75 ---\n",
      "  Warning: Could not infer frequency for lat10.25_lon98.75.\n",
      "  Stationarity (p-value): 0.0000 -> Stationary\n",
      "  Running auto_arima with seasonal period m=12...\n",
      "  Best model found for lat10.25_lon98.75: (0, 0, 0) (2, 1, 0, 12)\n"
     ]
    },
    {
     "name": "stderr",
     "output_type": "stream",
     "text": [
      "c:\\Users\\peera\\.conda\\envs\\drought_lstm_base\\Lib\\site-packages\\statsmodels\\tsa\\base\\tsa_model.py:837: FutureWarning: No supported index is available. In the next version, calling this method in a model without a supported index will result in an exception.\n",
      "  return get_prediction_index(\n"
     ]
    },
    {
     "name": "stdout",
     "output_type": "stream",
     "text": [
      "  lat10.25_lon98.75 - Train Set:      RMSE=13856.5414, MAE=77.6437, R2=0.7609\n",
      "  lat10.25_lon98.75 - Validation Set: RMSE=20256.6665, MAE=104.6150, R2=0.7493\n",
      "  lat10.25_lon98.75 - Test Set:       RMSE=24435.1111, MAE=108.0695, R2=0.5803\n",
      "\n",
      "--- Processing Location: lat10.75_lon99.25 ---\n",
      "  Warning: Could not infer frequency for lat10.75_lon99.25.\n",
      "  Stationarity (p-value): 0.0000 -> Stationary\n",
      "  Running auto_arima with seasonal period m=12...\n",
      "  Best model found for lat10.75_lon99.25: (0, 0, 0) (2, 1, 0, 12)\n"
     ]
    },
    {
     "name": "stderr",
     "output_type": "stream",
     "text": [
      "c:\\Users\\peera\\.conda\\envs\\drought_lstm_base\\Lib\\site-packages\\statsmodels\\tsa\\base\\tsa_model.py:837: FutureWarning: No supported index is available. In the next version, calling this method in a model without a supported index will result in an exception.\n",
      "  return get_prediction_index(\n"
     ]
    },
    {
     "name": "stdout",
     "output_type": "stream",
     "text": [
      "  lat10.75_lon99.25 - Train Set:      RMSE=5808.7925, MAE=56.0333, R2=0.5933\n",
      "  lat10.75_lon99.25 - Validation Set: RMSE=8269.0443, MAE=78.8930, R2=0.4740\n",
      "  lat10.75_lon99.25 - Test Set:       RMSE=15169.7668, MAE=93.4482, R2=0.2707\n",
      "\n",
      "--- Processing Location: lat11.25_lon99.25 ---\n",
      "  Warning: Could not infer frequency for lat11.25_lon99.25.\n",
      "  Stationarity (p-value): 0.0000 -> Stationary\n",
      "  Running auto_arima with seasonal period m=12...\n",
      "  Best model found for lat11.25_lon99.25: (0, 0, 0) (2, 1, 0, 12)\n"
     ]
    },
    {
     "name": "stderr",
     "output_type": "stream",
     "text": [
      "c:\\Users\\peera\\.conda\\envs\\drought_lstm_base\\Lib\\site-packages\\statsmodels\\tsa\\base\\tsa_model.py:837: FutureWarning: No supported index is available. In the next version, calling this method in a model without a supported index will result in an exception.\n",
      "  return get_prediction_index(\n"
     ]
    },
    {
     "name": "stdout",
     "output_type": "stream",
     "text": [
      "  lat11.25_lon99.25 - Train Set:      RMSE=5501.2251, MAE=54.8132, R2=0.6453\n",
      "  lat11.25_lon99.25 - Validation Set: RMSE=6555.4258, MAE=70.3109, R2=0.6050\n",
      "  lat11.25_lon99.25 - Test Set:       RMSE=14028.4938, MAE=88.1801, R2=0.3412\n",
      "\n",
      "--- Processing Location: lat11.75_lon99.75 ---\n",
      "  Warning: Could not infer frequency for lat11.75_lon99.75.\n",
      "  Stationarity (p-value): 0.0000 -> Stationary\n",
      "  Running auto_arima with seasonal period m=12...\n",
      "  Best model found for lat11.75_lon99.75: (0, 0, 0) (2, 1, 0, 12)\n"
     ]
    },
    {
     "name": "stderr",
     "output_type": "stream",
     "text": [
      "c:\\Users\\peera\\.conda\\envs\\drought_lstm_base\\Lib\\site-packages\\statsmodels\\tsa\\base\\tsa_model.py:837: FutureWarning: No supported index is available. In the next version, calling this method in a model without a supported index will result in an exception.\n",
      "  return get_prediction_index(\n"
     ]
    },
    {
     "name": "stdout",
     "output_type": "stream",
     "text": [
      "  lat11.75_lon99.75 - Train Set:      RMSE=3946.0933, MAE=43.8331, R2=0.4875\n",
      "  lat11.75_lon99.75 - Validation Set: RMSE=5303.7102, MAE=54.0807, R2=0.2182\n",
      "  lat11.75_lon99.75 - Test Set:       RMSE=6772.1574, MAE=64.1902, R2=0.3272\n",
      "\n",
      "--- Processing Location: lat11.75_lon102.75 ---\n",
      "  Warning: Could not infer frequency for lat11.75_lon102.75.\n",
      "  Stationarity (p-value): 0.0000 -> Stationary\n",
      "  Running auto_arima with seasonal period m=12...\n",
      "  Best model found for lat11.75_lon102.75: (0, 0, 0) (2, 1, 0, 12)\n"
     ]
    },
    {
     "name": "stderr",
     "output_type": "stream",
     "text": [
      "c:\\Users\\peera\\.conda\\envs\\drought_lstm_base\\Lib\\site-packages\\statsmodels\\tsa\\base\\tsa_model.py:837: FutureWarning: No supported index is available. In the next version, calling this method in a model without a supported index will result in an exception.\n",
      "  return get_prediction_index(\n"
     ]
    },
    {
     "name": "stdout",
     "output_type": "stream",
     "text": [
      "  lat11.75_lon102.75 - Train Set:      RMSE=26573.7195, MAE=98.5699, R2=0.7649\n",
      "  lat11.75_lon102.75 - Validation Set: RMSE=17970.0094, MAE=97.7627, R2=0.8416\n",
      "  lat11.75_lon102.75 - Test Set:       RMSE=18037.3355, MAE=85.3547, R2=0.8318\n",
      "\n",
      "--- Processing Location: lat12.25_lon99.75 ---\n",
      "  Warning: Could not infer frequency for lat12.25_lon99.75.\n",
      "  Stationarity (p-value): 0.0000 -> Stationary\n",
      "  Running auto_arima with seasonal period m=12...\n",
      "  Best model found for lat12.25_lon99.75: (1, 0, 0) (2, 1, 0, 12)\n"
     ]
    },
    {
     "name": "stderr",
     "output_type": "stream",
     "text": [
      "c:\\Users\\peera\\.conda\\envs\\drought_lstm_base\\Lib\\site-packages\\statsmodels\\tsa\\base\\tsa_model.py:837: FutureWarning: No supported index is available. In the next version, calling this method in a model without a supported index will result in an exception.\n",
      "  return get_prediction_index(\n"
     ]
    },
    {
     "name": "stdout",
     "output_type": "stream",
     "text": [
      "  lat12.25_lon99.75 - Train Set:      RMSE=3428.8209, MAE=40.4633, R2=0.5369\n",
      "  lat12.25_lon99.75 - Validation Set: RMSE=1552.7897, MAE=31.4202, R2=0.6725\n",
      "  lat12.25_lon99.75 - Test Set:       RMSE=4395.5836, MAE=47.9100, R2=0.5495\n",
      "\n",
      "--- Processing Location: lat12.25_lon102.25 ---\n",
      "  Warning: Could not infer frequency for lat12.25_lon102.25.\n",
      "  Stationarity (p-value): 0.0000 -> Stationary\n",
      "  Running auto_arima with seasonal period m=12...\n",
      "  Best model found for lat12.25_lon102.25: (0, 0, 0) (2, 1, 0, 12)\n"
     ]
    },
    {
     "name": "stderr",
     "output_type": "stream",
     "text": [
      "c:\\Users\\peera\\.conda\\envs\\drought_lstm_base\\Lib\\site-packages\\statsmodels\\tsa\\base\\tsa_model.py:837: FutureWarning: No supported index is available. In the next version, calling this method in a model without a supported index will result in an exception.\n",
      "  return get_prediction_index(\n"
     ]
    },
    {
     "name": "stdout",
     "output_type": "stream",
     "text": [
      "  lat12.25_lon102.25 - Train Set:      RMSE=17374.0281, MAE=85.9076, R2=0.7269\n",
      "  lat12.25_lon102.25 - Validation Set: RMSE=10389.1797, MAE=78.9650, R2=0.8397\n",
      "  lat12.25_lon102.25 - Test Set:       RMSE=18068.0696, MAE=96.8300, R2=0.7123\n",
      "\n",
      "--- Processing Location: lat12.75_lon99.25 ---\n",
      "  Warning: Could not infer frequency for lat12.75_lon99.25.\n",
      "  Stationarity (p-value): 0.0000 -> Stationary\n",
      "  Running auto_arima with seasonal period m=12...\n",
      "  Best model found for lat12.75_lon99.25: (2, 0, 1) (2, 1, 0, 12)\n"
     ]
    },
    {
     "name": "stderr",
     "output_type": "stream",
     "text": [
      "c:\\Users\\peera\\.conda\\envs\\drought_lstm_base\\Lib\\site-packages\\statsmodels\\tsa\\base\\tsa_model.py:837: FutureWarning: No supported index is available. In the next version, calling this method in a model without a supported index will result in an exception.\n",
      "  return get_prediction_index(\n"
     ]
    },
    {
     "name": "stdout",
     "output_type": "stream",
     "text": [
      "  lat12.75_lon99.25 - Train Set:      RMSE=8261.9607, MAE=58.8566, R2=0.7450\n",
      "  lat12.75_lon99.25 - Validation Set: RMSE=8203.7758, MAE=71.3134, R2=0.7652\n",
      "  lat12.75_lon99.25 - Test Set:       RMSE=15679.6260, MAE=84.7030, R2=0.5009\n",
      "\n",
      "--- Processing Location: lat12.75_lon99.75 ---\n",
      "  Warning: Could not infer frequency for lat12.75_lon99.75.\n",
      "  Stationarity (p-value): 0.0000 -> Stationary\n",
      "  Running auto_arima with seasonal period m=12...\n",
      "  Best model found for lat12.75_lon99.75: (0, 0, 0) (2, 1, 0, 12)\n"
     ]
    },
    {
     "name": "stderr",
     "output_type": "stream",
     "text": [
      "c:\\Users\\peera\\.conda\\envs\\drought_lstm_base\\Lib\\site-packages\\statsmodels\\tsa\\base\\tsa_model.py:837: FutureWarning: No supported index is available. In the next version, calling this method in a model without a supported index will result in an exception.\n",
      "  return get_prediction_index(\n"
     ]
    },
    {
     "name": "stdout",
     "output_type": "stream",
     "text": [
      "  lat12.75_lon99.75 - Train Set:      RMSE=2980.9166, MAE=36.3335, R2=0.6464\n",
      "  lat12.75_lon99.75 - Validation Set: RMSE=2971.1370, MAE=43.4462, R2=0.6210\n",
      "  lat12.75_lon99.75 - Test Set:       RMSE=5420.3745, MAE=53.0957, R2=0.4716\n",
      "\n",
      "--- Processing Location: lat12.75_lon101.25 ---\n",
      "  Warning: Could not infer frequency for lat12.75_lon101.25.\n",
      "  Stationarity (p-value): 0.0000 -> Stationary\n",
      "  Running auto_arima with seasonal period m=12...\n",
      "  Best model found for lat12.75_lon101.25: (0, 0, 0) (2, 1, 0, 12)\n"
     ]
    },
    {
     "name": "stderr",
     "output_type": "stream",
     "text": [
      "c:\\Users\\peera\\.conda\\envs\\drought_lstm_base\\Lib\\site-packages\\statsmodels\\tsa\\base\\tsa_model.py:837: FutureWarning: No supported index is available. In the next version, calling this method in a model without a supported index will result in an exception.\n",
      "  return get_prediction_index(\n"
     ]
    },
    {
     "name": "stdout",
     "output_type": "stream",
     "text": [
      "  lat12.75_lon101.25 - Train Set:      RMSE=4012.9916, MAE=44.0977, R2=0.6764\n",
      "  lat12.75_lon101.25 - Validation Set: RMSE=3954.9850, MAE=46.7411, R2=0.7009\n",
      "  lat12.75_lon101.25 - Test Set:       RMSE=6976.8388, MAE=63.3487, R2=0.5457\n",
      "\n",
      "--- Processing Location: lat12.75_lon101.75 ---\n",
      "  Warning: Could not infer frequency for lat12.75_lon101.75.\n",
      "  Stationarity (p-value): 0.0000 -> Stationary\n",
      "  Running auto_arima with seasonal period m=12...\n",
      "  Best model found for lat12.75_lon101.75: (0, 0, 0) (2, 1, 0, 12)\n"
     ]
    },
    {
     "name": "stderr",
     "output_type": "stream",
     "text": [
      "c:\\Users\\peera\\.conda\\envs\\drought_lstm_base\\Lib\\site-packages\\statsmodels\\tsa\\base\\tsa_model.py:837: FutureWarning: No supported index is available. In the next version, calling this method in a model without a supported index will result in an exception.\n",
      "  return get_prediction_index(\n"
     ]
    },
    {
     "name": "stdout",
     "output_type": "stream",
     "text": [
      "  lat12.75_lon101.75 - Train Set:      RMSE=7576.7347, MAE=59.4712, R2=0.7052\n",
      "  lat12.75_lon101.75 - Validation Set: RMSE=5400.0458, MAE=55.5845, R2=0.7981\n",
      "  lat12.75_lon101.75 - Test Set:       RMSE=8522.7884, MAE=68.8292, R2=0.6919\n",
      "\n",
      "--- Processing Location: lat12.75_lon102.25 ---\n",
      "  Warning: Could not infer frequency for lat12.75_lon102.25.\n",
      "  Stationarity (p-value): 0.0000 -> Stationary\n",
      "  Running auto_arima with seasonal period m=12...\n",
      "  Best model found for lat12.75_lon102.25: (0, 0, 0) (2, 1, 0, 12)\n"
     ]
    },
    {
     "name": "stderr",
     "output_type": "stream",
     "text": [
      "c:\\Users\\peera\\.conda\\envs\\drought_lstm_base\\Lib\\site-packages\\statsmodels\\tsa\\base\\tsa_model.py:837: FutureWarning: No supported index is available. In the next version, calling this method in a model without a supported index will result in an exception.\n",
      "  return get_prediction_index(\n"
     ]
    },
    {
     "name": "stdout",
     "output_type": "stream",
     "text": [
      "  lat12.75_lon102.25 - Train Set:      RMSE=9735.0008, MAE=65.8849, R2=0.7386\n",
      "  lat12.75_lon102.25 - Validation Set: RMSE=6721.5738, MAE=62.3602, R2=0.8207\n",
      "  lat12.75_lon102.25 - Test Set:       RMSE=10886.2276, MAE=77.4330, R2=0.7238\n",
      "\n",
      "--- Processing Location: lat13.25_lon99.25 ---\n",
      "  Warning: Could not infer frequency for lat13.25_lon99.25.\n",
      "  Stationarity (p-value): 0.0000 -> Stationary\n",
      "  Running auto_arima with seasonal period m=12...\n",
      "  Best model found for lat13.25_lon99.25: (0, 0, 0) (2, 1, 0, 12)\n"
     ]
    },
    {
     "name": "stderr",
     "output_type": "stream",
     "text": [
      "c:\\Users\\peera\\.conda\\envs\\drought_lstm_base\\Lib\\site-packages\\statsmodels\\tsa\\base\\tsa_model.py:837: FutureWarning: No supported index is available. In the next version, calling this method in a model without a supported index will result in an exception.\n",
      "  return get_prediction_index(\n"
     ]
    },
    {
     "name": "stdout",
     "output_type": "stream",
     "text": [
      "  lat13.25_lon99.25 - Train Set:      RMSE=7836.3042, MAE=56.9000, R2=0.7651\n",
      "  lat13.25_lon99.25 - Validation Set: RMSE=6605.1179, MAE=63.3831, R2=0.8146\n",
      "  lat13.25_lon99.25 - Test Set:       RMSE=12747.9356, MAE=75.4298, R2=0.6018\n",
      "\n",
      "--- Processing Location: lat13.25_lon99.75 ---\n",
      "  Warning: Could not infer frequency for lat13.25_lon99.75.\n",
      "  Stationarity (p-value): 0.0000 -> Stationary\n",
      "  Running auto_arima with seasonal period m=12...\n",
      "  Best model found for lat13.25_lon99.75: (0, 0, 0) (2, 1, 0, 12)\n"
     ]
    },
    {
     "name": "stderr",
     "output_type": "stream",
     "text": [
      "c:\\Users\\peera\\.conda\\envs\\drought_lstm_base\\Lib\\site-packages\\statsmodels\\tsa\\base\\tsa_model.py:837: FutureWarning: No supported index is available. In the next version, calling this method in a model without a supported index will result in an exception.\n",
      "  return get_prediction_index(\n"
     ]
    },
    {
     "name": "stdout",
     "output_type": "stream",
     "text": [
      "  lat13.25_lon99.75 - Train Set:      RMSE=2940.0091, MAE=36.0904, R2=0.6998\n",
      "  lat13.25_lon99.75 - Validation Set: RMSE=2917.6890, MAE=41.7282, R2=0.7015\n",
      "  lat13.25_lon99.75 - Test Set:       RMSE=4650.7398, MAE=49.1948, R2=0.5692\n",
      "\n",
      "--- Processing Location: lat13.25_lon101.25 ---\n",
      "  Warning: Could not infer frequency for lat13.25_lon101.25.\n",
      "  Stationarity (p-value): 0.0000 -> Stationary\n",
      "  Running auto_arima with seasonal period m=12...\n",
      "  Best model found for lat13.25_lon101.25: (0, 0, 0) (2, 1, 0, 12)\n"
     ]
    },
    {
     "name": "stderr",
     "output_type": "stream",
     "text": [
      "c:\\Users\\peera\\.conda\\envs\\drought_lstm_base\\Lib\\site-packages\\statsmodels\\tsa\\base\\tsa_model.py:837: FutureWarning: No supported index is available. In the next version, calling this method in a model without a supported index will result in an exception.\n",
      "  return get_prediction_index(\n"
     ]
    },
    {
     "name": "stdout",
     "output_type": "stream",
     "text": [
      "  lat13.25_lon101.25 - Train Set:      RMSE=3580.3431, MAE=40.4313, R2=0.7162\n",
      "  lat13.25_lon101.25 - Validation Set: RMSE=3423.0680, MAE=42.2688, R2=0.7382\n",
      "  lat13.25_lon101.25 - Test Set:       RMSE=5714.8008, MAE=56.5706, R2=0.6235\n",
      "\n",
      "--- Processing Location: lat13.25_lon101.75 ---\n",
      "  Warning: Could not infer frequency for lat13.25_lon101.75.\n",
      "  Stationarity (p-value): 0.0000 -> Stationary\n",
      "  Running auto_arima with seasonal period m=12...\n",
      "  Best model found for lat13.25_lon101.75: (0, 0, 0) (2, 1, 0, 12)\n"
     ]
    },
    {
     "name": "stderr",
     "output_type": "stream",
     "text": [
      "c:\\Users\\peera\\.conda\\envs\\drought_lstm_base\\Lib\\site-packages\\statsmodels\\tsa\\base\\tsa_model.py:837: FutureWarning: No supported index is available. In the next version, calling this method in a model without a supported index will result in an exception.\n",
      "  return get_prediction_index(\n"
     ]
    },
    {
     "name": "stdout",
     "output_type": "stream",
     "text": [
      "  lat13.25_lon101.75 - Train Set:      RMSE=5121.0543, MAE=49.5318, R2=0.7175\n",
      "  lat13.25_lon101.75 - Validation Set: RMSE=4270.5763, MAE=49.4097, R2=0.7752\n",
      "  lat13.25_lon101.75 - Test Set:       RMSE=5845.3708, MAE=56.8399, R2=0.7238\n",
      "\n",
      "--- Processing Location: lat13.25_lon102.25 ---\n",
      "  Warning: Could not infer frequency for lat13.25_lon102.25.\n",
      "  Stationarity (p-value): 0.0000 -> Stationary\n",
      "  Running auto_arima with seasonal period m=12...\n",
      "  Best model found for lat13.25_lon102.25: (0, 0, 0) (2, 1, 0, 12)\n"
     ]
    },
    {
     "name": "stderr",
     "output_type": "stream",
     "text": [
      "c:\\Users\\peera\\.conda\\envs\\drought_lstm_base\\Lib\\site-packages\\statsmodels\\tsa\\base\\tsa_model.py:837: FutureWarning: No supported index is available. In the next version, calling this method in a model without a supported index will result in an exception.\n",
      "  return get_prediction_index(\n"
     ]
    },
    {
     "name": "stdout",
     "output_type": "stream",
     "text": [
      "  lat13.25_lon102.25 - Train Set:      RMSE=5441.9794, MAE=50.5300, R2=0.7179\n",
      "  lat13.25_lon102.25 - Validation Set: RMSE=5957.4666, MAE=58.7617, R2=0.7398\n",
      "  lat13.25_lon102.25 - Test Set:       RMSE=5509.8259, MAE=51.5331, R2=0.7550\n",
      "\n",
      "--- Processing Location: lat13.75_lon99.25 ---\n",
      "  Warning: Could not infer frequency for lat13.75_lon99.25.\n",
      "  Stationarity (p-value): 0.0000 -> Stationary\n",
      "  Running auto_arima with seasonal period m=12...\n",
      "  Best model found for lat13.75_lon99.25: (0, 0, 0) (2, 1, 0, 12)\n"
     ]
    },
    {
     "name": "stderr",
     "output_type": "stream",
     "text": [
      "c:\\Users\\peera\\.conda\\envs\\drought_lstm_base\\Lib\\site-packages\\statsmodels\\tsa\\base\\tsa_model.py:837: FutureWarning: No supported index is available. In the next version, calling this method in a model without a supported index will result in an exception.\n",
      "  return get_prediction_index(\n"
     ]
    },
    {
     "name": "stdout",
     "output_type": "stream",
     "text": [
      "  lat13.75_lon99.25 - Train Set:      RMSE=6376.0947, MAE=50.9730, R2=0.7653\n",
      "  lat13.75_lon99.25 - Validation Set: RMSE=3997.5961, MAE=47.9941, R2=0.8513\n",
      "  lat13.75_lon99.25 - Test Set:       RMSE=7117.8743, MAE=56.0160, R2=0.7113\n",
      "\n",
      "--- Processing Location: lat13.75_lon99.75 ---\n",
      "  Warning: Could not infer frequency for lat13.75_lon99.75.\n",
      "  Stationarity (p-value): 0.0000 -> Stationary\n",
      "  Running auto_arima with seasonal period m=12...\n",
      "  Best model found for lat13.75_lon99.75: (0, 0, 0) (2, 1, 0, 12)\n"
     ]
    },
    {
     "name": "stderr",
     "output_type": "stream",
     "text": [
      "c:\\Users\\peera\\.conda\\envs\\drought_lstm_base\\Lib\\site-packages\\statsmodels\\tsa\\base\\tsa_model.py:837: FutureWarning: No supported index is available. In the next version, calling this method in a model without a supported index will result in an exception.\n",
      "  return get_prediction_index(\n"
     ]
    },
    {
     "name": "stdout",
     "output_type": "stream",
     "text": [
      "  lat13.75_lon99.75 - Train Set:      RMSE=2227.6264, MAE=31.6297, R2=0.7103\n",
      "  lat13.75_lon99.75 - Validation Set: RMSE=1795.8126, MAE=29.6641, R2=0.7390\n",
      "  lat13.75_lon99.75 - Test Set:       RMSE=1888.6667, MAE=31.8742, R2=0.7649\n",
      "\n",
      "--- Processing Location: lat13.75_lon100.25 ---\n",
      "  Warning: Could not infer frequency for lat13.75_lon100.25.\n",
      "  Stationarity (p-value): 0.0000 -> Stationary\n",
      "  Running auto_arima with seasonal period m=12...\n",
      "  Best model found for lat13.75_lon100.25: (2, 0, 0) (2, 1, 0, 12)\n"
     ]
    },
    {
     "name": "stderr",
     "output_type": "stream",
     "text": [
      "c:\\Users\\peera\\.conda\\envs\\drought_lstm_base\\Lib\\site-packages\\statsmodels\\tsa\\base\\tsa_model.py:837: FutureWarning: No supported index is available. In the next version, calling this method in a model without a supported index will result in an exception.\n",
      "  return get_prediction_index(\n"
     ]
    },
    {
     "name": "stdout",
     "output_type": "stream",
     "text": [
      "  lat13.75_lon100.25 - Train Set:      RMSE=2345.0988, MAE=33.4160, R2=0.7069\n",
      "  lat13.75_lon100.25 - Validation Set: RMSE=2225.1636, MAE=31.2119, R2=0.7007\n",
      "  lat13.75_lon100.25 - Test Set:       RMSE=3038.4346, MAE=40.6311, R2=0.6893\n",
      "\n",
      "--- Processing Location: lat13.75_lon100.75 ---\n",
      "  Warning: Could not infer frequency for lat13.75_lon100.75.\n",
      "  Stationarity (p-value): 0.0000 -> Stationary\n",
      "  Running auto_arima with seasonal period m=12...\n",
      "  Best model found for lat13.75_lon100.75: (0, 0, 0) (2, 1, 0, 12)\n"
     ]
    },
    {
     "name": "stderr",
     "output_type": "stream",
     "text": [
      "c:\\Users\\peera\\.conda\\envs\\drought_lstm_base\\Lib\\site-packages\\statsmodels\\tsa\\base\\tsa_model.py:837: FutureWarning: No supported index is available. In the next version, calling this method in a model without a supported index will result in an exception.\n",
      "  return get_prediction_index(\n"
     ]
    },
    {
     "name": "stdout",
     "output_type": "stream",
     "text": [
      "  lat13.75_lon100.75 - Train Set:      RMSE=2967.4236, MAE=36.0207, R2=0.7484\n",
      "  lat13.75_lon100.75 - Validation Set: RMSE=2176.3303, MAE=31.6012, R2=0.7988\n",
      "  lat13.75_lon100.75 - Test Set:       RMSE=2750.6249, MAE=38.9789, R2=0.7722\n",
      "\n",
      "--- Processing Location: lat13.75_lon101.25 ---\n",
      "  Warning: Could not infer frequency for lat13.75_lon101.25.\n",
      "  Stationarity (p-value): 0.0000 -> Stationary\n",
      "  Running auto_arima with seasonal period m=12...\n",
      "  Best model found for lat13.75_lon101.25: (0, 0, 0) (2, 1, 0, 12)\n"
     ]
    },
    {
     "name": "stderr",
     "output_type": "stream",
     "text": [
      "c:\\Users\\peera\\.conda\\envs\\drought_lstm_base\\Lib\\site-packages\\statsmodels\\tsa\\base\\tsa_model.py:837: FutureWarning: No supported index is available. In the next version, calling this method in a model without a supported index will result in an exception.\n",
      "  return get_prediction_index(\n"
     ]
    },
    {
     "name": "stdout",
     "output_type": "stream",
     "text": [
      "  lat13.75_lon101.25 - Train Set:      RMSE=3889.9587, MAE=40.8487, R2=0.7618\n",
      "  lat13.75_lon101.25 - Validation Set: RMSE=2874.3191, MAE=38.9280, R2=0.8217\n",
      "  lat13.75_lon101.25 - Test Set:       RMSE=6310.4818, MAE=56.9838, R2=0.6533\n",
      "\n",
      "--- Processing Location: lat13.75_lon101.75 ---\n",
      "  Warning: Could not infer frequency for lat13.75_lon101.75.\n",
      "  Stationarity (p-value): 0.0000 -> Stationary\n",
      "  Running auto_arima with seasonal period m=12...\n",
      "  Best model found for lat13.75_lon101.75: (0, 0, 2) (2, 1, 0, 12)\n"
     ]
    },
    {
     "name": "stderr",
     "output_type": "stream",
     "text": [
      "c:\\Users\\peera\\.conda\\envs\\drought_lstm_base\\Lib\\site-packages\\statsmodels\\tsa\\base\\tsa_model.py:837: FutureWarning: No supported index is available. In the next version, calling this method in a model without a supported index will result in an exception.\n",
      "  return get_prediction_index(\n"
     ]
    },
    {
     "name": "stdout",
     "output_type": "stream",
     "text": [
      "  lat13.75_lon101.75 - Train Set:      RMSE=4213.3176, MAE=45.2858, R2=0.7466\n",
      "  lat13.75_lon101.75 - Validation Set: RMSE=3117.6684, MAE=40.7345, R2=0.8245\n",
      "  lat13.75_lon101.75 - Test Set:       RMSE=7111.4612, MAE=60.7417, R2=0.6457\n",
      "\n",
      "--- Processing Location: lat13.75_lon102.25 ---\n",
      "  Warning: Could not infer frequency for lat13.75_lon102.25.\n",
      "  Stationarity (p-value): 0.0000 -> Stationary\n",
      "  Running auto_arima with seasonal period m=12...\n",
      "  Best model found for lat13.75_lon102.25: (0, 0, 2) (2, 1, 0, 12)\n"
     ]
    },
    {
     "name": "stderr",
     "output_type": "stream",
     "text": [
      "c:\\Users\\peera\\.conda\\envs\\drought_lstm_base\\Lib\\site-packages\\statsmodels\\tsa\\base\\tsa_model.py:837: FutureWarning: No supported index is available. In the next version, calling this method in a model without a supported index will result in an exception.\n",
      "  return get_prediction_index(\n"
     ]
    },
    {
     "name": "stdout",
     "output_type": "stream",
     "text": [
      "  lat13.75_lon102.25 - Train Set:      RMSE=3717.6237, MAE=43.0827, R2=0.7070\n",
      "  lat13.75_lon102.25 - Validation Set: RMSE=2780.6109, MAE=40.9118, R2=0.7838\n",
      "  lat13.75_lon102.25 - Test Set:       RMSE=4208.5157, MAE=47.9924, R2=0.7384\n",
      "\n",
      "--- Processing Location: lat14.25_lon98.75 ---\n",
      "  Warning: Could not infer frequency for lat14.25_lon98.75.\n",
      "  Stationarity (p-value): 0.0000 -> Stationary\n",
      "  Running auto_arima with seasonal period m=12...\n",
      "  Best model found for lat14.25_lon98.75: (1, 0, 2) (2, 1, 0, 12)\n"
     ]
    },
    {
     "name": "stderr",
     "output_type": "stream",
     "text": [
      "c:\\Users\\peera\\.conda\\envs\\drought_lstm_base\\Lib\\site-packages\\statsmodels\\tsa\\base\\tsa_model.py:837: FutureWarning: No supported index is available. In the next version, calling this method in a model without a supported index will result in an exception.\n",
      "  return get_prediction_index(\n"
     ]
    },
    {
     "name": "stdout",
     "output_type": "stream",
     "text": [
      "  lat14.25_lon98.75 - Train Set:      RMSE=18975.0729, MAE=79.5768, R2=0.8008\n",
      "  lat14.25_lon98.75 - Validation Set: RMSE=9815.8985, MAE=67.6677, R2=0.8935\n",
      "  lat14.25_lon98.75 - Test Set:       RMSE=18827.4708, MAE=83.6712, R2=0.7738\n",
      "\n",
      "--- Processing Location: lat14.25_lon99.25 ---\n",
      "  Warning: Could not infer frequency for lat14.25_lon99.25.\n",
      "  Stationarity (p-value): 0.0000 -> Stationary\n",
      "  Running auto_arima with seasonal period m=12...\n",
      "  Best model found for lat14.25_lon99.25: (0, 0, 0) (2, 1, 0, 12)\n"
     ]
    },
    {
     "name": "stderr",
     "output_type": "stream",
     "text": [
      "c:\\Users\\peera\\.conda\\envs\\drought_lstm_base\\Lib\\site-packages\\statsmodels\\tsa\\base\\tsa_model.py:837: FutureWarning: No supported index is available. In the next version, calling this method in a model without a supported index will result in an exception.\n",
      "  return get_prediction_index(\n"
     ]
    },
    {
     "name": "stdout",
     "output_type": "stream",
     "text": [
      "  lat14.25_lon99.25 - Train Set:      RMSE=6189.1318, MAE=49.6797, R2=0.7549\n",
      "  lat14.25_lon99.25 - Validation Set: RMSE=4201.7034, MAE=46.7407, R2=0.8273\n",
      "  lat14.25_lon99.25 - Test Set:       RMSE=7319.0078, MAE=58.1484, R2=0.6833\n",
      "\n",
      "--- Processing Location: lat14.25_lon99.75 ---\n",
      "  Warning: Could not infer frequency for lat14.25_lon99.75.\n",
      "  Stationarity (p-value): 0.0000 -> Stationary\n",
      "  Running auto_arima with seasonal period m=12...\n",
      "  Best model found for lat14.25_lon99.75: (0, 0, 2) (2, 1, 0, 12)\n"
     ]
    },
    {
     "name": "stderr",
     "output_type": "stream",
     "text": [
      "c:\\Users\\peera\\.conda\\envs\\drought_lstm_base\\Lib\\site-packages\\statsmodels\\tsa\\base\\tsa_model.py:837: FutureWarning: No supported index is available. In the next version, calling this method in a model without a supported index will result in an exception.\n",
      "  return get_prediction_index(\n"
     ]
    },
    {
     "name": "stdout",
     "output_type": "stream",
     "text": [
      "  lat14.25_lon99.75 - Train Set:      RMSE=2112.7075, MAE=30.5319, R2=0.7287\n",
      "  lat14.25_lon99.75 - Validation Set: RMSE=2134.5183, MAE=30.3681, R2=0.6901\n",
      "  lat14.25_lon99.75 - Test Set:       RMSE=2621.8066, MAE=37.0061, R2=0.7139\n",
      "\n",
      "--- Processing Location: lat14.25_lon100.25 ---\n",
      "  Warning: Could not infer frequency for lat14.25_lon100.25.\n",
      "  Stationarity (p-value): 0.0000 -> Stationary\n",
      "  Running auto_arima with seasonal period m=12...\n",
      "  Best model found for lat14.25_lon100.25: (0, 0, 0) (2, 1, 0, 12)\n"
     ]
    },
    {
     "name": "stderr",
     "output_type": "stream",
     "text": [
      "c:\\Users\\peera\\.conda\\envs\\drought_lstm_base\\Lib\\site-packages\\statsmodels\\tsa\\base\\tsa_model.py:837: FutureWarning: No supported index is available. In the next version, calling this method in a model without a supported index will result in an exception.\n",
      "  return get_prediction_index(\n"
     ]
    },
    {
     "name": "stdout",
     "output_type": "stream",
     "text": [
      "  lat14.25_lon100.25 - Train Set:      RMSE=2282.6334, MAE=32.0215, R2=0.7313\n",
      "  lat14.25_lon100.25 - Validation Set: RMSE=2066.2722, MAE=31.1469, R2=0.7216\n",
      "  lat14.25_lon100.25 - Test Set:       RMSE=2851.7911, MAE=38.4997, R2=0.7150\n",
      "\n",
      "--- Processing Location: lat14.25_lon100.75 ---\n",
      "  Warning: Could not infer frequency for lat14.25_lon100.75.\n",
      "  Stationarity (p-value): 0.0000 -> Stationary\n",
      "  Running auto_arima with seasonal period m=12...\n",
      "  Best model found for lat14.25_lon100.75: (2, 0, 0) (2, 1, 0, 12)\n"
     ]
    },
    {
     "name": "stderr",
     "output_type": "stream",
     "text": [
      "c:\\Users\\peera\\.conda\\envs\\drought_lstm_base\\Lib\\site-packages\\statsmodels\\tsa\\base\\tsa_model.py:837: FutureWarning: No supported index is available. In the next version, calling this method in a model without a supported index will result in an exception.\n",
      "  return get_prediction_index(\n"
     ]
    },
    {
     "name": "stdout",
     "output_type": "stream",
     "text": [
      "  lat14.25_lon100.75 - Train Set:      RMSE=2928.2764, MAE=35.5766, R2=0.7617\n",
      "  lat14.25_lon100.75 - Validation Set: RMSE=2150.2620, MAE=33.8012, R2=0.8075\n",
      "  lat14.25_lon100.75 - Test Set:       RMSE=4477.8029, MAE=47.7505, R2=0.6704\n",
      "\n",
      "--- Processing Location: lat14.25_lon101.25 ---\n",
      "  Warning: Could not infer frequency for lat14.25_lon101.25.\n",
      "  Stationarity (p-value): 0.0000 -> Stationary\n",
      "  Running auto_arima with seasonal period m=12...\n",
      "  Best model found for lat14.25_lon101.25: (0, 0, 0) (2, 1, 0, 12)\n"
     ]
    },
    {
     "name": "stderr",
     "output_type": "stream",
     "text": [
      "c:\\Users\\peera\\.conda\\envs\\drought_lstm_base\\Lib\\site-packages\\statsmodels\\tsa\\base\\tsa_model.py:837: FutureWarning: No supported index is available. In the next version, calling this method in a model without a supported index will result in an exception.\n",
      "  return get_prediction_index(\n"
     ]
    },
    {
     "name": "stdout",
     "output_type": "stream",
     "text": [
      "  lat14.25_lon101.25 - Train Set:      RMSE=3506.9226, MAE=38.9271, R2=0.7681\n",
      "  lat14.25_lon101.25 - Validation Set: RMSE=1727.2151, MAE=29.5780, R2=0.8539\n",
      "  lat14.25_lon101.25 - Test Set:       RMSE=4243.3109, MAE=45.8953, R2=0.7363\n",
      "\n",
      "--- Processing Location: lat14.25_lon101.75 ---\n",
      "  Warning: Could not infer frequency for lat14.25_lon101.75.\n",
      "  Stationarity (p-value): 0.0000 -> Stationary\n",
      "  Running auto_arima with seasonal period m=12...\n",
      "  Best model found for lat14.25_lon101.75: (2, 0, 0) (2, 1, 0, 12)\n"
     ]
    },
    {
     "name": "stderr",
     "output_type": "stream",
     "text": [
      "c:\\Users\\peera\\.conda\\envs\\drought_lstm_base\\Lib\\site-packages\\statsmodels\\tsa\\base\\tsa_model.py:837: FutureWarning: No supported index is available. In the next version, calling this method in a model without a supported index will result in an exception.\n",
      "  return get_prediction_index(\n"
     ]
    },
    {
     "name": "stdout",
     "output_type": "stream",
     "text": [
      "  lat14.25_lon101.75 - Train Set:      RMSE=3407.9969, MAE=41.0641, R2=0.7220\n",
      "  lat14.25_lon101.75 - Validation Set: RMSE=2511.8057, MAE=36.2377, R2=0.7647\n",
      "  lat14.25_lon101.75 - Test Set:       RMSE=3535.2585, MAE=42.1822, R2=0.7692\n",
      "\n",
      "--- Processing Location: lat14.25_lon102.25 ---\n",
      "  Warning: Could not infer frequency for lat14.25_lon102.25.\n",
      "  Stationarity (p-value): 0.0000 -> Stationary\n",
      "  Running auto_arima with seasonal period m=12...\n",
      "  Best model found for lat14.25_lon102.25: (2, 0, 0) (2, 1, 0, 12)\n"
     ]
    },
    {
     "name": "stderr",
     "output_type": "stream",
     "text": [
      "c:\\Users\\peera\\.conda\\envs\\drought_lstm_base\\Lib\\site-packages\\statsmodels\\tsa\\base\\tsa_model.py:837: FutureWarning: No supported index is available. In the next version, calling this method in a model without a supported index will result in an exception.\n",
      "  return get_prediction_index(\n"
     ]
    },
    {
     "name": "stdout",
     "output_type": "stream",
     "text": [
      "  lat14.25_lon102.25 - Train Set:      RMSE=2341.3497, MAE=34.5210, R2=0.7355\n",
      "  lat14.25_lon102.25 - Validation Set: RMSE=2129.6517, MAE=33.4140, R2=0.7703\n",
      "  lat14.25_lon102.25 - Test Set:       RMSE=3048.8012, MAE=39.6723, R2=0.7615\n",
      "\n",
      "--- Processing Location: lat14.25_lon102.75 ---\n",
      "  Warning: Could not infer frequency for lat14.25_lon102.75.\n",
      "  Stationarity (p-value): 0.0000 -> Stationary\n",
      "  Running auto_arima with seasonal period m=12...\n",
      "  Best model found for lat14.25_lon102.75: (0, 0, 0) (2, 1, 0, 12)\n"
     ]
    },
    {
     "name": "stderr",
     "output_type": "stream",
     "text": [
      "c:\\Users\\peera\\.conda\\envs\\drought_lstm_base\\Lib\\site-packages\\statsmodels\\tsa\\base\\tsa_model.py:837: FutureWarning: No supported index is available. In the next version, calling this method in a model without a supported index will result in an exception.\n",
      "  return get_prediction_index(\n"
     ]
    },
    {
     "name": "stdout",
     "output_type": "stream",
     "text": [
      "  lat14.25_lon102.75 - Train Set:      RMSE=2232.3490, MAE=32.6825, R2=0.7102\n",
      "  lat14.25_lon102.75 - Validation Set: RMSE=2134.8632, MAE=31.6470, R2=0.7020\n",
      "  lat14.25_lon102.75 - Test Set:       RMSE=2590.2159, MAE=36.9511, R2=0.7336\n",
      "\n",
      "--- Processing Location: lat14.75_lon98.75 ---\n",
      "  Warning: Could not infer frequency for lat14.75_lon98.75.\n",
      "  Stationarity (p-value): 0.0000 -> Stationary\n",
      "  Running auto_arima with seasonal period m=12...\n",
      "  Best model found for lat14.75_lon98.75: (0, 0, 0) (2, 1, 0, 12)\n"
     ]
    },
    {
     "name": "stderr",
     "output_type": "stream",
     "text": [
      "c:\\Users\\peera\\.conda\\envs\\drought_lstm_base\\Lib\\site-packages\\statsmodels\\tsa\\base\\tsa_model.py:837: FutureWarning: No supported index is available. In the next version, calling this method in a model without a supported index will result in an exception.\n",
      "  return get_prediction_index(\n"
     ]
    },
    {
     "name": "stdout",
     "output_type": "stream",
     "text": [
      "  lat14.75_lon98.75 - Train Set:      RMSE=16393.0046, MAE=76.4461, R2=0.7835\n",
      "  lat14.75_lon98.75 - Validation Set: RMSE=6406.6640, MAE=59.5449, R2=0.9069\n",
      "  lat14.75_lon98.75 - Test Set:       RMSE=11914.4406, MAE=71.2530, R2=0.8323\n",
      "\n",
      "--- Processing Location: lat14.75_lon99.25 ---\n",
      "  Warning: Could not infer frequency for lat14.75_lon99.25.\n",
      "  Stationarity (p-value): 0.0000 -> Stationary\n",
      "  Running auto_arima with seasonal period m=12...\n",
      "  Best model found for lat14.75_lon99.25: (2, 0, 0) (2, 1, 0, 12)\n"
     ]
    },
    {
     "name": "stderr",
     "output_type": "stream",
     "text": [
      "c:\\Users\\peera\\.conda\\envs\\drought_lstm_base\\Lib\\site-packages\\statsmodels\\tsa\\base\\tsa_model.py:837: FutureWarning: No supported index is available. In the next version, calling this method in a model without a supported index will result in an exception.\n",
      "  return get_prediction_index(\n"
     ]
    },
    {
     "name": "stdout",
     "output_type": "stream",
     "text": [
      "  lat14.75_lon99.25 - Train Set:      RMSE=6430.3187, MAE=52.6292, R2=0.7469\n",
      "  lat14.75_lon99.25 - Validation Set: RMSE=3952.5038, MAE=46.7190, R2=0.8318\n",
      "  lat14.75_lon99.25 - Test Set:       RMSE=6731.0950, MAE=57.1695, R2=0.7386\n",
      "\n",
      "--- Processing Location: lat14.75_lon99.75 ---\n",
      "  Warning: Could not infer frequency for lat14.75_lon99.75.\n",
      "  Stationarity (p-value): 0.0000 -> Stationary\n",
      "  Running auto_arima with seasonal period m=12...\n",
      "  Best model found for lat14.75_lon99.75: (2, 0, 0) (2, 1, 0, 12)\n"
     ]
    },
    {
     "name": "stderr",
     "output_type": "stream",
     "text": [
      "c:\\Users\\peera\\.conda\\envs\\drought_lstm_base\\Lib\\site-packages\\statsmodels\\tsa\\base\\tsa_model.py:837: FutureWarning: No supported index is available. In the next version, calling this method in a model without a supported index will result in an exception.\n",
      "  return get_prediction_index(\n"
     ]
    },
    {
     "name": "stdout",
     "output_type": "stream",
     "text": [
      "  lat14.75_lon99.75 - Train Set:      RMSE=2834.9137, MAE=37.3964, R2=0.7148\n",
      "  lat14.75_lon99.75 - Validation Set: RMSE=2327.5095, MAE=33.7940, R2=0.7516\n",
      "  lat14.75_lon99.75 - Test Set:       RMSE=3148.5362, MAE=40.8378, R2=0.7480\n",
      "\n",
      "--- Processing Location: lat14.75_lon100.25 ---\n",
      "  Warning: Could not infer frequency for lat14.75_lon100.25.\n",
      "  Stationarity (p-value): 0.0000 -> Stationary\n",
      "  Running auto_arima with seasonal period m=12...\n",
      "  Best model found for lat14.75_lon100.25: (2, 0, 0) (2, 1, 0, 12)\n"
     ]
    },
    {
     "name": "stderr",
     "output_type": "stream",
     "text": [
      "c:\\Users\\peera\\.conda\\envs\\drought_lstm_base\\Lib\\site-packages\\statsmodels\\tsa\\base\\tsa_model.py:837: FutureWarning: No supported index is available. In the next version, calling this method in a model without a supported index will result in an exception.\n",
      "  return get_prediction_index(\n"
     ]
    },
    {
     "name": "stdout",
     "output_type": "stream",
     "text": [
      "  lat14.75_lon100.25 - Train Set:      RMSE=2238.1254, MAE=33.2367, R2=0.7189\n",
      "  lat14.75_lon100.25 - Validation Set: RMSE=2072.5195, MAE=30.4003, R2=0.7130\n",
      "  lat14.75_lon100.25 - Test Set:       RMSE=2394.9823, MAE=34.6576, R2=0.7797\n",
      "\n",
      "--- Processing Location: lat14.75_lon100.75 ---\n",
      "  Warning: Could not infer frequency for lat14.75_lon100.75.\n",
      "  Stationarity (p-value): 0.0000 -> Stationary\n",
      "  Running auto_arima with seasonal period m=12...\n",
      "  Best model found for lat14.75_lon100.75: (2, 0, 0) (2, 1, 0, 12)\n"
     ]
    },
    {
     "name": "stderr",
     "output_type": "stream",
     "text": [
      "c:\\Users\\peera\\.conda\\envs\\drought_lstm_base\\Lib\\site-packages\\statsmodels\\tsa\\base\\tsa_model.py:837: FutureWarning: No supported index is available. In the next version, calling this method in a model without a supported index will result in an exception.\n",
      "  return get_prediction_index(\n"
     ]
    },
    {
     "name": "stdout",
     "output_type": "stream",
     "text": [
      "  lat14.75_lon100.75 - Train Set:      RMSE=2205.9716, MAE=31.4531, R2=0.7509\n",
      "  lat14.75_lon100.75 - Validation Set: RMSE=1844.4564, MAE=30.4620, R2=0.7561\n",
      "  lat14.75_lon100.75 - Test Set:       RMSE=3754.1497, MAE=43.3199, R2=0.6523\n",
      "\n",
      "--- Processing Location: lat14.75_lon101.25 ---\n",
      "  Warning: Could not infer frequency for lat14.75_lon101.25.\n",
      "  Stationarity (p-value): 0.0000 -> Stationary\n",
      "  Running auto_arima with seasonal period m=12...\n",
      "  Best model found for lat14.75_lon101.25: (2, 0, 0) (2, 1, 0, 12)\n"
     ]
    },
    {
     "name": "stderr",
     "output_type": "stream",
     "text": [
      "c:\\Users\\peera\\.conda\\envs\\drought_lstm_base\\Lib\\site-packages\\statsmodels\\tsa\\base\\tsa_model.py:837: FutureWarning: No supported index is available. In the next version, calling this method in a model without a supported index will result in an exception.\n",
      "  return get_prediction_index(\n"
     ]
    },
    {
     "name": "stdout",
     "output_type": "stream",
     "text": [
      "  lat14.75_lon101.25 - Train Set:      RMSE=3145.6245, MAE=38.3439, R2=0.6890\n",
      "  lat14.75_lon101.25 - Validation Set: RMSE=1876.0412, MAE=32.7995, R2=0.7705\n",
      "  lat14.75_lon101.25 - Test Set:       RMSE=4354.4697, MAE=45.7508, R2=0.6528\n",
      "\n",
      "--- Processing Location: lat14.75_lon101.75 ---\n",
      "  Warning: Could not infer frequency for lat14.75_lon101.75.\n",
      "  Stationarity (p-value): 0.0000 -> Stationary\n",
      "  Running auto_arima with seasonal period m=12...\n",
      "  Best model found for lat14.75_lon101.75: (2, 0, 0) (2, 1, 0, 12)\n"
     ]
    },
    {
     "name": "stderr",
     "output_type": "stream",
     "text": [
      "c:\\Users\\peera\\.conda\\envs\\drought_lstm_base\\Lib\\site-packages\\statsmodels\\tsa\\base\\tsa_model.py:837: FutureWarning: No supported index is available. In the next version, calling this method in a model without a supported index will result in an exception.\n",
      "  return get_prediction_index(\n"
     ]
    },
    {
     "name": "stdout",
     "output_type": "stream",
     "text": [
      "  lat14.75_lon101.75 - Train Set:      RMSE=2240.2146, MAE=32.8553, R2=0.7278\n",
      "  lat14.75_lon101.75 - Validation Set: RMSE=1658.4055, MAE=29.5839, R2=0.7613\n",
      "  lat14.75_lon101.75 - Test Set:       RMSE=3694.7940, MAE=41.4114, R2=0.6791\n",
      "\n",
      "--- Processing Location: lat14.75_lon102.25 ---\n",
      "  Warning: Could not infer frequency for lat14.75_lon102.25.\n",
      "  Stationarity (p-value): 0.0000 -> Stationary\n",
      "  Running auto_arima with seasonal period m=12...\n",
      "  Best model found for lat14.75_lon102.25: (2, 0, 0) (2, 1, 0, 12)\n"
     ]
    },
    {
     "name": "stderr",
     "output_type": "stream",
     "text": [
      "c:\\Users\\peera\\.conda\\envs\\drought_lstm_base\\Lib\\site-packages\\statsmodels\\tsa\\base\\tsa_model.py:837: FutureWarning: No supported index is available. In the next version, calling this method in a model without a supported index will result in an exception.\n",
      "  return get_prediction_index(\n"
     ]
    },
    {
     "name": "stdout",
     "output_type": "stream",
     "text": [
      "  lat14.75_lon102.25 - Train Set:      RMSE=1740.7888, MAE=29.0594, R2=0.7280\n",
      "  lat14.75_lon102.25 - Validation Set: RMSE=2107.3209, MAE=30.5068, R2=0.7194\n",
      "  lat14.75_lon102.25 - Test Set:       RMSE=2170.0654, MAE=32.4989, R2=0.7828\n",
      "\n",
      "--- Processing Location: lat14.75_lon102.75 ---\n",
      "  Warning: Could not infer frequency for lat14.75_lon102.75.\n",
      "  Stationarity (p-value): 0.0000 -> Stationary\n",
      "  Running auto_arima with seasonal period m=12...\n",
      "  Best model found for lat14.75_lon102.75: (2, 0, 0) (2, 1, 0, 12)\n"
     ]
    },
    {
     "name": "stderr",
     "output_type": "stream",
     "text": [
      "c:\\Users\\peera\\.conda\\envs\\drought_lstm_base\\Lib\\site-packages\\statsmodels\\tsa\\base\\tsa_model.py:837: FutureWarning: No supported index is available. In the next version, calling this method in a model without a supported index will result in an exception.\n",
      "  return get_prediction_index(\n"
     ]
    },
    {
     "name": "stdout",
     "output_type": "stream",
     "text": [
      "  lat14.75_lon102.75 - Train Set:      RMSE=1801.2958, MAE=29.1020, R2=0.7347\n",
      "  lat14.75_lon102.75 - Validation Set: RMSE=1945.6450, MAE=28.8740, R2=0.7443\n",
      "  lat14.75_lon102.75 - Test Set:       RMSE=2822.8720, MAE=37.3819, R2=0.7408\n",
      "\n",
      "--- Processing Location: lat14.75_lon103.25 ---\n",
      "  Warning: Could not infer frequency for lat14.75_lon103.25.\n",
      "  Stationarity (p-value): 0.0000 -> Stationary\n",
      "  Running auto_arima with seasonal period m=12...\n",
      "  Best model found for lat14.75_lon103.25: (0, 0, 0) (2, 1, 0, 12)\n"
     ]
    },
    {
     "name": "stderr",
     "output_type": "stream",
     "text": [
      "c:\\Users\\peera\\.conda\\envs\\drought_lstm_base\\Lib\\site-packages\\statsmodels\\tsa\\base\\tsa_model.py:837: FutureWarning: No supported index is available. In the next version, calling this method in a model without a supported index will result in an exception.\n",
      "  return get_prediction_index(\n"
     ]
    },
    {
     "name": "stdout",
     "output_type": "stream",
     "text": [
      "  lat14.75_lon103.25 - Train Set:      RMSE=1933.4435, MAE=29.4442, R2=0.7653\n",
      "  lat14.75_lon103.25 - Validation Set: RMSE=1910.3359, MAE=29.1846, R2=0.7757\n",
      "  lat14.75_lon103.25 - Test Set:       RMSE=1982.8154, MAE=31.1373, R2=0.8285\n",
      "\n",
      "--- Processing Location: lat14.75_lon103.75 ---\n",
      "  Warning: Could not infer frequency for lat14.75_lon103.75.\n",
      "  Stationarity (p-value): 0.0000 -> Stationary\n",
      "  Running auto_arima with seasonal period m=12...\n",
      "  Best model found for lat14.75_lon103.75: (0, 0, 0) (2, 1, 0, 12)\n"
     ]
    },
    {
     "name": "stderr",
     "output_type": "stream",
     "text": [
      "c:\\Users\\peera\\.conda\\envs\\drought_lstm_base\\Lib\\site-packages\\statsmodels\\tsa\\base\\tsa_model.py:837: FutureWarning: No supported index is available. In the next version, calling this method in a model without a supported index will result in an exception.\n",
      "  return get_prediction_index(\n"
     ]
    },
    {
     "name": "stdout",
     "output_type": "stream",
     "text": [
      "  lat14.75_lon103.75 - Train Set:      RMSE=2414.2365, MAE=31.6134, R2=0.7752\n",
      "  lat14.75_lon103.75 - Validation Set: RMSE=2699.8023, MAE=33.9821, R2=0.7615\n",
      "  lat14.75_lon103.75 - Test Set:       RMSE=3245.3386, MAE=39.0350, R2=0.7702\n",
      "\n",
      "--- Processing Location: lat14.75_lon104.25 ---\n",
      "  Warning: Could not infer frequency for lat14.75_lon104.25.\n",
      "  Stationarity (p-value): 0.0000 -> Stationary\n",
      "  Running auto_arima with seasonal period m=12...\n",
      "  Best model found for lat14.75_lon104.25: (0, 0, 0) (2, 1, 0, 12)\n"
     ]
    },
    {
     "name": "stderr",
     "output_type": "stream",
     "text": [
      "c:\\Users\\peera\\.conda\\envs\\drought_lstm_base\\Lib\\site-packages\\statsmodels\\tsa\\base\\tsa_model.py:837: FutureWarning: No supported index is available. In the next version, calling this method in a model without a supported index will result in an exception.\n",
      "  return get_prediction_index(\n"
     ]
    },
    {
     "name": "stdout",
     "output_type": "stream",
     "text": [
      "  lat14.75_lon104.25 - Train Set:      RMSE=2844.0877, MAE=33.2990, R2=0.7798\n",
      "  lat14.75_lon104.25 - Validation Set: RMSE=3761.1429, MAE=36.6291, R2=0.7196\n",
      "  lat14.75_lon104.25 - Test Set:       RMSE=3225.7891, MAE=37.4901, R2=0.8020\n",
      "\n",
      "--- Processing Location: lat14.75_lon104.75 ---\n",
      "  Warning: Could not infer frequency for lat14.75_lon104.75.\n",
      "  Stationarity (p-value): 0.0000 -> Stationary\n",
      "  Running auto_arima with seasonal period m=12...\n",
      "  Best model found for lat14.75_lon104.75: (0, 0, 0) (2, 1, 0, 12)\n"
     ]
    },
    {
     "name": "stderr",
     "output_type": "stream",
     "text": [
      "c:\\Users\\peera\\.conda\\envs\\drought_lstm_base\\Lib\\site-packages\\statsmodels\\tsa\\base\\tsa_model.py:837: FutureWarning: No supported index is available. In the next version, calling this method in a model without a supported index will result in an exception.\n",
      "  return get_prediction_index(\n"
     ]
    },
    {
     "name": "stdout",
     "output_type": "stream",
     "text": [
      "  lat14.75_lon104.75 - Train Set:      RMSE=3485.8267, MAE=36.6399, R2=0.7880\n",
      "  lat14.75_lon104.75 - Validation Set: RMSE=4793.4324, MAE=42.3874, R2=0.7262\n",
      "  lat14.75_lon104.75 - Test Set:       RMSE=3901.8792, MAE=41.3764, R2=0.8268\n",
      "\n",
      "--- Processing Location: lat14.75_lon105.25 ---\n",
      "  Warning: Could not infer frequency for lat14.75_lon105.25.\n",
      "  Stationarity (p-value): 0.0000 -> Stationary\n",
      "  Running auto_arima with seasonal period m=12...\n",
      "  Best model found for lat14.75_lon105.25: (0, 0, 0) (2, 1, 0, 12)\n"
     ]
    },
    {
     "name": "stderr",
     "output_type": "stream",
     "text": [
      "c:\\Users\\peera\\.conda\\envs\\drought_lstm_base\\Lib\\site-packages\\statsmodels\\tsa\\base\\tsa_model.py:837: FutureWarning: No supported index is available. In the next version, calling this method in a model without a supported index will result in an exception.\n",
      "  return get_prediction_index(\n"
     ]
    },
    {
     "name": "stdout",
     "output_type": "stream",
     "text": [
      "  lat14.75_lon105.25 - Train Set:      RMSE=3832.1849, MAE=36.7850, R2=0.8261\n",
      "  lat14.75_lon105.25 - Validation Set: RMSE=6208.7045, MAE=50.6167, R2=0.6757\n",
      "  lat14.75_lon105.25 - Test Set:       RMSE=5163.4289, MAE=46.3043, R2=0.8006\n",
      "\n",
      "--- Processing Location: lat15.25_lon98.25 ---\n",
      "  Warning: Could not infer frequency for lat15.25_lon98.25.\n",
      "  Stationarity (p-value): 0.0000 -> Stationary\n",
      "  Running auto_arima with seasonal period m=12...\n",
      "  Best model found for lat15.25_lon98.25: (0, 0, 0) (2, 1, 0, 12)\n"
     ]
    },
    {
     "name": "stderr",
     "output_type": "stream",
     "text": [
      "c:\\Users\\peera\\.conda\\envs\\drought_lstm_base\\Lib\\site-packages\\statsmodels\\tsa\\base\\tsa_model.py:837: FutureWarning: No supported index is available. In the next version, calling this method in a model without a supported index will result in an exception.\n",
      "  return get_prediction_index(\n"
     ]
    },
    {
     "name": "stdout",
     "output_type": "stream",
     "text": [
      "  lat15.25_lon98.25 - Train Set:      RMSE=13709.3239, MAE=68.2504, R2=0.8691\n",
      "  lat15.25_lon98.25 - Validation Set: RMSE=4390.3579, MAE=48.4315, R2=0.9538\n",
      "  lat15.25_lon98.25 - Test Set:       RMSE=8242.6688, MAE=57.9451, R2=0.9192\n",
      "\n",
      "--- Processing Location: lat15.25_lon98.75 ---\n",
      "  Warning: Could not infer frequency for lat15.25_lon98.75.\n",
      "  Stationarity (p-value): 0.0000 -> Stationary\n",
      "  Running auto_arima with seasonal period m=12...\n",
      "  Best model found for lat15.25_lon98.75: (0, 0, 1) (2, 1, 0, 12)\n"
     ]
    },
    {
     "name": "stderr",
     "output_type": "stream",
     "text": [
      "c:\\Users\\peera\\.conda\\envs\\drought_lstm_base\\Lib\\site-packages\\statsmodels\\tsa\\base\\tsa_model.py:837: FutureWarning: No supported index is available. In the next version, calling this method in a model without a supported index will result in an exception.\n",
      "  return get_prediction_index(\n"
     ]
    },
    {
     "name": "stdout",
     "output_type": "stream",
     "text": [
      "  lat15.25_lon98.75 - Train Set:      RMSE=6793.8382, MAE=53.3233, R2=0.8326\n",
      "  lat15.25_lon98.75 - Validation Set: RMSE=3856.8175, MAE=48.1910, R2=0.8968\n",
      "  lat15.25_lon98.75 - Test Set:       RMSE=6920.3891, MAE=56.6755, R2=0.8330\n",
      "\n",
      "--- Processing Location: lat15.25_lon99.25 ---\n",
      "  Warning: Could not infer frequency for lat15.25_lon99.25.\n",
      "  Stationarity (p-value): 0.0000 -> Stationary\n",
      "  Running auto_arima with seasonal period m=12...\n",
      "  Best model found for lat15.25_lon99.25: (1, 0, 0) (0, 1, 1, 12)\n"
     ]
    },
    {
     "name": "stderr",
     "output_type": "stream",
     "text": [
      "c:\\Users\\peera\\.conda\\envs\\drought_lstm_base\\Lib\\site-packages\\statsmodels\\tsa\\base\\tsa_model.py:837: FutureWarning: No supported index is available. In the next version, calling this method in a model without a supported index will result in an exception.\n",
      "  return get_prediction_index(\n"
     ]
    },
    {
     "name": "stdout",
     "output_type": "stream",
     "text": [
      "  lat15.25_lon99.25 - Train Set:      RMSE=3682.6330, MAE=41.7465, R2=0.7829\n",
      "  lat15.25_lon99.25 - Validation Set: RMSE=2345.8593, MAE=34.9523, R2=0.8211\n",
      "  lat15.25_lon99.25 - Test Set:       RMSE=5222.1900, MAE=52.2311, R2=0.7456\n",
      "\n",
      "--- Processing Location: lat15.25_lon99.75 ---\n",
      "  Warning: Could not infer frequency for lat15.25_lon99.75.\n",
      "  Stationarity (p-value): 0.0000 -> Stationary\n",
      "  Running auto_arima with seasonal period m=12...\n",
      "  Best model found for lat15.25_lon99.75: (2, 0, 0) (2, 1, 0, 12)\n"
     ]
    },
    {
     "name": "stderr",
     "output_type": "stream",
     "text": [
      "c:\\Users\\peera\\.conda\\envs\\drought_lstm_base\\Lib\\site-packages\\statsmodels\\tsa\\base\\tsa_model.py:837: FutureWarning: No supported index is available. In the next version, calling this method in a model without a supported index will result in an exception.\n",
      "  return get_prediction_index(\n"
     ]
    },
    {
     "name": "stdout",
     "output_type": "stream",
     "text": [
      "  lat15.25_lon99.75 - Train Set:      RMSE=2580.9142, MAE=35.7928, R2=0.7199\n",
      "  lat15.25_lon99.75 - Validation Set: RMSE=2203.2717, MAE=33.4785, R2=0.7170\n",
      "  lat15.25_lon99.75 - Test Set:       RMSE=4236.4381, MAE=46.2540, R2=0.6543\n",
      "\n",
      "--- Processing Location: lat15.25_lon100.25 ---\n",
      "  Warning: Could not infer frequency for lat15.25_lon100.25.\n",
      "  Stationarity (p-value): 0.0000 -> Stationary\n",
      "  Running auto_arima with seasonal period m=12...\n",
      "  Best model found for lat15.25_lon100.25: (2, 0, 0) (2, 1, 0, 12)\n"
     ]
    },
    {
     "name": "stderr",
     "output_type": "stream",
     "text": [
      "c:\\Users\\peera\\.conda\\envs\\drought_lstm_base\\Lib\\site-packages\\statsmodels\\tsa\\base\\tsa_model.py:837: FutureWarning: No supported index is available. In the next version, calling this method in a model without a supported index will result in an exception.\n",
      "  return get_prediction_index(\n"
     ]
    },
    {
     "name": "stdout",
     "output_type": "stream",
     "text": [
      "  lat15.25_lon100.25 - Train Set:      RMSE=2108.9377, MAE=31.9855, R2=0.7118\n",
      "  lat15.25_lon100.25 - Validation Set: RMSE=1864.2073, MAE=28.0962, R2=0.6729\n",
      "  lat15.25_lon100.25 - Test Set:       RMSE=2840.5708, MAE=36.1211, R2=0.7108\n",
      "\n",
      "--- Processing Location: lat15.25_lon100.75 ---\n",
      "  Warning: Could not infer frequency for lat15.25_lon100.75.\n",
      "  Stationarity (p-value): 0.0000 -> Stationary\n",
      "  Running auto_arima with seasonal period m=12...\n",
      "  Best model found for lat15.25_lon100.75: (2, 0, 0) (2, 1, 0, 12)\n"
     ]
    },
    {
     "name": "stderr",
     "output_type": "stream",
     "text": [
      "c:\\Users\\peera\\.conda\\envs\\drought_lstm_base\\Lib\\site-packages\\statsmodels\\tsa\\base\\tsa_model.py:837: FutureWarning: No supported index is available. In the next version, calling this method in a model without a supported index will result in an exception.\n",
      "  return get_prediction_index(\n"
     ]
    },
    {
     "name": "stdout",
     "output_type": "stream",
     "text": [
      "  lat15.25_lon100.75 - Train Set:      RMSE=2134.4596, MAE=32.1108, R2=0.7196\n",
      "  lat15.25_lon100.75 - Validation Set: RMSE=1539.7184, MAE=28.8617, R2=0.7335\n",
      "  lat15.25_lon100.75 - Test Set:       RMSE=3863.4293, MAE=44.1213, R2=0.5835\n",
      "\n",
      "--- Processing Location: lat15.25_lon101.25 ---\n",
      "  Warning: Could not infer frequency for lat15.25_lon101.25.\n",
      "  Stationarity (p-value): 0.0000 -> Stationary\n",
      "  Running auto_arima with seasonal period m=12...\n",
      "  Best model found for lat15.25_lon101.25: (2, 0, 0) (2, 1, 0, 12)\n"
     ]
    },
    {
     "name": "stderr",
     "output_type": "stream",
     "text": [
      "c:\\Users\\peera\\.conda\\envs\\drought_lstm_base\\Lib\\site-packages\\statsmodels\\tsa\\base\\tsa_model.py:837: FutureWarning: No supported index is available. In the next version, calling this method in a model without a supported index will result in an exception.\n",
      "  return get_prediction_index(\n"
     ]
    },
    {
     "name": "stdout",
     "output_type": "stream",
     "text": [
      "  lat15.25_lon101.25 - Train Set:      RMSE=2136.6591, MAE=32.1408, R2=0.7239\n",
      "  lat15.25_lon101.25 - Validation Set: RMSE=1265.4289, MAE=24.2954, R2=0.7961\n",
      "  lat15.25_lon101.25 - Test Set:       RMSE=1768.8319, MAE=27.9487, R2=0.8116\n",
      "\n",
      "--- Processing Location: lat15.25_lon101.75 ---\n",
      "  Warning: Could not infer frequency for lat15.25_lon101.75.\n",
      "  Stationarity (p-value): 0.0000 -> Stationary\n",
      "  Running auto_arima with seasonal period m=12...\n",
      "  Best model found for lat15.25_lon101.75: (2, 0, 0) (2, 1, 0, 12)\n"
     ]
    },
    {
     "name": "stderr",
     "output_type": "stream",
     "text": [
      "c:\\Users\\peera\\.conda\\envs\\drought_lstm_base\\Lib\\site-packages\\statsmodels\\tsa\\base\\tsa_model.py:837: FutureWarning: No supported index is available. In the next version, calling this method in a model without a supported index will result in an exception.\n",
      "  return get_prediction_index(\n"
     ]
    },
    {
     "name": "stdout",
     "output_type": "stream",
     "text": [
      "  lat15.25_lon101.75 - Train Set:      RMSE=1825.3853, MAE=29.1351, R2=0.7271\n",
      "  lat15.25_lon101.75 - Validation Set: RMSE=1612.3190, MAE=28.1658, R2=0.7060\n",
      "  lat15.25_lon101.75 - Test Set:       RMSE=2955.6321, MAE=37.7263, R2=0.6799\n",
      "\n",
      "--- Processing Location: lat15.25_lon102.25 ---\n",
      "  Warning: Could not infer frequency for lat15.25_lon102.25.\n",
      "  Stationarity (p-value): 0.0000 -> Stationary\n",
      "  Running auto_arima with seasonal period m=12...\n",
      "  Best model found for lat15.25_lon102.25: (0, 0, 0) (2, 1, 0, 12)\n"
     ]
    },
    {
     "name": "stderr",
     "output_type": "stream",
     "text": [
      "c:\\Users\\peera\\.conda\\envs\\drought_lstm_base\\Lib\\site-packages\\statsmodels\\tsa\\base\\tsa_model.py:837: FutureWarning: No supported index is available. In the next version, calling this method in a model without a supported index will result in an exception.\n",
      "  return get_prediction_index(\n"
     ]
    },
    {
     "name": "stdout",
     "output_type": "stream",
     "text": [
      "  lat15.25_lon102.25 - Train Set:      RMSE=1616.1564, MAE=27.3253, R2=0.7232\n",
      "  lat15.25_lon102.25 - Validation Set: RMSE=1773.0552, MAE=26.4195, R2=0.7152\n",
      "  lat15.25_lon102.25 - Test Set:       RMSE=2186.4406, MAE=32.7910, R2=0.7629\n",
      "\n",
      "--- Processing Location: lat15.25_lon102.75 ---\n",
      "  Warning: Could not infer frequency for lat15.25_lon102.75.\n",
      "  Stationarity (p-value): 0.0000 -> Stationary\n",
      "  Running auto_arima with seasonal period m=12...\n",
      "  Best model found for lat15.25_lon102.75: (0, 0, 0) (2, 1, 0, 12)\n"
     ]
    },
    {
     "name": "stderr",
     "output_type": "stream",
     "text": [
      "c:\\Users\\peera\\.conda\\envs\\drought_lstm_base\\Lib\\site-packages\\statsmodels\\tsa\\base\\tsa_model.py:837: FutureWarning: No supported index is available. In the next version, calling this method in a model without a supported index will result in an exception.\n",
      "  return get_prediction_index(\n"
     ]
    },
    {
     "name": "stdout",
     "output_type": "stream",
     "text": [
      "  lat15.25_lon102.75 - Train Set:      RMSE=1727.5582, MAE=27.8727, R2=0.7487\n",
      "  lat15.25_lon102.75 - Validation Set: RMSE=1678.5123, MAE=29.8696, R2=0.7232\n",
      "  lat15.25_lon102.75 - Test Set:       RMSE=2387.1642, MAE=33.7461, R2=0.7299\n",
      "\n",
      "--- Processing Location: lat15.25_lon103.25 ---\n",
      "  Warning: Could not infer frequency for lat15.25_lon103.25.\n",
      "  Stationarity (p-value): 0.0000 -> Stationary\n",
      "  Running auto_arima with seasonal period m=12...\n",
      "  Best model found for lat15.25_lon103.25: (0, 0, 0) (2, 1, 0, 12)\n"
     ]
    },
    {
     "name": "stderr",
     "output_type": "stream",
     "text": [
      "c:\\Users\\peera\\.conda\\envs\\drought_lstm_base\\Lib\\site-packages\\statsmodels\\tsa\\base\\tsa_model.py:837: FutureWarning: No supported index is available. In the next version, calling this method in a model without a supported index will result in an exception.\n",
      "  return get_prediction_index(\n"
     ]
    },
    {
     "name": "stdout",
     "output_type": "stream",
     "text": [
      "  lat15.25_lon103.25 - Train Set:      RMSE=1876.2734, MAE=28.3737, R2=0.7818\n",
      "  lat15.25_lon103.25 - Validation Set: RMSE=1751.8537, MAE=29.4677, R2=0.7477\n",
      "  lat15.25_lon103.25 - Test Set:       RMSE=2123.7986, MAE=30.7625, R2=0.7980\n",
      "\n",
      "--- Processing Location: lat15.25_lon103.75 ---\n",
      "  Warning: Could not infer frequency for lat15.25_lon103.75.\n",
      "  Stationarity (p-value): 0.0000 -> Stationary\n",
      "  Running auto_arima with seasonal period m=12...\n",
      "  Best model found for lat15.25_lon103.75: (0, 0, 0) (2, 1, 0, 12)\n"
     ]
    },
    {
     "name": "stderr",
     "output_type": "stream",
     "text": [
      "c:\\Users\\peera\\.conda\\envs\\drought_lstm_base\\Lib\\site-packages\\statsmodels\\tsa\\base\\tsa_model.py:837: FutureWarning: No supported index is available. In the next version, calling this method in a model without a supported index will result in an exception.\n",
      "  return get_prediction_index(\n"
     ]
    },
    {
     "name": "stdout",
     "output_type": "stream",
     "text": [
      "  lat15.25_lon103.75 - Train Set:      RMSE=2449.8102, MAE=31.6610, R2=0.7786\n",
      "  lat15.25_lon103.75 - Validation Set: RMSE=2923.5128, MAE=34.8480, R2=0.7579\n",
      "  lat15.25_lon103.75 - Test Set:       RMSE=2776.1726, MAE=35.4618, R2=0.8242\n",
      "\n",
      "--- Processing Location: lat15.25_lon104.25 ---\n",
      "  Warning: Could not infer frequency for lat15.25_lon104.25.\n",
      "  Stationarity (p-value): 0.0000 -> Stationary\n",
      "  Running auto_arima with seasonal period m=12...\n",
      "  Best model found for lat15.25_lon104.25: (0, 0, 0) (2, 1, 0, 12)\n"
     ]
    },
    {
     "name": "stderr",
     "output_type": "stream",
     "text": [
      "c:\\Users\\peera\\.conda\\envs\\drought_lstm_base\\Lib\\site-packages\\statsmodels\\tsa\\base\\tsa_model.py:837: FutureWarning: No supported index is available. In the next version, calling this method in a model without a supported index will result in an exception.\n",
      "  return get_prediction_index(\n"
     ]
    },
    {
     "name": "stdout",
     "output_type": "stream",
     "text": [
      "  lat15.25_lon104.25 - Train Set:      RMSE=2885.8202, MAE=33.6151, R2=0.7807\n",
      "  lat15.25_lon104.25 - Validation Set: RMSE=3513.1233, MAE=38.9176, R2=0.7460\n",
      "  lat15.25_lon104.25 - Test Set:       RMSE=3316.6342, MAE=38.6427, R2=0.8198\n",
      "\n",
      "--- Processing Location: lat15.25_lon104.75 ---\n",
      "  Warning: Could not infer frequency for lat15.25_lon104.75.\n",
      "  Stationarity (p-value): 0.0000 -> Stationary\n",
      "  Running auto_arima with seasonal period m=12...\n",
      "  Best model found for lat15.25_lon104.75: (0, 0, 0) (2, 1, 0, 12)\n"
     ]
    },
    {
     "name": "stderr",
     "output_type": "stream",
     "text": [
      "c:\\Users\\peera\\.conda\\envs\\drought_lstm_base\\Lib\\site-packages\\statsmodels\\tsa\\base\\tsa_model.py:837: FutureWarning: No supported index is available. In the next version, calling this method in a model without a supported index will result in an exception.\n",
      "  return get_prediction_index(\n"
     ]
    },
    {
     "name": "stdout",
     "output_type": "stream",
     "text": [
      "  lat15.25_lon104.75 - Train Set:      RMSE=3480.7597, MAE=36.9267, R2=0.7822\n",
      "  lat15.25_lon104.75 - Validation Set: RMSE=4229.4223, MAE=43.8145, R2=0.7310\n",
      "  lat15.25_lon104.75 - Test Set:       RMSE=4001.0932, MAE=42.6730, R2=0.8140\n",
      "\n",
      "--- Processing Location: lat15.25_lon105.25 ---\n",
      "  Warning: Could not infer frequency for lat15.25_lon105.25.\n",
      "  Stationarity (p-value): 0.0000 -> Stationary\n",
      "  Running auto_arima with seasonal period m=12...\n",
      "  Best model found for lat15.25_lon105.25: (0, 0, 0) (2, 1, 0, 12)\n"
     ]
    },
    {
     "name": "stderr",
     "output_type": "stream",
     "text": [
      "c:\\Users\\peera\\.conda\\envs\\drought_lstm_base\\Lib\\site-packages\\statsmodels\\tsa\\base\\tsa_model.py:837: FutureWarning: No supported index is available. In the next version, calling this method in a model without a supported index will result in an exception.\n",
      "  return get_prediction_index(\n"
     ]
    },
    {
     "name": "stdout",
     "output_type": "stream",
     "text": [
      "  lat15.25_lon105.25 - Train Set:      RMSE=3899.2643, MAE=38.0576, R2=0.8200\n",
      "  lat15.25_lon105.25 - Validation Set: RMSE=6484.2698, MAE=55.7651, R2=0.6493\n",
      "  lat15.25_lon105.25 - Test Set:       RMSE=6463.1892, MAE=52.3423, R2=0.7525\n",
      "\n",
      "--- Processing Location: lat15.75_lon98.75 ---\n",
      "  Warning: Could not infer frequency for lat15.75_lon98.75.\n",
      "  Stationarity (p-value): 0.0000 -> Stationary\n",
      "  Running auto_arima with seasonal period m=12...\n",
      "  Best model found for lat15.75_lon98.75: (0, 0, 0) (2, 1, 0, 12)\n"
     ]
    },
    {
     "name": "stderr",
     "output_type": "stream",
     "text": [
      "c:\\Users\\peera\\.conda\\envs\\drought_lstm_base\\Lib\\site-packages\\statsmodels\\tsa\\base\\tsa_model.py:837: FutureWarning: No supported index is available. In the next version, calling this method in a model without a supported index will result in an exception.\n",
      "  return get_prediction_index(\n"
     ]
    },
    {
     "name": "stdout",
     "output_type": "stream",
     "text": [
      "  lat15.75_lon98.75 - Train Set:      RMSE=4924.0338, MAE=46.2976, R2=0.7824\n",
      "  lat15.75_lon98.75 - Validation Set: RMSE=3673.3931, MAE=39.4623, R2=0.8291\n",
      "  lat15.75_lon98.75 - Test Set:       RMSE=8482.2862, MAE=64.8977, R2=0.7030\n",
      "\n",
      "--- Processing Location: lat15.75_lon99.25 ---\n",
      "  Warning: Could not infer frequency for lat15.75_lon99.25.\n",
      "  Stationarity (p-value): 0.0000 -> Stationary\n",
      "  Running auto_arima with seasonal period m=12...\n",
      "  Best model found for lat15.75_lon99.25: (2, 0, 0) (2, 1, 0, 12)\n"
     ]
    },
    {
     "name": "stderr",
     "output_type": "stream",
     "text": [
      "c:\\Users\\peera\\.conda\\envs\\drought_lstm_base\\Lib\\site-packages\\statsmodels\\tsa\\base\\tsa_model.py:837: FutureWarning: No supported index is available. In the next version, calling this method in a model without a supported index will result in an exception.\n",
      "  return get_prediction_index(\n"
     ]
    },
    {
     "name": "stdout",
     "output_type": "stream",
     "text": [
      "  lat15.75_lon99.25 - Train Set:      RMSE=3198.9328, MAE=38.9298, R2=0.7117\n",
      "  lat15.75_lon99.25 - Validation Set: RMSE=2468.7286, MAE=33.1234, R2=0.7461\n",
      "  lat15.75_lon99.25 - Test Set:       RMSE=5144.1487, MAE=52.0628, R2=0.6206\n",
      "\n",
      "--- Processing Location: lat15.75_lon99.75 ---\n",
      "  Warning: Could not infer frequency for lat15.75_lon99.75.\n",
      "  Stationarity (p-value): 0.0000 -> Stationary\n",
      "  Running auto_arima with seasonal period m=12...\n",
      "  Best model found for lat15.75_lon99.75: (2, 0, 0) (2, 1, 0, 12)\n"
     ]
    },
    {
     "name": "stderr",
     "output_type": "stream",
     "text": [
      "c:\\Users\\peera\\.conda\\envs\\drought_lstm_base\\Lib\\site-packages\\statsmodels\\tsa\\base\\tsa_model.py:837: FutureWarning: No supported index is available. In the next version, calling this method in a model without a supported index will result in an exception.\n",
      "  return get_prediction_index(\n"
     ]
    },
    {
     "name": "stdout",
     "output_type": "stream",
     "text": [
      "  lat15.75_lon99.75 - Train Set:      RMSE=2269.5461, MAE=33.1770, R2=0.7040\n",
      "  lat15.75_lon99.75 - Validation Set: RMSE=1730.9319, MAE=29.1195, R2=0.7447\n",
      "  lat15.75_lon99.75 - Test Set:       RMSE=3425.0761, MAE=44.5191, R2=0.6220\n",
      "\n",
      "--- Processing Location: lat15.75_lon100.25 ---\n",
      "  Warning: Could not infer frequency for lat15.75_lon100.25.\n",
      "  Stationarity (p-value): 0.0000 -> Stationary\n",
      "  Running auto_arima with seasonal period m=12...\n",
      "  Best model found for lat15.75_lon100.25: (2, 0, 0) (2, 1, 0, 12)\n"
     ]
    },
    {
     "name": "stderr",
     "output_type": "stream",
     "text": [
      "c:\\Users\\peera\\.conda\\envs\\drought_lstm_base\\Lib\\site-packages\\statsmodels\\tsa\\base\\tsa_model.py:837: FutureWarning: No supported index is available. In the next version, calling this method in a model without a supported index will result in an exception.\n",
      "  return get_prediction_index(\n"
     ]
    },
    {
     "name": "stdout",
     "output_type": "stream",
     "text": [
      "  lat15.75_lon100.25 - Train Set:      RMSE=1938.3835, MAE=30.8762, R2=0.7176\n",
      "  lat15.75_lon100.25 - Validation Set: RMSE=1686.1038, MAE=27.1914, R2=0.6852\n",
      "  lat15.75_lon100.25 - Test Set:       RMSE=2630.2752, MAE=35.8033, R2=0.7000\n",
      "\n",
      "--- Processing Location: lat15.75_lon100.75 ---\n",
      "  Warning: Could not infer frequency for lat15.75_lon100.75.\n",
      "  Stationarity (p-value): 0.0000 -> Stationary\n",
      "  Running auto_arima with seasonal period m=12...\n",
      "  Best model found for lat15.75_lon100.75: (2, 0, 0) (2, 1, 0, 12)\n"
     ]
    },
    {
     "name": "stderr",
     "output_type": "stream",
     "text": [
      "c:\\Users\\peera\\.conda\\envs\\drought_lstm_base\\Lib\\site-packages\\statsmodels\\tsa\\base\\tsa_model.py:837: FutureWarning: No supported index is available. In the next version, calling this method in a model without a supported index will result in an exception.\n",
      "  return get_prediction_index(\n"
     ]
    },
    {
     "name": "stdout",
     "output_type": "stream",
     "text": [
      "  lat15.75_lon100.75 - Train Set:      RMSE=1777.6174, MAE=29.8044, R2=0.7434\n",
      "  lat15.75_lon100.75 - Validation Set: RMSE=1433.4991, MAE=27.3053, R2=0.7571\n",
      "  lat15.75_lon100.75 - Test Set:       RMSE=2903.2951, MAE=38.2654, R2=0.6654\n",
      "\n",
      "--- Processing Location: lat15.75_lon101.25 ---\n",
      "  Warning: Could not infer frequency for lat15.75_lon101.25.\n",
      "  Stationarity (p-value): 0.0000 -> Stationary\n",
      "  Running auto_arima with seasonal period m=12...\n",
      "  Best model found for lat15.75_lon101.25: (0, 0, 0) (2, 1, 0, 12)\n"
     ]
    },
    {
     "name": "stderr",
     "output_type": "stream",
     "text": [
      "c:\\Users\\peera\\.conda\\envs\\drought_lstm_base\\Lib\\site-packages\\statsmodels\\tsa\\base\\tsa_model.py:837: FutureWarning: No supported index is available. In the next version, calling this method in a model without a supported index will result in an exception.\n",
      "  return get_prediction_index(\n"
     ]
    },
    {
     "name": "stdout",
     "output_type": "stream",
     "text": [
      "  lat15.75_lon101.25 - Train Set:      RMSE=1831.3601, MAE=29.4162, R2=0.7372\n",
      "  lat15.75_lon101.25 - Validation Set: RMSE=1418.3082, MAE=28.4242, R2=0.7411\n",
      "  lat15.75_lon101.25 - Test Set:       RMSE=2837.4154, MAE=37.2335, R2=0.6610\n",
      "\n",
      "--- Processing Location: lat15.75_lon101.75 ---\n",
      "  Warning: Could not infer frequency for lat15.75_lon101.75.\n",
      "  Stationarity (p-value): 0.0000 -> Stationary\n",
      "  Running auto_arima with seasonal period m=12...\n",
      "  Best model found for lat15.75_lon101.75: (0, 0, 0) (2, 1, 0, 12)\n"
     ]
    },
    {
     "name": "stderr",
     "output_type": "stream",
     "text": [
      "c:\\Users\\peera\\.conda\\envs\\drought_lstm_base\\Lib\\site-packages\\statsmodels\\tsa\\base\\tsa_model.py:837: FutureWarning: No supported index is available. In the next version, calling this method in a model without a supported index will result in an exception.\n",
      "  return get_prediction_index(\n"
     ]
    },
    {
     "name": "stdout",
     "output_type": "stream",
     "text": [
      "  lat15.75_lon101.75 - Train Set:      RMSE=1710.0829, MAE=28.3221, R2=0.7398\n",
      "  lat15.75_lon101.75 - Validation Set: RMSE=1431.6895, MAE=25.8826, R2=0.7271\n",
      "  lat15.75_lon101.75 - Test Set:       RMSE=1743.4611, MAE=28.6964, R2=0.7915\n",
      "\n",
      "--- Processing Location: lat15.75_lon102.25 ---\n",
      "  Warning: Could not infer frequency for lat15.75_lon102.25.\n",
      "  Stationarity (p-value): 0.0000 -> Stationary\n",
      "  Running auto_arima with seasonal period m=12...\n",
      "  Best model found for lat15.75_lon102.25: (0, 0, 0) (2, 1, 0, 12)\n"
     ]
    },
    {
     "name": "stderr",
     "output_type": "stream",
     "text": [
      "c:\\Users\\peera\\.conda\\envs\\drought_lstm_base\\Lib\\site-packages\\statsmodels\\tsa\\base\\tsa_model.py:837: FutureWarning: No supported index is available. In the next version, calling this method in a model without a supported index will result in an exception.\n",
      "  return get_prediction_index(\n"
     ]
    },
    {
     "name": "stdout",
     "output_type": "stream",
     "text": [
      "  lat15.75_lon102.25 - Train Set:      RMSE=1761.9658, MAE=28.5851, R2=0.7319\n",
      "  lat15.75_lon102.25 - Validation Set: RMSE=1787.1738, MAE=28.8909, R2=0.7217\n",
      "  lat15.75_lon102.25 - Test Set:       RMSE=2160.8781, MAE=33.1091, R2=0.7652\n",
      "\n",
      "--- Processing Location: lat15.75_lon102.75 ---\n",
      "  Warning: Could not infer frequency for lat15.75_lon102.75.\n",
      "  Stationarity (p-value): 0.0000 -> Stationary\n",
      "  Running auto_arima with seasonal period m=12...\n",
      "  Best model found for lat15.75_lon102.75: (0, 0, 0) (2, 1, 0, 12)\n"
     ]
    },
    {
     "name": "stderr",
     "output_type": "stream",
     "text": [
      "c:\\Users\\peera\\.conda\\envs\\drought_lstm_base\\Lib\\site-packages\\statsmodels\\tsa\\base\\tsa_model.py:837: FutureWarning: No supported index is available. In the next version, calling this method in a model without a supported index will result in an exception.\n",
      "  return get_prediction_index(\n"
     ]
    },
    {
     "name": "stdout",
     "output_type": "stream",
     "text": [
      "  lat15.75_lon102.75 - Train Set:      RMSE=1745.8418, MAE=27.9091, R2=0.7482\n",
      "  lat15.75_lon102.75 - Validation Set: RMSE=2450.2861, MAE=32.7109, R2=0.6883\n",
      "  lat15.75_lon102.75 - Test Set:       RMSE=1942.9775, MAE=30.1503, R2=0.8101\n",
      "\n",
      "--- Processing Location: lat15.75_lon103.25 ---\n",
      "  Warning: Could not infer frequency for lat15.75_lon103.25.\n",
      "  Stationarity (p-value): 0.0000 -> Stationary\n",
      "  Running auto_arima with seasonal period m=12...\n",
      "  Best model found for lat15.75_lon103.25: (0, 0, 0) (2, 1, 0, 12)\n"
     ]
    },
    {
     "name": "stderr",
     "output_type": "stream",
     "text": [
      "c:\\Users\\peera\\.conda\\envs\\drought_lstm_base\\Lib\\site-packages\\statsmodels\\tsa\\base\\tsa_model.py:837: FutureWarning: No supported index is available. In the next version, calling this method in a model without a supported index will result in an exception.\n",
      "  return get_prediction_index(\n"
     ]
    },
    {
     "name": "stdout",
     "output_type": "stream",
     "text": [
      "  lat15.75_lon103.25 - Train Set:      RMSE=2167.8322, MAE=30.1507, R2=0.7596\n",
      "  lat15.75_lon103.25 - Validation Set: RMSE=2027.8565, MAE=32.5656, R2=0.7631\n",
      "  lat15.75_lon103.25 - Test Set:       RMSE=2868.8077, MAE=35.0391, R2=0.7599\n",
      "\n",
      "--- Processing Location: lat15.75_lon103.75 ---\n",
      "  Warning: Could not infer frequency for lat15.75_lon103.75.\n",
      "  Stationarity (p-value): 0.0000 -> Stationary\n",
      "  Running auto_arima with seasonal period m=12...\n",
      "  Best model found for lat15.75_lon103.75: (0, 0, 0) (2, 1, 0, 12)\n"
     ]
    },
    {
     "name": "stderr",
     "output_type": "stream",
     "text": [
      "c:\\Users\\peera\\.conda\\envs\\drought_lstm_base\\Lib\\site-packages\\statsmodels\\tsa\\base\\tsa_model.py:837: FutureWarning: No supported index is available. In the next version, calling this method in a model without a supported index will result in an exception.\n",
      "  return get_prediction_index(\n"
     ]
    },
    {
     "name": "stdout",
     "output_type": "stream",
     "text": [
      "  lat15.75_lon103.75 - Train Set:      RMSE=2481.2944, MAE=31.7827, R2=0.7875\n",
      "  lat15.75_lon103.75 - Validation Set: RMSE=1935.1768, MAE=31.4472, R2=0.8123\n",
      "  lat15.75_lon103.75 - Test Set:       RMSE=3091.6981, MAE=38.2844, R2=0.7718\n",
      "\n",
      "--- Processing Location: lat15.75_lon104.25 ---\n",
      "  Warning: Could not infer frequency for lat15.75_lon104.25.\n",
      "  Stationarity (p-value): 0.0000 -> Stationary\n",
      "  Running auto_arima with seasonal period m=12...\n",
      "  Best model found for lat15.75_lon104.25: (0, 0, 0) (2, 1, 0, 12)\n"
     ]
    },
    {
     "name": "stderr",
     "output_type": "stream",
     "text": [
      "c:\\Users\\peera\\.conda\\envs\\drought_lstm_base\\Lib\\site-packages\\statsmodels\\tsa\\base\\tsa_model.py:837: FutureWarning: No supported index is available. In the next version, calling this method in a model without a supported index will result in an exception.\n",
      "  return get_prediction_index(\n"
     ]
    },
    {
     "name": "stdout",
     "output_type": "stream",
     "text": [
      "  lat15.75_lon104.25 - Train Set:      RMSE=2855.4735, MAE=33.5230, R2=0.7871\n",
      "  lat15.75_lon104.25 - Validation Set: RMSE=3262.5798, MAE=39.9548, R2=0.7583\n",
      "  lat15.75_lon104.25 - Test Set:       RMSE=3432.9021, MAE=39.3257, R2=0.8077\n",
      "\n",
      "--- Processing Location: lat15.75_lon104.75 ---\n",
      "  Warning: Could not infer frequency for lat15.75_lon104.75.\n",
      "  Stationarity (p-value): 0.0000 -> Stationary\n",
      "  Running auto_arima with seasonal period m=12...\n",
      "  Best model found for lat15.75_lon104.75: (0, 0, 0) (2, 1, 0, 12)\n"
     ]
    },
    {
     "name": "stderr",
     "output_type": "stream",
     "text": [
      "c:\\Users\\peera\\.conda\\envs\\drought_lstm_base\\Lib\\site-packages\\statsmodels\\tsa\\base\\tsa_model.py:837: FutureWarning: No supported index is available. In the next version, calling this method in a model without a supported index will result in an exception.\n",
      "  return get_prediction_index(\n"
     ]
    },
    {
     "name": "stdout",
     "output_type": "stream",
     "text": [
      "  lat15.75_lon104.75 - Train Set:      RMSE=3102.9725, MAE=35.4130, R2=0.7997\n",
      "  lat15.75_lon104.75 - Validation Set: RMSE=3994.8877, MAE=45.0078, R2=0.7306\n",
      "  lat15.75_lon104.75 - Test Set:       RMSE=4157.5174, MAE=42.8862, R2=0.7964\n",
      "\n",
      "--- Processing Location: lat15.75_lon105.25 ---\n",
      "  Warning: Could not infer frequency for lat15.75_lon105.25.\n",
      "  Stationarity (p-value): 0.0000 -> Stationary\n",
      "  Running auto_arima with seasonal period m=12...\n",
      "  Best model found for lat15.75_lon105.25: (0, 0, 0) (0, 1, 1, 12)\n"
     ]
    },
    {
     "name": "stderr",
     "output_type": "stream",
     "text": [
      "c:\\Users\\peera\\.conda\\envs\\drought_lstm_base\\Lib\\site-packages\\statsmodels\\tsa\\base\\tsa_model.py:837: FutureWarning: No supported index is available. In the next version, calling this method in a model without a supported index will result in an exception.\n",
      "  return get_prediction_index(\n"
     ]
    },
    {
     "name": "stdout",
     "output_type": "stream",
     "text": [
      "  lat15.75_lon105.25 - Train Set:      RMSE=3592.1300, MAE=39.6592, R2=0.8023\n",
      "  lat15.75_lon105.25 - Validation Set: RMSE=4163.1997, MAE=47.5714, R2=0.7636\n",
      "  lat15.75_lon105.25 - Test Set:       RMSE=5296.5540, MAE=50.2732, R2=0.7817\n",
      "\n",
      "--- Processing Location: lat16.25_lon99.25 ---\n",
      "  Warning: Could not infer frequency for lat16.25_lon99.25.\n",
      "  Stationarity (p-value): 0.0000 -> Stationary\n",
      "  Running auto_arima with seasonal period m=12...\n",
      "  Best model found for lat16.25_lon99.25: (0, 0, 0) (2, 1, 0, 12)\n"
     ]
    },
    {
     "name": "stderr",
     "output_type": "stream",
     "text": [
      "c:\\Users\\peera\\.conda\\envs\\drought_lstm_base\\Lib\\site-packages\\statsmodels\\tsa\\base\\tsa_model.py:837: FutureWarning: No supported index is available. In the next version, calling this method in a model without a supported index will result in an exception.\n",
      "  return get_prediction_index(\n"
     ]
    },
    {
     "name": "stdout",
     "output_type": "stream",
     "text": [
      "  lat16.25_lon99.25 - Train Set:      RMSE=2524.2569, MAE=34.0024, R2=0.6879\n",
      "  lat16.25_lon99.25 - Validation Set: RMSE=2165.7747, MAE=29.5199, R2=0.6724\n",
      "  lat16.25_lon99.25 - Test Set:       RMSE=3948.8487, MAE=45.7550, R2=0.5971\n",
      "\n",
      "--- Processing Location: lat16.25_lon99.75 ---\n",
      "  Warning: Could not infer frequency for lat16.25_lon99.75.\n",
      "  Stationarity (p-value): 0.0000 -> Stationary\n",
      "  Running auto_arima with seasonal period m=12...\n",
      "  Best model found for lat16.25_lon99.75: (0, 0, 0) (2, 1, 0, 12)\n"
     ]
    },
    {
     "name": "stderr",
     "output_type": "stream",
     "text": [
      "c:\\Users\\peera\\.conda\\envs\\drought_lstm_base\\Lib\\site-packages\\statsmodels\\tsa\\base\\tsa_model.py:837: FutureWarning: No supported index is available. In the next version, calling this method in a model without a supported index will result in an exception.\n",
      "  return get_prediction_index(\n"
     ]
    },
    {
     "name": "stdout",
     "output_type": "stream",
     "text": [
      "  lat16.25_lon99.75 - Train Set:      RMSE=1943.0272, MAE=30.0660, R2=0.7220\n",
      "  lat16.25_lon99.75 - Validation Set: RMSE=1786.1868, MAE=28.5295, R2=0.7022\n",
      "  lat16.25_lon99.75 - Test Set:       RMSE=2950.6310, MAE=39.2563, R2=0.6495\n",
      "\n",
      "--- Processing Location: lat16.25_lon100.25 ---\n",
      "  Warning: Could not infer frequency for lat16.25_lon100.25.\n",
      "  Stationarity (p-value): 0.0000 -> Stationary\n",
      "  Running auto_arima with seasonal period m=12...\n",
      "  Best model found for lat16.25_lon100.25: (2, 0, 0) (2, 1, 0, 12)\n"
     ]
    },
    {
     "name": "stderr",
     "output_type": "stream",
     "text": [
      "c:\\Users\\peera\\.conda\\envs\\drought_lstm_base\\Lib\\site-packages\\statsmodels\\tsa\\base\\tsa_model.py:837: FutureWarning: No supported index is available. In the next version, calling this method in a model without a supported index will result in an exception.\n",
      "  return get_prediction_index(\n"
     ]
    },
    {
     "name": "stdout",
     "output_type": "stream",
     "text": [
      "  lat16.25_lon100.25 - Train Set:      RMSE=2022.1720, MAE=31.4055, R2=0.7329\n",
      "  lat16.25_lon100.25 - Validation Set: RMSE=1817.4392, MAE=29.0092, R2=0.6645\n",
      "  lat16.25_lon100.25 - Test Set:       RMSE=3055.9308, MAE=39.6389, R2=0.6346\n",
      "\n",
      "--- Processing Location: lat16.25_lon100.75 ---\n",
      "  Warning: Could not infer frequency for lat16.25_lon100.75.\n",
      "  Stationarity (p-value): 0.0000 -> Stationary\n",
      "  Running auto_arima with seasonal period m=12...\n",
      "  Best model found for lat16.25_lon100.75: (0, 0, 0) (2, 1, 0, 12)\n"
     ]
    },
    {
     "name": "stderr",
     "output_type": "stream",
     "text": [
      "c:\\Users\\peera\\.conda\\envs\\drought_lstm_base\\Lib\\site-packages\\statsmodels\\tsa\\base\\tsa_model.py:837: FutureWarning: No supported index is available. In the next version, calling this method in a model without a supported index will result in an exception.\n",
      "  return get_prediction_index(\n"
     ]
    },
    {
     "name": "stdout",
     "output_type": "stream",
     "text": [
      "  lat16.25_lon100.75 - Train Set:      RMSE=1909.3440, MAE=30.1743, R2=0.7238\n",
      "  lat16.25_lon100.75 - Validation Set: RMSE=1665.1661, MAE=31.6735, R2=0.7114\n",
      "  lat16.25_lon100.75 - Test Set:       RMSE=2862.4951, MAE=38.4753, R2=0.6257\n",
      "\n",
      "--- Processing Location: lat16.25_lon101.25 ---\n",
      "  Warning: Could not infer frequency for lat16.25_lon101.25.\n",
      "  Stationarity (p-value): 0.0000 -> Stationary\n",
      "  Running auto_arima with seasonal period m=12...\n",
      "  Best model found for lat16.25_lon101.25: (0, 0, 0) (2, 1, 0, 12)\n"
     ]
    },
    {
     "name": "stderr",
     "output_type": "stream",
     "text": [
      "c:\\Users\\peera\\.conda\\envs\\drought_lstm_base\\Lib\\site-packages\\statsmodels\\tsa\\base\\tsa_model.py:837: FutureWarning: No supported index is available. In the next version, calling this method in a model without a supported index will result in an exception.\n",
      "  return get_prediction_index(\n"
     ]
    },
    {
     "name": "stdout",
     "output_type": "stream",
     "text": [
      "  lat16.25_lon101.25 - Train Set:      RMSE=1855.9736, MAE=30.0294, R2=0.7159\n",
      "  lat16.25_lon101.25 - Validation Set: RMSE=1848.1318, MAE=31.9697, R2=0.6471\n",
      "  lat16.25_lon101.25 - Test Set:       RMSE=2540.1455, MAE=35.2355, R2=0.6485\n",
      "\n",
      "--- Processing Location: lat16.25_lon101.75 ---\n",
      "  Warning: Could not infer frequency for lat16.25_lon101.75.\n",
      "  Stationarity (p-value): 0.0000 -> Stationary\n",
      "  Running auto_arima with seasonal period m=12...\n",
      "  Best model found for lat16.25_lon101.75: (0, 0, 0) (2, 1, 0, 12)\n"
     ]
    },
    {
     "name": "stderr",
     "output_type": "stream",
     "text": [
      "c:\\Users\\peera\\.conda\\envs\\drought_lstm_base\\Lib\\site-packages\\statsmodels\\tsa\\base\\tsa_model.py:837: FutureWarning: No supported index is available. In the next version, calling this method in a model without a supported index will result in an exception.\n",
      "  return get_prediction_index(\n"
     ]
    },
    {
     "name": "stdout",
     "output_type": "stream",
     "text": [
      "  lat16.25_lon101.75 - Train Set:      RMSE=1819.1896, MAE=29.3022, R2=0.7268\n",
      "  lat16.25_lon101.75 - Validation Set: RMSE=1556.1494, MAE=29.7332, R2=0.7121\n",
      "  lat16.25_lon101.75 - Test Set:       RMSE=2744.3725, MAE=36.4477, R2=0.6617\n",
      "\n",
      "--- Processing Location: lat16.25_lon102.25 ---\n",
      "  Warning: Could not infer frequency for lat16.25_lon102.25.\n",
      "  Stationarity (p-value): 0.0000 -> Stationary\n",
      "  Running auto_arima with seasonal period m=12...\n",
      "  Best model found for lat16.25_lon102.25: (0, 0, 0) (2, 1, 0, 12)\n"
     ]
    },
    {
     "name": "stderr",
     "output_type": "stream",
     "text": [
      "c:\\Users\\peera\\.conda\\envs\\drought_lstm_base\\Lib\\site-packages\\statsmodels\\tsa\\base\\tsa_model.py:837: FutureWarning: No supported index is available. In the next version, calling this method in a model without a supported index will result in an exception.\n",
      "  return get_prediction_index(\n"
     ]
    },
    {
     "name": "stdout",
     "output_type": "stream",
     "text": [
      "  lat16.25_lon102.25 - Train Set:      RMSE=1757.9764, MAE=28.1406, R2=0.7515\n",
      "  lat16.25_lon102.25 - Validation Set: RMSE=1604.1141, MAE=29.7522, R2=0.7398\n",
      "  lat16.25_lon102.25 - Test Set:       RMSE=2755.0375, MAE=36.1185, R2=0.6857\n",
      "\n",
      "--- Processing Location: lat16.25_lon102.75 ---\n",
      "  Warning: Could not infer frequency for lat16.25_lon102.75.\n",
      "  Stationarity (p-value): 0.0000 -> Stationary\n",
      "  Running auto_arima with seasonal period m=12...\n",
      "  Best model found for lat16.25_lon102.75: (0, 0, 0) (2, 1, 0, 12)\n"
     ]
    },
    {
     "name": "stderr",
     "output_type": "stream",
     "text": [
      "c:\\Users\\peera\\.conda\\envs\\drought_lstm_base\\Lib\\site-packages\\statsmodels\\tsa\\base\\tsa_model.py:837: FutureWarning: No supported index is available. In the next version, calling this method in a model without a supported index will result in an exception.\n",
      "  return get_prediction_index(\n"
     ]
    },
    {
     "name": "stdout",
     "output_type": "stream",
     "text": [
      "  lat16.25_lon102.75 - Train Set:      RMSE=1736.7537, MAE=27.8680, R2=0.7667\n",
      "  lat16.25_lon102.75 - Validation Set: RMSE=1630.0938, MAE=29.0484, R2=0.6970\n",
      "  lat16.25_lon102.75 - Test Set:       RMSE=2053.7032, MAE=31.7134, R2=0.7584\n",
      "\n",
      "--- Processing Location: lat16.25_lon103.25 ---\n",
      "  Warning: Could not infer frequency for lat16.25_lon103.25.\n",
      "  Stationarity (p-value): 0.0000 -> Stationary\n",
      "  Running auto_arima with seasonal period m=12...\n",
      "  Best model found for lat16.25_lon103.25: (0, 0, 0) (2, 1, 0, 12)\n"
     ]
    },
    {
     "name": "stderr",
     "output_type": "stream",
     "text": [
      "c:\\Users\\peera\\.conda\\envs\\drought_lstm_base\\Lib\\site-packages\\statsmodels\\tsa\\base\\tsa_model.py:837: FutureWarning: No supported index is available. In the next version, calling this method in a model without a supported index will result in an exception.\n",
      "  return get_prediction_index(\n"
     ]
    },
    {
     "name": "stdout",
     "output_type": "stream",
     "text": [
      "  lat16.25_lon103.25 - Train Set:      RMSE=2097.3522, MAE=29.9348, R2=0.7691\n",
      "  lat16.25_lon103.25 - Validation Set: RMSE=1658.1743, MAE=29.7248, R2=0.7899\n",
      "  lat16.25_lon103.25 - Test Set:       RMSE=2518.9096, MAE=34.7365, R2=0.7488\n",
      "\n",
      "--- Processing Location: lat16.25_lon103.75 ---\n",
      "  Warning: Could not infer frequency for lat16.25_lon103.75.\n",
      "  Stationarity (p-value): 0.0000 -> Stationary\n",
      "  Running auto_arima with seasonal period m=12...\n",
      "  Best model found for lat16.25_lon103.75: (0, 0, 0) (2, 1, 0, 12)\n"
     ]
    },
    {
     "name": "stderr",
     "output_type": "stream",
     "text": [
      "c:\\Users\\peera\\.conda\\envs\\drought_lstm_base\\Lib\\site-packages\\statsmodels\\tsa\\base\\tsa_model.py:837: FutureWarning: No supported index is available. In the next version, calling this method in a model without a supported index will result in an exception.\n",
      "  return get_prediction_index(\n"
     ]
    },
    {
     "name": "stdout",
     "output_type": "stream",
     "text": [
      "  lat16.25_lon103.75 - Train Set:      RMSE=2627.7871, MAE=32.6356, R2=0.7820\n",
      "  lat16.25_lon103.75 - Validation Set: RMSE=1978.6569, MAE=33.1519, R2=0.8081\n",
      "  lat16.25_lon103.75 - Test Set:       RMSE=3233.3591, MAE=38.5144, R2=0.7582\n",
      "\n",
      "--- Processing Location: lat16.25_lon104.25 ---\n",
      "  Warning: Could not infer frequency for lat16.25_lon104.25.\n",
      "  Stationarity (p-value): 0.0000 -> Stationary\n",
      "  Running auto_arima with seasonal period m=12...\n",
      "  Best model found for lat16.25_lon104.25: (0, 0, 0) (2, 1, 0, 12)\n"
     ]
    },
    {
     "name": "stderr",
     "output_type": "stream",
     "text": [
      "c:\\Users\\peera\\.conda\\envs\\drought_lstm_base\\Lib\\site-packages\\statsmodels\\tsa\\base\\tsa_model.py:837: FutureWarning: No supported index is available. In the next version, calling this method in a model without a supported index will result in an exception.\n",
      "  return get_prediction_index(\n"
     ]
    },
    {
     "name": "stdout",
     "output_type": "stream",
     "text": [
      "  lat16.25_lon104.25 - Train Set:      RMSE=2715.2867, MAE=32.3080, R2=0.8031\n",
      "  lat16.25_lon104.25 - Validation Set: RMSE=2754.9998, MAE=38.4857, R2=0.7741\n",
      "  lat16.25_lon104.25 - Test Set:       RMSE=3644.4306, MAE=38.0566, R2=0.7686\n",
      "\n",
      "--- Processing Location: lat16.25_lon104.75 ---\n",
      "  Warning: Could not infer frequency for lat16.25_lon104.75.\n",
      "  Stationarity (p-value): 0.0000 -> Stationary\n",
      "  Running auto_arima with seasonal period m=12...\n",
      "  Best model found for lat16.25_lon104.75: (0, 0, 0) (2, 1, 0, 12)\n"
     ]
    },
    {
     "name": "stderr",
     "output_type": "stream",
     "text": [
      "c:\\Users\\peera\\.conda\\envs\\drought_lstm_base\\Lib\\site-packages\\statsmodels\\tsa\\base\\tsa_model.py:837: FutureWarning: No supported index is available. In the next version, calling this method in a model without a supported index will result in an exception.\n",
      "  return get_prediction_index(\n"
     ]
    },
    {
     "name": "stdout",
     "output_type": "stream",
     "text": [
      "  lat16.25_lon104.75 - Train Set:      RMSE=2979.7243, MAE=34.0551, R2=0.8020\n",
      "  lat16.25_lon104.75 - Validation Set: RMSE=3658.1873, MAE=43.0953, R2=0.7266\n",
      "  lat16.25_lon104.75 - Test Set:       RMSE=4270.6647, MAE=41.9724, R2=0.7532\n",
      "\n",
      "--- Processing Location: lat16.75_lon98.75 ---\n",
      "  Warning: Could not infer frequency for lat16.75_lon98.75.\n",
      "  Stationarity (p-value): 0.0000 -> Stationary\n",
      "  Running auto_arima with seasonal period m=12...\n",
      "  Best model found for lat16.75_lon98.75: (2, 0, 0) (2, 1, 0, 12)\n"
     ]
    },
    {
     "name": "stderr",
     "output_type": "stream",
     "text": [
      "c:\\Users\\peera\\.conda\\envs\\drought_lstm_base\\Lib\\site-packages\\statsmodels\\tsa\\base\\tsa_model.py:837: FutureWarning: No supported index is available. In the next version, calling this method in a model without a supported index will result in an exception.\n",
      "  return get_prediction_index(\n"
     ]
    },
    {
     "name": "stdout",
     "output_type": "stream",
     "text": [
      "  lat16.75_lon98.75 - Train Set:      RMSE=2604.8699, MAE=33.2007, R2=0.7771\n",
      "  lat16.75_lon98.75 - Validation Set: RMSE=2414.3979, MAE=31.3261, R2=0.7462\n",
      "  lat16.75_lon98.75 - Test Set:       RMSE=3722.7258, MAE=42.9237, R2=0.6964\n",
      "\n",
      "--- Processing Location: lat16.75_lon99.25 ---\n",
      "  Warning: Could not infer frequency for lat16.75_lon99.25.\n",
      "  Stationarity (p-value): 0.0000 -> Stationary\n",
      "  Running auto_arima with seasonal period m=12...\n",
      "  Best model found for lat16.75_lon99.25: (0, 0, 0) (2, 1, 0, 12)\n"
     ]
    },
    {
     "name": "stderr",
     "output_type": "stream",
     "text": [
      "c:\\Users\\peera\\.conda\\envs\\drought_lstm_base\\Lib\\site-packages\\statsmodels\\tsa\\base\\tsa_model.py:837: FutureWarning: No supported index is available. In the next version, calling this method in a model without a supported index will result in an exception.\n",
      "  return get_prediction_index(\n"
     ]
    },
    {
     "name": "stdout",
     "output_type": "stream",
     "text": [
      "  lat16.75_lon99.25 - Train Set:      RMSE=2028.8198, MAE=29.3087, R2=0.7022\n",
      "  lat16.75_lon99.25 - Validation Set: RMSE=1880.5439, MAE=27.6658, R2=0.6358\n",
      "  lat16.75_lon99.25 - Test Set:       RMSE=2757.1720, MAE=37.4502, R2=0.6658\n",
      "\n",
      "--- Processing Location: lat16.75_lon99.75 ---\n",
      "  Warning: Could not infer frequency for lat16.75_lon99.75.\n",
      "  Stationarity (p-value): 0.0000 -> Stationary\n",
      "  Running auto_arima with seasonal period m=12...\n",
      "  Best model found for lat16.75_lon99.75: (2, 0, 0) (2, 1, 0, 12)\n"
     ]
    },
    {
     "name": "stderr",
     "output_type": "stream",
     "text": [
      "c:\\Users\\peera\\.conda\\envs\\drought_lstm_base\\Lib\\site-packages\\statsmodels\\tsa\\base\\tsa_model.py:837: FutureWarning: No supported index is available. In the next version, calling this method in a model without a supported index will result in an exception.\n",
      "  return get_prediction_index(\n"
     ]
    },
    {
     "name": "stdout",
     "output_type": "stream",
     "text": [
      "  lat16.75_lon99.75 - Train Set:      RMSE=2110.4817, MAE=30.6885, R2=0.7224\n",
      "  lat16.75_lon99.75 - Validation Set: RMSE=2230.4607, MAE=30.7450, R2=0.5732\n",
      "  lat16.75_lon99.75 - Test Set:       RMSE=3450.3541, MAE=41.0939, R2=0.6262\n",
      "\n",
      "--- Processing Location: lat16.75_lon100.25 ---\n",
      "  Warning: Could not infer frequency for lat16.75_lon100.25.\n",
      "  Stationarity (p-value): 0.0000 -> Stationary\n",
      "  Running auto_arima with seasonal period m=12...\n",
      "  Best model found for lat16.75_lon100.25: (2, 0, 0) (2, 1, 0, 12)\n"
     ]
    },
    {
     "name": "stderr",
     "output_type": "stream",
     "text": [
      "c:\\Users\\peera\\.conda\\envs\\drought_lstm_base\\Lib\\site-packages\\statsmodels\\tsa\\base\\tsa_model.py:837: FutureWarning: No supported index is available. In the next version, calling this method in a model without a supported index will result in an exception.\n",
      "  return get_prediction_index(\n"
     ]
    },
    {
     "name": "stdout",
     "output_type": "stream",
     "text": [
      "  lat16.75_lon100.25 - Train Set:      RMSE=2190.3764, MAE=31.4996, R2=0.7640\n",
      "  lat16.75_lon100.25 - Validation Set: RMSE=2353.4928, MAE=34.1511, R2=0.6763\n",
      "  lat16.75_lon100.25 - Test Set:       RMSE=3167.0405, MAE=39.4018, R2=0.6696\n",
      "\n",
      "--- Processing Location: lat16.75_lon100.75 ---\n",
      "  Warning: Could not infer frequency for lat16.75_lon100.75.\n",
      "  Stationarity (p-value): 0.0000 -> Stationary\n",
      "  Running auto_arima with seasonal period m=12...\n",
      "  Best model found for lat16.75_lon100.75: (0, 0, 0) (2, 1, 0, 12)\n"
     ]
    },
    {
     "name": "stderr",
     "output_type": "stream",
     "text": [
      "c:\\Users\\peera\\.conda\\envs\\drought_lstm_base\\Lib\\site-packages\\statsmodels\\tsa\\base\\tsa_model.py:837: FutureWarning: No supported index is available. In the next version, calling this method in a model without a supported index will result in an exception.\n",
      "  return get_prediction_index(\n"
     ]
    },
    {
     "name": "stdout",
     "output_type": "stream",
     "text": [
      "  lat16.75_lon100.75 - Train Set:      RMSE=2158.9073, MAE=31.8727, R2=0.7189\n",
      "  lat16.75_lon100.75 - Validation Set: RMSE=2022.8123, MAE=33.1919, R2=0.6288\n",
      "  lat16.75_lon100.75 - Test Set:       RMSE=2727.9431, MAE=37.7064, R2=0.6600\n",
      "\n",
      "--- Processing Location: lat16.75_lon101.25 ---\n",
      "  Warning: Could not infer frequency for lat16.75_lon101.25.\n",
      "  Stationarity (p-value): 0.0000 -> Stationary\n",
      "  Running auto_arima with seasonal period m=12...\n",
      "  Best model found for lat16.75_lon101.25: (0, 0, 0) (2, 1, 0, 12)\n"
     ]
    },
    {
     "name": "stderr",
     "output_type": "stream",
     "text": [
      "c:\\Users\\peera\\.conda\\envs\\drought_lstm_base\\Lib\\site-packages\\statsmodels\\tsa\\base\\tsa_model.py:837: FutureWarning: No supported index is available. In the next version, calling this method in a model without a supported index will result in an exception.\n",
      "  return get_prediction_index(\n"
     ]
    },
    {
     "name": "stdout",
     "output_type": "stream",
     "text": [
      "  lat16.75_lon101.25 - Train Set:      RMSE=1855.3757, MAE=29.5298, R2=0.7173\n",
      "  lat16.75_lon101.25 - Validation Set: RMSE=1592.9637, MAE=31.1143, R2=0.6788\n",
      "  lat16.75_lon101.25 - Test Set:       RMSE=2206.8102, MAE=33.7556, R2=0.6617\n",
      "\n",
      "--- Processing Location: lat16.75_lon101.75 ---\n",
      "  Warning: Could not infer frequency for lat16.75_lon101.75.\n",
      "  Stationarity (p-value): 0.0000 -> Stationary\n",
      "  Running auto_arima with seasonal period m=12...\n",
      "  Best model found for lat16.75_lon101.75: (0, 0, 0) (2, 1, 0, 12)\n"
     ]
    },
    {
     "name": "stderr",
     "output_type": "stream",
     "text": [
      "c:\\Users\\peera\\.conda\\envs\\drought_lstm_base\\Lib\\site-packages\\statsmodels\\tsa\\base\\tsa_model.py:837: FutureWarning: No supported index is available. In the next version, calling this method in a model without a supported index will result in an exception.\n",
      "  return get_prediction_index(\n"
     ]
    },
    {
     "name": "stdout",
     "output_type": "stream",
     "text": [
      "  lat16.75_lon101.75 - Train Set:      RMSE=1870.2427, MAE=29.1944, R2=0.7351\n",
      "  lat16.75_lon101.75 - Validation Set: RMSE=1796.4228, MAE=34.0234, R2=0.6496\n",
      "  lat16.75_lon101.75 - Test Set:       RMSE=2260.5194, MAE=34.4791, R2=0.7104\n",
      "\n",
      "--- Processing Location: lat16.75_lon102.25 ---\n",
      "  Warning: Could not infer frequency for lat16.75_lon102.25.\n",
      "  Stationarity (p-value): 0.0000 -> Stationary\n",
      "  Running auto_arima with seasonal period m=12...\n",
      "  Best model found for lat16.75_lon102.25: (0, 0, 0) (2, 1, 0, 12)\n"
     ]
    },
    {
     "name": "stderr",
     "output_type": "stream",
     "text": [
      "c:\\Users\\peera\\.conda\\envs\\drought_lstm_base\\Lib\\site-packages\\statsmodels\\tsa\\base\\tsa_model.py:837: FutureWarning: No supported index is available. In the next version, calling this method in a model without a supported index will result in an exception.\n",
      "  return get_prediction_index(\n"
     ]
    },
    {
     "name": "stdout",
     "output_type": "stream",
     "text": [
      "  lat16.75_lon102.25 - Train Set:      RMSE=1875.1717, MAE=29.0260, R2=0.7626\n",
      "  lat16.75_lon102.25 - Validation Set: RMSE=1811.1296, MAE=31.2059, R2=0.6963\n",
      "  lat16.75_lon102.25 - Test Set:       RMSE=2237.6393, MAE=32.3446, R2=0.7393\n",
      "\n",
      "--- Processing Location: lat16.75_lon102.75 ---\n",
      "  Warning: Could not infer frequency for lat16.75_lon102.75.\n",
      "  Stationarity (p-value): 0.0000 -> Stationary\n",
      "  Running auto_arima with seasonal period m=12...\n",
      "  Best model found for lat16.75_lon102.75: (0, 0, 0) (2, 1, 0, 12)\n"
     ]
    },
    {
     "name": "stderr",
     "output_type": "stream",
     "text": [
      "c:\\Users\\peera\\.conda\\envs\\drought_lstm_base\\Lib\\site-packages\\statsmodels\\tsa\\base\\tsa_model.py:837: FutureWarning: No supported index is available. In the next version, calling this method in a model without a supported index will result in an exception.\n",
      "  return get_prediction_index(\n"
     ]
    },
    {
     "name": "stdout",
     "output_type": "stream",
     "text": [
      "  lat16.75_lon102.75 - Train Set:      RMSE=2029.0328, MAE=29.4989, R2=0.7802\n",
      "  lat16.75_lon102.75 - Validation Set: RMSE=1781.3179, MAE=30.8364, R2=0.7507\n",
      "  lat16.75_lon102.75 - Test Set:       RMSE=2380.6489, MAE=33.1823, R2=0.7646\n",
      "\n",
      "--- Processing Location: lat16.75_lon103.25 ---\n",
      "  Warning: Could not infer frequency for lat16.75_lon103.25.\n",
      "  Stationarity (p-value): 0.0000 -> Stationary\n",
      "  Running auto_arima with seasonal period m=12...\n",
      "  Best model found for lat16.75_lon103.25: (0, 0, 0) (2, 1, 0, 12)\n"
     ]
    },
    {
     "name": "stderr",
     "output_type": "stream",
     "text": [
      "c:\\Users\\peera\\.conda\\envs\\drought_lstm_base\\Lib\\site-packages\\statsmodels\\tsa\\base\\tsa_model.py:837: FutureWarning: No supported index is available. In the next version, calling this method in a model without a supported index will result in an exception.\n",
      "  return get_prediction_index(\n"
     ]
    },
    {
     "name": "stdout",
     "output_type": "stream",
     "text": [
      "  lat16.75_lon103.25 - Train Set:      RMSE=2283.7144, MAE=30.7480, R2=0.7909\n",
      "  lat16.75_lon103.25 - Validation Set: RMSE=1842.6619, MAE=30.3342, R2=0.7829\n",
      "  lat16.75_lon103.25 - Test Set:       RMSE=2886.5128, MAE=35.6030, R2=0.7624\n",
      "\n",
      "--- Processing Location: lat16.75_lon103.75 ---\n",
      "  Warning: Could not infer frequency for lat16.75_lon103.75.\n",
      "  Stationarity (p-value): 0.0000 -> Stationary\n",
      "  Running auto_arima with seasonal period m=12...\n",
      "  Best model found for lat16.75_lon103.75: (0, 0, 0) (2, 1, 0, 12)\n"
     ]
    },
    {
     "name": "stderr",
     "output_type": "stream",
     "text": [
      "c:\\Users\\peera\\.conda\\envs\\drought_lstm_base\\Lib\\site-packages\\statsmodels\\tsa\\base\\tsa_model.py:837: FutureWarning: No supported index is available. In the next version, calling this method in a model without a supported index will result in an exception.\n",
      "  return get_prediction_index(\n"
     ]
    },
    {
     "name": "stdout",
     "output_type": "stream",
     "text": [
      "  lat16.75_lon103.75 - Train Set:      RMSE=2628.6883, MAE=32.8159, R2=0.7932\n",
      "  lat16.75_lon103.75 - Validation Set: RMSE=2312.5880, MAE=37.5753, R2=0.8005\n",
      "  lat16.75_lon103.75 - Test Set:       RMSE=3273.9003, MAE=38.2965, R2=0.7805\n",
      "\n",
      "--- Processing Location: lat16.75_lon104.25 ---\n",
      "  Warning: Could not infer frequency for lat16.75_lon104.25.\n",
      "  Stationarity (p-value): 0.0000 -> Stationary\n",
      "  Running auto_arima with seasonal period m=12...\n",
      "  Best model found for lat16.75_lon104.25: (0, 0, 0) (2, 1, 0, 12)\n"
     ]
    },
    {
     "name": "stderr",
     "output_type": "stream",
     "text": [
      "c:\\Users\\peera\\.conda\\envs\\drought_lstm_base\\Lib\\site-packages\\statsmodels\\tsa\\base\\tsa_model.py:837: FutureWarning: No supported index is available. In the next version, calling this method in a model without a supported index will result in an exception.\n",
      "  return get_prediction_index(\n"
     ]
    },
    {
     "name": "stdout",
     "output_type": "stream",
     "text": [
      "  lat16.75_lon104.25 - Train Set:      RMSE=2992.6971, MAE=34.5362, R2=0.8037\n",
      "  lat16.75_lon104.25 - Validation Set: RMSE=3323.3658, MAE=43.8983, R2=0.7550\n",
      "  lat16.75_lon104.25 - Test Set:       RMSE=4129.8277, MAE=41.7945, R2=0.7754\n",
      "\n",
      "--- Processing Location: lat17.25_lon98.25 ---\n",
      "  Warning: Could not infer frequency for lat17.25_lon98.25.\n",
      "  Stationarity (p-value): 0.0000 -> Stationary\n",
      "  Running auto_arima with seasonal period m=12...\n",
      "  Best model found for lat17.25_lon98.25: (0, 0, 0) (2, 1, 0, 12)\n"
     ]
    },
    {
     "name": "stderr",
     "output_type": "stream",
     "text": [
      "c:\\Users\\peera\\.conda\\envs\\drought_lstm_base\\Lib\\site-packages\\statsmodels\\tsa\\base\\tsa_model.py:837: FutureWarning: No supported index is available. In the next version, calling this method in a model without a supported index will result in an exception.\n",
      "  return get_prediction_index(\n"
     ]
    },
    {
     "name": "stdout",
     "output_type": "stream",
     "text": [
      "  lat17.25_lon98.25 - Train Set:      RMSE=5607.1211, MAE=46.1552, R2=0.8015\n",
      "  lat17.25_lon98.25 - Validation Set: RMSE=3760.4828, MAE=39.7209, R2=0.8220\n",
      "  lat17.25_lon98.25 - Test Set:       RMSE=6872.6300, MAE=53.5803, R2=0.7339\n",
      "\n",
      "--- Processing Location: lat17.25_lon98.75 ---\n",
      "  Warning: Could not infer frequency for lat17.25_lon98.75.\n",
      "  Stationarity (p-value): 0.0000 -> Stationary\n",
      "  Running auto_arima with seasonal period m=12...\n",
      "  Best model found for lat17.25_lon98.75: (0, 0, 0) (2, 1, 0, 12)\n"
     ]
    },
    {
     "name": "stderr",
     "output_type": "stream",
     "text": [
      "c:\\Users\\peera\\.conda\\envs\\drought_lstm_base\\Lib\\site-packages\\statsmodels\\tsa\\base\\tsa_model.py:837: FutureWarning: No supported index is available. In the next version, calling this method in a model without a supported index will result in an exception.\n",
      "  return get_prediction_index(\n"
     ]
    },
    {
     "name": "stdout",
     "output_type": "stream",
     "text": [
      "  lat17.25_lon98.75 - Train Set:      RMSE=2761.0585, MAE=34.2906, R2=0.7335\n",
      "  lat17.25_lon98.75 - Validation Set: RMSE=2469.0588, MAE=32.8555, R2=0.6555\n",
      "  lat17.25_lon98.75 - Test Set:       RMSE=4159.3300, MAE=43.9972, R2=0.6471\n",
      "\n",
      "--- Processing Location: lat17.25_lon99.25 ---\n",
      "  Warning: Could not infer frequency for lat17.25_lon99.25.\n",
      "  Stationarity (p-value): 0.0000 -> Stationary\n",
      "  Running auto_arima with seasonal period m=12...\n",
      "  Best model found for lat17.25_lon99.25: (0, 0, 0) (2, 1, 0, 12)\n"
     ]
    },
    {
     "name": "stderr",
     "output_type": "stream",
     "text": [
      "c:\\Users\\peera\\.conda\\envs\\drought_lstm_base\\Lib\\site-packages\\statsmodels\\tsa\\base\\tsa_model.py:837: FutureWarning: No supported index is available. In the next version, calling this method in a model without a supported index will result in an exception.\n",
      "  return get_prediction_index(\n"
     ]
    },
    {
     "name": "stdout",
     "output_type": "stream",
     "text": [
      "  lat17.25_lon99.25 - Train Set:      RMSE=2066.3979, MAE=28.4463, R2=0.7203\n",
      "  lat17.25_lon99.25 - Validation Set: RMSE=2122.7163, MAE=28.9331, R2=0.5552\n",
      "  lat17.25_lon99.25 - Test Set:       RMSE=2579.5904, MAE=34.7763, R2=0.7049\n",
      "\n",
      "--- Processing Location: lat17.25_lon99.75 ---\n",
      "  Warning: Could not infer frequency for lat17.25_lon99.75.\n",
      "  Stationarity (p-value): 0.0000 -> Stationary\n",
      "  Running auto_arima with seasonal period m=12...\n",
      "  Best model found for lat17.25_lon99.75: (0, 0, 0) (2, 1, 0, 12)\n"
     ]
    },
    {
     "name": "stderr",
     "output_type": "stream",
     "text": [
      "c:\\Users\\peera\\.conda\\envs\\drought_lstm_base\\Lib\\site-packages\\statsmodels\\tsa\\base\\tsa_model.py:837: FutureWarning: No supported index is available. In the next version, calling this method in a model without a supported index will result in an exception.\n",
      "  return get_prediction_index(\n"
     ]
    },
    {
     "name": "stdout",
     "output_type": "stream",
     "text": [
      "  lat17.25_lon99.75 - Train Set:      RMSE=2054.8746, MAE=29.2267, R2=0.7585\n",
      "  lat17.25_lon99.75 - Validation Set: RMSE=2120.6051, MAE=31.1955, R2=0.6648\n",
      "  lat17.25_lon99.75 - Test Set:       RMSE=2791.1625, MAE=37.1279, R2=0.7029\n",
      "\n",
      "--- Processing Location: lat17.25_lon100.25 ---\n",
      "  Warning: Could not infer frequency for lat17.25_lon100.25.\n",
      "  Stationarity (p-value): 0.0000 -> Stationary\n",
      "  Running auto_arima with seasonal period m=12...\n",
      "  Best model found for lat17.25_lon100.25: (0, 0, 0) (2, 1, 0, 12)\n"
     ]
    },
    {
     "name": "stderr",
     "output_type": "stream",
     "text": [
      "c:\\Users\\peera\\.conda\\envs\\drought_lstm_base\\Lib\\site-packages\\statsmodels\\tsa\\base\\tsa_model.py:837: FutureWarning: No supported index is available. In the next version, calling this method in a model without a supported index will result in an exception.\n",
      "  return get_prediction_index(\n"
     ]
    },
    {
     "name": "stdout",
     "output_type": "stream",
     "text": [
      "  lat17.25_lon100.25 - Train Set:      RMSE=2641.2128, MAE=33.8453, R2=0.7449\n",
      "  lat17.25_lon100.25 - Validation Set: RMSE=2707.9866, MAE=37.2684, R2=0.6236\n",
      "  lat17.25_lon100.25 - Test Set:       RMSE=3707.6609, MAE=42.5673, R2=0.6534\n",
      "\n",
      "--- Processing Location: lat17.25_lon100.75 ---\n",
      "  Warning: Could not infer frequency for lat17.25_lon100.75.\n",
      "  Stationarity (p-value): 0.0000 -> Stationary\n",
      "  Running auto_arima with seasonal period m=12...\n",
      "  Best model found for lat17.25_lon100.75: (0, 0, 0) (2, 1, 0, 12)\n"
     ]
    },
    {
     "name": "stderr",
     "output_type": "stream",
     "text": [
      "c:\\Users\\peera\\.conda\\envs\\drought_lstm_base\\Lib\\site-packages\\statsmodels\\tsa\\base\\tsa_model.py:837: FutureWarning: No supported index is available. In the next version, calling this method in a model without a supported index will result in an exception.\n",
      "  return get_prediction_index(\n"
     ]
    },
    {
     "name": "stdout",
     "output_type": "stream",
     "text": [
      "  lat17.25_lon100.75 - Train Set:      RMSE=2251.1997, MAE=31.8218, R2=0.7299\n",
      "  lat17.25_lon100.75 - Validation Set: RMSE=2469.1725, MAE=37.0127, R2=0.5759\n",
      "  lat17.25_lon100.75 - Test Set:       RMSE=3030.8752, MAE=39.9592, R2=0.6429\n",
      "\n",
      "--- Processing Location: lat17.25_lon101.25 ---\n",
      "  Warning: Could not infer frequency for lat17.25_lon101.25.\n",
      "  Stationarity (p-value): 0.0000 -> Stationary\n",
      "  Running auto_arima with seasonal period m=12...\n",
      "  Best model found for lat17.25_lon101.25: (0, 0, 0) (2, 1, 0, 12)\n"
     ]
    },
    {
     "name": "stderr",
     "output_type": "stream",
     "text": [
      "c:\\Users\\peera\\.conda\\envs\\drought_lstm_base\\Lib\\site-packages\\statsmodels\\tsa\\base\\tsa_model.py:837: FutureWarning: No supported index is available. In the next version, calling this method in a model without a supported index will result in an exception.\n",
      "  return get_prediction_index(\n"
     ]
    },
    {
     "name": "stdout",
     "output_type": "stream",
     "text": [
      "  lat17.25_lon101.25 - Train Set:      RMSE=2211.6544, MAE=31.6531, R2=0.7117\n",
      "  lat17.25_lon101.25 - Validation Set: RMSE=1988.7295, MAE=32.8395, R2=0.6186\n",
      "  lat17.25_lon101.25 - Test Set:       RMSE=3012.8105, MAE=39.6459, R2=0.6331\n",
      "\n",
      "--- Processing Location: lat17.25_lon101.75 ---\n",
      "  Warning: Could not infer frequency for lat17.25_lon101.75.\n",
      "  Stationarity (p-value): 0.0000 -> Stationary\n",
      "  Running auto_arima with seasonal period m=12...\n",
      "  Best model found for lat17.25_lon101.75: (0, 0, 0) (2, 1, 0, 12)\n"
     ]
    },
    {
     "name": "stderr",
     "output_type": "stream",
     "text": [
      "c:\\Users\\peera\\.conda\\envs\\drought_lstm_base\\Lib\\site-packages\\statsmodels\\tsa\\base\\tsa_model.py:837: FutureWarning: No supported index is available. In the next version, calling this method in a model without a supported index will result in an exception.\n",
      "  return get_prediction_index(\n"
     ]
    },
    {
     "name": "stdout",
     "output_type": "stream",
     "text": [
      "  lat17.25_lon101.75 - Train Set:      RMSE=2173.2413, MAE=30.9497, R2=0.7210\n",
      "  lat17.25_lon101.75 - Validation Set: RMSE=2110.2625, MAE=36.9978, R2=0.6137\n",
      "  lat17.25_lon101.75 - Test Set:       RMSE=2486.6734, MAE=36.4578, R2=0.6881\n",
      "\n",
      "--- Processing Location: lat17.25_lon102.25 ---\n",
      "  Warning: Could not infer frequency for lat17.25_lon102.25.\n",
      "  Stationarity (p-value): 0.0000 -> Stationary\n",
      "  Running auto_arima with seasonal period m=12...\n",
      "  Best model found for lat17.25_lon102.25: (0, 0, 0) (2, 1, 0, 12)\n"
     ]
    },
    {
     "name": "stderr",
     "output_type": "stream",
     "text": [
      "c:\\Users\\peera\\.conda\\envs\\drought_lstm_base\\Lib\\site-packages\\statsmodels\\tsa\\base\\tsa_model.py:837: FutureWarning: No supported index is available. In the next version, calling this method in a model without a supported index will result in an exception.\n",
      "  return get_prediction_index(\n"
     ]
    },
    {
     "name": "stdout",
     "output_type": "stream",
     "text": [
      "  lat17.25_lon102.25 - Train Set:      RMSE=2307.2130, MAE=31.6784, R2=0.7668\n",
      "  lat17.25_lon102.25 - Validation Set: RMSE=2357.6510, MAE=39.6592, R2=0.7219\n",
      "  lat17.25_lon102.25 - Test Set:       RMSE=2810.3653, MAE=36.4156, R2=0.7220\n",
      "\n",
      "--- Processing Location: lat17.25_lon102.75 ---\n",
      "  Warning: Could not infer frequency for lat17.25_lon102.75.\n",
      "  Stationarity (p-value): 0.0000 -> Stationary\n",
      "  Running auto_arima with seasonal period m=12...\n",
      "  Best model found for lat17.25_lon102.75: (0, 0, 0) (2, 1, 0, 12)\n"
     ]
    },
    {
     "name": "stderr",
     "output_type": "stream",
     "text": [
      "c:\\Users\\peera\\.conda\\envs\\drought_lstm_base\\Lib\\site-packages\\statsmodels\\tsa\\base\\tsa_model.py:837: FutureWarning: No supported index is available. In the next version, calling this method in a model without a supported index will result in an exception.\n",
      "  return get_prediction_index(\n"
     ]
    },
    {
     "name": "stdout",
     "output_type": "stream",
     "text": [
      "  lat17.25_lon102.75 - Train Set:      RMSE=2705.5322, MAE=33.4321, R2=0.7840\n",
      "  lat17.25_lon102.75 - Validation Set: RMSE=2276.9763, MAE=38.1063, R2=0.7823\n",
      "  lat17.25_lon102.75 - Test Set:       RMSE=3263.5159, MAE=39.4394, R2=0.7559\n",
      "\n",
      "--- Processing Location: lat17.25_lon103.25 ---\n",
      "  Warning: Could not infer frequency for lat17.25_lon103.25.\n",
      "  Stationarity (p-value): 0.0000 -> Stationary\n",
      "  Running auto_arima with seasonal period m=12...\n",
      "  Best model found for lat17.25_lon103.25: (0, 0, 0) (2, 1, 0, 12)\n"
     ]
    },
    {
     "name": "stderr",
     "output_type": "stream",
     "text": [
      "c:\\Users\\peera\\.conda\\envs\\drought_lstm_base\\Lib\\site-packages\\statsmodels\\tsa\\base\\tsa_model.py:837: FutureWarning: No supported index is available. In the next version, calling this method in a model without a supported index will result in an exception.\n",
      "  return get_prediction_index(\n"
     ]
    },
    {
     "name": "stdout",
     "output_type": "stream",
     "text": [
      "  lat17.25_lon103.25 - Train Set:      RMSE=2837.3024, MAE=33.6606, R2=0.7988\n",
      "  lat17.25_lon103.25 - Validation Set: RMSE=2530.4008, MAE=38.3681, R2=0.7793\n",
      "  lat17.25_lon103.25 - Test Set:       RMSE=3578.2024, MAE=38.5502, R2=0.7521\n",
      "\n",
      "--- Processing Location: lat17.25_lon103.75 ---\n",
      "  Warning: Could not infer frequency for lat17.25_lon103.75.\n",
      "  Stationarity (p-value): 0.0000 -> Stationary\n",
      "  Running auto_arima with seasonal period m=12...\n",
      "  Best model found for lat17.25_lon103.75: (0, 0, 0) (2, 1, 0, 12)\n"
     ]
    },
    {
     "name": "stderr",
     "output_type": "stream",
     "text": [
      "c:\\Users\\peera\\.conda\\envs\\drought_lstm_base\\Lib\\site-packages\\statsmodels\\tsa\\base\\tsa_model.py:837: FutureWarning: No supported index is available. In the next version, calling this method in a model without a supported index will result in an exception.\n",
      "  return get_prediction_index(\n"
     ]
    },
    {
     "name": "stdout",
     "output_type": "stream",
     "text": [
      "  lat17.25_lon103.75 - Train Set:      RMSE=3082.9144, MAE=35.0895, R2=0.8051\n",
      "  lat17.25_lon103.75 - Validation Set: RMSE=2565.7076, MAE=37.0887, R2=0.7898\n",
      "  lat17.25_lon103.75 - Test Set:       RMSE=4218.4504, MAE=43.1552, R2=0.7554\n",
      "\n",
      "--- Processing Location: lat17.25_lon104.25 ---\n",
      "  Warning: Could not infer frequency for lat17.25_lon104.25.\n",
      "  Stationarity (p-value): 0.0000 -> Stationary\n",
      "  Running auto_arima with seasonal period m=12...\n",
      "  Best model found for lat17.25_lon104.25: (0, 0, 0) (2, 1, 0, 12)\n"
     ]
    },
    {
     "name": "stderr",
     "output_type": "stream",
     "text": [
      "c:\\Users\\peera\\.conda\\envs\\drought_lstm_base\\Lib\\site-packages\\statsmodels\\tsa\\base\\tsa_model.py:837: FutureWarning: No supported index is available. In the next version, calling this method in a model without a supported index will result in an exception.\n",
      "  return get_prediction_index(\n"
     ]
    },
    {
     "name": "stdout",
     "output_type": "stream",
     "text": [
      "  lat17.25_lon104.25 - Train Set:      RMSE=3703.7340, MAE=37.8001, R2=0.8188\n",
      "  lat17.25_lon104.25 - Validation Set: RMSE=4016.0895, MAE=47.5795, R2=0.7757\n",
      "  lat17.25_lon104.25 - Test Set:       RMSE=4978.2631, MAE=45.1882, R2=0.7829\n",
      "\n",
      "--- Processing Location: lat17.25_lon104.75 ---\n",
      "  Warning: Could not infer frequency for lat17.25_lon104.75.\n",
      "  Stationarity (p-value): 0.0000 -> Stationary\n",
      "  Running auto_arima with seasonal period m=12...\n",
      "  Best model found for lat17.25_lon104.75: (0, 0, 0) (0, 1, 1, 12)\n"
     ]
    },
    {
     "name": "stderr",
     "output_type": "stream",
     "text": [
      "c:\\Users\\peera\\.conda\\envs\\drought_lstm_base\\Lib\\site-packages\\statsmodels\\tsa\\base\\tsa_model.py:837: FutureWarning: No supported index is available. In the next version, calling this method in a model without a supported index will result in an exception.\n",
      "  return get_prediction_index(\n"
     ]
    },
    {
     "name": "stdout",
     "output_type": "stream",
     "text": [
      "  lat17.25_lon104.75 - Train Set:      RMSE=5203.3530, MAE=43.3746, R2=0.8302\n",
      "  lat17.25_lon104.75 - Validation Set: RMSE=3443.4617, MAE=40.5398, R2=0.8696\n",
      "  lat17.25_lon104.75 - Test Set:       RMSE=5781.9968, MAE=48.6333, R2=0.8365\n",
      "\n",
      "--- Processing Location: lat17.75_lon97.75 ---\n",
      "  Warning: Could not infer frequency for lat17.75_lon97.75.\n",
      "  Stationarity (p-value): 0.0000 -> Stationary\n",
      "  Running auto_arima with seasonal period m=12...\n",
      "  Best model found for lat17.75_lon97.75: (0, 0, 0) (2, 1, 0, 12)\n"
     ]
    },
    {
     "name": "stderr",
     "output_type": "stream",
     "text": [
      "c:\\Users\\peera\\.conda\\envs\\drought_lstm_base\\Lib\\site-packages\\statsmodels\\tsa\\base\\tsa_model.py:837: FutureWarning: No supported index is available. In the next version, calling this method in a model without a supported index will result in an exception.\n",
      "  return get_prediction_index(\n"
     ]
    },
    {
     "name": "stdout",
     "output_type": "stream",
     "text": [
      "  lat17.75_lon97.75 - Train Set:      RMSE=4648.1585, MAE=41.4085, R2=0.8445\n",
      "  lat17.75_lon97.75 - Validation Set: RMSE=745.8717, MAE=17.5433, R2=0.9684\n",
      "  lat17.75_lon97.75 - Test Set:       RMSE=817.7259, MAE=18.5405, R2=0.9697\n",
      "\n",
      "--- Processing Location: lat17.75_lon98.25 ---\n",
      "  Warning: Could not infer frequency for lat17.75_lon98.25.\n",
      "  Stationarity (p-value): 0.0000 -> Stationary\n",
      "  Running auto_arima with seasonal period m=12...\n",
      "  Best model found for lat17.75_lon98.25: (0, 0, 0) (2, 1, 0, 12)\n"
     ]
    },
    {
     "name": "stderr",
     "output_type": "stream",
     "text": [
      "c:\\Users\\peera\\.conda\\envs\\drought_lstm_base\\Lib\\site-packages\\statsmodels\\tsa\\base\\tsa_model.py:837: FutureWarning: No supported index is available. In the next version, calling this method in a model without a supported index will result in an exception.\n",
      "  return get_prediction_index(\n"
     ]
    },
    {
     "name": "stdout",
     "output_type": "stream",
     "text": [
      "  lat17.75_lon98.25 - Train Set:      RMSE=3145.4734, MAE=36.7156, R2=0.8014\n",
      "  lat17.75_lon98.25 - Validation Set: RMSE=1140.9671, MAE=24.2286, R2=0.9078\n",
      "  lat17.75_lon98.25 - Test Set:       RMSE=1737.9060, MAE=28.8292, R2=0.8881\n",
      "\n",
      "--- Processing Location: lat17.75_lon98.75 ---\n",
      "  Warning: Could not infer frequency for lat17.75_lon98.75.\n",
      "  Stationarity (p-value): 0.0000 -> Stationary\n",
      "  Running auto_arima with seasonal period m=12...\n",
      "  Best model found for lat17.75_lon98.75: (0, 0, 0) (2, 1, 0, 12)\n"
     ]
    },
    {
     "name": "stderr",
     "output_type": "stream",
     "text": [
      "c:\\Users\\peera\\.conda\\envs\\drought_lstm_base\\Lib\\site-packages\\statsmodels\\tsa\\base\\tsa_model.py:837: FutureWarning: No supported index is available. In the next version, calling this method in a model without a supported index will result in an exception.\n",
      "  return get_prediction_index(\n"
     ]
    },
    {
     "name": "stdout",
     "output_type": "stream",
     "text": [
      "  lat17.75_lon98.75 - Train Set:      RMSE=2139.2062, MAE=30.4126, R2=0.7494\n",
      "  lat17.75_lon98.75 - Validation Set: RMSE=956.8767, MAE=21.8503, R2=0.8460\n",
      "  lat17.75_lon98.75 - Test Set:       RMSE=1228.6322, MAE=25.2040, R2=0.8481\n",
      "\n",
      "--- Processing Location: lat17.75_lon99.25 ---\n",
      "  Warning: Could not infer frequency for lat17.75_lon99.25.\n",
      "  Stationarity (p-value): 0.0000 -> Stationary\n",
      "  Running auto_arima with seasonal period m=12...\n",
      "  Best model found for lat17.75_lon99.25: (0, 0, 0) (2, 1, 0, 12)\n"
     ]
    },
    {
     "name": "stderr",
     "output_type": "stream",
     "text": [
      "c:\\Users\\peera\\.conda\\envs\\drought_lstm_base\\Lib\\site-packages\\statsmodels\\tsa\\base\\tsa_model.py:837: FutureWarning: No supported index is available. In the next version, calling this method in a model without a supported index will result in an exception.\n",
      "  return get_prediction_index(\n"
     ]
    },
    {
     "name": "stdout",
     "output_type": "stream",
     "text": [
      "  lat17.75_lon99.25 - Train Set:      RMSE=1956.3256, MAE=28.7150, R2=0.7234\n",
      "  lat17.75_lon99.25 - Validation Set: RMSE=2325.9822, MAE=32.4424, R2=0.4707\n",
      "  lat17.75_lon99.25 - Test Set:       RMSE=3454.1417, MAE=39.5878, R2=0.6183\n",
      "\n",
      "--- Processing Location: lat17.75_lon99.75 ---\n",
      "  Warning: Could not infer frequency for lat17.75_lon99.75.\n",
      "  Stationarity (p-value): 0.0000 -> Stationary\n",
      "  Running auto_arima with seasonal period m=12...\n",
      "  Best model found for lat17.75_lon99.75: (0, 0, 0) (2, 1, 0, 12)\n"
     ]
    },
    {
     "name": "stderr",
     "output_type": "stream",
     "text": [
      "c:\\Users\\peera\\.conda\\envs\\drought_lstm_base\\Lib\\site-packages\\statsmodels\\tsa\\base\\tsa_model.py:837: FutureWarning: No supported index is available. In the next version, calling this method in a model without a supported index will result in an exception.\n",
      "  return get_prediction_index(\n"
     ]
    },
    {
     "name": "stdout",
     "output_type": "stream",
     "text": [
      "  lat17.75_lon99.75 - Train Set:      RMSE=2132.9612, MAE=29.9230, R2=0.7410\n",
      "  lat17.75_lon99.75 - Validation Set: RMSE=2501.5468, MAE=34.2509, R2=0.5299\n",
      "  lat17.75_lon99.75 - Test Set:       RMSE=3626.8393, MAE=40.6534, R2=0.6035\n",
      "\n",
      "--- Processing Location: lat17.75_lon100.25 ---\n",
      "  Warning: Could not infer frequency for lat17.75_lon100.25.\n",
      "  Stationarity (p-value): 0.0000 -> Stationary\n",
      "  Running auto_arima with seasonal period m=12...\n",
      "  Best model found for lat17.75_lon100.25: (0, 0, 0) (2, 1, 0, 12)\n"
     ]
    },
    {
     "name": "stderr",
     "output_type": "stream",
     "text": [
      "c:\\Users\\peera\\.conda\\envs\\drought_lstm_base\\Lib\\site-packages\\statsmodels\\tsa\\base\\tsa_model.py:837: FutureWarning: No supported index is available. In the next version, calling this method in a model without a supported index will result in an exception.\n",
      "  return get_prediction_index(\n"
     ]
    },
    {
     "name": "stdout",
     "output_type": "stream",
     "text": [
      "  lat17.75_lon100.25 - Train Set:      RMSE=2413.2642, MAE=31.8540, R2=0.7556\n",
      "  lat17.75_lon100.25 - Validation Set: RMSE=2381.8772, MAE=34.4293, R2=0.6743\n",
      "  lat17.75_lon100.25 - Test Set:       RMSE=3476.4381, MAE=40.1214, R2=0.6468\n",
      "\n",
      "--- Processing Location: lat17.75_lon100.75 ---\n",
      "  Warning: Could not infer frequency for lat17.75_lon100.75.\n",
      "  Stationarity (p-value): 0.0000 -> Stationary\n",
      "  Running auto_arima with seasonal period m=12...\n",
      "  Best model found for lat17.75_lon100.75: (0, 0, 0) (2, 1, 0, 12)\n"
     ]
    },
    {
     "name": "stderr",
     "output_type": "stream",
     "text": [
      "c:\\Users\\peera\\.conda\\envs\\drought_lstm_base\\Lib\\site-packages\\statsmodels\\tsa\\base\\tsa_model.py:837: FutureWarning: No supported index is available. In the next version, calling this method in a model without a supported index will result in an exception.\n",
      "  return get_prediction_index(\n"
     ]
    },
    {
     "name": "stdout",
     "output_type": "stream",
     "text": [
      "  lat17.75_lon100.75 - Train Set:      RMSE=2346.5484, MAE=32.1999, R2=0.7295\n",
      "  lat17.75_lon100.75 - Validation Set: RMSE=2189.7378, MAE=34.5215, R2=0.6397\n",
      "  lat17.75_lon100.75 - Test Set:       RMSE=3093.2903, MAE=39.1502, R2=0.6208\n",
      "\n",
      "--- Processing Location: lat17.75_lon101.75 ---\n",
      "  Warning: Could not infer frequency for lat17.75_lon101.75.\n",
      "  Stationarity (p-value): 0.0000 -> Stationary\n",
      "  Running auto_arima with seasonal period m=12...\n",
      "  Best model found for lat17.75_lon101.75: (0, 0, 0) (2, 1, 0, 12)\n"
     ]
    },
    {
     "name": "stderr",
     "output_type": "stream",
     "text": [
      "c:\\Users\\peera\\.conda\\envs\\drought_lstm_base\\Lib\\site-packages\\statsmodels\\tsa\\base\\tsa_model.py:837: FutureWarning: No supported index is available. In the next version, calling this method in a model without a supported index will result in an exception.\n",
      "  return get_prediction_index(\n"
     ]
    },
    {
     "name": "stdout",
     "output_type": "stream",
     "text": [
      "  lat17.75_lon101.75 - Train Set:      RMSE=2262.9172, MAE=31.3701, R2=0.7586\n",
      "  lat17.75_lon101.75 - Validation Set: RMSE=2887.5391, MAE=39.8018, R2=0.5685\n",
      "  lat17.75_lon101.75 - Test Set:       RMSE=3258.5664, MAE=40.9849, R2=0.6694\n",
      "\n",
      "--- Processing Location: lat17.75_lon102.25 ---\n",
      "  Warning: Could not infer frequency for lat17.75_lon102.25.\n",
      "  Stationarity (p-value): 0.0000 -> Stationary\n",
      "  Running auto_arima with seasonal period m=12...\n",
      "  Best model found for lat17.75_lon102.25: (0, 0, 0) (2, 1, 0, 12)\n"
     ]
    },
    {
     "name": "stderr",
     "output_type": "stream",
     "text": [
      "c:\\Users\\peera\\.conda\\envs\\drought_lstm_base\\Lib\\site-packages\\statsmodels\\tsa\\base\\tsa_model.py:837: FutureWarning: No supported index is available. In the next version, calling this method in a model without a supported index will result in an exception.\n",
      "  return get_prediction_index(\n"
     ]
    },
    {
     "name": "stdout",
     "output_type": "stream",
     "text": [
      "  lat17.75_lon102.25 - Train Set:      RMSE=2537.8744, MAE=32.4616, R2=0.7976\n",
      "  lat17.75_lon102.25 - Validation Set: RMSE=2822.8759, MAE=39.7617, R2=0.6986\n",
      "  lat17.75_lon102.25 - Test Set:       RMSE=3675.9138, MAE=42.1828, R2=0.7244\n",
      "\n",
      "--- Processing Location: lat17.75_lon102.75 ---\n",
      "  Warning: Could not infer frequency for lat17.75_lon102.75.\n",
      "  Stationarity (p-value): 0.0000 -> Stationary\n",
      "  Running auto_arima with seasonal period m=12...\n",
      "  Best model found for lat17.75_lon102.75: (0, 0, 0) (2, 1, 0, 12)\n"
     ]
    },
    {
     "name": "stderr",
     "output_type": "stream",
     "text": [
      "c:\\Users\\peera\\.conda\\envs\\drought_lstm_base\\Lib\\site-packages\\statsmodels\\tsa\\base\\tsa_model.py:837: FutureWarning: No supported index is available. In the next version, calling this method in a model without a supported index will result in an exception.\n",
      "  return get_prediction_index(\n"
     ]
    },
    {
     "name": "stdout",
     "output_type": "stream",
     "text": [
      "  lat17.75_lon102.75 - Train Set:      RMSE=3088.7250, MAE=34.8127, R2=0.8090\n",
      "  lat17.75_lon102.75 - Validation Set: RMSE=2829.6176, MAE=39.1970, R2=0.7656\n",
      "  lat17.75_lon102.75 - Test Set:       RMSE=4283.5678, MAE=42.8168, R2=0.7592\n",
      "\n",
      "--- Processing Location: lat17.75_lon103.25 ---\n",
      "  Warning: Could not infer frequency for lat17.75_lon103.25.\n",
      "  Stationarity (p-value): 0.0000 -> Stationary\n",
      "  Running auto_arima with seasonal period m=12...\n",
      "  Best model found for lat17.75_lon103.25: (0, 0, 0) (2, 1, 0, 12)\n"
     ]
    },
    {
     "name": "stderr",
     "output_type": "stream",
     "text": [
      "c:\\Users\\peera\\.conda\\envs\\drought_lstm_base\\Lib\\site-packages\\statsmodels\\tsa\\base\\tsa_model.py:837: FutureWarning: No supported index is available. In the next version, calling this method in a model without a supported index will result in an exception.\n",
      "  return get_prediction_index(\n"
     ]
    },
    {
     "name": "stdout",
     "output_type": "stream",
     "text": [
      "  lat17.75_lon103.25 - Train Set:      RMSE=3339.3233, MAE=35.9360, R2=0.8115\n",
      "  lat17.75_lon103.25 - Validation Set: RMSE=2977.9276, MAE=38.9518, R2=0.7758\n",
      "  lat17.75_lon103.25 - Test Set:       RMSE=4713.6810, MAE=44.1627, R2=0.7647\n",
      "\n",
      "--- Processing Location: lat17.75_lon103.75 ---\n",
      "  Warning: Could not infer frequency for lat17.75_lon103.75.\n",
      "  Stationarity (p-value): 0.0000 -> Stationary\n",
      "  Running auto_arima with seasonal period m=12...\n",
      "  Best model found for lat17.75_lon103.75: (0, 0, 0) (2, 1, 0, 12)\n"
     ]
    },
    {
     "name": "stderr",
     "output_type": "stream",
     "text": [
      "c:\\Users\\peera\\.conda\\envs\\drought_lstm_base\\Lib\\site-packages\\statsmodels\\tsa\\base\\tsa_model.py:837: FutureWarning: No supported index is available. In the next version, calling this method in a model without a supported index will result in an exception.\n",
      "  return get_prediction_index(\n"
     ]
    },
    {
     "name": "stdout",
     "output_type": "stream",
     "text": [
      "  lat17.75_lon103.75 - Train Set:      RMSE=3868.9998, MAE=38.6363, R2=0.8088\n",
      "  lat17.75_lon103.75 - Validation Set: RMSE=3266.7639, MAE=41.1416, R2=0.7888\n",
      "  lat17.75_lon103.75 - Test Set:       RMSE=5244.9848, MAE=47.1217, R2=0.7759\n",
      "\n",
      "--- Processing Location: lat17.75_lon104.25 ---\n",
      "  Warning: Could not infer frequency for lat17.75_lon104.25.\n",
      "  Stationarity (p-value): 0.0000 -> Stationary\n",
      "  Running auto_arima with seasonal period m=12...\n",
      "  Best model found for lat17.75_lon104.25: (0, 0, 0) (2, 1, 0, 12)\n"
     ]
    },
    {
     "name": "stderr",
     "output_type": "stream",
     "text": [
      "c:\\Users\\peera\\.conda\\envs\\drought_lstm_base\\Lib\\site-packages\\statsmodels\\tsa\\base\\tsa_model.py:837: FutureWarning: No supported index is available. In the next version, calling this method in a model without a supported index will result in an exception.\n",
      "  return get_prediction_index(\n"
     ]
    },
    {
     "name": "stdout",
     "output_type": "stream",
     "text": [
      "  lat17.75_lon104.25 - Train Set:      RMSE=4707.6113, MAE=43.1960, R2=0.8220\n",
      "  lat17.75_lon104.25 - Validation Set: RMSE=4801.0157, MAE=50.0759, R2=0.7959\n",
      "  lat17.75_lon104.25 - Test Set:       RMSE=5563.6770, MAE=47.2925, R2=0.8032\n",
      "\n",
      "--- Processing Location: lat18.25_lon97.75 ---\n",
      "  Warning: Could not infer frequency for lat18.25_lon97.75.\n",
      "  Stationarity (p-value): 0.0000 -> Stationary\n",
      "  Running auto_arima with seasonal period m=12...\n",
      "  Best model found for lat18.25_lon97.75: (0, 0, 0) (2, 1, 0, 12)\n"
     ]
    },
    {
     "name": "stderr",
     "output_type": "stream",
     "text": [
      "c:\\Users\\peera\\.conda\\envs\\drought_lstm_base\\Lib\\site-packages\\statsmodels\\tsa\\base\\tsa_model.py:837: FutureWarning: No supported index is available. In the next version, calling this method in a model without a supported index will result in an exception.\n",
      "  return get_prediction_index(\n"
     ]
    },
    {
     "name": "stdout",
     "output_type": "stream",
     "text": [
      "  lat18.25_lon97.75 - Train Set:      RMSE=2565.4355, MAE=32.3864, R2=0.8207\n",
      "  lat18.25_lon97.75 - Validation Set: RMSE=1326.4824, MAE=23.6363, R2=0.8680\n",
      "  lat18.25_lon97.75 - Test Set:       RMSE=837.8144, MAE=21.3106, R2=0.9327\n",
      "\n",
      "--- Processing Location: lat18.25_lon98.25 ---\n",
      "  Warning: Could not infer frequency for lat18.25_lon98.25.\n",
      "  Stationarity (p-value): 0.0000 -> Stationary\n",
      "  Running auto_arima with seasonal period m=12...\n",
      "  Best model found for lat18.25_lon98.25: (1, 0, 0) (2, 1, 0, 12)\n"
     ]
    },
    {
     "name": "stderr",
     "output_type": "stream",
     "text": [
      "c:\\Users\\peera\\.conda\\envs\\drought_lstm_base\\Lib\\site-packages\\statsmodels\\tsa\\base\\tsa_model.py:837: FutureWarning: No supported index is available. In the next version, calling this method in a model without a supported index will result in an exception.\n",
      "  return get_prediction_index(\n"
     ]
    },
    {
     "name": "stdout",
     "output_type": "stream",
     "text": [
      "  lat18.25_lon98.25 - Train Set:      RMSE=2579.2821, MAE=33.6741, R2=0.7629\n",
      "  lat18.25_lon98.25 - Validation Set: RMSE=2938.6628, MAE=37.7371, R2=0.6322\n",
      "  lat18.25_lon98.25 - Test Set:       RMSE=4697.4368, MAE=46.7766, R2=0.6076\n",
      "\n",
      "--- Processing Location: lat18.25_lon98.75 ---\n",
      "  Warning: Could not infer frequency for lat18.25_lon98.75.\n",
      "  Stationarity (p-value): 0.0000 -> Stationary\n",
      "  Running auto_arima with seasonal period m=12...\n",
      "  Best model found for lat18.25_lon98.75: (0, 0, 0) (2, 1, 0, 12)\n"
     ]
    },
    {
     "name": "stderr",
     "output_type": "stream",
     "text": [
      "c:\\Users\\peera\\.conda\\envs\\drought_lstm_base\\Lib\\site-packages\\statsmodels\\tsa\\base\\tsa_model.py:837: FutureWarning: No supported index is available. In the next version, calling this method in a model without a supported index will result in an exception.\n",
      "  return get_prediction_index(\n"
     ]
    },
    {
     "name": "stdout",
     "output_type": "stream",
     "text": [
      "  lat18.25_lon98.75 - Train Set:      RMSE=2088.7354, MAE=30.2477, R2=0.7316\n",
      "  lat18.25_lon98.75 - Validation Set: RMSE=2512.7226, MAE=35.5849, R2=0.5230\n",
      "  lat18.25_lon98.75 - Test Set:       RMSE=3711.2522, MAE=41.7441, R2=0.5931\n",
      "\n",
      "--- Processing Location: lat18.25_lon99.25 ---\n",
      "  Warning: Could not infer frequency for lat18.25_lon99.25.\n",
      "  Stationarity (p-value): 0.0000 -> Stationary\n",
      "  Running auto_arima with seasonal period m=12...\n",
      "  Best model found for lat18.25_lon99.25: (0, 0, 0) (2, 1, 0, 12)\n"
     ]
    },
    {
     "name": "stderr",
     "output_type": "stream",
     "text": [
      "c:\\Users\\peera\\.conda\\envs\\drought_lstm_base\\Lib\\site-packages\\statsmodels\\tsa\\base\\tsa_model.py:837: FutureWarning: No supported index is available. In the next version, calling this method in a model without a supported index will result in an exception.\n",
      "  return get_prediction_index(\n"
     ]
    },
    {
     "name": "stdout",
     "output_type": "stream",
     "text": [
      "  lat18.25_lon99.25 - Train Set:      RMSE=1977.7413, MAE=29.4643, R2=0.7217\n",
      "  lat18.25_lon99.25 - Validation Set: RMSE=2438.5673, MAE=35.1119, R2=0.4871\n",
      "  lat18.25_lon99.25 - Test Set:       RMSE=3316.1789, MAE=39.9291, R2=0.5909\n",
      "\n",
      "--- Processing Location: lat18.25_lon99.75 ---\n",
      "  Warning: Could not infer frequency for lat18.25_lon99.75.\n",
      "  Stationarity (p-value): 0.0000 -> Stationary\n",
      "  Running auto_arima with seasonal period m=12...\n",
      "  Best model found for lat18.25_lon99.75: (0, 0, 0) (2, 1, 0, 12)\n"
     ]
    },
    {
     "name": "stderr",
     "output_type": "stream",
     "text": [
      "c:\\Users\\peera\\.conda\\envs\\drought_lstm_base\\Lib\\site-packages\\statsmodels\\tsa\\base\\tsa_model.py:837: FutureWarning: No supported index is available. In the next version, calling this method in a model without a supported index will result in an exception.\n",
      "  return get_prediction_index(\n"
     ]
    },
    {
     "name": "stdout",
     "output_type": "stream",
     "text": [
      "  lat18.25_lon99.75 - Train Set:      RMSE=1958.3449, MAE=29.1889, R2=0.7332\n",
      "  lat18.25_lon99.75 - Validation Set: RMSE=2430.7845, MAE=34.9396, R2=0.5200\n",
      "  lat18.25_lon99.75 - Test Set:       RMSE=3164.9985, MAE=39.3202, R2=0.5945\n",
      "\n",
      "--- Processing Location: lat18.25_lon100.25 ---\n",
      "  Warning: Could not infer frequency for lat18.25_lon100.25.\n",
      "  Stationarity (p-value): 0.0000 -> Stationary\n",
      "  Running auto_arima with seasonal period m=12...\n",
      "  Best model found for lat18.25_lon100.25: (0, 0, 0) (2, 1, 0, 12)\n"
     ]
    },
    {
     "name": "stderr",
     "output_type": "stream",
     "text": [
      "c:\\Users\\peera\\.conda\\envs\\drought_lstm_base\\Lib\\site-packages\\statsmodels\\tsa\\base\\tsa_model.py:837: FutureWarning: No supported index is available. In the next version, calling this method in a model without a supported index will result in an exception.\n",
      "  return get_prediction_index(\n"
     ]
    },
    {
     "name": "stdout",
     "output_type": "stream",
     "text": [
      "  lat18.25_lon100.25 - Train Set:      RMSE=2028.0348, MAE=29.4994, R2=0.7427\n",
      "  lat18.25_lon100.25 - Validation Set: RMSE=2260.4076, MAE=34.6686, R2=0.6099\n",
      "  lat18.25_lon100.25 - Test Set:       RMSE=2596.5674, MAE=36.7409, R2=0.6480\n",
      "\n",
      "--- Processing Location: lat18.25_lon100.75 ---\n",
      "  Warning: Could not infer frequency for lat18.25_lon100.75.\n",
      "  Stationarity (p-value): 0.0000 -> Stationary\n",
      "  Running auto_arima with seasonal period m=12...\n",
      "  Best model found for lat18.25_lon100.75: (0, 0, 0) (2, 1, 0, 12)\n"
     ]
    },
    {
     "name": "stderr",
     "output_type": "stream",
     "text": [
      "c:\\Users\\peera\\.conda\\envs\\drought_lstm_base\\Lib\\site-packages\\statsmodels\\tsa\\base\\tsa_model.py:837: FutureWarning: No supported index is available. In the next version, calling this method in a model without a supported index will result in an exception.\n",
      "  return get_prediction_index(\n"
     ]
    },
    {
     "name": "stdout",
     "output_type": "stream",
     "text": [
      "  lat18.25_lon100.75 - Train Set:      RMSE=2029.7619, MAE=29.7293, R2=0.7745\n",
      "  lat18.25_lon100.75 - Validation Set: RMSE=2481.4896, MAE=37.0395, R2=0.6194\n",
      "  lat18.25_lon100.75 - Test Set:       RMSE=2567.7322, MAE=36.3792, R2=0.6734\n",
      "\n",
      "--- Processing Location: lat18.25_lon103.25 ---\n",
      "  Warning: Could not infer frequency for lat18.25_lon103.25.\n",
      "  Stationarity (p-value): 0.0000 -> Stationary\n",
      "  Running auto_arima with seasonal period m=12...\n",
      "  Best model found for lat18.25_lon103.25: (0, 0, 0) (2, 1, 0, 12)\n"
     ]
    },
    {
     "name": "stderr",
     "output_type": "stream",
     "text": [
      "c:\\Users\\peera\\.conda\\envs\\drought_lstm_base\\Lib\\site-packages\\statsmodels\\tsa\\base\\tsa_model.py:837: FutureWarning: No supported index is available. In the next version, calling this method in a model without a supported index will result in an exception.\n",
      "  return get_prediction_index(\n"
     ]
    },
    {
     "name": "stdout",
     "output_type": "stream",
     "text": [
      "  lat18.25_lon103.25 - Train Set:      RMSE=3483.7949, MAE=37.1465, R2=0.8221\n",
      "  lat18.25_lon103.25 - Validation Set: RMSE=3563.3317, MAE=44.4806, R2=0.7447\n",
      "  lat18.25_lon103.25 - Test Set:       RMSE=5641.0944, MAE=49.4088, R2=0.7446\n",
      "\n",
      "--- Processing Location: lat18.25_lon103.75 ---\n",
      "  Warning: Could not infer frequency for lat18.25_lon103.75.\n",
      "  Stationarity (p-value): 0.0000 -> Stationary\n",
      "  Running auto_arima with seasonal period m=12...\n",
      "  Best model found for lat18.25_lon103.75: (0, 0, 0) (2, 1, 0, 12)\n"
     ]
    },
    {
     "name": "stderr",
     "output_type": "stream",
     "text": [
      "c:\\Users\\peera\\.conda\\envs\\drought_lstm_base\\Lib\\site-packages\\statsmodels\\tsa\\base\\tsa_model.py:837: FutureWarning: No supported index is available. In the next version, calling this method in a model without a supported index will result in an exception.\n",
      "  return get_prediction_index(\n"
     ]
    },
    {
     "name": "stdout",
     "output_type": "stream",
     "text": [
      "  lat18.25_lon103.75 - Train Set:      RMSE=4342.9819, MAE=42.0199, R2=0.8044\n",
      "  lat18.25_lon103.75 - Validation Set: RMSE=3784.1202, MAE=45.2350, R2=0.7642\n",
      "  lat18.25_lon103.75 - Test Set:       RMSE=6360.0711, MAE=52.5634, R2=0.7544\n",
      "\n",
      "--- Processing Location: lat18.75_lon97.75 ---\n",
      "  Warning: Could not infer frequency for lat18.75_lon97.75.\n",
      "  Stationarity (p-value): 0.0000 -> Stationary\n",
      "  Running auto_arima with seasonal period m=12...\n",
      "  Best model found for lat18.75_lon97.75: (0, 0, 0) (2, 1, 0, 12)\n"
     ]
    },
    {
     "name": "stderr",
     "output_type": "stream",
     "text": [
      "c:\\Users\\peera\\.conda\\envs\\drought_lstm_base\\Lib\\site-packages\\statsmodels\\tsa\\base\\tsa_model.py:837: FutureWarning: No supported index is available. In the next version, calling this method in a model without a supported index will result in an exception.\n",
      "  return get_prediction_index(\n"
     ]
    },
    {
     "name": "stdout",
     "output_type": "stream",
     "text": [
      "  lat18.75_lon97.75 - Train Set:      RMSE=2310.7143, MAE=31.4859, R2=0.8052\n",
      "  lat18.75_lon97.75 - Validation Set: RMSE=2533.4765, MAE=33.2394, R2=0.6682\n",
      "  lat18.75_lon97.75 - Test Set:       RMSE=1218.4970, MAE=26.2070, R2=0.8795\n",
      "\n",
      "--- Processing Location: lat18.75_lon98.25 ---\n",
      "  Warning: Could not infer frequency for lat18.75_lon98.25.\n",
      "  Stationarity (p-value): 0.0000 -> Stationary\n",
      "  Running auto_arima with seasonal period m=12...\n",
      "  Best model found for lat18.75_lon98.25: (0, 0, 0) (2, 1, 0, 12)\n"
     ]
    },
    {
     "name": "stderr",
     "output_type": "stream",
     "text": [
      "c:\\Users\\peera\\.conda\\envs\\drought_lstm_base\\Lib\\site-packages\\statsmodels\\tsa\\base\\tsa_model.py:837: FutureWarning: No supported index is available. In the next version, calling this method in a model without a supported index will result in an exception.\n",
      "  return get_prediction_index(\n"
     ]
    },
    {
     "name": "stdout",
     "output_type": "stream",
     "text": [
      "  lat18.75_lon98.25 - Train Set:      RMSE=2676.4974, MAE=34.6394, R2=0.7456\n",
      "  lat18.75_lon98.25 - Validation Set: RMSE=3474.7707, MAE=42.2743, R2=0.5550\n",
      "  lat18.75_lon98.25 - Test Set:       RMSE=4586.7259, MAE=46.7643, R2=0.5953\n",
      "\n",
      "--- Processing Location: lat18.75_lon98.75 ---\n",
      "  Warning: Could not infer frequency for lat18.75_lon98.75.\n",
      "  Stationarity (p-value): 0.0000 -> Stationary\n",
      "  Running auto_arima with seasonal period m=12...\n",
      "  Best model found for lat18.75_lon98.75: (1, 0, 0) (2, 1, 0, 12)\n"
     ]
    },
    {
     "name": "stderr",
     "output_type": "stream",
     "text": [
      "c:\\Users\\peera\\.conda\\envs\\drought_lstm_base\\Lib\\site-packages\\statsmodels\\tsa\\base\\tsa_model.py:837: FutureWarning: No supported index is available. In the next version, calling this method in a model without a supported index will result in an exception.\n",
      "  return get_prediction_index(\n"
     ]
    },
    {
     "name": "stdout",
     "output_type": "stream",
     "text": [
      "  lat18.75_lon98.75 - Train Set:      RMSE=2091.4107, MAE=30.6457, R2=0.7574\n",
      "  lat18.75_lon98.75 - Validation Set: RMSE=3021.1364, MAE=39.7695, R2=0.5054\n",
      "  lat18.75_lon98.75 - Test Set:       RMSE=3807.2411, MAE=43.4870, R2=0.5866\n",
      "\n",
      "--- Processing Location: lat18.75_lon99.25 ---\n",
      "  Warning: Could not infer frequency for lat18.75_lon99.25.\n",
      "  Stationarity (p-value): 0.0000 -> Stationary\n",
      "  Running auto_arima with seasonal period m=12...\n",
      "  Best model found for lat18.75_lon99.25: (0, 0, 0) (2, 1, 0, 12)\n"
     ]
    },
    {
     "name": "stderr",
     "output_type": "stream",
     "text": [
      "c:\\Users\\peera\\.conda\\envs\\drought_lstm_base\\Lib\\site-packages\\statsmodels\\tsa\\base\\tsa_model.py:837: FutureWarning: No supported index is available. In the next version, calling this method in a model without a supported index will result in an exception.\n",
      "  return get_prediction_index(\n"
     ]
    },
    {
     "name": "stdout",
     "output_type": "stream",
     "text": [
      "  lat18.75_lon99.25 - Train Set:      RMSE=2190.6816, MAE=31.3527, R2=0.7458\n",
      "  lat18.75_lon99.25 - Validation Set: RMSE=3298.5293, MAE=42.6831, R2=0.4667\n",
      "  lat18.75_lon99.25 - Test Set:       RMSE=3790.6121, MAE=43.8530, R2=0.5639\n",
      "\n",
      "--- Processing Location: lat18.75_lon99.75 ---\n",
      "  Warning: Could not infer frequency for lat18.75_lon99.75.\n",
      "  Stationarity (p-value): 0.0000 -> Stationary\n",
      "  Running auto_arima with seasonal period m=12...\n",
      "  Best model found for lat18.75_lon99.75: (0, 0, 0) (2, 1, 0, 12)\n"
     ]
    },
    {
     "name": "stderr",
     "output_type": "stream",
     "text": [
      "c:\\Users\\peera\\.conda\\envs\\drought_lstm_base\\Lib\\site-packages\\statsmodels\\tsa\\base\\tsa_model.py:837: FutureWarning: No supported index is available. In the next version, calling this method in a model without a supported index will result in an exception.\n",
      "  return get_prediction_index(\n"
     ]
    },
    {
     "name": "stdout",
     "output_type": "stream",
     "text": [
      "  lat18.75_lon99.75 - Train Set:      RMSE=2106.9922, MAE=30.4363, R2=0.7630\n",
      "  lat18.75_lon99.75 - Validation Set: RMSE=3232.8738, MAE=42.6487, R2=0.5140\n",
      "  lat18.75_lon99.75 - Test Set:       RMSE=3450.3536, MAE=42.5637, R2=0.5873\n",
      "\n",
      "--- Processing Location: lat18.75_lon100.25 ---\n",
      "  Warning: Could not infer frequency for lat18.75_lon100.25.\n",
      "  Stationarity (p-value): 0.0000 -> Stationary\n",
      "  Running auto_arima with seasonal period m=12...\n",
      "  Best model found for lat18.75_lon100.25: (0, 0, 0) (2, 1, 0, 12)\n"
     ]
    },
    {
     "name": "stderr",
     "output_type": "stream",
     "text": [
      "c:\\Users\\peera\\.conda\\envs\\drought_lstm_base\\Lib\\site-packages\\statsmodels\\tsa\\base\\tsa_model.py:837: FutureWarning: No supported index is available. In the next version, calling this method in a model without a supported index will result in an exception.\n",
      "  return get_prediction_index(\n"
     ]
    },
    {
     "name": "stdout",
     "output_type": "stream",
     "text": [
      "  lat18.75_lon100.25 - Train Set:      RMSE=2184.8101, MAE=30.9393, R2=0.7677\n",
      "  lat18.75_lon100.25 - Validation Set: RMSE=3023.8712, MAE=41.1159, R2=0.5760\n",
      "  lat18.75_lon100.25 - Test Set:       RMSE=3041.6538, MAE=40.5982, R2=0.6330\n",
      "\n",
      "--- Processing Location: lat18.75_lon100.75 ---\n",
      "  Warning: Could not infer frequency for lat18.75_lon100.75.\n",
      "  Stationarity (p-value): 0.0000 -> Stationary\n",
      "  Running auto_arima with seasonal period m=12...\n",
      "  Best model found for lat18.75_lon100.75: (0, 0, 0) (2, 1, 0, 12)\n"
     ]
    },
    {
     "name": "stderr",
     "output_type": "stream",
     "text": [
      "c:\\Users\\peera\\.conda\\envs\\drought_lstm_base\\Lib\\site-packages\\statsmodels\\tsa\\base\\tsa_model.py:837: FutureWarning: No supported index is available. In the next version, calling this method in a model without a supported index will result in an exception.\n",
      "  return get_prediction_index(\n"
     ]
    },
    {
     "name": "stdout",
     "output_type": "stream",
     "text": [
      "  lat18.75_lon100.75 - Train Set:      RMSE=2436.7113, MAE=32.7623, R2=0.7615\n",
      "  lat18.75_lon100.75 - Validation Set: RMSE=2831.8967, MAE=38.8969, R2=0.6318\n",
      "  lat18.75_lon100.75 - Test Set:       RMSE=3159.2608, MAE=39.3393, R2=0.6591\n",
      "\n",
      "--- Processing Location: lat19.25_lon98.25 ---\n",
      "  Warning: Could not infer frequency for lat19.25_lon98.25.\n",
      "  Stationarity (p-value): 0.0000 -> Stationary\n",
      "  Running auto_arima with seasonal period m=12...\n",
      "  Best model found for lat19.25_lon98.25: (0, 0, 0) (2, 1, 0, 12)\n"
     ]
    },
    {
     "name": "stderr",
     "output_type": "stream",
     "text": [
      "c:\\Users\\peera\\.conda\\envs\\drought_lstm_base\\Lib\\site-packages\\statsmodels\\tsa\\base\\tsa_model.py:837: FutureWarning: No supported index is available. In the next version, calling this method in a model without a supported index will result in an exception.\n",
      "  return get_prediction_index(\n"
     ]
    },
    {
     "name": "stdout",
     "output_type": "stream",
     "text": [
      "  lat19.25_lon98.25 - Train Set:      RMSE=2433.9496, MAE=33.6083, R2=0.7669\n",
      "  lat19.25_lon98.25 - Validation Set: RMSE=3946.8719, MAE=45.3893, R2=0.5014\n",
      "  lat19.25_lon98.25 - Test Set:       RMSE=4314.1845, MAE=44.6465, R2=0.6071\n",
      "\n",
      "--- Processing Location: lat19.25_lon98.75 ---\n",
      "  Warning: Could not infer frequency for lat19.25_lon98.75.\n",
      "  Stationarity (p-value): 0.0000 -> Stationary\n",
      "  Running auto_arima with seasonal period m=12...\n",
      "  Best model found for lat19.25_lon98.75: (1, 0, 0) (2, 1, 0, 12)\n"
     ]
    },
    {
     "name": "stderr",
     "output_type": "stream",
     "text": [
      "c:\\Users\\peera\\.conda\\envs\\drought_lstm_base\\Lib\\site-packages\\statsmodels\\tsa\\base\\tsa_model.py:837: FutureWarning: No supported index is available. In the next version, calling this method in a model without a supported index will result in an exception.\n",
      "  return get_prediction_index(\n"
     ]
    },
    {
     "name": "stdout",
     "output_type": "stream",
     "text": [
      "  lat19.25_lon98.75 - Train Set:      RMSE=2280.7509, MAE=32.5552, R2=0.7735\n",
      "  lat19.25_lon98.75 - Validation Set: RMSE=4353.6878, MAE=47.2524, R2=0.4408\n",
      "  lat19.25_lon98.75 - Test Set:       RMSE=4426.3232, MAE=46.9907, R2=0.5665\n",
      "\n",
      "--- Processing Location: lat19.25_lon99.25 ---\n",
      "  Warning: Could not infer frequency for lat19.25_lon99.25.\n",
      "  Stationarity (p-value): 0.0000 -> Stationary\n",
      "  Running auto_arima with seasonal period m=12...\n",
      "  Best model found for lat19.25_lon99.25: (1, 0, 0) (2, 1, 0, 12)\n"
     ]
    },
    {
     "name": "stderr",
     "output_type": "stream",
     "text": [
      "c:\\Users\\peera\\.conda\\envs\\drought_lstm_base\\Lib\\site-packages\\statsmodels\\tsa\\base\\tsa_model.py:837: FutureWarning: No supported index is available. In the next version, calling this method in a model without a supported index will result in an exception.\n",
      "  return get_prediction_index(\n"
     ]
    },
    {
     "name": "stdout",
     "output_type": "stream",
     "text": [
      "  lat19.25_lon99.25 - Train Set:      RMSE=2395.0174, MAE=33.1510, R2=0.7777\n",
      "  lat19.25_lon99.25 - Validation Set: RMSE=4602.2767, MAE=49.7458, R2=0.4608\n",
      "  lat19.25_lon99.25 - Test Set:       RMSE=4584.1999, MAE=48.8909, R2=0.5558\n",
      "\n",
      "--- Processing Location: lat19.25_lon99.75 ---\n",
      "  Warning: Could not infer frequency for lat19.25_lon99.75.\n",
      "  Stationarity (p-value): 0.0000 -> Stationary\n",
      "  Running auto_arima with seasonal period m=12...\n",
      "  Best model found for lat19.25_lon99.75: (2, 0, 0) (2, 1, 0, 12)\n"
     ]
    },
    {
     "name": "stderr",
     "output_type": "stream",
     "text": [
      "c:\\Users\\peera\\.conda\\envs\\drought_lstm_base\\Lib\\site-packages\\statsmodels\\tsa\\base\\tsa_model.py:837: FutureWarning: No supported index is available. In the next version, calling this method in a model without a supported index will result in an exception.\n",
      "  return get_prediction_index(\n"
     ]
    },
    {
     "name": "stdout",
     "output_type": "stream",
     "text": [
      "  lat19.25_lon99.75 - Train Set:      RMSE=2358.7056, MAE=32.5824, R2=0.8021\n",
      "  lat19.25_lon99.75 - Validation Set: RMSE=4051.7965, MAE=49.2839, R2=0.5054\n",
      "  lat19.25_lon99.75 - Test Set:       RMSE=2815.3980, MAE=41.0031, R2=0.7193\n",
      "\n",
      "--- Processing Location: lat19.25_lon100.25 ---\n",
      "  Warning: Could not infer frequency for lat19.25_lon100.25.\n",
      "  Stationarity (p-value): 0.0000 -> Stationary\n",
      "  Running auto_arima with seasonal period m=12...\n",
      "  Best model found for lat19.25_lon100.25: (2, 0, 0) (2, 1, 0, 12)\n"
     ]
    },
    {
     "name": "stderr",
     "output_type": "stream",
     "text": [
      "c:\\Users\\peera\\.conda\\envs\\drought_lstm_base\\Lib\\site-packages\\statsmodels\\tsa\\base\\tsa_model.py:837: FutureWarning: No supported index is available. In the next version, calling this method in a model without a supported index will result in an exception.\n",
      "  return get_prediction_index(\n"
     ]
    },
    {
     "name": "stdout",
     "output_type": "stream",
     "text": [
      "  lat19.25_lon100.25 - Train Set:      RMSE=2714.4290, MAE=34.9810, R2=0.7769\n",
      "  lat19.25_lon100.25 - Validation Set: RMSE=3903.3671, MAE=47.6112, R2=0.6053\n",
      "  lat19.25_lon100.25 - Test Set:       RMSE=4264.6205, MAE=47.8172, R2=0.5779\n",
      "\n",
      "--- Processing Location: lat19.25_lon100.75 ---\n",
      "  Warning: Could not infer frequency for lat19.25_lon100.75.\n",
      "  Stationarity (p-value): 0.0000 -> Stationary\n",
      "  Running auto_arima with seasonal period m=12...\n",
      "  Best model found for lat19.25_lon100.75: (2, 0, 0) (2, 1, 0, 12)\n"
     ]
    },
    {
     "name": "stderr",
     "output_type": "stream",
     "text": [
      "c:\\Users\\peera\\.conda\\envs\\drought_lstm_base\\Lib\\site-packages\\statsmodels\\tsa\\base\\tsa_model.py:837: FutureWarning: No supported index is available. In the next version, calling this method in a model without a supported index will result in an exception.\n",
      "  return get_prediction_index(\n"
     ]
    },
    {
     "name": "stdout",
     "output_type": "stream",
     "text": [
      "  lat19.25_lon100.75 - Train Set:      RMSE=2763.3481, MAE=35.3992, R2=0.7640\n",
      "  lat19.25_lon100.75 - Validation Set: RMSE=3438.0188, MAE=44.7442, R2=0.6289\n",
      "  lat19.25_lon100.75 - Test Set:       RMSE=3789.4826, MAE=45.8365, R2=0.5969\n",
      "\n",
      "--- Processing Location: lat19.75_lon98.75 ---\n",
      "  Warning: Could not infer frequency for lat19.75_lon98.75.\n",
      "  Stationarity (p-value): 0.0000 -> Stationary\n",
      "  Running auto_arima with seasonal period m=12...\n",
      "  Best model found for lat19.75_lon98.75: (0, 0, 0) (2, 1, 0, 12)\n"
     ]
    },
    {
     "name": "stderr",
     "output_type": "stream",
     "text": [
      "c:\\Users\\peera\\.conda\\envs\\drought_lstm_base\\Lib\\site-packages\\statsmodels\\tsa\\base\\tsa_model.py:837: FutureWarning: No supported index is available. In the next version, calling this method in a model without a supported index will result in an exception.\n",
      "  return get_prediction_index(\n"
     ]
    },
    {
     "name": "stdout",
     "output_type": "stream",
     "text": [
      "  lat19.75_lon98.75 - Train Set:      RMSE=2451.3020, MAE=33.9278, R2=0.7827\n",
      "  lat19.75_lon98.75 - Validation Set: RMSE=4759.2061, MAE=50.9337, R2=0.4735\n",
      "  lat19.75_lon98.75 - Test Set:       RMSE=4525.5157, MAE=46.9290, R2=0.5957\n",
      "\n",
      "--- Processing Location: lat19.75_lon99.25 ---\n",
      "  Warning: Could not infer frequency for lat19.75_lon99.25.\n",
      "  Stationarity (p-value): 0.0000 -> Stationary\n",
      "  Running auto_arima with seasonal period m=12...\n",
      "  Best model found for lat19.75_lon99.25: (0, 0, 0) (2, 1, 0, 12)\n"
     ]
    },
    {
     "name": "stderr",
     "output_type": "stream",
     "text": [
      "c:\\Users\\peera\\.conda\\envs\\drought_lstm_base\\Lib\\site-packages\\statsmodels\\tsa\\base\\tsa_model.py:837: FutureWarning: No supported index is available. In the next version, calling this method in a model without a supported index will result in an exception.\n",
      "  return get_prediction_index(\n"
     ]
    },
    {
     "name": "stdout",
     "output_type": "stream",
     "text": [
      "  lat19.75_lon99.25 - Train Set:      RMSE=2497.3883, MAE=33.8655, R2=0.8042\n",
      "  lat19.75_lon99.25 - Validation Set: RMSE=5223.5188, MAE=56.9900, R2=0.3885\n",
      "  lat19.75_lon99.25 - Test Set:       RMSE=2879.3761, MAE=40.6847, R2=0.7340\n",
      "\n",
      "--- Processing Location: lat19.75_lon99.75 ---\n",
      "  Warning: Could not infer frequency for lat19.75_lon99.75.\n",
      "  Stationarity (p-value): 0.0000 -> Stationary\n",
      "  Running auto_arima with seasonal period m=12...\n",
      "  Best model found for lat19.75_lon99.75: (0, 0, 0) (2, 1, 0, 12)\n"
     ]
    },
    {
     "name": "stderr",
     "output_type": "stream",
     "text": [
      "c:\\Users\\peera\\.conda\\envs\\drought_lstm_base\\Lib\\site-packages\\statsmodels\\tsa\\base\\tsa_model.py:837: FutureWarning: No supported index is available. In the next version, calling this method in a model without a supported index will result in an exception.\n",
      "  return get_prediction_index(\n"
     ]
    },
    {
     "name": "stdout",
     "output_type": "stream",
     "text": [
      "  lat19.75_lon99.75 - Train Set:      RMSE=2998.7485, MAE=36.7101, R2=0.8110\n",
      "  lat19.75_lon99.75 - Validation Set: RMSE=5331.3496, MAE=59.4922, R2=0.5339\n",
      "  lat19.75_lon99.75 - Test Set:       RMSE=3386.5118, MAE=43.8672, R2=0.7416\n",
      "\n",
      "--- Processing Location: lat19.75_lon100.25 ---\n",
      "  Warning: Could not infer frequency for lat19.75_lon100.25.\n",
      "  Stationarity (p-value): 0.0000 -> Stationary\n",
      "  Running auto_arima with seasonal period m=12...\n",
      "  Best model found for lat19.75_lon100.25: (0, 0, 0) (2, 1, 0, 12)\n"
     ]
    },
    {
     "name": "stderr",
     "output_type": "stream",
     "text": [
      "c:\\Users\\peera\\.conda\\envs\\drought_lstm_base\\Lib\\site-packages\\statsmodels\\tsa\\base\\tsa_model.py:837: FutureWarning: No supported index is available. In the next version, calling this method in a model without a supported index will result in an exception.\n",
      "  return get_prediction_index(\n"
     ]
    },
    {
     "name": "stdout",
     "output_type": "stream",
     "text": [
      "  lat19.75_lon100.25 - Train Set:      RMSE=3028.8888, MAE=36.4031, R2=0.7982\n",
      "  lat19.75_lon100.25 - Validation Set: RMSE=5649.2300, MAE=60.3431, R2=0.5391\n",
      "  lat19.75_lon100.25 - Test Set:       RMSE=4259.6522, MAE=49.2844, R2=0.6572\n",
      "\n",
      "--- Processing Location: lat20.25_lon99.75 ---\n",
      "  Warning: Could not infer frequency for lat20.25_lon99.75.\n",
      "  Stationarity (p-value): 0.0000 -> Stationary\n",
      "  Running auto_arima with seasonal period m=12...\n",
      "  Best model found for lat20.25_lon99.75: (0, 0, 0) (2, 1, 0, 12)\n"
     ]
    },
    {
     "name": "stderr",
     "output_type": "stream",
     "text": [
      "c:\\Users\\peera\\.conda\\envs\\drought_lstm_base\\Lib\\site-packages\\statsmodels\\tsa\\base\\tsa_model.py:837: FutureWarning: No supported index is available. In the next version, calling this method in a model without a supported index will result in an exception.\n",
      "  return get_prediction_index(\n"
     ]
    },
    {
     "name": "stdout",
     "output_type": "stream",
     "text": [
      "  lat20.25_lon99.75 - Train Set:      RMSE=2806.9210, MAE=36.1194, R2=0.8096\n",
      "  lat20.25_lon99.75 - Validation Set: RMSE=6530.8768, MAE=65.8450, R2=0.3632\n",
      "  lat20.25_lon99.75 - Test Set:       RMSE=2899.5325, MAE=41.0258, R2=0.7669\n",
      "\n",
      "--- Processing Location: lat20.25_lon100.25 ---\n",
      "  Warning: Could not infer frequency for lat20.25_lon100.25.\n",
      "  Stationarity (p-value): 0.0000 -> Stationary\n",
      "  Running auto_arima with seasonal period m=12...\n",
      "  Best model found for lat20.25_lon100.25: (1, 0, 0) (2, 1, 0, 12)\n"
     ]
    },
    {
     "name": "stderr",
     "output_type": "stream",
     "text": [
      "c:\\Users\\peera\\.conda\\envs\\drought_lstm_base\\Lib\\site-packages\\statsmodels\\tsa\\base\\tsa_model.py:837: FutureWarning: No supported index is available. In the next version, calling this method in a model without a supported index will result in an exception.\n",
      "  return get_prediction_index(\n"
     ]
    },
    {
     "name": "stdout",
     "output_type": "stream",
     "text": [
      "  lat20.25_lon100.25 - Train Set:      RMSE=3359.3691, MAE=38.9984, R2=0.7712\n",
      "  lat20.25_lon100.25 - Validation Set: RMSE=5754.7506, MAE=60.9519, R2=0.5018\n",
      "  lat20.25_lon100.25 - Test Set:       RMSE=3842.8435, MAE=46.5919, R2=0.6798\n",
      "SARIMA Pipeline: Aggregated metrics saved to c:\\Users\\peera\\Desktop\\DroughtLSTM_oneday\\run_outputs\\PRE_SARIMA_Local_Run_sarima_local\\all_sarima_local_models_evaluation_metrics.json\n",
      "--- SARIMA Local Pipeline Run Finished ---\n"
     ]
    }
   ],
   "source": [
    "# Ensure this path is correct from your notebook's location\n",
    "config_file = \"../config_SARIMA_PRE.yaml\"\n",
    "\n",
    "# Create an instance of the pipeline\n",
    "sarima_pipeline = SarimaLocalPipeline(config_path=config_file)\n",
    "\n",
    "# Execute the pipeline\n",
    "all_sarima_metrics = sarima_pipeline.run_pipeline()"
   ]
  },
  {
   "cell_type": "code",
   "execution_count": null,
   "id": "402d927c",
   "metadata": {},
   "outputs": [
    {
     "name": "stdout",
     "output_type": "stream",
     "text": [
      "SARIMA Pipeline Class: Loading config from: c:\\Users\\peera\\Desktop\\DroughtLSTM_oneday\\config_SARIMA_PET.yaml\n",
      "Configuration loaded from c:\\Users\\peera\\Desktop\\DroughtLSTM_oneday\\config_SARIMA_PET.yaml\n",
      "SARIMA Pipeline Class: Artifacts will be saved under 'c:\\Users\\peera\\Desktop\\DroughtLSTM_oneday\\run_outputs\\PET_SARIMA_Local_Run_sarima_local'\n",
      "\n",
      "--- Starting SARIMA Local Pipeline Run: Experiment 'PET_SARIMA_Local_Run_sarima_local' ---\n",
      "SARIMA Pipeline: Loading full raw data...\n",
      "Successfully loaded data from c:\\Users\\peera\\Desktop\\DroughtLSTM_oneday\\data\\full.csv. Shape: (264201, 19)\n",
      "Converted column 'time' to datetime.\n",
      "Data sorted by ['time', 'lat', 'lon'].\n",
      "SARIMA Pipeline: Found 179 unique locations.\n",
      "\n",
      "--- Processing Location: lat6.25_lon101.25 ---\n",
      "  Warning: Could not infer frequency for lat6.25_lon101.25.\n",
      "  Stationarity (p-value): 0.2420 -> Not Stationary\n",
      "  Running auto_arima with seasonal period m=12...\n",
      "  Best model found for lat6.25_lon101.25: (3, 0, 0) (2, 1, 1, 12)\n"
     ]
    },
    {
     "name": "stderr",
     "output_type": "stream",
     "text": [
      "c:\\Users\\peera\\.conda\\envs\\drought_lstm_base\\Lib\\site-packages\\statsmodels\\tsa\\base\\tsa_model.py:837: FutureWarning: No supported index is available. In the next version, calling this method in a model without a supported index will result in an exception.\n",
      "  return get_prediction_index(\n"
     ]
    },
    {
     "name": "stdout",
     "output_type": "stream",
     "text": [
      "  lat6.25_lon101.25 - Train Set:      RMSE=127.9889, MAE=4.8118, R2=0.3515\n",
      "  lat6.25_lon101.25 - Validation Set: RMSE=15.9091, MAE=3.2004, R2=0.8893\n",
      "  lat6.25_lon101.25 - Test Set:       RMSE=13.5380, MAE=2.9618, R2=0.9084\n",
      "\n",
      "--- Processing Location: lat6.25_lon101.75 ---\n",
      "  Warning: Could not infer frequency for lat6.25_lon101.75.\n",
      "  Stationarity (p-value): 0.2110 -> Not Stationary\n",
      "  Running auto_arima with seasonal period m=12...\n",
      "  Best model found for lat6.25_lon101.75: (2, 0, 1) (0, 1, 1, 12)\n"
     ]
    },
    {
     "name": "stderr",
     "output_type": "stream",
     "text": [
      "c:\\Users\\peera\\.conda\\envs\\drought_lstm_base\\Lib\\site-packages\\statsmodels\\tsa\\base\\tsa_model.py:837: FutureWarning: No supported index is available. In the next version, calling this method in a model without a supported index will result in an exception.\n",
      "  return get_prediction_index(\n"
     ]
    },
    {
     "name": "stdout",
     "output_type": "stream",
     "text": [
      "  lat6.25_lon101.75 - Train Set:      RMSE=130.6697, MAE=4.8946, R2=0.3411\n",
      "  lat6.25_lon101.75 - Validation Set: RMSE=15.0182, MAE=3.0720, R2=0.8959\n",
      "  lat6.25_lon101.75 - Test Set:       RMSE=13.9436, MAE=2.9769, R2=0.9102\n",
      "\n",
      "--- Processing Location: lat6.75_lon99.75 ---\n",
      "  Warning: Could not infer frequency for lat6.75_lon99.75.\n",
      "  Stationarity (p-value): 0.2393 -> Not Stationary\n",
      "  Running auto_arima with seasonal period m=12...\n",
      "  Best model found for lat6.75_lon99.75: (2, 0, 1) (0, 1, 1, 12)\n"
     ]
    },
    {
     "name": "stderr",
     "output_type": "stream",
     "text": [
      "c:\\Users\\peera\\.conda\\envs\\drought_lstm_base\\Lib\\site-packages\\statsmodels\\tsa\\base\\tsa_model.py:837: FutureWarning: No supported index is available. In the next version, calling this method in a model without a supported index will result in an exception.\n",
      "  return get_prediction_index(\n"
     ]
    },
    {
     "name": "stdout",
     "output_type": "stream",
     "text": [
      "  lat6.75_lon99.75 - Train Set:      RMSE=159.1212, MAE=5.1886, R2=0.5021\n",
      "  lat6.75_lon99.75 - Validation Set: RMSE=16.5777, MAE=3.3755, R2=0.9408\n",
      "  lat6.75_lon99.75 - Test Set:       RMSE=12.1542, MAE=2.9887, R2=0.9529\n",
      "\n",
      "--- Processing Location: lat6.75_lon100.25 ---\n",
      "  Warning: Could not infer frequency for lat6.75_lon100.25.\n",
      "  Stationarity (p-value): 0.2232 -> Not Stationary\n",
      "  Running auto_arima with seasonal period m=12...\n",
      "  Best model found for lat6.75_lon100.25: (2, 0, 1) (0, 1, 1, 12)\n"
     ]
    },
    {
     "name": "stderr",
     "output_type": "stream",
     "text": [
      "c:\\Users\\peera\\.conda\\envs\\drought_lstm_base\\Lib\\site-packages\\statsmodels\\tsa\\base\\tsa_model.py:837: FutureWarning: No supported index is available. In the next version, calling this method in a model without a supported index will result in an exception.\n",
      "  return get_prediction_index(\n"
     ]
    },
    {
     "name": "stdout",
     "output_type": "stream",
     "text": [
      "  lat6.75_lon100.25 - Train Set:      RMSE=142.1972, MAE=5.0045, R2=0.5106\n",
      "  lat6.75_lon100.25 - Validation Set: RMSE=18.3101, MAE=3.4144, R2=0.9302\n",
      "  lat6.75_lon100.25 - Test Set:       RMSE=13.3756, MAE=3.0194, R2=0.9443\n",
      "\n",
      "--- Processing Location: lat6.75_lon100.75 ---\n",
      "  Warning: Could not infer frequency for lat6.75_lon100.75.\n",
      "  Stationarity (p-value): 0.2005 -> Not Stationary\n",
      "  Running auto_arima with seasonal period m=12...\n",
      "  Best model found for lat6.75_lon100.75: (3, 0, 0) (0, 1, 2, 12)\n"
     ]
    },
    {
     "name": "stderr",
     "output_type": "stream",
     "text": [
      "c:\\Users\\peera\\.conda\\envs\\drought_lstm_base\\Lib\\site-packages\\statsmodels\\tsa\\base\\tsa_model.py:837: FutureWarning: No supported index is available. In the next version, calling this method in a model without a supported index will result in an exception.\n",
      "  return get_prediction_index(\n"
     ]
    },
    {
     "name": "stdout",
     "output_type": "stream",
     "text": [
      "  lat6.75_lon100.75 - Train Set:      RMSE=135.3912, MAE=4.9172, R2=0.4239\n",
      "  lat6.75_lon100.75 - Validation Set: RMSE=13.2019, MAE=2.8385, R2=0.9287\n",
      "  lat6.75_lon100.75 - Test Set:       RMSE=13.9774, MAE=2.8565, R2=0.9284\n",
      "\n",
      "--- Processing Location: lat6.75_lon101.25 ---\n",
      "  Warning: Could not infer frequency for lat6.75_lon101.25.\n",
      "  Stationarity (p-value): 0.1915 -> Not Stationary\n",
      "  Running auto_arima with seasonal period m=12...\n",
      "  Best model found for lat6.75_lon101.25: (3, 0, 0) (1, 1, 1, 12)\n"
     ]
    },
    {
     "name": "stderr",
     "output_type": "stream",
     "text": [
      "c:\\Users\\peera\\.conda\\envs\\drought_lstm_base\\Lib\\site-packages\\statsmodels\\tsa\\base\\tsa_model.py:837: FutureWarning: No supported index is available. In the next version, calling this method in a model without a supported index will result in an exception.\n",
      "  return get_prediction_index(\n"
     ]
    },
    {
     "name": "stdout",
     "output_type": "stream",
     "text": [
      "  lat6.75_lon101.25 - Train Set:      RMSE=133.3732, MAE=4.8991, R2=0.3759\n",
      "  lat6.75_lon101.25 - Validation Set: RMSE=14.5545, MAE=2.9514, R2=0.9131\n",
      "  lat6.75_lon101.25 - Test Set:       RMSE=15.4559, MAE=3.1571, R2=0.9107\n",
      "\n",
      "--- Processing Location: lat7.25_lon99.75 ---\n",
      "  Warning: Could not infer frequency for lat7.25_lon99.75.\n",
      "  Stationarity (p-value): 0.2272 -> Not Stationary\n",
      "  Running auto_arima with seasonal period m=12...\n",
      "  Best model found for lat7.25_lon99.75: (2, 0, 1) (0, 1, 1, 12)\n"
     ]
    },
    {
     "name": "stderr",
     "output_type": "stream",
     "text": [
      "c:\\Users\\peera\\.conda\\envs\\drought_lstm_base\\Lib\\site-packages\\statsmodels\\tsa\\base\\tsa_model.py:837: FutureWarning: No supported index is available. In the next version, calling this method in a model without a supported index will result in an exception.\n",
      "  return get_prediction_index(\n"
     ]
    },
    {
     "name": "stdout",
     "output_type": "stream",
     "text": [
      "  lat7.25_lon99.75 - Train Set:      RMSE=149.9769, MAE=5.2305, R2=0.5972\n",
      "  lat7.25_lon99.75 - Validation Set: RMSE=17.8891, MAE=3.5176, R2=0.9447\n",
      "  lat7.25_lon99.75 - Test Set:       RMSE=13.6611, MAE=3.0691, R2=0.9521\n",
      "\n",
      "--- Processing Location: lat7.25_lon100.25 ---\n",
      "  Warning: Could not infer frequency for lat7.25_lon100.25.\n",
      "  Stationarity (p-value): 0.2284 -> Not Stationary\n",
      "  Running auto_arima with seasonal period m=12...\n",
      "  Best model found for lat7.25_lon100.25: (2, 0, 1) (1, 1, 1, 12)\n"
     ]
    },
    {
     "name": "stderr",
     "output_type": "stream",
     "text": [
      "c:\\Users\\peera\\.conda\\envs\\drought_lstm_base\\Lib\\site-packages\\statsmodels\\tsa\\base\\tsa_model.py:837: FutureWarning: No supported index is available. In the next version, calling this method in a model without a supported index will result in an exception.\n",
      "  return get_prediction_index(\n"
     ]
    },
    {
     "name": "stdout",
     "output_type": "stream",
     "text": [
      "  lat7.25_lon100.25 - Train Set:      RMSE=148.4729, MAE=5.3182, R2=0.4989\n",
      "  lat7.25_lon100.25 - Validation Set: RMSE=18.2239, MAE=3.5299, R2=0.9246\n",
      "  lat7.25_lon100.25 - Test Set:       RMSE=14.9929, MAE=3.3152, R2=0.9305\n",
      "\n",
      "--- Processing Location: lat7.75_lon98.25 ---\n",
      "  Warning: Could not infer frequency for lat7.75_lon98.25.\n",
      "  Stationarity (p-value): 0.2132 -> Not Stationary\n",
      "  Running auto_arima with seasonal period m=12...\n",
      "  Best model found for lat7.75_lon98.25: (2, 0, 2) (0, 1, 1, 12)\n"
     ]
    },
    {
     "name": "stderr",
     "output_type": "stream",
     "text": [
      "c:\\Users\\peera\\.conda\\envs\\drought_lstm_base\\Lib\\site-packages\\statsmodels\\tsa\\base\\tsa_model.py:837: FutureWarning: No supported index is available. In the next version, calling this method in a model without a supported index will result in an exception.\n",
      "  return get_prediction_index(\n"
     ]
    },
    {
     "name": "stdout",
     "output_type": "stream",
     "text": [
      "  lat7.75_lon98.25 - Train Set:      RMSE=154.5416, MAE=5.0230, R2=0.3231\n",
      "  lat7.75_lon98.25 - Validation Set: RMSE=13.1288, MAE=2.8194, R2=0.9292\n",
      "  lat7.75_lon98.25 - Test Set:       RMSE=14.2973, MAE=3.1138, R2=0.9120\n",
      "\n",
      "--- Processing Location: lat7.75_lon99.25 ---\n",
      "  Warning: Could not infer frequency for lat7.75_lon99.25.\n",
      "  Stationarity (p-value): 0.2590 -> Not Stationary\n",
      "  Running auto_arima with seasonal period m=12...\n",
      "  Best model found for lat7.75_lon99.25: (2, 0, 2) (0, 1, 1, 12)\n"
     ]
    },
    {
     "name": "stderr",
     "output_type": "stream",
     "text": [
      "c:\\Users\\peera\\.conda\\envs\\drought_lstm_base\\Lib\\site-packages\\statsmodels\\tsa\\base\\tsa_model.py:837: FutureWarning: No supported index is available. In the next version, calling this method in a model without a supported index will result in an exception.\n",
      "  return get_prediction_index(\n"
     ]
    },
    {
     "name": "stdout",
     "output_type": "stream",
     "text": [
      "  lat7.75_lon99.25 - Train Set:      RMSE=151.9278, MAE=5.2515, R2=0.5224\n",
      "  lat7.75_lon99.25 - Validation Set: RMSE=16.0990, MAE=3.3173, R2=0.9379\n",
      "  lat7.75_lon99.25 - Test Set:       RMSE=15.8313, MAE=3.4192, R2=0.9339\n",
      "\n",
      "--- Processing Location: lat7.75_lon99.75 ---\n",
      "  Warning: Could not infer frequency for lat7.75_lon99.75.\n",
      "  Stationarity (p-value): 0.2461 -> Not Stationary\n",
      "  Running auto_arima with seasonal period m=12...\n",
      "  Best model found for lat7.75_lon99.75: (2, 0, 2) (0, 1, 2, 12)\n"
     ]
    },
    {
     "name": "stderr",
     "output_type": "stream",
     "text": [
      "c:\\Users\\peera\\.conda\\envs\\drought_lstm_base\\Lib\\site-packages\\statsmodels\\tsa\\base\\tsa_model.py:837: FutureWarning: No supported index is available. In the next version, calling this method in a model without a supported index will result in an exception.\n",
      "  return get_prediction_index(\n"
     ]
    },
    {
     "name": "stdout",
     "output_type": "stream",
     "text": [
      "  lat7.75_lon99.75 - Train Set:      RMSE=147.3993, MAE=5.2639, R2=0.5324\n",
      "  lat7.75_lon99.75 - Validation Set: RMSE=12.7617, MAE=2.9055, R2=0.9500\n",
      "  lat7.75_lon99.75 - Test Set:       RMSE=15.9868, MAE=3.4449, R2=0.9304\n",
      "\n",
      "--- Processing Location: lat8.25_lon98.75 ---\n",
      "  Warning: Could not infer frequency for lat8.25_lon98.75.\n",
      "  Stationarity (p-value): 0.2508 -> Not Stationary\n",
      "  Running auto_arima with seasonal period m=12...\n",
      "  Best model found for lat8.25_lon98.75: (2, 0, 2) (2, 1, 1, 12)\n"
     ]
    },
    {
     "name": "stderr",
     "output_type": "stream",
     "text": [
      "c:\\Users\\peera\\.conda\\envs\\drought_lstm_base\\Lib\\site-packages\\statsmodels\\tsa\\base\\tsa_model.py:837: FutureWarning: No supported index is available. In the next version, calling this method in a model without a supported index will result in an exception.\n",
      "  return get_prediction_index(\n"
     ]
    },
    {
     "name": "stdout",
     "output_type": "stream",
     "text": [
      "  lat8.25_lon98.75 - Train Set:      RMSE=145.6351, MAE=5.0142, R2=0.4395\n",
      "  lat8.25_lon98.75 - Validation Set: RMSE=9.4982, MAE=2.3564, R2=0.9537\n",
      "  lat8.25_lon98.75 - Test Set:       RMSE=13.3500, MAE=3.0778, R2=0.9318\n",
      "\n",
      "--- Processing Location: lat8.25_lon99.25 ---\n",
      "  Warning: Could not infer frequency for lat8.25_lon99.25.\n",
      "  Stationarity (p-value): 0.2459 -> Not Stationary\n",
      "  Running auto_arima with seasonal period m=12...\n",
      "  Best model found for lat8.25_lon99.25: (2, 0, 1) (1, 1, 1, 12)\n"
     ]
    },
    {
     "name": "stderr",
     "output_type": "stream",
     "text": [
      "c:\\Users\\peera\\.conda\\envs\\drought_lstm_base\\Lib\\site-packages\\statsmodels\\tsa\\base\\tsa_model.py:837: FutureWarning: No supported index is available. In the next version, calling this method in a model without a supported index will result in an exception.\n",
      "  return get_prediction_index(\n"
     ]
    },
    {
     "name": "stdout",
     "output_type": "stream",
     "text": [
      "  lat8.25_lon99.25 - Train Set:      RMSE=143.3212, MAE=5.0696, R2=0.4463\n",
      "  lat8.25_lon99.25 - Validation Set: RMSE=12.4418, MAE=3.0167, R2=0.9341\n",
      "  lat8.25_lon99.25 - Test Set:       RMSE=12.8426, MAE=2.9550, R2=0.9306\n",
      "\n",
      "--- Processing Location: lat8.25_lon99.75 ---\n",
      "  Warning: Could not infer frequency for lat8.25_lon99.75.\n",
      "  Stationarity (p-value): 0.2335 -> Not Stationary\n",
      "  Running auto_arima with seasonal period m=12...\n",
      "  Best model found for lat8.25_lon99.75: (2, 0, 2) (0, 1, 1, 12)\n"
     ]
    },
    {
     "name": "stderr",
     "output_type": "stream",
     "text": [
      "c:\\Users\\peera\\.conda\\envs\\drought_lstm_base\\Lib\\site-packages\\statsmodels\\tsa\\base\\tsa_model.py:837: FutureWarning: No supported index is available. In the next version, calling this method in a model without a supported index will result in an exception.\n",
      "  return get_prediction_index(\n"
     ]
    },
    {
     "name": "stdout",
     "output_type": "stream",
     "text": [
      "  lat8.25_lon99.75 - Train Set:      RMSE=139.2557, MAE=5.0288, R2=0.4225\n",
      "  lat8.25_lon99.75 - Validation Set: RMSE=12.0772, MAE=2.7248, R2=0.9325\n",
      "  lat8.25_lon99.75 - Test Set:       RMSE=11.6425, MAE=2.9163, R2=0.9347\n",
      "\n",
      "--- Processing Location: lat8.25_lon100.25 ---\n",
      "  Warning: Could not infer frequency for lat8.25_lon100.25.\n",
      "  Stationarity (p-value): 0.2376 -> Not Stationary\n",
      "  Running auto_arima with seasonal period m=12...\n",
      "  Best model found for lat8.25_lon100.25: (1, 0, 1) (0, 1, 1, 12)\n"
     ]
    },
    {
     "name": "stderr",
     "output_type": "stream",
     "text": [
      "c:\\Users\\peera\\.conda\\envs\\drought_lstm_base\\Lib\\site-packages\\statsmodels\\tsa\\base\\tsa_model.py:837: FutureWarning: No supported index is available. In the next version, calling this method in a model without a supported index will result in an exception.\n",
      "  return get_prediction_index(\n"
     ]
    },
    {
     "name": "stdout",
     "output_type": "stream",
     "text": [
      "  lat8.25_lon100.25 - Train Set:      RMSE=141.9160, MAE=5.0945, R2=0.3863\n",
      "  lat8.25_lon100.25 - Validation Set: RMSE=15.7442, MAE=3.2881, R2=0.8956\n",
      "  lat8.25_lon100.25 - Test Set:       RMSE=13.2320, MAE=3.1330, R2=0.9185\n",
      "\n",
      "--- Processing Location: lat8.75_lon98.25 ---\n",
      "  Warning: Could not infer frequency for lat8.75_lon98.25.\n",
      "  Stationarity (p-value): 0.2338 -> Not Stationary\n",
      "  Running auto_arima with seasonal period m=12...\n",
      "  Best model found for lat8.75_lon98.25: (2, 0, 1) (2, 1, 1, 12)\n"
     ]
    },
    {
     "name": "stderr",
     "output_type": "stream",
     "text": [
      "c:\\Users\\peera\\.conda\\envs\\drought_lstm_base\\Lib\\site-packages\\statsmodels\\tsa\\base\\tsa_model.py:837: FutureWarning: No supported index is available. In the next version, calling this method in a model without a supported index will result in an exception.\n",
      "  return get_prediction_index(\n"
     ]
    },
    {
     "name": "stdout",
     "output_type": "stream",
     "text": [
      "  lat8.75_lon98.25 - Train Set:      RMSE=131.9282, MAE=4.7364, R2=0.4630\n",
      "  lat8.75_lon98.25 - Validation Set: RMSE=9.0530, MAE=2.4351, R2=0.9565\n",
      "  lat8.75_lon98.25 - Test Set:       RMSE=11.3540, MAE=2.8428, R2=0.9404\n",
      "\n",
      "--- Processing Location: lat8.75_lon98.75 ---\n",
      "  Warning: Could not infer frequency for lat8.75_lon98.75.\n",
      "  Stationarity (p-value): 0.2420 -> Not Stationary\n",
      "  Running auto_arima with seasonal period m=12...\n",
      "  Best model found for lat8.75_lon98.75: (1, 0, 1) (0, 1, 1, 12)\n"
     ]
    },
    {
     "name": "stderr",
     "output_type": "stream",
     "text": [
      "c:\\Users\\peera\\.conda\\envs\\drought_lstm_base\\Lib\\site-packages\\statsmodels\\tsa\\base\\tsa_model.py:837: FutureWarning: No supported index is available. In the next version, calling this method in a model without a supported index will result in an exception.\n",
      "  return get_prediction_index(\n"
     ]
    },
    {
     "name": "stdout",
     "output_type": "stream",
     "text": [
      "  lat8.75_lon98.75 - Train Set:      RMSE=130.2823, MAE=4.7341, R2=0.4615\n",
      "  lat8.75_lon98.75 - Validation Set: RMSE=10.8076, MAE=2.4355, R2=0.9445\n",
      "  lat8.75_lon98.75 - Test Set:       RMSE=11.8909, MAE=3.0428, R2=0.9361\n",
      "\n",
      "--- Processing Location: lat8.75_lon99.25 ---\n",
      "  Warning: Could not infer frequency for lat8.75_lon99.25.\n",
      "  Stationarity (p-value): 0.2711 -> Not Stationary\n",
      "  Running auto_arima with seasonal period m=12...\n",
      "  Best model found for lat8.75_lon99.25: (2, 0, 2) (2, 1, 1, 12)\n"
     ]
    },
    {
     "name": "stderr",
     "output_type": "stream",
     "text": [
      "c:\\Users\\peera\\.conda\\envs\\drought_lstm_base\\Lib\\site-packages\\statsmodels\\tsa\\base\\tsa_model.py:837: FutureWarning: No supported index is available. In the next version, calling this method in a model without a supported index will result in an exception.\n",
      "  return get_prediction_index(\n"
     ]
    },
    {
     "name": "stdout",
     "output_type": "stream",
     "text": [
      "  lat8.75_lon99.25 - Train Set:      RMSE=133.7289, MAE=4.8770, R2=0.4445\n",
      "  lat8.75_lon99.25 - Validation Set: RMSE=10.4219, MAE=2.6504, R2=0.9434\n",
      "  lat8.75_lon99.25 - Test Set:       RMSE=11.8944, MAE=2.8206, R2=0.9306\n",
      "\n",
      "--- Processing Location: lat8.75_lon99.75 ---\n",
      "  Warning: Could not infer frequency for lat8.75_lon99.75.\n",
      "  Stationarity (p-value): 0.2633 -> Not Stationary\n",
      "  Running auto_arima with seasonal period m=12...\n",
      "  Best model found for lat8.75_lon99.75: (2, 0, 2) (2, 1, 1, 12)\n"
     ]
    },
    {
     "name": "stderr",
     "output_type": "stream",
     "text": [
      "c:\\Users\\peera\\.conda\\envs\\drought_lstm_base\\Lib\\site-packages\\statsmodels\\tsa\\base\\tsa_model.py:837: FutureWarning: No supported index is available. In the next version, calling this method in a model without a supported index will result in an exception.\n",
      "  return get_prediction_index(\n"
     ]
    },
    {
     "name": "stdout",
     "output_type": "stream",
     "text": [
      "  lat8.75_lon99.75 - Train Set:      RMSE=130.5637, MAE=4.7515, R2=0.4188\n",
      "  lat8.75_lon99.75 - Validation Set: RMSE=8.6702, MAE=2.4068, R2=0.9489\n",
      "  lat8.75_lon99.75 - Test Set:       RMSE=11.6893, MAE=2.9086, R2=0.9275\n",
      "\n",
      "--- Processing Location: lat9.25_lon98.25 ---\n",
      "  Warning: Could not infer frequency for lat9.25_lon98.25.\n",
      "  Stationarity (p-value): 0.2561 -> Not Stationary\n",
      "  Running auto_arima with seasonal period m=12...\n",
      "  Best model found for lat9.25_lon98.25: (1, 0, 1) (0, 1, 1, 12)\n"
     ]
    },
    {
     "name": "stderr",
     "output_type": "stream",
     "text": [
      "c:\\Users\\peera\\.conda\\envs\\drought_lstm_base\\Lib\\site-packages\\statsmodels\\tsa\\base\\tsa_model.py:837: FutureWarning: No supported index is available. In the next version, calling this method in a model without a supported index will result in an exception.\n",
      "  return get_prediction_index(\n"
     ]
    },
    {
     "name": "stdout",
     "output_type": "stream",
     "text": [
      "  lat9.25_lon98.25 - Train Set:      RMSE=126.4467, MAE=4.2615, R2=0.4184\n",
      "  lat9.25_lon98.25 - Validation Set: RMSE=10.2215, MAE=2.7324, R2=0.9461\n",
      "  lat9.25_lon98.25 - Test Set:       RMSE=10.3175, MAE=2.7245, R2=0.9410\n",
      "\n",
      "--- Processing Location: lat9.25_lon98.75 ---\n",
      "  Warning: Could not infer frequency for lat9.25_lon98.75.\n",
      "  Stationarity (p-value): 0.2363 -> Not Stationary\n",
      "  Running auto_arima with seasonal period m=12...\n",
      "  Best model found for lat9.25_lon98.75: (2, 0, 2) (2, 1, 1, 12)\n"
     ]
    },
    {
     "name": "stderr",
     "output_type": "stream",
     "text": [
      "c:\\Users\\peera\\.conda\\envs\\drought_lstm_base\\Lib\\site-packages\\statsmodels\\tsa\\base\\tsa_model.py:837: FutureWarning: No supported index is available. In the next version, calling this method in a model without a supported index will result in an exception.\n",
      "  return get_prediction_index(\n"
     ]
    },
    {
     "name": "stdout",
     "output_type": "stream",
     "text": [
      "  lat9.25_lon98.75 - Train Set:      RMSE=117.7803, MAE=4.3041, R2=0.5342\n",
      "  lat9.25_lon98.75 - Validation Set: RMSE=10.0343, MAE=2.4396, R2=0.9549\n",
      "  lat9.25_lon98.75 - Test Set:       RMSE=12.2236, MAE=2.8646, R2=0.9393\n",
      "\n",
      "--- Processing Location: lat9.25_lon99.25 ---\n",
      "  Warning: Could not infer frequency for lat9.25_lon99.25.\n",
      "  Stationarity (p-value): 0.2799 -> Not Stationary\n",
      "  Running auto_arima with seasonal period m=12...\n",
      "  Best model found for lat9.25_lon99.25: (1, 0, 1) (0, 1, 1, 12)\n"
     ]
    },
    {
     "name": "stderr",
     "output_type": "stream",
     "text": [
      "c:\\Users\\peera\\.conda\\envs\\drought_lstm_base\\Lib\\site-packages\\statsmodels\\tsa\\base\\tsa_model.py:837: FutureWarning: No supported index is available. In the next version, calling this method in a model without a supported index will result in an exception.\n",
      "  return get_prediction_index(\n"
     ]
    },
    {
     "name": "stdout",
     "output_type": "stream",
     "text": [
      "  lat9.25_lon99.25 - Train Set:      RMSE=123.8685, MAE=4.4877, R2=0.4845\n",
      "  lat9.25_lon99.25 - Validation Set: RMSE=11.9625, MAE=2.8552, R2=0.9405\n",
      "  lat9.25_lon99.25 - Test Set:       RMSE=15.1616, MAE=3.0711, R2=0.9196\n",
      "\n",
      "--- Processing Location: lat9.25_lon99.75 ---\n",
      "  Warning: Could not infer frequency for lat9.25_lon99.75.\n",
      "  Stationarity (p-value): 0.2455 -> Not Stationary\n",
      "  Running auto_arima with seasonal period m=12...\n",
      "  Best model found for lat9.25_lon99.75: (1, 0, 1) (0, 1, 1, 12)\n"
     ]
    },
    {
     "name": "stderr",
     "output_type": "stream",
     "text": [
      "c:\\Users\\peera\\.conda\\envs\\drought_lstm_base\\Lib\\site-packages\\statsmodels\\tsa\\base\\tsa_model.py:837: FutureWarning: No supported index is available. In the next version, calling this method in a model without a supported index will result in an exception.\n",
      "  return get_prediction_index(\n"
     ]
    },
    {
     "name": "stdout",
     "output_type": "stream",
     "text": [
      "  lat9.25_lon99.75 - Train Set:      RMSE=125.9319, MAE=4.5201, R2=0.4396\n",
      "  lat9.25_lon99.75 - Validation Set: RMSE=12.5657, MAE=2.7720, R2=0.9345\n",
      "  lat9.25_lon99.75 - Test Set:       RMSE=17.5542, MAE=3.2117, R2=0.8926\n",
      "\n",
      "--- Processing Location: lat9.75_lon98.75 ---\n",
      "  Warning: Could not infer frequency for lat9.75_lon98.75.\n",
      "  Stationarity (p-value): 0.2003 -> Not Stationary\n",
      "  Running auto_arima with seasonal period m=12...\n",
      "  Best model found for lat9.75_lon98.75: (1, 0, 1) (0, 1, 1, 12)\n"
     ]
    },
    {
     "name": "stderr",
     "output_type": "stream",
     "text": [
      "c:\\Users\\peera\\.conda\\envs\\drought_lstm_base\\Lib\\site-packages\\statsmodels\\tsa\\base\\tsa_model.py:837: FutureWarning: No supported index is available. In the next version, calling this method in a model without a supported index will result in an exception.\n",
      "  return get_prediction_index(\n"
     ]
    },
    {
     "name": "stdout",
     "output_type": "stream",
     "text": [
      "  lat9.75_lon98.75 - Train Set:      RMSE=108.3499, MAE=3.8637, R2=0.6254\n",
      "  lat9.75_lon98.75 - Validation Set: RMSE=9.3294, MAE=2.3215, R2=0.9671\n",
      "  lat9.75_lon98.75 - Test Set:       RMSE=15.0215, MAE=3.0386, R2=0.9375\n",
      "\n",
      "--- Processing Location: lat10.25_lon98.75 ---\n",
      "  Warning: Could not infer frequency for lat10.25_lon98.75.\n",
      "  Stationarity (p-value): 0.1320 -> Not Stationary\n",
      "  Running auto_arima with seasonal period m=12...\n",
      "  Best model found for lat10.25_lon98.75: (1, 0, 1) (0, 1, 1, 12)\n"
     ]
    },
    {
     "name": "stderr",
     "output_type": "stream",
     "text": [
      "c:\\Users\\peera\\.conda\\envs\\drought_lstm_base\\Lib\\site-packages\\statsmodels\\tsa\\base\\tsa_model.py:837: FutureWarning: No supported index is available. In the next version, calling this method in a model without a supported index will result in an exception.\n",
      "  return get_prediction_index(\n"
     ]
    },
    {
     "name": "stdout",
     "output_type": "stream",
     "text": [
      "  lat10.25_lon98.75 - Train Set:      RMSE=106.4220, MAE=3.4634, R2=0.6389\n",
      "  lat10.25_lon98.75 - Validation Set: RMSE=14.5345, MAE=2.9549, R2=0.9547\n",
      "  lat10.25_lon98.75 - Test Set:       RMSE=24.7924, MAE=3.9014, R2=0.9031\n",
      "\n",
      "--- Processing Location: lat10.75_lon99.25 ---\n",
      "  Warning: Could not infer frequency for lat10.75_lon99.25.\n",
      "  Stationarity (p-value): 0.1047 -> Not Stationary\n",
      "  Running auto_arima with seasonal period m=12...\n",
      "  Best model found for lat10.75_lon99.25: (1, 0, 1) (0, 1, 1, 12)\n"
     ]
    },
    {
     "name": "stderr",
     "output_type": "stream",
     "text": [
      "c:\\Users\\peera\\.conda\\envs\\drought_lstm_base\\Lib\\site-packages\\statsmodels\\tsa\\base\\tsa_model.py:837: FutureWarning: No supported index is available. In the next version, calling this method in a model without a supported index will result in an exception.\n",
      "  return get_prediction_index(\n"
     ]
    },
    {
     "name": "stdout",
     "output_type": "stream",
     "text": [
      "  lat10.75_lon99.25 - Train Set:      RMSE=114.2306, MAE=3.8660, R2=0.4977\n",
      "  lat10.75_lon99.25 - Validation Set: RMSE=23.2501, MAE=3.6032, R2=0.9132\n",
      "  lat10.75_lon99.25 - Test Set:       RMSE=46.2554, MAE=5.4987, R2=0.7616\n",
      "\n",
      "--- Processing Location: lat11.25_lon99.25 ---\n",
      "  Warning: Could not infer frequency for lat11.25_lon99.25.\n",
      "  Stationarity (p-value): 0.1243 -> Not Stationary\n",
      "  Running auto_arima with seasonal period m=12...\n",
      "  Best model found for lat11.25_lon99.25: (1, 0, 2) (0, 1, 1, 12)\n"
     ]
    },
    {
     "name": "stderr",
     "output_type": "stream",
     "text": [
      "c:\\Users\\peera\\.conda\\envs\\drought_lstm_base\\Lib\\site-packages\\statsmodels\\tsa\\base\\tsa_model.py:837: FutureWarning: No supported index is available. In the next version, calling this method in a model without a supported index will result in an exception.\n",
      "  return get_prediction_index(\n"
     ]
    },
    {
     "name": "stdout",
     "output_type": "stream",
     "text": [
      "  lat11.25_lon99.25 - Train Set:      RMSE=119.8750, MAE=4.1720, R2=0.5183\n",
      "  lat11.25_lon99.25 - Validation Set: RMSE=36.5031, MAE=4.5217, R2=0.8804\n",
      "  lat11.25_lon99.25 - Test Set:       RMSE=57.9132, MAE=5.9367, R2=0.7203\n",
      "\n",
      "--- Processing Location: lat11.75_lon99.75 ---\n",
      "  Warning: Could not infer frequency for lat11.75_lon99.75.\n",
      "  Stationarity (p-value): 0.1498 -> Not Stationary\n",
      "  Running auto_arima with seasonal period m=12...\n",
      "  Best model found for lat11.75_lon99.75: (2, 0, 2) (0, 1, 2, 12)\n"
     ]
    },
    {
     "name": "stderr",
     "output_type": "stream",
     "text": [
      "c:\\Users\\peera\\.conda\\envs\\drought_lstm_base\\Lib\\site-packages\\statsmodels\\tsa\\base\\tsa_model.py:837: FutureWarning: No supported index is available. In the next version, calling this method in a model without a supported index will result in an exception.\n",
      "  return get_prediction_index(\n"
     ]
    },
    {
     "name": "stdout",
     "output_type": "stream",
     "text": [
      "  lat11.75_lon99.75 - Train Set:      RMSE=132.6318, MAE=4.5664, R2=0.4259\n",
      "  lat11.75_lon99.75 - Validation Set: RMSE=48.3832, MAE=5.0693, R2=0.8119\n",
      "  lat11.75_lon99.75 - Test Set:       RMSE=58.6151, MAE=5.9253, R2=0.6887\n",
      "\n",
      "--- Processing Location: lat11.75_lon102.75 ---\n",
      "  Warning: Could not infer frequency for lat11.75_lon102.75.\n",
      "  Stationarity (p-value): 0.0376 -> Stationary\n",
      "  Running auto_arima with seasonal period m=12...\n",
      "  Best model found for lat11.75_lon102.75: (1, 0, 2) (1, 1, 1, 12)\n"
     ]
    },
    {
     "name": "stderr",
     "output_type": "stream",
     "text": [
      "c:\\Users\\peera\\.conda\\envs\\drought_lstm_base\\Lib\\site-packages\\statsmodels\\tsa\\base\\tsa_model.py:837: FutureWarning: No supported index is available. In the next version, calling this method in a model without a supported index will result in an exception.\n",
      "  return get_prediction_index(\n"
     ]
    },
    {
     "name": "stdout",
     "output_type": "stream",
     "text": [
      "  lat11.75_lon102.75 - Train Set:      RMSE=110.1110, MAE=4.0757, R2=0.4587\n",
      "  lat11.75_lon102.75 - Validation Set: RMSE=36.1773, MAE=4.5105, R2=0.8247\n",
      "  lat11.75_lon102.75 - Test Set:       RMSE=37.5199, MAE=4.7256, R2=0.7264\n",
      "\n",
      "--- Processing Location: lat12.25_lon99.75 ---\n",
      "  Warning: Could not infer frequency for lat12.25_lon99.75.\n",
      "  Stationarity (p-value): 0.1102 -> Not Stationary\n",
      "  Running auto_arima with seasonal period m=12...\n",
      "  Best model found for lat12.25_lon99.75: (1, 0, 1) (0, 1, 1, 12)\n"
     ]
    },
    {
     "name": "stderr",
     "output_type": "stream",
     "text": [
      "c:\\Users\\peera\\.conda\\envs\\drought_lstm_base\\Lib\\site-packages\\statsmodels\\tsa\\base\\tsa_model.py:837: FutureWarning: No supported index is available. In the next version, calling this method in a model without a supported index will result in an exception.\n",
      "  return get_prediction_index(\n"
     ]
    },
    {
     "name": "stdout",
     "output_type": "stream",
     "text": [
      "  lat12.25_lon99.75 - Train Set:      RMSE=137.6890, MAE=4.6187, R2=0.4781\n",
      "  lat12.25_lon99.75 - Validation Set: RMSE=60.6650, MAE=5.4142, R2=0.8070\n",
      "  lat12.25_lon99.75 - Test Set:       RMSE=68.4417, MAE=6.5172, R2=0.6873\n",
      "\n",
      "--- Processing Location: lat12.25_lon102.25 ---\n",
      "  Warning: Could not infer frequency for lat12.25_lon102.25.\n",
      "  Stationarity (p-value): 0.0401 -> Stationary\n",
      "  Running auto_arima with seasonal period m=12...\n",
      "  Best model found for lat12.25_lon102.25: (2, 0, 2) (0, 1, 2, 12)\n"
     ]
    },
    {
     "name": "stderr",
     "output_type": "stream",
     "text": [
      "c:\\Users\\peera\\.conda\\envs\\drought_lstm_base\\Lib\\site-packages\\statsmodels\\tsa\\base\\tsa_model.py:837: FutureWarning: No supported index is available. In the next version, calling this method in a model without a supported index will result in an exception.\n",
      "  return get_prediction_index(\n"
     ]
    },
    {
     "name": "stdout",
     "output_type": "stream",
     "text": [
      "  lat12.25_lon102.25 - Train Set:      RMSE=105.0264, MAE=3.9805, R2=0.3877\n",
      "  lat12.25_lon102.25 - Validation Set: RMSE=42.8805, MAE=4.7981, R2=0.7708\n",
      "  lat12.25_lon102.25 - Test Set:       RMSE=47.2178, MAE=5.0447, R2=0.5978\n",
      "\n",
      "--- Processing Location: lat12.75_lon99.25 ---\n",
      "  Warning: Could not infer frequency for lat12.75_lon99.25.\n",
      "  Stationarity (p-value): 0.0650 -> Not Stationary\n",
      "  Running auto_arima with seasonal period m=12...\n",
      "  Best model found for lat12.75_lon99.25: (2, 0, 2) (0, 1, 2, 12)\n"
     ]
    },
    {
     "name": "stderr",
     "output_type": "stream",
     "text": [
      "c:\\Users\\peera\\.conda\\envs\\drought_lstm_base\\Lib\\site-packages\\statsmodels\\tsa\\base\\tsa_model.py:837: FutureWarning: No supported index is available. In the next version, calling this method in a model without a supported index will result in an exception.\n",
      "  return get_prediction_index(\n"
     ]
    },
    {
     "name": "stdout",
     "output_type": "stream",
     "text": [
      "  lat12.75_lon99.25 - Train Set:      RMSE=122.7234, MAE=4.1602, R2=0.6638\n",
      "  lat12.75_lon99.25 - Validation Set: RMSE=42.0815, MAE=4.6865, R2=0.8988\n",
      "  lat12.75_lon99.25 - Test Set:       RMSE=60.7267, MAE=5.8911, R2=0.7771\n",
      "\n",
      "--- Processing Location: lat12.75_lon99.75 ---\n",
      "  Warning: Could not infer frequency for lat12.75_lon99.75.\n",
      "  Stationarity (p-value): 0.0844 -> Not Stationary\n",
      "  Running auto_arima with seasonal period m=12...\n",
      "  Best model found for lat12.75_lon99.75: (1, 0, 2) (0, 1, 1, 12)\n"
     ]
    },
    {
     "name": "stderr",
     "output_type": "stream",
     "text": [
      "c:\\Users\\peera\\.conda\\envs\\drought_lstm_base\\Lib\\site-packages\\statsmodels\\tsa\\base\\tsa_model.py:837: FutureWarning: No supported index is available. In the next version, calling this method in a model without a supported index will result in an exception.\n",
      "  return get_prediction_index(\n"
     ]
    },
    {
     "name": "stdout",
     "output_type": "stream",
     "text": [
      "  lat12.75_lon99.75 - Train Set:      RMSE=138.2978, MAE=4.5359, R2=0.5669\n",
      "  lat12.75_lon99.75 - Validation Set: RMSE=50.4529, MAE=5.2060, R2=0.8635\n",
      "  lat12.75_lon99.75 - Test Set:       RMSE=75.8443, MAE=6.7122, R2=0.6992\n",
      "\n",
      "--- Processing Location: lat12.75_lon101.25 ---\n",
      "  Warning: Could not infer frequency for lat12.75_lon101.25.\n",
      "  Stationarity (p-value): 0.0558 -> Not Stationary\n",
      "  Running auto_arima with seasonal period m=12...\n",
      "  Best model found for lat12.75_lon101.25: (1, 0, 1) (0, 1, 1, 12)\n"
     ]
    },
    {
     "name": "stderr",
     "output_type": "stream",
     "text": [
      "c:\\Users\\peera\\.conda\\envs\\drought_lstm_base\\Lib\\site-packages\\statsmodels\\tsa\\base\\tsa_model.py:837: FutureWarning: No supported index is available. In the next version, calling this method in a model without a supported index will result in an exception.\n",
      "  return get_prediction_index(\n"
     ]
    },
    {
     "name": "stdout",
     "output_type": "stream",
     "text": [
      "  lat12.75_lon101.25 - Train Set:      RMSE=141.0090, MAE=4.7571, R2=0.3617\n",
      "  lat12.75_lon101.25 - Validation Set: RMSE=62.0817, MAE=5.5453, R2=0.7596\n",
      "  lat12.75_lon101.25 - Test Set:       RMSE=69.6672, MAE=6.2946, R2=0.6386\n",
      "\n",
      "--- Processing Location: lat12.75_lon101.75 ---\n",
      "  Warning: Could not infer frequency for lat12.75_lon101.75.\n",
      "  Stationarity (p-value): 0.0559 -> Not Stationary\n",
      "  Running auto_arima with seasonal period m=12...\n",
      "  Best model found for lat12.75_lon101.75: (1, 0, 2) (2, 1, 1, 12)\n"
     ]
    },
    {
     "name": "stderr",
     "output_type": "stream",
     "text": [
      "c:\\Users\\peera\\.conda\\envs\\drought_lstm_base\\Lib\\site-packages\\statsmodels\\tsa\\base\\tsa_model.py:837: FutureWarning: No supported index is available. In the next version, calling this method in a model without a supported index will result in an exception.\n",
      "  return get_prediction_index(\n"
     ]
    },
    {
     "name": "stdout",
     "output_type": "stream",
     "text": [
      "  lat12.75_lon101.75 - Train Set:      RMSE=120.3510, MAE=4.3240, R2=0.4096\n",
      "  lat12.75_lon101.75 - Validation Set: RMSE=53.8605, MAE=4.7375, R2=0.7714\n",
      "  lat12.75_lon101.75 - Test Set:       RMSE=56.9117, MAE=5.8788, R2=0.6571\n",
      "\n",
      "--- Processing Location: lat12.75_lon102.25 ---\n",
      "  Warning: Could not infer frequency for lat12.75_lon102.25.\n",
      "  Stationarity (p-value): 0.0364 -> Stationary\n",
      "  Running auto_arima with seasonal period m=12...\n",
      "  Best model found for lat12.75_lon102.25: (1, 0, 2) (0, 1, 1, 12)\n"
     ]
    },
    {
     "name": "stderr",
     "output_type": "stream",
     "text": [
      "c:\\Users\\peera\\.conda\\envs\\drought_lstm_base\\Lib\\site-packages\\statsmodels\\tsa\\base\\tsa_model.py:837: FutureWarning: No supported index is available. In the next version, calling this method in a model without a supported index will result in an exception.\n",
      "  return get_prediction_index(\n"
     ]
    },
    {
     "name": "stdout",
     "output_type": "stream",
     "text": [
      "  lat12.75_lon102.25 - Train Set:      RMSE=107.0657, MAE=3.9895, R2=0.4213\n",
      "  lat12.75_lon102.25 - Validation Set: RMSE=49.6666, MAE=4.7629, R2=0.7620\n",
      "  lat12.75_lon102.25 - Test Set:       RMSE=53.5511, MAE=5.8134, R2=0.6177\n",
      "\n",
      "--- Processing Location: lat13.25_lon99.25 ---\n",
      "  Warning: Could not infer frequency for lat13.25_lon99.25.\n",
      "  Stationarity (p-value): 0.0326 -> Stationary\n",
      "  Running auto_arima with seasonal period m=12...\n",
      "  Best model found for lat13.25_lon99.25: (2, 0, 2) (0, 1, 2, 12)\n"
     ]
    },
    {
     "name": "stderr",
     "output_type": "stream",
     "text": [
      "c:\\Users\\peera\\.conda\\envs\\drought_lstm_base\\Lib\\site-packages\\statsmodels\\tsa\\base\\tsa_model.py:837: FutureWarning: No supported index is available. In the next version, calling this method in a model without a supported index will result in an exception.\n",
      "  return get_prediction_index(\n"
     ]
    },
    {
     "name": "stdout",
     "output_type": "stream",
     "text": [
      "  lat13.25_lon99.25 - Train Set:      RMSE=125.2718, MAE=4.1676, R2=0.6977\n",
      "  lat13.25_lon99.25 - Validation Set: RMSE=42.8884, MAE=4.6154, R2=0.9072\n",
      "  lat13.25_lon99.25 - Test Set:       RMSE=61.0619, MAE=5.7638, R2=0.8054\n",
      "\n",
      "--- Processing Location: lat13.25_lon99.75 ---\n",
      "  Warning: Could not infer frequency for lat13.25_lon99.75.\n",
      "  Stationarity (p-value): 0.0517 -> Not Stationary\n",
      "  Running auto_arima with seasonal period m=12...\n",
      "  Best model found for lat13.25_lon99.75: (2, 0, 1) (2, 1, 1, 12)\n"
     ]
    },
    {
     "name": "stderr",
     "output_type": "stream",
     "text": [
      "c:\\Users\\peera\\.conda\\envs\\drought_lstm_base\\Lib\\site-packages\\statsmodels\\tsa\\base\\tsa_model.py:837: FutureWarning: No supported index is available. In the next version, calling this method in a model without a supported index will result in an exception.\n",
      "  return get_prediction_index(\n"
     ]
    },
    {
     "name": "stdout",
     "output_type": "stream",
     "text": [
      "  lat13.25_lon99.75 - Train Set:      RMSE=139.9518, MAE=4.5366, R2=0.6238\n",
      "  lat13.25_lon99.75 - Validation Set: RMSE=51.8795, MAE=5.1028, R2=0.8768\n",
      "  lat13.25_lon99.75 - Test Set:       RMSE=73.8267, MAE=6.6145, R2=0.7475\n",
      "\n",
      "--- Processing Location: lat13.25_lon101.25 ---\n",
      "  Warning: Could not infer frequency for lat13.25_lon101.25.\n",
      "  Stationarity (p-value): 0.0324 -> Stationary\n",
      "  Running auto_arima with seasonal period m=12...\n",
      "  Best model found for lat13.25_lon101.25: (1, 0, 1) (2, 1, 1, 12)\n"
     ]
    },
    {
     "name": "stderr",
     "output_type": "stream",
     "text": [
      "c:\\Users\\peera\\.conda\\envs\\drought_lstm_base\\Lib\\site-packages\\statsmodels\\tsa\\base\\tsa_model.py:837: FutureWarning: No supported index is available. In the next version, calling this method in a model without a supported index will result in an exception.\n",
      "  return get_prediction_index(\n"
     ]
    },
    {
     "name": "stdout",
     "output_type": "stream",
     "text": [
      "  lat13.25_lon101.25 - Train Set:      RMSE=140.1135, MAE=4.5647, R2=0.4526\n",
      "  lat13.25_lon101.25 - Validation Set: RMSE=66.8832, MAE=5.7147, R2=0.7790\n",
      "  lat13.25_lon101.25 - Test Set:       RMSE=58.9663, MAE=6.4790, R2=0.7447\n",
      "\n",
      "--- Processing Location: lat13.25_lon101.75 ---\n",
      "  Warning: Could not infer frequency for lat13.25_lon101.75.\n",
      "  Stationarity (p-value): 0.0447 -> Stationary\n",
      "  Running auto_arima with seasonal period m=12...\n",
      "  Best model found for lat13.25_lon101.75: (2, 0, 1) (2, 1, 1, 12)\n"
     ]
    },
    {
     "name": "stderr",
     "output_type": "stream",
     "text": [
      "c:\\Users\\peera\\.conda\\envs\\drought_lstm_base\\Lib\\site-packages\\statsmodels\\tsa\\base\\tsa_model.py:837: FutureWarning: No supported index is available. In the next version, calling this method in a model without a supported index will result in an exception.\n",
      "  return get_prediction_index(\n"
     ]
    },
    {
     "name": "stdout",
     "output_type": "stream",
     "text": [
      "  lat13.25_lon101.75 - Train Set:      RMSE=124.2592, MAE=4.3733, R2=0.4700\n",
      "  lat13.25_lon101.75 - Validation Set: RMSE=56.9676, MAE=5.0666, R2=0.7812\n",
      "  lat13.25_lon101.75 - Test Set:       RMSE=54.6219, MAE=5.9725, R2=0.7068\n",
      "\n",
      "--- Processing Location: lat13.25_lon102.25 ---\n",
      "  Warning: Could not infer frequency for lat13.25_lon102.25.\n",
      "  Stationarity (p-value): 0.0461 -> Stationary\n",
      "  Running auto_arima with seasonal period m=12...\n",
      "  Best model found for lat13.25_lon102.25: (1, 0, 1) (0, 1, 2, 12)\n"
     ]
    },
    {
     "name": "stderr",
     "output_type": "stream",
     "text": [
      "c:\\Users\\peera\\.conda\\envs\\drought_lstm_base\\Lib\\site-packages\\statsmodels\\tsa\\base\\tsa_model.py:837: FutureWarning: No supported index is available. In the next version, calling this method in a model without a supported index will result in an exception.\n",
      "  return get_prediction_index(\n"
     ]
    },
    {
     "name": "stdout",
     "output_type": "stream",
     "text": [
      "  lat13.25_lon102.25 - Train Set:      RMSE=113.6090, MAE=4.1571, R2=0.4736\n",
      "  lat13.25_lon102.25 - Validation Set: RMSE=56.3564, MAE=4.5770, R2=0.7649\n",
      "  lat13.25_lon102.25 - Test Set:       RMSE=43.2285, MAE=5.3138, R2=0.7255\n",
      "\n",
      "--- Processing Location: lat13.75_lon99.25 ---\n",
      "  Warning: Could not infer frequency for lat13.75_lon99.25.\n",
      "  Stationarity (p-value): 0.0357 -> Stationary\n",
      "  Running auto_arima with seasonal period m=12...\n",
      "  Best model found for lat13.75_lon99.25: (1, 0, 1) (0, 1, 2, 12)\n"
     ]
    },
    {
     "name": "stderr",
     "output_type": "stream",
     "text": [
      "c:\\Users\\peera\\.conda\\envs\\drought_lstm_base\\Lib\\site-packages\\statsmodels\\tsa\\base\\tsa_model.py:837: FutureWarning: No supported index is available. In the next version, calling this method in a model without a supported index will result in an exception.\n",
      "  return get_prediction_index(\n"
     ]
    },
    {
     "name": "stdout",
     "output_type": "stream",
     "text": [
      "  lat13.75_lon99.25 - Train Set:      RMSE=133.8884, MAE=4.3246, R2=0.7198\n",
      "  lat13.75_lon99.25 - Validation Set: RMSE=39.2973, MAE=4.2685, R2=0.9252\n",
      "  lat13.75_lon99.25 - Test Set:       RMSE=67.5144, MAE=6.4387, R2=0.8208\n",
      "\n",
      "--- Processing Location: lat13.75_lon99.75 ---\n",
      "  Warning: Could not infer frequency for lat13.75_lon99.75.\n",
      "  Stationarity (p-value): 0.0524 -> Not Stationary\n",
      "  Running auto_arima with seasonal period m=12...\n",
      "  Best model found for lat13.75_lon99.75: (1, 0, 1) (0, 1, 2, 12)\n"
     ]
    },
    {
     "name": "stderr",
     "output_type": "stream",
     "text": [
      "c:\\Users\\peera\\.conda\\envs\\drought_lstm_base\\Lib\\site-packages\\statsmodels\\tsa\\base\\tsa_model.py:837: FutureWarning: No supported index is available. In the next version, calling this method in a model without a supported index will result in an exception.\n",
      "  return get_prediction_index(\n"
     ]
    },
    {
     "name": "stdout",
     "output_type": "stream",
     "text": [
      "  lat13.75_lon99.75 - Train Set:      RMSE=147.1016, MAE=4.5839, R2=0.6725\n",
      "  lat13.75_lon99.75 - Validation Set: RMSE=50.6815, MAE=4.8245, R2=0.9010\n",
      "  lat13.75_lon99.75 - Test Set:       RMSE=74.9478, MAE=6.7438, R2=0.7833\n",
      "\n",
      "--- Processing Location: lat13.75_lon100.25 ---\n",
      "  Warning: Could not infer frequency for lat13.75_lon100.25.\n",
      "  Stationarity (p-value): 0.0392 -> Stationary\n",
      "  Running auto_arima with seasonal period m=12...\n",
      "  Best model found for lat13.75_lon100.25: (2, 0, 1) (2, 1, 1, 12)\n"
     ]
    },
    {
     "name": "stderr",
     "output_type": "stream",
     "text": [
      "c:\\Users\\peera\\.conda\\envs\\drought_lstm_base\\Lib\\site-packages\\statsmodels\\tsa\\base\\tsa_model.py:837: FutureWarning: No supported index is available. In the next version, calling this method in a model without a supported index will result in an exception.\n",
      "  return get_prediction_index(\n"
     ]
    },
    {
     "name": "stdout",
     "output_type": "stream",
     "text": [
      "  lat13.75_lon100.25 - Train Set:      RMSE=141.0841, MAE=4.5950, R2=0.5609\n",
      "  lat13.75_lon100.25 - Validation Set: RMSE=64.5228, MAE=5.7027, R2=0.8296\n",
      "  lat13.75_lon100.25 - Test Set:       RMSE=68.5944, MAE=6.6249, R2=0.7425\n",
      "\n",
      "--- Processing Location: lat13.75_lon100.75 ---\n",
      "  Warning: Could not infer frequency for lat13.75_lon100.75.\n",
      "  Stationarity (p-value): 0.0559 -> Not Stationary\n",
      "  Running auto_arima with seasonal period m=12...\n",
      "  Best model found for lat13.75_lon100.75: (2, 0, 1) (2, 1, 1, 12)\n"
     ]
    },
    {
     "name": "stderr",
     "output_type": "stream",
     "text": [
      "c:\\Users\\peera\\.conda\\envs\\drought_lstm_base\\Lib\\site-packages\\statsmodels\\tsa\\base\\tsa_model.py:837: FutureWarning: No supported index is available. In the next version, calling this method in a model without a supported index will result in an exception.\n",
      "  return get_prediction_index(\n"
     ]
    },
    {
     "name": "stdout",
     "output_type": "stream",
     "text": [
      "  lat13.75_lon100.75 - Train Set:      RMSE=136.3294, MAE=4.6008, R2=0.4589\n",
      "  lat13.75_lon100.75 - Validation Set: RMSE=67.9303, MAE=5.5012, R2=0.7721\n",
      "  lat13.75_lon100.75 - Test Set:       RMSE=64.2807, MAE=6.6529, R2=0.7005\n",
      "\n",
      "--- Processing Location: lat13.75_lon101.25 ---\n",
      "  Warning: Could not infer frequency for lat13.75_lon101.25.\n",
      "  Stationarity (p-value): 0.0453 -> Stationary\n",
      "  Running auto_arima with seasonal period m=12...\n",
      "  Best model found for lat13.75_lon101.25: (1, 0, 1) (0, 1, 1, 12)\n"
     ]
    },
    {
     "name": "stderr",
     "output_type": "stream",
     "text": [
      "c:\\Users\\peera\\.conda\\envs\\drought_lstm_base\\Lib\\site-packages\\statsmodels\\tsa\\base\\tsa_model.py:837: FutureWarning: No supported index is available. In the next version, calling this method in a model without a supported index will result in an exception.\n",
      "  return get_prediction_index(\n"
     ]
    },
    {
     "name": "stdout",
     "output_type": "stream",
     "text": [
      "  lat13.75_lon101.25 - Train Set:      RMSE=135.9856, MAE=4.5314, R2=0.5095\n",
      "  lat13.75_lon101.25 - Validation Set: RMSE=59.3985, MAE=5.4373, R2=0.8103\n",
      "  lat13.75_lon101.25 - Test Set:       RMSE=62.0726, MAE=6.4471, R2=0.7173\n",
      "\n",
      "--- Processing Location: lat13.75_lon101.75 ---\n",
      "  Warning: Could not infer frequency for lat13.75_lon101.75.\n",
      "  Stationarity (p-value): 0.0672 -> Not Stationary\n",
      "  Running auto_arima with seasonal period m=12...\n",
      "  Best model found for lat13.75_lon101.75: (1, 0, 2) (0, 1, 1, 12)\n"
     ]
    },
    {
     "name": "stderr",
     "output_type": "stream",
     "text": [
      "c:\\Users\\peera\\.conda\\envs\\drought_lstm_base\\Lib\\site-packages\\statsmodels\\tsa\\base\\tsa_model.py:837: FutureWarning: No supported index is available. In the next version, calling this method in a model without a supported index will result in an exception.\n",
      "  return get_prediction_index(\n"
     ]
    },
    {
     "name": "stdout",
     "output_type": "stream",
     "text": [
      "  lat13.75_lon101.75 - Train Set:      RMSE=124.3824, MAE=4.2461, R2=0.5353\n",
      "  lat13.75_lon101.75 - Validation Set: RMSE=61.2060, MAE=5.3995, R2=0.7986\n",
      "  lat13.75_lon101.75 - Test Set:       RMSE=53.0549, MAE=5.7835, R2=0.7407\n",
      "\n",
      "--- Processing Location: lat13.75_lon102.25 ---\n",
      "  Warning: Could not infer frequency for lat13.75_lon102.25.\n",
      "  Stationarity (p-value): 0.0401 -> Stationary\n",
      "  Running auto_arima with seasonal period m=12...\n",
      "  Best model found for lat13.75_lon102.25: (2, 0, 1) (0, 1, 2, 12)\n"
     ]
    },
    {
     "name": "stderr",
     "output_type": "stream",
     "text": [
      "c:\\Users\\peera\\.conda\\envs\\drought_lstm_base\\Lib\\site-packages\\statsmodels\\tsa\\base\\tsa_model.py:837: FutureWarning: No supported index is available. In the next version, calling this method in a model without a supported index will result in an exception.\n",
      "  return get_prediction_index(\n"
     ]
    },
    {
     "name": "stdout",
     "output_type": "stream",
     "text": [
      "  lat13.75_lon102.25 - Train Set:      RMSE=119.9482, MAE=4.1261, R2=0.5030\n",
      "  lat13.75_lon102.25 - Validation Set: RMSE=53.3308, MAE=5.0089, R2=0.8040\n",
      "  lat13.75_lon102.25 - Test Set:       RMSE=43.5323, MAE=5.2793, R2=0.7558\n",
      "\n",
      "--- Processing Location: lat14.25_lon98.75 ---\n",
      "  Warning: Could not infer frequency for lat14.25_lon98.75.\n",
      "  Stationarity (p-value): 0.0194 -> Stationary\n",
      "  Running auto_arima with seasonal period m=12...\n",
      "  Best model found for lat14.25_lon98.75: (1, 0, 2) (0, 1, 2, 12)\n"
     ]
    },
    {
     "name": "stderr",
     "output_type": "stream",
     "text": [
      "c:\\Users\\peera\\.conda\\envs\\drought_lstm_base\\Lib\\site-packages\\statsmodels\\tsa\\base\\tsa_model.py:837: FutureWarning: No supported index is available. In the next version, calling this method in a model without a supported index will result in an exception.\n",
      "  return get_prediction_index(\n"
     ]
    },
    {
     "name": "stdout",
     "output_type": "stream",
     "text": [
      "  lat14.25_lon98.75 - Train Set:      RMSE=119.5118, MAE=4.1423, R2=0.7565\n",
      "  lat14.25_lon98.75 - Validation Set: RMSE=40.2817, MAE=4.2135, R2=0.9271\n",
      "  lat14.25_lon98.75 - Test Set:       RMSE=50.2932, MAE=5.4331, R2=0.8596\n",
      "\n",
      "--- Processing Location: lat14.25_lon99.25 ---\n",
      "  Warning: Could not infer frequency for lat14.25_lon99.25.\n",
      "  Stationarity (p-value): 0.0345 -> Stationary\n",
      "  Running auto_arima with seasonal period m=12...\n",
      "  Best model found for lat14.25_lon99.25: (2, 0, 2) (1, 1, 1, 12)\n"
     ]
    },
    {
     "name": "stderr",
     "output_type": "stream",
     "text": [
      "c:\\Users\\peera\\.conda\\envs\\drought_lstm_base\\Lib\\site-packages\\statsmodels\\tsa\\base\\tsa_model.py:837: FutureWarning: No supported index is available. In the next version, calling this method in a model without a supported index will result in an exception.\n",
      "  return get_prediction_index(\n"
     ]
    },
    {
     "name": "stdout",
     "output_type": "stream",
     "text": [
      "  lat14.25_lon99.25 - Train Set:      RMSE=133.3805, MAE=4.2899, R2=0.7323\n",
      "  lat14.25_lon99.25 - Validation Set: RMSE=47.3207, MAE=4.9363, R2=0.9144\n",
      "  lat14.25_lon99.25 - Test Set:       RMSE=59.6795, MAE=6.0366, R2=0.8459\n",
      "\n",
      "--- Processing Location: lat14.25_lon99.75 ---\n",
      "  Warning: Could not infer frequency for lat14.25_lon99.75.\n",
      "  Stationarity (p-value): 0.0301 -> Stationary\n",
      "  Running auto_arima with seasonal period m=12...\n",
      "  Best model found for lat14.25_lon99.75: (3, 0, 2) (2, 1, 1, 12)\n"
     ]
    },
    {
     "name": "stderr",
     "output_type": "stream",
     "text": [
      "c:\\Users\\peera\\.conda\\envs\\drought_lstm_base\\Lib\\site-packages\\statsmodels\\tsa\\base\\tsa_model.py:837: FutureWarning: No supported index is available. In the next version, calling this method in a model without a supported index will result in an exception.\n",
      "  return get_prediction_index(\n"
     ]
    },
    {
     "name": "stdout",
     "output_type": "stream",
     "text": [
      "  lat14.25_lon99.75 - Train Set:      RMSE=146.1428, MAE=4.5298, R2=0.6913\n",
      "  lat14.25_lon99.75 - Validation Set: RMSE=45.1647, MAE=4.5751, R2=0.9127\n",
      "  lat14.25_lon99.75 - Test Set:       RMSE=61.7398, MAE=6.2423, R2=0.8390\n",
      "\n",
      "--- Processing Location: lat14.25_lon100.25 ---\n",
      "  Warning: Could not infer frequency for lat14.25_lon100.25.\n",
      "  Stationarity (p-value): 0.0296 -> Stationary\n",
      "  Running auto_arima with seasonal period m=12...\n",
      "  Best model found for lat14.25_lon100.25: (3, 0, 2) (2, 1, 1, 12)\n"
     ]
    },
    {
     "name": "stderr",
     "output_type": "stream",
     "text": [
      "c:\\Users\\peera\\.conda\\envs\\drought_lstm_base\\Lib\\site-packages\\statsmodels\\tsa\\base\\tsa_model.py:837: FutureWarning: No supported index is available. In the next version, calling this method in a model without a supported index will result in an exception.\n",
      "  return get_prediction_index(\n"
     ]
    },
    {
     "name": "stdout",
     "output_type": "stream",
     "text": [
      "  lat14.25_lon100.25 - Train Set:      RMSE=146.7382, MAE=4.7001, R2=0.5939\n",
      "  lat14.25_lon100.25 - Validation Set: RMSE=59.7735, MAE=5.4364, R2=0.8590\n",
      "  lat14.25_lon100.25 - Test Set:       RMSE=62.8542, MAE=6.2828, R2=0.7904\n",
      "\n",
      "--- Processing Location: lat14.25_lon100.75 ---\n",
      "  Warning: Could not infer frequency for lat14.25_lon100.75.\n",
      "  Stationarity (p-value): 0.0309 -> Stationary\n",
      "  Running auto_arima with seasonal period m=12...\n",
      "  Best model found for lat14.25_lon100.75: (1, 0, 2) (1, 1, 2, 12)\n"
     ]
    },
    {
     "name": "stderr",
     "output_type": "stream",
     "text": [
      "c:\\Users\\peera\\.conda\\envs\\drought_lstm_base\\Lib\\site-packages\\statsmodels\\tsa\\base\\tsa_model.py:837: FutureWarning: No supported index is available. In the next version, calling this method in a model without a supported index will result in an exception.\n",
      "  return get_prediction_index(\n"
     ]
    },
    {
     "name": "stdout",
     "output_type": "stream",
     "text": [
      "  lat14.25_lon100.75 - Train Set:      RMSE=137.7268, MAE=4.5723, R2=0.5432\n",
      "  lat14.25_lon100.75 - Validation Set: RMSE=57.9081, MAE=5.4542, R2=0.8361\n",
      "  lat14.25_lon100.75 - Test Set:       RMSE=59.7751, MAE=6.3151, R2=0.7547\n",
      "\n",
      "--- Processing Location: lat14.25_lon101.25 ---\n",
      "  Warning: Could not infer frequency for lat14.25_lon101.25.\n",
      "  Stationarity (p-value): 0.0330 -> Stationary\n",
      "  Running auto_arima with seasonal period m=12...\n",
      "  Best model found for lat14.25_lon101.25: (1, 0, 1) (1, 1, 2, 12)\n"
     ]
    },
    {
     "name": "stderr",
     "output_type": "stream",
     "text": [
      "c:\\Users\\peera\\.conda\\envs\\drought_lstm_base\\Lib\\site-packages\\statsmodels\\tsa\\base\\tsa_model.py:837: FutureWarning: No supported index is available. In the next version, calling this method in a model without a supported index will result in an exception.\n",
      "  return get_prediction_index(\n"
     ]
    },
    {
     "name": "stdout",
     "output_type": "stream",
     "text": [
      "  lat14.25_lon101.25 - Train Set:      RMSE=128.1560, MAE=4.4284, R2=0.5600\n",
      "  lat14.25_lon101.25 - Validation Set: RMSE=44.1160, MAE=4.5644, R2=0.8677\n",
      "  lat14.25_lon101.25 - Test Set:       RMSE=49.2362, MAE=5.7248, R2=0.7849\n",
      "\n",
      "--- Processing Location: lat14.25_lon101.75 ---\n",
      "  Warning: Could not infer frequency for lat14.25_lon101.75.\n",
      "  Stationarity (p-value): 0.0570 -> Not Stationary\n",
      "  Running auto_arima with seasonal period m=12...\n",
      "  Best model found for lat14.25_lon101.75: (1, 0, 2) (0, 1, 1, 12)\n"
     ]
    },
    {
     "name": "stderr",
     "output_type": "stream",
     "text": [
      "c:\\Users\\peera\\.conda\\envs\\drought_lstm_base\\Lib\\site-packages\\statsmodels\\tsa\\base\\tsa_model.py:837: FutureWarning: No supported index is available. In the next version, calling this method in a model without a supported index will result in an exception.\n",
      "  return get_prediction_index(\n"
     ]
    },
    {
     "name": "stdout",
     "output_type": "stream",
     "text": [
      "  lat14.25_lon101.75 - Train Set:      RMSE=118.9540, MAE=4.1169, R2=0.5512\n",
      "  lat14.25_lon101.75 - Validation Set: RMSE=52.6517, MAE=5.0614, R2=0.8270\n",
      "  lat14.25_lon101.75 - Test Set:       RMSE=43.1808, MAE=5.2905, R2=0.7828\n",
      "\n",
      "--- Processing Location: lat14.25_lon102.25 ---\n",
      "  Warning: Could not infer frequency for lat14.25_lon102.25.\n",
      "  Stationarity (p-value): 0.0430 -> Stationary\n",
      "  Running auto_arima with seasonal period m=12...\n",
      "  Best model found for lat14.25_lon102.25: (2, 0, 1) (0, 1, 2, 12)\n"
     ]
    },
    {
     "name": "stderr",
     "output_type": "stream",
     "text": [
      "c:\\Users\\peera\\.conda\\envs\\drought_lstm_base\\Lib\\site-packages\\statsmodels\\tsa\\base\\tsa_model.py:837: FutureWarning: No supported index is available. In the next version, calling this method in a model without a supported index will result in an exception.\n",
      "  return get_prediction_index(\n"
     ]
    },
    {
     "name": "stdout",
     "output_type": "stream",
     "text": [
      "  lat14.25_lon102.25 - Train Set:      RMSE=113.7229, MAE=4.0367, R2=0.4933\n",
      "  lat14.25_lon102.25 - Validation Set: RMSE=50.3786, MAE=4.9053, R2=0.7979\n",
      "  lat14.25_lon102.25 - Test Set:       RMSE=38.5503, MAE=4.8903, R2=0.7604\n",
      "\n",
      "--- Processing Location: lat14.25_lon102.75 ---\n",
      "  Warning: Could not infer frequency for lat14.25_lon102.75.\n",
      "  Stationarity (p-value): 0.0277 -> Stationary\n",
      "  Running auto_arima with seasonal period m=12...\n",
      "  Best model found for lat14.25_lon102.75: (1, 0, 1) (0, 1, 2, 12)\n"
     ]
    },
    {
     "name": "stderr",
     "output_type": "stream",
     "text": [
      "c:\\Users\\peera\\.conda\\envs\\drought_lstm_base\\Lib\\site-packages\\statsmodels\\tsa\\base\\tsa_model.py:837: FutureWarning: No supported index is available. In the next version, calling this method in a model without a supported index will result in an exception.\n",
      "  return get_prediction_index(\n"
     ]
    },
    {
     "name": "stdout",
     "output_type": "stream",
     "text": [
      "  lat14.25_lon102.75 - Train Set:      RMSE=120.5677, MAE=4.2033, R2=0.4693\n",
      "  lat14.25_lon102.75 - Validation Set: RMSE=40.4334, MAE=3.9511, R2=0.8371\n",
      "  lat14.25_lon102.75 - Test Set:       RMSE=35.5719, MAE=4.8058, R2=0.7834\n",
      "\n",
      "--- Processing Location: lat14.75_lon98.75 ---\n",
      "  Warning: Could not infer frequency for lat14.75_lon98.75.\n",
      "  Stationarity (p-value): 0.0292 -> Stationary\n",
      "  Running auto_arima with seasonal period m=12...\n",
      "  Best model found for lat14.75_lon98.75: (2, 0, 2) (1, 1, 1, 12)\n"
     ]
    },
    {
     "name": "stderr",
     "output_type": "stream",
     "text": [
      "c:\\Users\\peera\\.conda\\envs\\drought_lstm_base\\Lib\\site-packages\\statsmodels\\tsa\\base\\tsa_model.py:837: FutureWarning: No supported index is available. In the next version, calling this method in a model without a supported index will result in an exception.\n",
      "  return get_prediction_index(\n"
     ]
    },
    {
     "name": "stdout",
     "output_type": "stream",
     "text": [
      "  lat14.75_lon98.75 - Train Set:      RMSE=114.5251, MAE=4.0524, R2=0.7615\n",
      "  lat14.75_lon98.75 - Validation Set: RMSE=42.5547, MAE=4.1406, R2=0.9213\n",
      "  lat14.75_lon98.75 - Test Set:       RMSE=53.6511, MAE=5.6069, R2=0.8477\n",
      "\n",
      "--- Processing Location: lat14.75_lon99.25 ---\n",
      "  Warning: Could not infer frequency for lat14.75_lon99.25.\n",
      "  Stationarity (p-value): 0.0455 -> Stationary\n",
      "  Running auto_arima with seasonal period m=12...\n",
      "  Best model found for lat14.75_lon99.25: (2, 0, 1) (1, 1, 1, 12)\n"
     ]
    },
    {
     "name": "stderr",
     "output_type": "stream",
     "text": [
      "c:\\Users\\peera\\.conda\\envs\\drought_lstm_base\\Lib\\site-packages\\statsmodels\\tsa\\base\\tsa_model.py:837: FutureWarning: No supported index is available. In the next version, calling this method in a model without a supported index will result in an exception.\n",
      "  return get_prediction_index(\n"
     ]
    },
    {
     "name": "stdout",
     "output_type": "stream",
     "text": [
      "  lat14.75_lon99.25 - Train Set:      RMSE=125.9902, MAE=4.3212, R2=0.7487\n",
      "  lat14.75_lon99.25 - Validation Set: RMSE=37.9363, MAE=4.2259, R2=0.9286\n",
      "  lat14.75_lon99.25 - Test Set:       RMSE=56.5374, MAE=5.5591, R2=0.8487\n",
      "\n",
      "--- Processing Location: lat14.75_lon99.75 ---\n",
      "  Warning: Could not infer frequency for lat14.75_lon99.75.\n",
      "  Stationarity (p-value): 0.0392 -> Stationary\n",
      "  Running auto_arima with seasonal period m=12...\n",
      "  Best model found for lat14.75_lon99.75: (1, 0, 1) (0, 1, 2, 12)\n"
     ]
    },
    {
     "name": "stderr",
     "output_type": "stream",
     "text": [
      "c:\\Users\\peera\\.conda\\envs\\drought_lstm_base\\Lib\\site-packages\\statsmodels\\tsa\\base\\tsa_model.py:837: FutureWarning: No supported index is available. In the next version, calling this method in a model without a supported index will result in an exception.\n",
      "  return get_prediction_index(\n"
     ]
    },
    {
     "name": "stdout",
     "output_type": "stream",
     "text": [
      "  lat14.75_lon99.75 - Train Set:      RMSE=143.8436, MAE=4.5821, R2=0.7228\n",
      "  lat14.75_lon99.75 - Validation Set: RMSE=53.2035, MAE=4.8223, R2=0.9111\n",
      "  lat14.75_lon99.75 - Test Set:       RMSE=61.5643, MAE=6.0254, R2=0.8520\n",
      "\n",
      "--- Processing Location: lat14.75_lon100.25 ---\n",
      "  Warning: Could not infer frequency for lat14.75_lon100.25.\n",
      "  Stationarity (p-value): 0.0337 -> Stationary\n",
      "  Running auto_arima with seasonal period m=12...\n",
      "  Best model found for lat14.75_lon100.25: (1, 0, 1) (2, 1, 1, 12)\n"
     ]
    },
    {
     "name": "stderr",
     "output_type": "stream",
     "text": [
      "c:\\Users\\peera\\.conda\\envs\\drought_lstm_base\\Lib\\site-packages\\statsmodels\\tsa\\base\\tsa_model.py:837: FutureWarning: No supported index is available. In the next version, calling this method in a model without a supported index will result in an exception.\n",
      "  return get_prediction_index(\n"
     ]
    },
    {
     "name": "stdout",
     "output_type": "stream",
     "text": [
      "  lat14.75_lon100.25 - Train Set:      RMSE=149.6444, MAE=4.7133, R2=0.6760\n",
      "  lat14.75_lon100.25 - Validation Set: RMSE=61.5704, MAE=5.4850, R2=0.8818\n",
      "  lat14.75_lon100.25 - Test Set:       RMSE=61.4958, MAE=6.1842, R2=0.8373\n",
      "\n",
      "--- Processing Location: lat14.75_lon100.75 ---\n",
      "  Warning: Could not infer frequency for lat14.75_lon100.75.\n",
      "  Stationarity (p-value): 0.0212 -> Stationary\n",
      "  Running auto_arima with seasonal period m=12...\n",
      "  Best model found for lat14.75_lon100.75: (1, 0, 2) (2, 1, 1, 12)\n"
     ]
    },
    {
     "name": "stderr",
     "output_type": "stream",
     "text": [
      "c:\\Users\\peera\\.conda\\envs\\drought_lstm_base\\Lib\\site-packages\\statsmodels\\tsa\\base\\tsa_model.py:837: FutureWarning: No supported index is available. In the next version, calling this method in a model without a supported index will result in an exception.\n",
      "  return get_prediction_index(\n"
     ]
    },
    {
     "name": "stdout",
     "output_type": "stream",
     "text": [
      "  lat14.75_lon100.75 - Train Set:      RMSE=144.0976, MAE=4.6232, R2=0.6495\n",
      "  lat14.75_lon100.75 - Validation Set: RMSE=54.0228, MAE=5.0484, R2=0.8861\n",
      "  lat14.75_lon100.75 - Test Set:       RMSE=55.5322, MAE=5.9527, R2=0.8319\n",
      "\n",
      "--- Processing Location: lat14.75_lon101.25 ---\n",
      "  Warning: Could not infer frequency for lat14.75_lon101.25.\n",
      "  Stationarity (p-value): 0.0321 -> Stationary\n",
      "  Running auto_arima with seasonal period m=12...\n",
      "  Best model found for lat14.75_lon101.25: (1, 0, 1) (0, 1, 1, 12)\n"
     ]
    },
    {
     "name": "stderr",
     "output_type": "stream",
     "text": [
      "c:\\Users\\peera\\.conda\\envs\\drought_lstm_base\\Lib\\site-packages\\statsmodels\\tsa\\base\\tsa_model.py:837: FutureWarning: No supported index is available. In the next version, calling this method in a model without a supported index will result in an exception.\n",
      "  return get_prediction_index(\n"
     ]
    },
    {
     "name": "stdout",
     "output_type": "stream",
     "text": [
      "  lat14.75_lon101.25 - Train Set:      RMSE=130.1507, MAE=4.4192, R2=0.6293\n",
      "  lat14.75_lon101.25 - Validation Set: RMSE=47.9947, MAE=4.9604, R2=0.8773\n",
      "  lat14.75_lon101.25 - Test Set:       RMSE=50.1339, MAE=5.6708, R2=0.8153\n",
      "\n",
      "--- Processing Location: lat14.75_lon101.75 ---\n",
      "  Warning: Could not infer frequency for lat14.75_lon101.75.\n",
      "  Stationarity (p-value): 0.0295 -> Stationary\n",
      "  Running auto_arima with seasonal period m=12...\n",
      "  Best model found for lat14.75_lon101.75: (1, 0, 2) (0, 1, 2, 12)\n"
     ]
    },
    {
     "name": "stderr",
     "output_type": "stream",
     "text": [
      "c:\\Users\\peera\\.conda\\envs\\drought_lstm_base\\Lib\\site-packages\\statsmodels\\tsa\\base\\tsa_model.py:837: FutureWarning: No supported index is available. In the next version, calling this method in a model without a supported index will result in an exception.\n",
      "  return get_prediction_index(\n"
     ]
    },
    {
     "name": "stdout",
     "output_type": "stream",
     "text": [
      "  lat14.75_lon101.75 - Train Set:      RMSE=120.2502, MAE=4.1215, R2=0.5682\n",
      "  lat14.75_lon101.75 - Validation Set: RMSE=51.1097, MAE=5.0406, R2=0.8410\n",
      "  lat14.75_lon101.75 - Test Set:       RMSE=40.5703, MAE=4.9749, R2=0.8082\n",
      "\n",
      "--- Processing Location: lat14.75_lon102.25 ---\n",
      "  Warning: Could not infer frequency for lat14.75_lon102.25.\n",
      "  Stationarity (p-value): 0.0326 -> Stationary\n",
      "  Running auto_arima with seasonal period m=12...\n",
      "  Best model found for lat14.75_lon102.25: (1, 0, 1) (2, 1, 1, 12)\n"
     ]
    },
    {
     "name": "stderr",
     "output_type": "stream",
     "text": [
      "c:\\Users\\peera\\.conda\\envs\\drought_lstm_base\\Lib\\site-packages\\statsmodels\\tsa\\base\\tsa_model.py:837: FutureWarning: No supported index is available. In the next version, calling this method in a model without a supported index will result in an exception.\n",
      "  return get_prediction_index(\n"
     ]
    },
    {
     "name": "stdout",
     "output_type": "stream",
     "text": [
      "  lat14.75_lon102.25 - Train Set:      RMSE=118.8525, MAE=4.0787, R2=0.4839\n",
      "  lat14.75_lon102.25 - Validation Set: RMSE=40.7054, MAE=4.3283, R2=0.8285\n",
      "  lat14.75_lon102.25 - Test Set:       RMSE=38.7481, MAE=5.0247, R2=0.7814\n",
      "\n",
      "--- Processing Location: lat14.75_lon102.75 ---\n",
      "  Warning: Could not infer frequency for lat14.75_lon102.75.\n",
      "  Stationarity (p-value): 0.0277 -> Stationary\n",
      "  Running auto_arima with seasonal period m=12...\n",
      "  Best model found for lat14.75_lon102.75: (2, 0, 1) (0, 1, 2, 12)\n"
     ]
    },
    {
     "name": "stderr",
     "output_type": "stream",
     "text": [
      "c:\\Users\\peera\\.conda\\envs\\drought_lstm_base\\Lib\\site-packages\\statsmodels\\tsa\\base\\tsa_model.py:837: FutureWarning: No supported index is available. In the next version, calling this method in a model without a supported index will result in an exception.\n",
      "  return get_prediction_index(\n"
     ]
    },
    {
     "name": "stdout",
     "output_type": "stream",
     "text": [
      "  lat14.75_lon102.75 - Train Set:      RMSE=120.0960, MAE=4.0586, R2=0.4721\n",
      "  lat14.75_lon102.75 - Validation Set: RMSE=37.5712, MAE=3.9988, R2=0.8413\n",
      "  lat14.75_lon102.75 - Test Set:       RMSE=34.1950, MAE=4.5509, R2=0.8025\n",
      "\n",
      "--- Processing Location: lat14.75_lon103.25 ---\n",
      "  Warning: Could not infer frequency for lat14.75_lon103.25.\n",
      "  Stationarity (p-value): 0.0224 -> Stationary\n",
      "  Running auto_arima with seasonal period m=12...\n",
      "  Best model found for lat14.75_lon103.25: (1, 0, 2) (0, 1, 1, 12)\n"
     ]
    },
    {
     "name": "stderr",
     "output_type": "stream",
     "text": [
      "c:\\Users\\peera\\.conda\\envs\\drought_lstm_base\\Lib\\site-packages\\statsmodels\\tsa\\base\\tsa_model.py:837: FutureWarning: No supported index is available. In the next version, calling this method in a model without a supported index will result in an exception.\n",
      "  return get_prediction_index(\n"
     ]
    },
    {
     "name": "stdout",
     "output_type": "stream",
     "text": [
      "  lat14.75_lon103.25 - Train Set:      RMSE=121.9954, MAE=4.2096, R2=0.5016\n",
      "  lat14.75_lon103.25 - Validation Set: RMSE=39.2433, MAE=4.0138, R2=0.8527\n",
      "  lat14.75_lon103.25 - Test Set:       RMSE=32.3347, MAE=4.4602, R2=0.8091\n",
      "\n",
      "--- Processing Location: lat14.75_lon103.75 ---\n",
      "  Warning: Could not infer frequency for lat14.75_lon103.75.\n",
      "  Stationarity (p-value): 0.0141 -> Stationary\n",
      "  Running auto_arima with seasonal period m=12...\n",
      "  Best model found for lat14.75_lon103.75: (1, 0, 1) (0, 1, 1, 12)\n"
     ]
    },
    {
     "name": "stderr",
     "output_type": "stream",
     "text": [
      "c:\\Users\\peera\\.conda\\envs\\drought_lstm_base\\Lib\\site-packages\\statsmodels\\tsa\\base\\tsa_model.py:837: FutureWarning: No supported index is available. In the next version, calling this method in a model without a supported index will result in an exception.\n",
      "  return get_prediction_index(\n"
     ]
    },
    {
     "name": "stdout",
     "output_type": "stream",
     "text": [
      "  lat14.75_lon103.75 - Train Set:      RMSE=122.7943, MAE=4.2710, R2=0.5469\n",
      "  lat14.75_lon103.75 - Validation Set: RMSE=31.3394, MAE=3.3627, R2=0.8887\n",
      "  lat14.75_lon103.75 - Test Set:       RMSE=29.2215, MAE=4.3004, R2=0.8570\n",
      "\n",
      "--- Processing Location: lat14.75_lon104.25 ---\n",
      "  Warning: Could not infer frequency for lat14.75_lon104.25.\n",
      "  Stationarity (p-value): 0.0066 -> Stationary\n",
      "  Running auto_arima with seasonal period m=12...\n",
      "  Best model found for lat14.75_lon104.25: (1, 0, 2) (0, 1, 1, 12)\n"
     ]
    },
    {
     "name": "stderr",
     "output_type": "stream",
     "text": [
      "c:\\Users\\peera\\.conda\\envs\\drought_lstm_base\\Lib\\site-packages\\statsmodels\\tsa\\base\\tsa_model.py:837: FutureWarning: No supported index is available. In the next version, calling this method in a model without a supported index will result in an exception.\n",
      "  return get_prediction_index(\n"
     ]
    },
    {
     "name": "stdout",
     "output_type": "stream",
     "text": [
      "  lat14.75_lon104.25 - Train Set:      RMSE=126.4886, MAE=4.3387, R2=0.5813\n",
      "  lat14.75_lon104.25 - Validation Set: RMSE=40.2197, MAE=3.8665, R2=0.8725\n",
      "  lat14.75_lon104.25 - Test Set:       RMSE=29.1326, MAE=4.1312, R2=0.8741\n",
      "\n",
      "--- Processing Location: lat14.75_lon104.75 ---\n",
      "  Warning: Could not infer frequency for lat14.75_lon104.75.\n",
      "  Stationarity (p-value): 0.0024 -> Stationary\n",
      "  Running auto_arima with seasonal period m=12...\n",
      "  Best model found for lat14.75_lon104.75: (0, 0, 3) (0, 1, 1, 12)\n"
     ]
    },
    {
     "name": "stderr",
     "output_type": "stream",
     "text": [
      "c:\\Users\\peera\\.conda\\envs\\drought_lstm_base\\Lib\\site-packages\\statsmodels\\tsa\\base\\tsa_model.py:837: FutureWarning: No supported index is available. In the next version, calling this method in a model without a supported index will result in an exception.\n",
      "  return get_prediction_index(\n"
     ]
    },
    {
     "name": "stdout",
     "output_type": "stream",
     "text": [
      "  lat14.75_lon104.75 - Train Set:      RMSE=131.9191, MAE=4.4688, R2=0.6087\n",
      "  lat14.75_lon104.75 - Validation Set: RMSE=40.2330, MAE=4.1217, R2=0.8873\n",
      "  lat14.75_lon104.75 - Test Set:       RMSE=37.2070, MAE=4.6531, R2=0.8674\n",
      "\n",
      "--- Processing Location: lat14.75_lon105.25 ---\n",
      "  Warning: Could not infer frequency for lat14.75_lon105.25.\n",
      "  Stationarity (p-value): 0.0014 -> Stationary\n",
      "  Running auto_arima with seasonal period m=12...\n",
      "  Best model found for lat14.75_lon105.25: (0, 0, 2) (0, 1, 1, 12)\n"
     ]
    },
    {
     "name": "stderr",
     "output_type": "stream",
     "text": [
      "c:\\Users\\peera\\.conda\\envs\\drought_lstm_base\\Lib\\site-packages\\statsmodels\\tsa\\base\\tsa_model.py:837: FutureWarning: No supported index is available. In the next version, calling this method in a model without a supported index will result in an exception.\n",
      "  return get_prediction_index(\n"
     ]
    },
    {
     "name": "stdout",
     "output_type": "stream",
     "text": [
      "  lat14.75_lon105.25 - Train Set:      RMSE=135.4555, MAE=4.4911, R2=0.6586\n",
      "  lat14.75_lon105.25 - Validation Set: RMSE=46.1160, MAE=4.4387, R2=0.8817\n",
      "  lat14.75_lon105.25 - Test Set:       RMSE=30.2327, MAE=4.1186, R2=0.9008\n",
      "\n",
      "--- Processing Location: lat15.25_lon98.25 ---\n",
      "  Warning: Could not infer frequency for lat15.25_lon98.25.\n",
      "  Stationarity (p-value): 0.0189 -> Stationary\n",
      "  Running auto_arima with seasonal period m=12...\n",
      "  Best model found for lat15.25_lon98.25: (1, 0, 2) (2, 1, 1, 12)\n"
     ]
    },
    {
     "name": "stderr",
     "output_type": "stream",
     "text": [
      "c:\\Users\\peera\\.conda\\envs\\drought_lstm_base\\Lib\\site-packages\\statsmodels\\tsa\\base\\tsa_model.py:837: FutureWarning: No supported index is available. In the next version, calling this method in a model without a supported index will result in an exception.\n",
      "  return get_prediction_index(\n"
     ]
    },
    {
     "name": "stdout",
     "output_type": "stream",
     "text": [
      "  lat15.25_lon98.25 - Train Set:      RMSE=107.7957, MAE=3.9616, R2=0.7759\n",
      "  lat15.25_lon98.25 - Validation Set: RMSE=44.0404, MAE=4.1752, R2=0.9184\n",
      "  lat15.25_lon98.25 - Test Set:       RMSE=43.5253, MAE=4.7659, R2=0.8761\n",
      "\n",
      "--- Processing Location: lat15.25_lon98.75 ---\n",
      "  Warning: Could not infer frequency for lat15.25_lon98.75.\n",
      "  Stationarity (p-value): 0.0283 -> Stationary\n",
      "  Running auto_arima with seasonal period m=12...\n",
      "  Best model found for lat15.25_lon98.75: (2, 0, 2) (1, 1, 1, 12)\n"
     ]
    },
    {
     "name": "stderr",
     "output_type": "stream",
     "text": [
      "c:\\Users\\peera\\.conda\\envs\\drought_lstm_base\\Lib\\site-packages\\statsmodels\\tsa\\base\\tsa_model.py:837: FutureWarning: No supported index is available. In the next version, calling this method in a model without a supported index will result in an exception.\n",
      "  return get_prediction_index(\n"
     ]
    },
    {
     "name": "stdout",
     "output_type": "stream",
     "text": [
      "  lat15.25_lon98.75 - Train Set:      RMSE=106.8873, MAE=3.9685, R2=0.7785\n",
      "  lat15.25_lon98.75 - Validation Set: RMSE=37.7363, MAE=4.0458, R2=0.9302\n",
      "  lat15.25_lon98.75 - Test Set:       RMSE=49.3039, MAE=5.3292, R2=0.8612\n",
      "\n",
      "--- Processing Location: lat15.25_lon99.25 ---\n",
      "  Warning: Could not infer frequency for lat15.25_lon99.25.\n",
      "  Stationarity (p-value): 0.0248 -> Stationary\n",
      "  Running auto_arima with seasonal period m=12...\n",
      "  Best model found for lat15.25_lon99.25: (1, 0, 2) (0, 1, 1, 12)\n"
     ]
    },
    {
     "name": "stderr",
     "output_type": "stream",
     "text": [
      "c:\\Users\\peera\\.conda\\envs\\drought_lstm_base\\Lib\\site-packages\\statsmodels\\tsa\\base\\tsa_model.py:837: FutureWarning: No supported index is available. In the next version, calling this method in a model without a supported index will result in an exception.\n",
      "  return get_prediction_index(\n"
     ]
    },
    {
     "name": "stdout",
     "output_type": "stream",
     "text": [
      "  lat15.25_lon99.25 - Train Set:      RMSE=124.3124, MAE=4.4849, R2=0.7604\n",
      "  lat15.25_lon99.25 - Validation Set: RMSE=47.1956, MAE=4.7600, R2=0.9151\n",
      "  lat15.25_lon99.25 - Test Set:       RMSE=58.9449, MAE=5.6472, R2=0.8404\n",
      "\n",
      "--- Processing Location: lat15.25_lon99.75 ---\n",
      "  Warning: Could not infer frequency for lat15.25_lon99.75.\n",
      "  Stationarity (p-value): 0.0292 -> Stationary\n",
      "  Running auto_arima with seasonal period m=12...\n",
      "  Best model found for lat15.25_lon99.75: (3, 0, 2) (0, 1, 1, 12)\n"
     ]
    },
    {
     "name": "stderr",
     "output_type": "stream",
     "text": [
      "c:\\Users\\peera\\.conda\\envs\\drought_lstm_base\\Lib\\site-packages\\statsmodels\\tsa\\base\\tsa_model.py:837: FutureWarning: No supported index is available. In the next version, calling this method in a model without a supported index will result in an exception.\n",
      "  return get_prediction_index(\n"
     ]
    },
    {
     "name": "stdout",
     "output_type": "stream",
     "text": [
      "  lat15.25_lon99.75 - Train Set:      RMSE=144.0805, MAE=4.6449, R2=0.7639\n",
      "  lat15.25_lon99.75 - Validation Set: RMSE=51.2057, MAE=5.1472, R2=0.9254\n",
      "  lat15.25_lon99.75 - Test Set:       RMSE=64.6115, MAE=6.1889, R2=0.8662\n",
      "\n",
      "--- Processing Location: lat15.25_lon100.25 ---\n",
      "  Warning: Could not infer frequency for lat15.25_lon100.25.\n",
      "  Stationarity (p-value): 0.0289 -> Stationary\n",
      "  Running auto_arima with seasonal period m=12...\n",
      "  Best model found for lat15.25_lon100.25: (1, 0, 2) (2, 1, 1, 12)\n"
     ]
    },
    {
     "name": "stderr",
     "output_type": "stream",
     "text": [
      "c:\\Users\\peera\\.conda\\envs\\drought_lstm_base\\Lib\\site-packages\\statsmodels\\tsa\\base\\tsa_model.py:837: FutureWarning: No supported index is available. In the next version, calling this method in a model without a supported index will result in an exception.\n",
      "  return get_prediction_index(\n"
     ]
    },
    {
     "name": "stdout",
     "output_type": "stream",
     "text": [
      "  lat15.25_lon100.25 - Train Set:      RMSE=150.5638, MAE=4.7198, R2=0.7529\n",
      "  lat15.25_lon100.25 - Validation Set: RMSE=54.7844, MAE=5.4496, R2=0.9201\n",
      "  lat15.25_lon100.25 - Test Set:       RMSE=57.9198, MAE=6.0214, R2=0.8822\n",
      "\n",
      "--- Processing Location: lat15.25_lon100.75 ---\n",
      "  Warning: Could not infer frequency for lat15.25_lon100.75.\n",
      "  Stationarity (p-value): 0.0384 -> Stationary\n",
      "  Running auto_arima with seasonal period m=12...\n",
      "  Best model found for lat15.25_lon100.75: (1, 0, 1) (2, 1, 1, 12)\n"
     ]
    },
    {
     "name": "stderr",
     "output_type": "stream",
     "text": [
      "c:\\Users\\peera\\.conda\\envs\\drought_lstm_base\\Lib\\site-packages\\statsmodels\\tsa\\base\\tsa_model.py:837: FutureWarning: No supported index is available. In the next version, calling this method in a model without a supported index will result in an exception.\n",
      "  return get_prediction_index(\n"
     ]
    },
    {
     "name": "stdout",
     "output_type": "stream",
     "text": [
      "  lat15.25_lon100.75 - Train Set:      RMSE=145.2130, MAE=4.6483, R2=0.7278\n",
      "  lat15.25_lon100.75 - Validation Set: RMSE=63.9115, MAE=5.3554, R2=0.8936\n",
      "  lat15.25_lon100.75 - Test Set:       RMSE=61.4728, MAE=6.1007, R2=0.8549\n",
      "\n",
      "--- Processing Location: lat15.25_lon101.25 ---\n",
      "  Warning: Could not infer frequency for lat15.25_lon101.25.\n",
      "  Stationarity (p-value): 0.0203 -> Stationary\n",
      "  Running auto_arima with seasonal period m=12...\n",
      "  Best model found for lat15.25_lon101.25: (1, 0, 2) (1, 1, 2, 12)\n"
     ]
    },
    {
     "name": "stderr",
     "output_type": "stream",
     "text": [
      "c:\\Users\\peera\\.conda\\envs\\drought_lstm_base\\Lib\\site-packages\\statsmodels\\tsa\\base\\tsa_model.py:837: FutureWarning: No supported index is available. In the next version, calling this method in a model without a supported index will result in an exception.\n",
      "  return get_prediction_index(\n"
     ]
    },
    {
     "name": "stdout",
     "output_type": "stream",
     "text": [
      "  lat15.25_lon101.25 - Train Set:      RMSE=135.1248, MAE=4.5526, R2=0.6826\n",
      "  lat15.25_lon101.25 - Validation Set: RMSE=52.5753, MAE=5.0485, R2=0.8900\n",
      "  lat15.25_lon101.25 - Test Set:       RMSE=52.1655, MAE=5.7041, R2=0.8440\n",
      "\n",
      "--- Processing Location: lat15.25_lon101.75 ---\n",
      "  Warning: Could not infer frequency for lat15.25_lon101.75.\n",
      "  Stationarity (p-value): 0.0220 -> Stationary\n",
      "  Running auto_arima with seasonal period m=12...\n",
      "  Best model found for lat15.25_lon101.75: (3, 0, 2) (1, 1, 2, 12)\n"
     ]
    },
    {
     "name": "stderr",
     "output_type": "stream",
     "text": [
      "c:\\Users\\peera\\.conda\\envs\\drought_lstm_base\\Lib\\site-packages\\statsmodels\\tsa\\base\\tsa_model.py:837: FutureWarning: No supported index is available. In the next version, calling this method in a model without a supported index will result in an exception.\n",
      "  return get_prediction_index(\n"
     ]
    },
    {
     "name": "stdout",
     "output_type": "stream",
     "text": [
      "  lat15.25_lon101.75 - Train Set:      RMSE=129.2780, MAE=4.3777, R2=0.6029\n",
      "  lat15.25_lon101.75 - Validation Set: RMSE=42.4982, MAE=4.5975, R2=0.8780\n",
      "  lat15.25_lon101.75 - Test Set:       RMSE=42.8505, MAE=5.1532, R2=0.8263\n",
      "\n",
      "--- Processing Location: lat15.25_lon102.25 ---\n",
      "  Warning: Could not infer frequency for lat15.25_lon102.25.\n",
      "  Stationarity (p-value): 0.0242 -> Stationary\n",
      "  Running auto_arima with seasonal period m=12...\n",
      "  Best model found for lat15.25_lon102.25: (2, 0, 3) (0, 1, 1, 12)\n"
     ]
    },
    {
     "name": "stderr",
     "output_type": "stream",
     "text": [
      "c:\\Users\\peera\\.conda\\envs\\drought_lstm_base\\Lib\\site-packages\\statsmodels\\tsa\\base\\tsa_model.py:837: FutureWarning: No supported index is available. In the next version, calling this method in a model without a supported index will result in an exception.\n",
      "  return get_prediction_index(\n"
     ]
    },
    {
     "name": "stdout",
     "output_type": "stream",
     "text": [
      "  lat15.25_lon102.25 - Train Set:      RMSE=124.8333, MAE=4.1784, R2=0.5065\n",
      "  lat15.25_lon102.25 - Validation Set: RMSE=40.4658, MAE=4.2847, R2=0.8573\n",
      "  lat15.25_lon102.25 - Test Set:       RMSE=43.6500, MAE=5.2023, R2=0.7811\n",
      "\n",
      "--- Processing Location: lat15.25_lon102.75 ---\n",
      "  Warning: Could not infer frequency for lat15.25_lon102.75.\n",
      "  Stationarity (p-value): 0.0186 -> Stationary\n",
      "  Running auto_arima with seasonal period m=12...\n",
      "  Best model found for lat15.25_lon102.75: (1, 0, 1) (0, 1, 1, 12)\n"
     ]
    },
    {
     "name": "stderr",
     "output_type": "stream",
     "text": [
      "c:\\Users\\peera\\.conda\\envs\\drought_lstm_base\\Lib\\site-packages\\statsmodels\\tsa\\base\\tsa_model.py:837: FutureWarning: No supported index is available. In the next version, calling this method in a model without a supported index will result in an exception.\n",
      "  return get_prediction_index(\n"
     ]
    },
    {
     "name": "stdout",
     "output_type": "stream",
     "text": [
      "  lat15.25_lon102.75 - Train Set:      RMSE=122.4170, MAE=4.2337, R2=0.4992\n",
      "  lat15.25_lon102.75 - Validation Set: RMSE=38.8665, MAE=4.2956, R2=0.8513\n",
      "  lat15.25_lon102.75 - Test Set:       RMSE=35.1315, MAE=4.6729, R2=0.8182\n",
      "\n",
      "--- Processing Location: lat15.25_lon103.25 ---\n",
      "  Warning: Could not infer frequency for lat15.25_lon103.25.\n",
      "  Stationarity (p-value): 0.0166 -> Stationary\n",
      "  Running auto_arima with seasonal period m=12...\n",
      "  Best model found for lat15.25_lon103.25: (2, 0, 1) (0, 1, 1, 12)\n"
     ]
    },
    {
     "name": "stderr",
     "output_type": "stream",
     "text": [
      "c:\\Users\\peera\\.conda\\envs\\drought_lstm_base\\Lib\\site-packages\\statsmodels\\tsa\\base\\tsa_model.py:837: FutureWarning: No supported index is available. In the next version, calling this method in a model without a supported index will result in an exception.\n",
      "  return get_prediction_index(\n"
     ]
    },
    {
     "name": "stdout",
     "output_type": "stream",
     "text": [
      "  lat15.25_lon103.25 - Train Set:      RMSE=119.4431, MAE=4.0983, R2=0.5109\n",
      "  lat15.25_lon103.25 - Validation Set: RMSE=36.2990, MAE=3.9449, R2=0.8610\n",
      "  lat15.25_lon103.25 - Test Set:       RMSE=33.5536, MAE=4.4114, R2=0.8216\n",
      "\n",
      "--- Processing Location: lat15.25_lon103.75 ---\n",
      "  Warning: Could not infer frequency for lat15.25_lon103.75.\n",
      "  Stationarity (p-value): 0.0129 -> Stationary\n",
      "  Running auto_arima with seasonal period m=12...\n",
      "  Best model found for lat15.25_lon103.75: (0, 0, 2) (2, 1, 1, 12)\n"
     ]
    },
    {
     "name": "stderr",
     "output_type": "stream",
     "text": [
      "c:\\Users\\peera\\.conda\\envs\\drought_lstm_base\\Lib\\site-packages\\statsmodels\\tsa\\base\\tsa_model.py:837: FutureWarning: No supported index is available. In the next version, calling this method in a model without a supported index will result in an exception.\n",
      "  return get_prediction_index(\n"
     ]
    },
    {
     "name": "stdout",
     "output_type": "stream",
     "text": [
      "  lat15.25_lon103.75 - Train Set:      RMSE=122.2847, MAE=4.2610, R2=0.5174\n",
      "  lat15.25_lon103.75 - Validation Set: RMSE=38.2461, MAE=4.2788, R2=0.8570\n",
      "  lat15.25_lon103.75 - Test Set:       RMSE=30.7106, MAE=4.0522, R2=0.8386\n",
      "\n",
      "--- Processing Location: lat15.25_lon104.25 ---\n",
      "  Warning: Could not infer frequency for lat15.25_lon104.25.\n",
      "  Stationarity (p-value): 0.0057 -> Stationary\n",
      "  Running auto_arima with seasonal period m=12...\n",
      "  Best model found for lat15.25_lon104.25: (0, 0, 3) (0, 1, 1, 12)\n"
     ]
    },
    {
     "name": "stderr",
     "output_type": "stream",
     "text": [
      "c:\\Users\\peera\\.conda\\envs\\drought_lstm_base\\Lib\\site-packages\\statsmodels\\tsa\\base\\tsa_model.py:837: FutureWarning: No supported index is available. In the next version, calling this method in a model without a supported index will result in an exception.\n",
      "  return get_prediction_index(\n"
     ]
    },
    {
     "name": "stdout",
     "output_type": "stream",
     "text": [
      "  lat15.25_lon104.25 - Train Set:      RMSE=127.3856, MAE=4.4106, R2=0.5454\n",
      "  lat15.25_lon104.25 - Validation Set: RMSE=40.4773, MAE=4.1159, R2=0.8632\n",
      "  lat15.25_lon104.25 - Test Set:       RMSE=31.4075, MAE=4.0900, R2=0.8521\n",
      "\n",
      "--- Processing Location: lat15.25_lon104.75 ---\n",
      "  Warning: Could not infer frequency for lat15.25_lon104.75.\n",
      "  Stationarity (p-value): 0.0015 -> Stationary\n",
      "  Running auto_arima with seasonal period m=12...\n",
      "  Best model found for lat15.25_lon104.75: (0, 0, 3) (0, 1, 1, 12)\n"
     ]
    },
    {
     "name": "stderr",
     "output_type": "stream",
     "text": [
      "c:\\Users\\peera\\.conda\\envs\\drought_lstm_base\\Lib\\site-packages\\statsmodels\\tsa\\base\\tsa_model.py:837: FutureWarning: No supported index is available. In the next version, calling this method in a model without a supported index will result in an exception.\n",
      "  return get_prediction_index(\n"
     ]
    },
    {
     "name": "stdout",
     "output_type": "stream",
     "text": [
      "  lat15.25_lon104.75 - Train Set:      RMSE=133.4630, MAE=4.5379, R2=0.5633\n",
      "  lat15.25_lon104.75 - Validation Set: RMSE=48.8577, MAE=4.5389, R2=0.8494\n",
      "  lat15.25_lon104.75 - Test Set:       RMSE=35.4343, MAE=4.3586, R2=0.8550\n",
      "\n",
      "--- Processing Location: lat15.25_lon105.25 ---\n",
      "  Warning: Could not infer frequency for lat15.25_lon105.25.\n",
      "  Stationarity (p-value): 0.0009 -> Stationary\n",
      "  Running auto_arima with seasonal period m=12...\n",
      "  Best model found for lat15.25_lon105.25: (0, 0, 1) (0, 1, 1, 12)\n"
     ]
    },
    {
     "name": "stderr",
     "output_type": "stream",
     "text": [
      "c:\\Users\\peera\\.conda\\envs\\drought_lstm_base\\Lib\\site-packages\\statsmodels\\tsa\\base\\tsa_model.py:837: FutureWarning: No supported index is available. In the next version, calling this method in a model without a supported index will result in an exception.\n",
      "  return get_prediction_index(\n"
     ]
    },
    {
     "name": "stdout",
     "output_type": "stream",
     "text": [
      "  lat15.25_lon105.25 - Train Set:      RMSE=137.2083, MAE=4.5514, R2=0.6235\n",
      "  lat15.25_lon105.25 - Validation Set: RMSE=46.4299, MAE=4.6668, R2=0.8719\n",
      "  lat15.25_lon105.25 - Test Set:       RMSE=31.4685, MAE=4.0148, R2=0.8913\n",
      "\n",
      "--- Processing Location: lat15.75_lon98.75 ---\n",
      "  Warning: Could not infer frequency for lat15.75_lon98.75.\n",
      "  Stationarity (p-value): 0.0156 -> Stationary\n",
      "  Running auto_arima with seasonal period m=12...\n",
      "  Best model found for lat15.75_lon98.75: (3, 0, 2) (0, 1, 2, 12)\n"
     ]
    },
    {
     "name": "stderr",
     "output_type": "stream",
     "text": [
      "c:\\Users\\peera\\.conda\\envs\\drought_lstm_base\\Lib\\site-packages\\statsmodels\\tsa\\base\\tsa_model.py:837: FutureWarning: No supported index is available. In the next version, calling this method in a model without a supported index will result in an exception.\n",
      "  return get_prediction_index(\n"
     ]
    },
    {
     "name": "stdout",
     "output_type": "stream",
     "text": [
      "  lat15.75_lon98.75 - Train Set:      RMSE=106.4150, MAE=3.9109, R2=0.7886\n",
      "  lat15.75_lon98.75 - Validation Set: RMSE=40.7021, MAE=4.4712, R2=0.9289\n",
      "  lat15.75_lon98.75 - Test Set:       RMSE=46.4292, MAE=5.0217, R2=0.8718\n",
      "\n",
      "--- Processing Location: lat15.75_lon99.25 ---\n",
      "  Warning: Could not infer frequency for lat15.75_lon99.25.\n",
      "  Stationarity (p-value): 0.0241 -> Stationary\n",
      "  Running auto_arima with seasonal period m=12...\n",
      "  Best model found for lat15.75_lon99.25: (2, 0, 1) (1, 1, 1, 12)\n"
     ]
    },
    {
     "name": "stderr",
     "output_type": "stream",
     "text": [
      "c:\\Users\\peera\\.conda\\envs\\drought_lstm_base\\Lib\\site-packages\\statsmodels\\tsa\\base\\tsa_model.py:837: FutureWarning: No supported index is available. In the next version, calling this method in a model without a supported index will result in an exception.\n",
      "  return get_prediction_index(\n"
     ]
    },
    {
     "name": "stdout",
     "output_type": "stream",
     "text": [
      "  lat15.75_lon99.25 - Train Set:      RMSE=118.0320, MAE=4.1550, R2=0.7848\n",
      "  lat15.75_lon99.25 - Validation Set: RMSE=38.3960, MAE=4.4654, R2=0.9352\n",
      "  lat15.75_lon99.25 - Test Set:       RMSE=50.4716, MAE=5.4303, R2=0.8713\n",
      "\n",
      "--- Processing Location: lat15.75_lon99.75 ---\n",
      "  Warning: Could not infer frequency for lat15.75_lon99.75.\n",
      "  Stationarity (p-value): 0.0269 -> Stationary\n",
      "  Running auto_arima with seasonal period m=12...\n",
      "  Best model found for lat15.75_lon99.75: (2, 0, 2) (1, 1, 1, 12)\n"
     ]
    },
    {
     "name": "stderr",
     "output_type": "stream",
     "text": [
      "c:\\Users\\peera\\.conda\\envs\\drought_lstm_base\\Lib\\site-packages\\statsmodels\\tsa\\base\\tsa_model.py:837: FutureWarning: No supported index is available. In the next version, calling this method in a model without a supported index will result in an exception.\n",
      "  return get_prediction_index(\n"
     ]
    },
    {
     "name": "stdout",
     "output_type": "stream",
     "text": [
      "  lat15.75_lon99.75 - Train Set:      RMSE=143.5014, MAE=4.6070, R2=0.7850\n",
      "  lat15.75_lon99.75 - Validation Set: RMSE=49.7752, MAE=4.8689, R2=0.9309\n",
      "  lat15.75_lon99.75 - Test Set:       RMSE=64.8578, MAE=6.0025, R2=0.8698\n",
      "\n",
      "--- Processing Location: lat15.75_lon100.25 ---\n",
      "  Warning: Could not infer frequency for lat15.75_lon100.25.\n",
      "  Stationarity (p-value): 0.0333 -> Stationary\n",
      "  Running auto_arima with seasonal period m=12...\n",
      "  Best model found for lat15.75_lon100.25: (2, 0, 1) (2, 1, 1, 12)\n"
     ]
    },
    {
     "name": "stderr",
     "output_type": "stream",
     "text": [
      "c:\\Users\\peera\\.conda\\envs\\drought_lstm_base\\Lib\\site-packages\\statsmodels\\tsa\\base\\tsa_model.py:837: FutureWarning: No supported index is available. In the next version, calling this method in a model without a supported index will result in an exception.\n",
      "  return get_prediction_index(\n"
     ]
    },
    {
     "name": "stdout",
     "output_type": "stream",
     "text": [
      "  lat15.75_lon100.25 - Train Set:      RMSE=160.2133, MAE=5.1005, R2=0.7810\n",
      "  lat15.75_lon100.25 - Validation Set: RMSE=64.5504, MAE=5.5125, R2=0.9212\n",
      "  lat15.75_lon100.25 - Test Set:       RMSE=93.3494, MAE=7.7410, R2=0.8331\n",
      "\n",
      "--- Processing Location: lat15.75_lon100.75 ---\n",
      "  Warning: Could not infer frequency for lat15.75_lon100.75.\n",
      "  Stationarity (p-value): 0.0158 -> Stationary\n",
      "  Running auto_arima with seasonal period m=12...\n",
      "  Best model found for lat15.75_lon100.75: (0, 0, 3) (1, 1, 1, 12)\n"
     ]
    },
    {
     "name": "stderr",
     "output_type": "stream",
     "text": [
      "c:\\Users\\peera\\.conda\\envs\\drought_lstm_base\\Lib\\site-packages\\statsmodels\\tsa\\base\\tsa_model.py:837: FutureWarning: No supported index is available. In the next version, calling this method in a model without a supported index will result in an exception.\n",
      "  return get_prediction_index(\n"
     ]
    },
    {
     "name": "stdout",
     "output_type": "stream",
     "text": [
      "  lat15.75_lon100.75 - Train Set:      RMSE=147.0206, MAE=4.8150, R2=0.7469\n",
      "  lat15.75_lon100.75 - Validation Set: RMSE=61.4659, MAE=5.9505, R2=0.9035\n",
      "  lat15.75_lon100.75 - Test Set:       RMSE=58.7448, MAE=6.0150, R2=0.8669\n",
      "\n",
      "--- Processing Location: lat15.75_lon101.25 ---\n",
      "  Warning: Could not infer frequency for lat15.75_lon101.25.\n",
      "  Stationarity (p-value): 0.0167 -> Stationary\n",
      "  Running auto_arima with seasonal period m=12...\n",
      "  Best model found for lat15.75_lon101.25: (2, 0, 2) (2, 1, 1, 12)\n"
     ]
    },
    {
     "name": "stderr",
     "output_type": "stream",
     "text": [
      "c:\\Users\\peera\\.conda\\envs\\drought_lstm_base\\Lib\\site-packages\\statsmodels\\tsa\\base\\tsa_model.py:837: FutureWarning: No supported index is available. In the next version, calling this method in a model without a supported index will result in an exception.\n",
      "  return get_prediction_index(\n"
     ]
    },
    {
     "name": "stdout",
     "output_type": "stream",
     "text": [
      "  lat15.75_lon101.25 - Train Set:      RMSE=134.2903, MAE=4.5384, R2=0.7017\n",
      "  lat15.75_lon101.25 - Validation Set: RMSE=52.1278, MAE=5.1276, R2=0.8932\n",
      "  lat15.75_lon101.25 - Test Set:       RMSE=51.2979, MAE=5.5611, R2=0.8516\n",
      "\n",
      "--- Processing Location: lat15.75_lon101.75 ---\n",
      "  Warning: Could not infer frequency for lat15.75_lon101.75.\n",
      "  Stationarity (p-value): 0.0117 -> Stationary\n",
      "  Running auto_arima with seasonal period m=12...\n",
      "  Best model found for lat15.75_lon101.75: (1, 0, 0) (1, 1, 1, 12)\n"
     ]
    },
    {
     "name": "stderr",
     "output_type": "stream",
     "text": [
      "c:\\Users\\peera\\.conda\\envs\\drought_lstm_base\\Lib\\site-packages\\statsmodels\\tsa\\base\\tsa_model.py:837: FutureWarning: No supported index is available. In the next version, calling this method in a model without a supported index will result in an exception.\n",
      "  return get_prediction_index(\n"
     ]
    },
    {
     "name": "stdout",
     "output_type": "stream",
     "text": [
      "  lat15.75_lon101.75 - Train Set:      RMSE=134.8057, MAE=4.6808, R2=0.6253\n",
      "  lat15.75_lon101.75 - Validation Set: RMSE=48.9879, MAE=5.1010, R2=0.8765\n",
      "  lat15.75_lon101.75 - Test Set:       RMSE=49.1112, MAE=5.4582, R2=0.8243\n",
      "\n",
      "--- Processing Location: lat15.75_lon102.25 ---\n",
      "  Warning: Could not infer frequency for lat15.75_lon102.25.\n",
      "  Stationarity (p-value): 0.0165 -> Stationary\n",
      "  Running auto_arima with seasonal period m=12...\n",
      "  Best model found for lat15.75_lon102.25: (3, 0, 2) (2, 1, 1, 12)\n"
     ]
    },
    {
     "name": "stderr",
     "output_type": "stream",
     "text": [
      "c:\\Users\\peera\\.conda\\envs\\drought_lstm_base\\Lib\\site-packages\\statsmodels\\tsa\\base\\tsa_model.py:837: FutureWarning: No supported index is available. In the next version, calling this method in a model without a supported index will result in an exception.\n",
      "  return get_prediction_index(\n"
     ]
    },
    {
     "name": "stdout",
     "output_type": "stream",
     "text": [
      "  lat15.75_lon102.25 - Train Set:      RMSE=129.7384, MAE=4.3493, R2=0.5687\n",
      "  lat15.75_lon102.25 - Validation Set: RMSE=46.4473, MAE=4.5477, R2=0.8576\n",
      "  lat15.75_lon102.25 - Test Set:       RMSE=39.5955, MAE=4.8425, R2=0.8400\n",
      "\n",
      "--- Processing Location: lat15.75_lon102.75 ---\n",
      "  Warning: Could not infer frequency for lat15.75_lon102.75.\n",
      "  Stationarity (p-value): 0.0178 -> Stationary\n",
      "  Running auto_arima with seasonal period m=12...\n",
      "  Best model found for lat15.75_lon102.75: (1, 0, 1) (0, 1, 1, 12)\n"
     ]
    },
    {
     "name": "stderr",
     "output_type": "stream",
     "text": [
      "c:\\Users\\peera\\.conda\\envs\\drought_lstm_base\\Lib\\site-packages\\statsmodels\\tsa\\base\\tsa_model.py:837: FutureWarning: No supported index is available. In the next version, calling this method in a model without a supported index will result in an exception.\n",
      "  return get_prediction_index(\n"
     ]
    },
    {
     "name": "stdout",
     "output_type": "stream",
     "text": [
      "  lat15.75_lon102.75 - Train Set:      RMSE=122.6946, MAE=4.2247, R2=0.5504\n",
      "  lat15.75_lon102.75 - Validation Set: RMSE=42.6147, MAE=4.3456, R2=0.8526\n",
      "  lat15.75_lon102.75 - Test Set:       RMSE=38.9117, MAE=4.7095, R2=0.8215\n",
      "\n",
      "--- Processing Location: lat15.75_lon103.25 ---\n",
      "  Warning: Could not infer frequency for lat15.75_lon103.25.\n",
      "  Stationarity (p-value): 0.0211 -> Stationary\n",
      "  Running auto_arima with seasonal period m=12...\n",
      "  Best model found for lat15.75_lon103.25: (1, 0, 2) (2, 1, 1, 12)\n"
     ]
    },
    {
     "name": "stderr",
     "output_type": "stream",
     "text": [
      "c:\\Users\\peera\\.conda\\envs\\drought_lstm_base\\Lib\\site-packages\\statsmodels\\tsa\\base\\tsa_model.py:837: FutureWarning: No supported index is available. In the next version, calling this method in a model without a supported index will result in an exception.\n",
      "  return get_prediction_index(\n"
     ]
    },
    {
     "name": "stdout",
     "output_type": "stream",
     "text": [
      "  lat15.75_lon103.25 - Train Set:      RMSE=118.7507, MAE=4.1050, R2=0.5229\n",
      "  lat15.75_lon103.25 - Validation Set: RMSE=42.7354, MAE=4.2234, R2=0.8458\n",
      "  lat15.75_lon103.25 - Test Set:       RMSE=35.5324, MAE=4.3879, R2=0.8037\n",
      "\n",
      "--- Processing Location: lat15.75_lon103.75 ---\n",
      "  Warning: Could not infer frequency for lat15.75_lon103.75.\n",
      "  Stationarity (p-value): 0.0091 -> Stationary\n",
      "  Running auto_arima with seasonal period m=12...\n",
      "  Best model found for lat15.75_lon103.75: (0, 0, 3) (0, 1, 1, 12)\n"
     ]
    },
    {
     "name": "stderr",
     "output_type": "stream",
     "text": [
      "c:\\Users\\peera\\.conda\\envs\\drought_lstm_base\\Lib\\site-packages\\statsmodels\\tsa\\base\\tsa_model.py:837: FutureWarning: No supported index is available. In the next version, calling this method in a model without a supported index will result in an exception.\n",
      "  return get_prediction_index(\n"
     ]
    },
    {
     "name": "stdout",
     "output_type": "stream",
     "text": [
      "  lat15.75_lon103.75 - Train Set:      RMSE=122.7713, MAE=4.2898, R2=0.5078\n",
      "  lat15.75_lon103.75 - Validation Set: RMSE=41.2507, MAE=4.3871, R2=0.8473\n",
      "  lat15.75_lon103.75 - Test Set:       RMSE=30.8358, MAE=4.0053, R2=0.8435\n",
      "\n",
      "--- Processing Location: lat15.75_lon104.25 ---\n",
      "  Warning: Could not infer frequency for lat15.75_lon104.25.\n",
      "  Stationarity (p-value): 0.0039 -> Stationary\n",
      "  Running auto_arima with seasonal period m=12...\n",
      "  Best model found for lat15.75_lon104.25: (1, 0, 2) (1, 1, 1, 12)\n"
     ]
    },
    {
     "name": "stderr",
     "output_type": "stream",
     "text": [
      "c:\\Users\\peera\\.conda\\envs\\drought_lstm_base\\Lib\\site-packages\\statsmodels\\tsa\\base\\tsa_model.py:837: FutureWarning: No supported index is available. In the next version, calling this method in a model without a supported index will result in an exception.\n",
      "  return get_prediction_index(\n"
     ]
    },
    {
     "name": "stdout",
     "output_type": "stream",
     "text": [
      "  lat15.75_lon104.25 - Train Set:      RMSE=125.3156, MAE=4.3294, R2=0.5348\n",
      "  lat15.75_lon104.25 - Validation Set: RMSE=37.6540, MAE=3.7300, R2=0.8601\n",
      "  lat15.75_lon104.25 - Test Set:       RMSE=31.8419, MAE=4.1683, R2=0.8457\n",
      "\n",
      "--- Processing Location: lat15.75_lon104.75 ---\n",
      "  Warning: Could not infer frequency for lat15.75_lon104.75.\n",
      "  Stationarity (p-value): 0.0012 -> Stationary\n",
      "  Running auto_arima with seasonal period m=12...\n",
      "  Best model found for lat15.75_lon104.75: (0, 0, 2) (0, 1, 1, 12)\n"
     ]
    },
    {
     "name": "stderr",
     "output_type": "stream",
     "text": [
      "c:\\Users\\peera\\.conda\\envs\\drought_lstm_base\\Lib\\site-packages\\statsmodels\\tsa\\base\\tsa_model.py:837: FutureWarning: No supported index is available. In the next version, calling this method in a model without a supported index will result in an exception.\n",
      "  return get_prediction_index(\n"
     ]
    },
    {
     "name": "stdout",
     "output_type": "stream",
     "text": [
      "  lat15.75_lon104.75 - Train Set:      RMSE=131.7102, MAE=4.4281, R2=0.5479\n",
      "  lat15.75_lon104.75 - Validation Set: RMSE=39.2604, MAE=4.1263, R2=0.8626\n",
      "  lat15.75_lon104.75 - Test Set:       RMSE=32.6368, MAE=4.2077, R2=0.8494\n",
      "\n",
      "--- Processing Location: lat15.75_lon105.25 ---\n",
      "  Warning: Could not infer frequency for lat15.75_lon105.25.\n",
      "  Stationarity (p-value): 0.0004 -> Stationary\n",
      "  Running auto_arima with seasonal period m=12...\n",
      "  Best model found for lat15.75_lon105.25: (1, 0, 1) (0, 1, 1, 12)\n"
     ]
    },
    {
     "name": "stderr",
     "output_type": "stream",
     "text": [
      "c:\\Users\\peera\\.conda\\envs\\drought_lstm_base\\Lib\\site-packages\\statsmodels\\tsa\\base\\tsa_model.py:837: FutureWarning: No supported index is available. In the next version, calling this method in a model without a supported index will result in an exception.\n",
      "  return get_prediction_index(\n"
     ]
    },
    {
     "name": "stdout",
     "output_type": "stream",
     "text": [
      "  lat15.75_lon105.25 - Train Set:      RMSE=138.7544, MAE=4.6955, R2=0.5817\n",
      "  lat15.75_lon105.25 - Validation Set: RMSE=51.1715, MAE=4.1661, R2=0.8454\n",
      "  lat15.75_lon105.25 - Test Set:       RMSE=33.1566, MAE=4.3215, R2=0.8705\n",
      "\n",
      "--- Processing Location: lat16.25_lon99.25 ---\n",
      "  Warning: Could not infer frequency for lat16.25_lon99.25.\n",
      "  Stationarity (p-value): 0.0124 -> Stationary\n",
      "  Running auto_arima with seasonal period m=12...\n",
      "  Best model found for lat16.25_lon99.25: (1, 0, 2) (2, 1, 1, 12)\n"
     ]
    },
    {
     "name": "stderr",
     "output_type": "stream",
     "text": [
      "c:\\Users\\peera\\.conda\\envs\\drought_lstm_base\\Lib\\site-packages\\statsmodels\\tsa\\base\\tsa_model.py:837: FutureWarning: No supported index is available. In the next version, calling this method in a model without a supported index will result in an exception.\n",
      "  return get_prediction_index(\n"
     ]
    },
    {
     "name": "stdout",
     "output_type": "stream",
     "text": [
      "  lat16.25_lon99.25 - Train Set:      RMSE=120.4459, MAE=4.2896, R2=0.7911\n",
      "  lat16.25_lon99.25 - Validation Set: RMSE=38.7799, MAE=4.5560, R2=0.9374\n",
      "  lat16.25_lon99.25 - Test Set:       RMSE=55.0229, MAE=5.5402, R2=0.8708\n",
      "\n",
      "--- Processing Location: lat16.25_lon99.75 ---\n",
      "  Warning: Could not infer frequency for lat16.25_lon99.75.\n",
      "  Stationarity (p-value): 0.0082 -> Stationary\n",
      "  Running auto_arima with seasonal period m=12...\n",
      "  Best model found for lat16.25_lon99.75: (1, 0, 2) (0, 1, 2, 12)\n"
     ]
    },
    {
     "name": "stderr",
     "output_type": "stream",
     "text": [
      "c:\\Users\\peera\\.conda\\envs\\drought_lstm_base\\Lib\\site-packages\\statsmodels\\tsa\\base\\tsa_model.py:837: FutureWarning: No supported index is available. In the next version, calling this method in a model without a supported index will result in an exception.\n",
      "  return get_prediction_index(\n"
     ]
    },
    {
     "name": "stdout",
     "output_type": "stream",
     "text": [
      "  lat16.25_lon99.75 - Train Set:      RMSE=136.4563, MAE=4.5179, R2=0.7790\n",
      "  lat16.25_lon99.75 - Validation Set: RMSE=50.3849, MAE=5.2661, R2=0.9268\n",
      "  lat16.25_lon99.75 - Test Set:       RMSE=56.8283, MAE=5.6249, R2=0.8811\n",
      "\n",
      "--- Processing Location: lat16.25_lon100.25 ---\n",
      "  Warning: Could not infer frequency for lat16.25_lon100.25.\n",
      "  Stationarity (p-value): 0.0076 -> Stationary\n",
      "  Running auto_arima with seasonal period m=12...\n",
      "  Best model found for lat16.25_lon100.25: (0, 0, 1) (1, 1, 1, 12)\n"
     ]
    },
    {
     "name": "stderr",
     "output_type": "stream",
     "text": [
      "c:\\Users\\peera\\.conda\\envs\\drought_lstm_base\\Lib\\site-packages\\statsmodels\\tsa\\base\\tsa_model.py:837: FutureWarning: No supported index is available. In the next version, calling this method in a model without a supported index will result in an exception.\n",
      "  return get_prediction_index(\n"
     ]
    },
    {
     "name": "stdout",
     "output_type": "stream",
     "text": [
      "  lat16.25_lon100.25 - Train Set:      RMSE=142.5620, MAE=4.7835, R2=0.7704\n",
      "  lat16.25_lon100.25 - Validation Set: RMSE=56.1785, MAE=6.0330, R2=0.9172\n",
      "  lat16.25_lon100.25 - Test Set:       RMSE=54.8099, MAE=5.4750, R2=0.8851\n",
      "\n",
      "--- Processing Location: lat16.25_lon100.75 ---\n",
      "  Warning: Could not infer frequency for lat16.25_lon100.75.\n",
      "  Stationarity (p-value): 0.0106 -> Stationary\n",
      "  Running auto_arima with seasonal period m=12...\n",
      "  Best model found for lat16.25_lon100.75: (0, 0, 2) (1, 1, 1, 12)\n"
     ]
    },
    {
     "name": "stderr",
     "output_type": "stream",
     "text": [
      "c:\\Users\\peera\\.conda\\envs\\drought_lstm_base\\Lib\\site-packages\\statsmodels\\tsa\\base\\tsa_model.py:837: FutureWarning: No supported index is available. In the next version, calling this method in a model without a supported index will result in an exception.\n",
      "  return get_prediction_index(\n"
     ]
    },
    {
     "name": "stdout",
     "output_type": "stream",
     "text": [
      "  lat16.25_lon100.75 - Train Set:      RMSE=134.8151, MAE=4.6680, R2=0.7477\n",
      "  lat16.25_lon100.75 - Validation Set: RMSE=51.3719, MAE=5.4513, R2=0.9144\n",
      "  lat16.25_lon100.75 - Test Set:       RMSE=54.1299, MAE=5.6217, R2=0.8690\n",
      "\n",
      "--- Processing Location: lat16.25_lon101.25 ---\n",
      "  Warning: Could not infer frequency for lat16.25_lon101.25.\n",
      "  Stationarity (p-value): 0.0137 -> Stationary\n",
      "  Running auto_arima with seasonal period m=12...\n",
      "  Best model found for lat16.25_lon101.25: (0, 0, 3) (1, 1, 1, 12)\n"
     ]
    },
    {
     "name": "stderr",
     "output_type": "stream",
     "text": [
      "c:\\Users\\peera\\.conda\\envs\\drought_lstm_base\\Lib\\site-packages\\statsmodels\\tsa\\base\\tsa_model.py:837: FutureWarning: No supported index is available. In the next version, calling this method in a model without a supported index will result in an exception.\n",
      "  return get_prediction_index(\n"
     ]
    },
    {
     "name": "stdout",
     "output_type": "stream",
     "text": [
      "  lat16.25_lon101.25 - Train Set:      RMSE=126.2990, MAE=4.4330, R2=0.6884\n",
      "  lat16.25_lon101.25 - Validation Set: RMSE=47.8861, MAE=4.8982, R2=0.8895\n",
      "  lat16.25_lon101.25 - Test Set:       RMSE=50.4875, MAE=5.5715, R2=0.8341\n",
      "\n",
      "--- Processing Location: lat16.25_lon101.75 ---\n",
      "  Warning: Could not infer frequency for lat16.25_lon101.75.\n",
      "  Stationarity (p-value): 0.0126 -> Stationary\n",
      "  Running auto_arima with seasonal period m=12...\n",
      "  Best model found for lat16.25_lon101.75: (2, 0, 1) (2, 1, 1, 12)\n"
     ]
    },
    {
     "name": "stderr",
     "output_type": "stream",
     "text": [
      "c:\\Users\\peera\\.conda\\envs\\drought_lstm_base\\Lib\\site-packages\\statsmodels\\tsa\\base\\tsa_model.py:837: FutureWarning: No supported index is available. In the next version, calling this method in a model without a supported index will result in an exception.\n",
      "  return get_prediction_index(\n"
     ]
    },
    {
     "name": "stdout",
     "output_type": "stream",
     "text": [
      "  lat16.25_lon101.75 - Train Set:      RMSE=123.4357, MAE=4.3201, R2=0.6392\n",
      "  lat16.25_lon101.75 - Validation Set: RMSE=47.1012, MAE=4.6796, R2=0.8682\n",
      "  lat16.25_lon101.75 - Test Set:       RMSE=41.0494, MAE=4.9327, R2=0.8339\n",
      "\n",
      "--- Processing Location: lat16.25_lon102.25 ---\n",
      "  Warning: Could not infer frequency for lat16.25_lon102.25.\n",
      "  Stationarity (p-value): 0.0114 -> Stationary\n",
      "  Running auto_arima with seasonal period m=12...\n",
      "  Best model found for lat16.25_lon102.25: (1, 0, 3) (2, 1, 1, 12)\n"
     ]
    },
    {
     "name": "stderr",
     "output_type": "stream",
     "text": [
      "c:\\Users\\peera\\.conda\\envs\\drought_lstm_base\\Lib\\site-packages\\statsmodels\\tsa\\base\\tsa_model.py:837: FutureWarning: No supported index is available. In the next version, calling this method in a model without a supported index will result in an exception.\n",
      "  return get_prediction_index(\n"
     ]
    },
    {
     "name": "stdout",
     "output_type": "stream",
     "text": [
      "  lat16.25_lon102.25 - Train Set:      RMSE=125.3192, MAE=4.2946, R2=0.5963\n",
      "  lat16.25_lon102.25 - Validation Set: RMSE=47.9131, MAE=4.9528, R2=0.8593\n",
      "  lat16.25_lon102.25 - Test Set:       RMSE=41.7526, MAE=4.8009, R2=0.8343\n",
      "\n",
      "--- Processing Location: lat16.25_lon102.75 ---\n",
      "  Warning: Could not infer frequency for lat16.25_lon102.75.\n",
      "  Stationarity (p-value): 0.0133 -> Stationary\n",
      "  Running auto_arima with seasonal period m=12...\n",
      "  Best model found for lat16.25_lon102.75: (0, 0, 1) (2, 1, 1, 12)\n"
     ]
    },
    {
     "name": "stderr",
     "output_type": "stream",
     "text": [
      "c:\\Users\\peera\\.conda\\envs\\drought_lstm_base\\Lib\\site-packages\\statsmodels\\tsa\\base\\tsa_model.py:837: FutureWarning: No supported index is available. In the next version, calling this method in a model without a supported index will result in an exception.\n",
      "  return get_prediction_index(\n"
     ]
    },
    {
     "name": "stdout",
     "output_type": "stream",
     "text": [
      "  lat16.25_lon102.75 - Train Set:      RMSE=123.5425, MAE=4.3827, R2=0.5721\n",
      "  lat16.25_lon102.75 - Validation Set: RMSE=54.6260, MAE=5.4808, R2=0.8226\n",
      "  lat16.25_lon102.75 - Test Set:       RMSE=42.0110, MAE=4.9502, R2=0.8189\n",
      "\n",
      "--- Processing Location: lat16.25_lon103.25 ---\n",
      "  Warning: Could not infer frequency for lat16.25_lon103.25.\n",
      "  Stationarity (p-value): 0.0075 -> Stationary\n",
      "  Running auto_arima with seasonal period m=12...\n",
      "  Best model found for lat16.25_lon103.25: (0, 0, 2) (2, 1, 1, 12)\n"
     ]
    },
    {
     "name": "stderr",
     "output_type": "stream",
     "text": [
      "c:\\Users\\peera\\.conda\\envs\\drought_lstm_base\\Lib\\site-packages\\statsmodels\\tsa\\base\\tsa_model.py:837: FutureWarning: No supported index is available. In the next version, calling this method in a model without a supported index will result in an exception.\n",
      "  return get_prediction_index(\n"
     ]
    },
    {
     "name": "stdout",
     "output_type": "stream",
     "text": [
      "  lat16.25_lon103.25 - Train Set:      RMSE=121.0890, MAE=4.2828, R2=0.5663\n",
      "  lat16.25_lon103.25 - Validation Set: RMSE=44.3598, MAE=4.5802, R2=0.8534\n",
      "  lat16.25_lon103.25 - Test Set:       RMSE=36.6527, MAE=4.5110, R2=0.8218\n",
      "\n",
      "--- Processing Location: lat16.25_lon103.75 ---\n",
      "  Warning: Could not infer frequency for lat16.25_lon103.75.\n",
      "  Stationarity (p-value): 0.0059 -> Stationary\n",
      "  Running auto_arima with seasonal period m=12...\n",
      "  Best model found for lat16.25_lon103.75: (0, 0, 3) (0, 1, 1, 12)\n"
     ]
    },
    {
     "name": "stderr",
     "output_type": "stream",
     "text": [
      "c:\\Users\\peera\\.conda\\envs\\drought_lstm_base\\Lib\\site-packages\\statsmodels\\tsa\\base\\tsa_model.py:837: FutureWarning: No supported index is available. In the next version, calling this method in a model without a supported index will result in an exception.\n",
      "  return get_prediction_index(\n"
     ]
    },
    {
     "name": "stdout",
     "output_type": "stream",
     "text": [
      "  lat16.25_lon103.75 - Train Set:      RMSE=121.9070, MAE=4.3073, R2=0.5470\n",
      "  lat16.25_lon103.75 - Validation Set: RMSE=46.3143, MAE=4.7524, R2=0.8370\n",
      "  lat16.25_lon103.75 - Test Set:       RMSE=38.0329, MAE=4.5409, R2=0.8121\n",
      "\n",
      "--- Processing Location: lat16.25_lon104.25 ---\n",
      "  Warning: Could not infer frequency for lat16.25_lon104.25.\n",
      "  Stationarity (p-value): 0.0020 -> Stationary\n",
      "  Running auto_arima with seasonal period m=12...\n",
      "  Best model found for lat16.25_lon104.25: (1, 0, 2) (0, 1, 2, 12)\n"
     ]
    },
    {
     "name": "stderr",
     "output_type": "stream",
     "text": [
      "c:\\Users\\peera\\.conda\\envs\\drought_lstm_base\\Lib\\site-packages\\statsmodels\\tsa\\base\\tsa_model.py:837: FutureWarning: No supported index is available. In the next version, calling this method in a model without a supported index will result in an exception.\n",
      "  return get_prediction_index(\n"
     ]
    },
    {
     "name": "stdout",
     "output_type": "stream",
     "text": [
      "  lat16.25_lon104.25 - Train Set:      RMSE=124.3218, MAE=4.2853, R2=0.5652\n",
      "  lat16.25_lon104.25 - Validation Set: RMSE=35.8069, MAE=3.5081, R2=0.8685\n",
      "  lat16.25_lon104.25 - Test Set:       RMSE=32.7182, MAE=4.2076, R2=0.8424\n",
      "\n",
      "--- Processing Location: lat16.25_lon104.75 ---\n",
      "  Warning: Could not infer frequency for lat16.25_lon104.75.\n",
      "  Stationarity (p-value): 0.0006 -> Stationary\n",
      "  Running auto_arima with seasonal period m=12...\n",
      "  Best model found for lat16.25_lon104.75: (0, 0, 3) (0, 1, 1, 12)\n"
     ]
    },
    {
     "name": "stderr",
     "output_type": "stream",
     "text": [
      "c:\\Users\\peera\\.conda\\envs\\drought_lstm_base\\Lib\\site-packages\\statsmodels\\tsa\\base\\tsa_model.py:837: FutureWarning: No supported index is available. In the next version, calling this method in a model without a supported index will result in an exception.\n",
      "  return get_prediction_index(\n"
     ]
    },
    {
     "name": "stdout",
     "output_type": "stream",
     "text": [
      "  lat16.25_lon104.75 - Train Set:      RMSE=129.6599, MAE=4.4360, R2=0.5715\n",
      "  lat16.25_lon104.75 - Validation Set: RMSE=41.8070, MAE=4.3710, R2=0.8629\n",
      "  lat16.25_lon104.75 - Test Set:       RMSE=35.6768, MAE=4.4263, R2=0.8506\n",
      "\n",
      "--- Processing Location: lat16.75_lon98.75 ---\n",
      "  Warning: Could not infer frequency for lat16.75_lon98.75.\n",
      "  Stationarity (p-value): 0.0047 -> Stationary\n",
      "  Running auto_arima with seasonal period m=12...\n",
      "  Best model found for lat16.75_lon98.75: (1, 0, 1) (0, 1, 1, 12)\n"
     ]
    },
    {
     "name": "stderr",
     "output_type": "stream",
     "text": [
      "c:\\Users\\peera\\.conda\\envs\\drought_lstm_base\\Lib\\site-packages\\statsmodels\\tsa\\base\\tsa_model.py:837: FutureWarning: No supported index is available. In the next version, calling this method in a model without a supported index will result in an exception.\n",
      "  return get_prediction_index(\n"
     ]
    },
    {
     "name": "stdout",
     "output_type": "stream",
     "text": [
      "  lat16.75_lon98.75 - Train Set:      RMSE=123.1129, MAE=4.3115, R2=0.8240\n",
      "  lat16.75_lon98.75 - Validation Set: RMSE=42.1839, MAE=5.0136, R2=0.9464\n",
      "  lat16.75_lon98.75 - Test Set:       RMSE=48.8914, MAE=4.9202, R2=0.9114\n",
      "\n",
      "--- Processing Location: lat16.75_lon99.25 ---\n",
      "  Warning: Could not infer frequency for lat16.75_lon99.25.\n",
      "  Stationarity (p-value): 0.0038 -> Stationary\n",
      "  Running auto_arima with seasonal period m=12...\n",
      "  Best model found for lat16.75_lon99.25: (0, 0, 1) (1, 1, 1, 12)\n"
     ]
    },
    {
     "name": "stderr",
     "output_type": "stream",
     "text": [
      "c:\\Users\\peera\\.conda\\envs\\drought_lstm_base\\Lib\\site-packages\\statsmodels\\tsa\\base\\tsa_model.py:837: FutureWarning: No supported index is available. In the next version, calling this method in a model without a supported index will result in an exception.\n",
      "  return get_prediction_index(\n"
     ]
    },
    {
     "name": "stdout",
     "output_type": "stream",
     "text": [
      "  lat16.75_lon99.25 - Train Set:      RMSE=136.6965, MAE=4.6688, R2=0.8188\n",
      "  lat16.75_lon99.25 - Validation Set: RMSE=51.1863, MAE=5.7245, R2=0.9368\n",
      "  lat16.75_lon99.25 - Test Set:       RMSE=48.4245, MAE=5.0585, R2=0.9190\n",
      "\n",
      "--- Processing Location: lat16.75_lon99.75 ---\n",
      "  Warning: Could not infer frequency for lat16.75_lon99.75.\n",
      "  Stationarity (p-value): 0.0050 -> Stationary\n",
      "  Running auto_arima with seasonal period m=12...\n",
      "  Best model found for lat16.75_lon99.75: (0, 0, 2) (1, 1, 1, 12)\n"
     ]
    },
    {
     "name": "stderr",
     "output_type": "stream",
     "text": [
      "c:\\Users\\peera\\.conda\\envs\\drought_lstm_base\\Lib\\site-packages\\statsmodels\\tsa\\base\\tsa_model.py:837: FutureWarning: No supported index is available. In the next version, calling this method in a model without a supported index will result in an exception.\n",
      "  return get_prediction_index(\n"
     ]
    },
    {
     "name": "stdout",
     "output_type": "stream",
     "text": [
      "  lat16.75_lon99.75 - Train Set:      RMSE=132.8533, MAE=4.6771, R2=0.7688\n",
      "  lat16.75_lon99.75 - Validation Set: RMSE=45.1410, MAE=5.3096, R2=0.9270\n",
      "  lat16.75_lon99.75 - Test Set:       RMSE=51.6066, MAE=5.5162, R2=0.8829\n",
      "\n",
      "--- Processing Location: lat16.75_lon100.25 ---\n",
      "  Warning: Could not infer frequency for lat16.75_lon100.25.\n",
      "  Stationarity (p-value): 0.0239 -> Stationary\n",
      "  Running auto_arima with seasonal period m=12...\n",
      "  Best model found for lat16.75_lon100.25: (2, 0, 1) (2, 1, 1, 12)\n"
     ]
    },
    {
     "name": "stderr",
     "output_type": "stream",
     "text": [
      "c:\\Users\\peera\\.conda\\envs\\drought_lstm_base\\Lib\\site-packages\\statsmodels\\tsa\\base\\tsa_model.py:837: FutureWarning: No supported index is available. In the next version, calling this method in a model without a supported index will result in an exception.\n",
      "  return get_prediction_index(\n"
     ]
    },
    {
     "name": "stdout",
     "output_type": "stream",
     "text": [
      "  lat16.75_lon100.25 - Train Set:      RMSE=135.0115, MAE=4.8857, R2=0.7280\n",
      "  lat16.75_lon100.25 - Validation Set: RMSE=69.2469, MAE=5.9746, R2=0.8783\n",
      "  lat16.75_lon100.25 - Test Set:       RMSE=65.8227, MAE=5.8611, R2=0.8211\n",
      "\n",
      "--- Processing Location: lat16.75_lon100.75 ---\n",
      "  Warning: Could not infer frequency for lat16.75_lon100.75.\n",
      "  Stationarity (p-value): 0.0063 -> Stationary\n",
      "  Running auto_arima with seasonal period m=12...\n",
      "  Best model found for lat16.75_lon100.75: (2, 0, 1) (2, 1, 1, 12)\n"
     ]
    },
    {
     "name": "stderr",
     "output_type": "stream",
     "text": [
      "c:\\Users\\peera\\.conda\\envs\\drought_lstm_base\\Lib\\site-packages\\statsmodels\\tsa\\base\\tsa_model.py:837: FutureWarning: No supported index is available. In the next version, calling this method in a model without a supported index will result in an exception.\n",
      "  return get_prediction_index(\n"
     ]
    },
    {
     "name": "stdout",
     "output_type": "stream",
     "text": [
      "  lat16.75_lon100.75 - Train Set:      RMSE=118.5005, MAE=4.3382, R2=0.7133\n",
      "  lat16.75_lon100.75 - Validation Set: RMSE=47.6340, MAE=4.9943, R2=0.8945\n",
      "  lat16.75_lon100.75 - Test Set:       RMSE=40.3712, MAE=4.7979, R2=0.8668\n",
      "\n",
      "--- Processing Location: lat16.75_lon101.25 ---\n",
      "  Warning: Could not infer frequency for lat16.75_lon101.25.\n",
      "  Stationarity (p-value): 0.0083 -> Stationary\n",
      "  Running auto_arima with seasonal period m=12...\n",
      "  Best model found for lat16.75_lon101.25: (0, 0, 3) (1, 1, 1, 12)\n"
     ]
    },
    {
     "name": "stderr",
     "output_type": "stream",
     "text": [
      "c:\\Users\\peera\\.conda\\envs\\drought_lstm_base\\Lib\\site-packages\\statsmodels\\tsa\\base\\tsa_model.py:837: FutureWarning: No supported index is available. In the next version, calling this method in a model without a supported index will result in an exception.\n",
      "  return get_prediction_index(\n"
     ]
    },
    {
     "name": "stdout",
     "output_type": "stream",
     "text": [
      "  lat16.75_lon101.25 - Train Set:      RMSE=117.9449, MAE=4.4318, R2=0.6553\n",
      "  lat16.75_lon101.25 - Validation Set: RMSE=45.3310, MAE=5.1270, R2=0.8802\n",
      "  lat16.75_lon101.25 - Test Set:       RMSE=43.1419, MAE=5.0030, R2=0.8358\n",
      "\n",
      "--- Processing Location: lat16.75_lon101.75 ---\n",
      "  Warning: Could not infer frequency for lat16.75_lon101.75.\n",
      "  Stationarity (p-value): 0.0090 -> Stationary\n",
      "  Running auto_arima with seasonal period m=12...\n",
      "  Best model found for lat16.75_lon101.75: (2, 0, 1) (2, 1, 1, 12)\n"
     ]
    },
    {
     "name": "stderr",
     "output_type": "stream",
     "text": [
      "c:\\Users\\peera\\.conda\\envs\\drought_lstm_base\\Lib\\site-packages\\statsmodels\\tsa\\base\\tsa_model.py:837: FutureWarning: No supported index is available. In the next version, calling this method in a model without a supported index will result in an exception.\n",
      "  return get_prediction_index(\n"
     ]
    },
    {
     "name": "stdout",
     "output_type": "stream",
     "text": [
      "  lat16.75_lon101.75 - Train Set:      RMSE=115.5254, MAE=4.2409, R2=0.6617\n",
      "  lat16.75_lon101.75 - Validation Set: RMSE=48.0580, MAE=4.8619, R2=0.8712\n",
      "  lat16.75_lon101.75 - Test Set:       RMSE=42.8910, MAE=4.8191, R2=0.8393\n",
      "\n",
      "--- Processing Location: lat16.75_lon102.25 ---\n",
      "  Warning: Could not infer frequency for lat16.75_lon102.25.\n",
      "  Stationarity (p-value): 0.0073 -> Stationary\n",
      "  Running auto_arima with seasonal period m=12...\n",
      "  Best model found for lat16.75_lon102.25: (2, 0, 1) (2, 1, 1, 12)\n"
     ]
    },
    {
     "name": "stderr",
     "output_type": "stream",
     "text": [
      "c:\\Users\\peera\\.conda\\envs\\drought_lstm_base\\Lib\\site-packages\\statsmodels\\tsa\\base\\tsa_model.py:837: FutureWarning: No supported index is available. In the next version, calling this method in a model without a supported index will result in an exception.\n",
      "  return get_prediction_index(\n"
     ]
    },
    {
     "name": "stdout",
     "output_type": "stream",
     "text": [
      "  lat16.75_lon102.25 - Train Set:      RMSE=123.8722, MAE=4.3723, R2=0.6131\n",
      "  lat16.75_lon102.25 - Validation Set: RMSE=43.9199, MAE=4.6822, R2=0.8687\n",
      "  lat16.75_lon102.25 - Test Set:       RMSE=43.6506, MAE=4.9277, R2=0.8250\n",
      "\n",
      "--- Processing Location: lat16.75_lon102.75 ---\n",
      "  Warning: Could not infer frequency for lat16.75_lon102.75.\n",
      "  Stationarity (p-value): 0.0061 -> Stationary\n",
      "  Running auto_arima with seasonal period m=12...\n",
      "  Best model found for lat16.75_lon102.75: (0, 0, 1) (2, 1, 1, 12)\n"
     ]
    },
    {
     "name": "stderr",
     "output_type": "stream",
     "text": [
      "c:\\Users\\peera\\.conda\\envs\\drought_lstm_base\\Lib\\site-packages\\statsmodels\\tsa\\base\\tsa_model.py:837: FutureWarning: No supported index is available. In the next version, calling this method in a model without a supported index will result in an exception.\n",
      "  return get_prediction_index(\n"
     ]
    },
    {
     "name": "stdout",
     "output_type": "stream",
     "text": [
      "  lat16.75_lon102.75 - Train Set:      RMSE=124.2878, MAE=4.4880, R2=0.5957\n",
      "  lat16.75_lon102.75 - Validation Set: RMSE=50.3486, MAE=5.1087, R2=0.8470\n",
      "  lat16.75_lon102.75 - Test Set:       RMSE=45.6814, MAE=4.9770, R2=0.8042\n",
      "\n",
      "--- Processing Location: lat16.75_lon103.25 ---\n",
      "  Warning: Could not infer frequency for lat16.75_lon103.25.\n",
      "  Stationarity (p-value): 0.0050 -> Stationary\n",
      "  Running auto_arima with seasonal period m=12...\n",
      "  Best model found for lat16.75_lon103.25: (1, 0, 3) (2, 1, 1, 12)\n"
     ]
    },
    {
     "name": "stderr",
     "output_type": "stream",
     "text": [
      "c:\\Users\\peera\\.conda\\envs\\drought_lstm_base\\Lib\\site-packages\\statsmodels\\tsa\\base\\tsa_model.py:837: FutureWarning: No supported index is available. In the next version, calling this method in a model without a supported index will result in an exception.\n",
      "  return get_prediction_index(\n"
     ]
    },
    {
     "name": "stdout",
     "output_type": "stream",
     "text": [
      "  lat16.75_lon103.25 - Train Set:      RMSE=119.4037, MAE=4.2623, R2=0.5905\n",
      "  lat16.75_lon103.25 - Validation Set: RMSE=41.0393, MAE=4.2856, R2=0.8619\n",
      "  lat16.75_lon103.25 - Test Set:       RMSE=36.8470, MAE=4.6054, R2=0.8334\n",
      "\n",
      "--- Processing Location: lat16.75_lon103.75 ---\n",
      "  Warning: Could not infer frequency for lat16.75_lon103.75.\n",
      "  Stationarity (p-value): 0.0018 -> Stationary\n",
      "  Running auto_arima with seasonal period m=12...\n",
      "  Best model found for lat16.75_lon103.75: (0, 0, 2) (2, 1, 1, 12)\n"
     ]
    },
    {
     "name": "stderr",
     "output_type": "stream",
     "text": [
      "c:\\Users\\peera\\.conda\\envs\\drought_lstm_base\\Lib\\site-packages\\statsmodels\\tsa\\base\\tsa_model.py:837: FutureWarning: No supported index is available. In the next version, calling this method in a model without a supported index will result in an exception.\n",
      "  return get_prediction_index(\n"
     ]
    },
    {
     "name": "stdout",
     "output_type": "stream",
     "text": [
      "  lat16.75_lon103.75 - Train Set:      RMSE=121.2952, MAE=4.2859, R2=0.5721\n",
      "  lat16.75_lon103.75 - Validation Set: RMSE=40.9140, MAE=4.6504, R2=0.8599\n",
      "  lat16.75_lon103.75 - Test Set:       RMSE=39.1398, MAE=4.6932, R2=0.8184\n",
      "\n",
      "--- Processing Location: lat16.75_lon104.25 ---\n",
      "  Warning: Could not infer frequency for lat16.75_lon104.25.\n",
      "  Stationarity (p-value): 0.0005 -> Stationary\n",
      "  Running auto_arima with seasonal period m=12...\n",
      "  Best model found for lat16.75_lon104.25: (0, 0, 1) (1, 1, 1, 12)\n"
     ]
    },
    {
     "name": "stderr",
     "output_type": "stream",
     "text": [
      "c:\\Users\\peera\\.conda\\envs\\drought_lstm_base\\Lib\\site-packages\\statsmodels\\tsa\\base\\tsa_model.py:837: FutureWarning: No supported index is available. In the next version, calling this method in a model without a supported index will result in an exception.\n",
      "  return get_prediction_index(\n"
     ]
    },
    {
     "name": "stdout",
     "output_type": "stream",
     "text": [
      "  lat16.75_lon104.25 - Train Set:      RMSE=123.3204, MAE=4.3634, R2=0.5790\n",
      "  lat16.75_lon104.25 - Validation Set: RMSE=42.4845, MAE=4.5814, R2=0.8509\n",
      "  lat16.75_lon104.25 - Test Set:       RMSE=31.3025, MAE=4.0800, R2=0.8610\n",
      "\n",
      "--- Processing Location: lat17.25_lon98.25 ---\n",
      "  Warning: Could not infer frequency for lat17.25_lon98.25.\n",
      "  Stationarity (p-value): 0.0009 -> Stationary\n",
      "  Running auto_arima with seasonal period m=12...\n",
      "  Best model found for lat17.25_lon98.25: (2, 0, 1) (0, 1, 2, 12)\n"
     ]
    },
    {
     "name": "stderr",
     "output_type": "stream",
     "text": [
      "c:\\Users\\peera\\.conda\\envs\\drought_lstm_base\\Lib\\site-packages\\statsmodels\\tsa\\base\\tsa_model.py:837: FutureWarning: No supported index is available. In the next version, calling this method in a model without a supported index will result in an exception.\n",
      "  return get_prediction_index(\n"
     ]
    },
    {
     "name": "stdout",
     "output_type": "stream",
     "text": [
      "  lat17.25_lon98.25 - Train Set:      RMSE=116.1709, MAE=4.1132, R2=0.8258\n",
      "  lat17.25_lon98.25 - Validation Set: RMSE=36.9319, MAE=4.6805, R2=0.9520\n",
      "  lat17.25_lon98.25 - Test Set:       RMSE=42.2017, MAE=4.5475, R2=0.9198\n",
      "\n",
      "--- Processing Location: lat17.25_lon98.75 ---\n",
      "  Warning: Could not infer frequency for lat17.25_lon98.75.\n",
      "  Stationarity (p-value): 0.0007 -> Stationary\n",
      "  Running auto_arima with seasonal period m=12...\n",
      "  Best model found for lat17.25_lon98.75: (0, 0, 2) (1, 1, 2, 12)\n"
     ]
    },
    {
     "name": "stderr",
     "output_type": "stream",
     "text": [
      "c:\\Users\\peera\\.conda\\envs\\drought_lstm_base\\Lib\\site-packages\\statsmodels\\tsa\\base\\tsa_model.py:837: FutureWarning: No supported index is available. In the next version, calling this method in a model without a supported index will result in an exception.\n",
      "  return get_prediction_index(\n"
     ]
    },
    {
     "name": "stdout",
     "output_type": "stream",
     "text": [
      "  lat17.25_lon98.75 - Train Set:      RMSE=123.5054, MAE=4.3958, R2=0.8224\n",
      "  lat17.25_lon98.75 - Validation Set: RMSE=37.2320, MAE=4.9356, R2=0.9501\n",
      "  lat17.25_lon98.75 - Test Set:       RMSE=43.0861, MAE=4.8729, R2=0.9216\n",
      "\n",
      "--- Processing Location: lat17.25_lon99.25 ---\n",
      "  Warning: Could not infer frequency for lat17.25_lon99.25.\n",
      "  Stationarity (p-value): 0.0021 -> Stationary\n",
      "  Running auto_arima with seasonal period m=12...\n",
      "  Best model found for lat17.25_lon99.25: (0, 0, 3) (1, 1, 2, 12)\n"
     ]
    },
    {
     "name": "stderr",
     "output_type": "stream",
     "text": [
      "c:\\Users\\peera\\.conda\\envs\\drought_lstm_base\\Lib\\site-packages\\statsmodels\\tsa\\base\\tsa_model.py:837: FutureWarning: No supported index is available. In the next version, calling this method in a model without a supported index will result in an exception.\n",
      "  return get_prediction_index(\n"
     ]
    },
    {
     "name": "stdout",
     "output_type": "stream",
     "text": [
      "  lat17.25_lon99.25 - Train Set:      RMSE=133.3729, MAE=4.4671, R2=0.8150\n",
      "  lat17.25_lon99.25 - Validation Set: RMSE=41.7263, MAE=5.3203, R2=0.9451\n",
      "  lat17.25_lon99.25 - Test Set:       RMSE=44.9348, MAE=4.9932, R2=0.9231\n",
      "\n",
      "--- Processing Location: lat17.25_lon99.75 ---\n",
      "  Warning: Could not infer frequency for lat17.25_lon99.75.\n",
      "  Stationarity (p-value): 0.0036 -> Stationary\n",
      "  Running auto_arima with seasonal period m=12...\n",
      "  Best model found for lat17.25_lon99.75: (0, 0, 1) (1, 1, 1, 12)\n"
     ]
    },
    {
     "name": "stderr",
     "output_type": "stream",
     "text": [
      "c:\\Users\\peera\\.conda\\envs\\drought_lstm_base\\Lib\\site-packages\\statsmodels\\tsa\\base\\tsa_model.py:837: FutureWarning: No supported index is available. In the next version, calling this method in a model without a supported index will result in an exception.\n",
      "  return get_prediction_index(\n"
     ]
    },
    {
     "name": "stdout",
     "output_type": "stream",
     "text": [
      "  lat17.25_lon99.75 - Train Set:      RMSE=129.5816, MAE=4.6632, R2=0.7687\n",
      "  lat17.25_lon99.75 - Validation Set: RMSE=46.8880, MAE=5.5408, R2=0.9228\n",
      "  lat17.25_lon99.75 - Test Set:       RMSE=50.0942, MAE=5.0674, R2=0.8821\n",
      "\n",
      "--- Processing Location: lat17.25_lon100.25 ---\n",
      "  Warning: Could not infer frequency for lat17.25_lon100.25.\n",
      "  Stationarity (p-value): 0.0026 -> Stationary\n",
      "  Running auto_arima with seasonal period m=12...\n",
      "  Best model found for lat17.25_lon100.25: (0, 0, 1) (0, 1, 2, 12)\n"
     ]
    },
    {
     "name": "stderr",
     "output_type": "stream",
     "text": [
      "c:\\Users\\peera\\.conda\\envs\\drought_lstm_base\\Lib\\site-packages\\statsmodels\\tsa\\base\\tsa_model.py:837: FutureWarning: No supported index is available. In the next version, calling this method in a model without a supported index will result in an exception.\n",
      "  return get_prediction_index(\n"
     ]
    },
    {
     "name": "stdout",
     "output_type": "stream",
     "text": [
      "  lat17.25_lon100.25 - Train Set:      RMSE=124.6810, MAE=4.5694, R2=0.7168\n",
      "  lat17.25_lon100.25 - Validation Set: RMSE=50.2464, MAE=5.8408, R2=0.8951\n",
      "  lat17.25_lon100.25 - Test Set:       RMSE=44.4599, MAE=4.9797, R2=0.8699\n",
      "\n",
      "--- Processing Location: lat17.25_lon100.75 ---\n",
      "  Warning: Could not infer frequency for lat17.25_lon100.75.\n",
      "  Stationarity (p-value): 0.0059 -> Stationary\n",
      "  Running auto_arima with seasonal period m=12...\n",
      "  Best model found for lat17.25_lon100.75: (0, 0, 1) (1, 1, 1, 12)\n"
     ]
    },
    {
     "name": "stderr",
     "output_type": "stream",
     "text": [
      "c:\\Users\\peera\\.conda\\envs\\drought_lstm_base\\Lib\\site-packages\\statsmodels\\tsa\\base\\tsa_model.py:837: FutureWarning: No supported index is available. In the next version, calling this method in a model without a supported index will result in an exception.\n",
      "  return get_prediction_index(\n"
     ]
    },
    {
     "name": "stdout",
     "output_type": "stream",
     "text": [
      "  lat17.25_lon100.75 - Train Set:      RMSE=116.7988, MAE=4.4852, R2=0.7015\n",
      "  lat17.25_lon100.75 - Validation Set: RMSE=51.0064, MAE=5.6691, R2=0.8807\n",
      "  lat17.25_lon100.75 - Test Set:       RMSE=46.6991, MAE=5.1317, R2=0.8355\n",
      "\n",
      "--- Processing Location: lat17.25_lon101.25 ---\n",
      "  Warning: Could not infer frequency for lat17.25_lon101.25.\n",
      "  Stationarity (p-value): 0.0055 -> Stationary\n",
      "  Running auto_arima with seasonal period m=12...\n",
      "  Best model found for lat17.25_lon101.25: (0, 0, 1) (1, 1, 1, 12)\n"
     ]
    },
    {
     "name": "stderr",
     "output_type": "stream",
     "text": [
      "c:\\Users\\peera\\.conda\\envs\\drought_lstm_base\\Lib\\site-packages\\statsmodels\\tsa\\base\\tsa_model.py:837: FutureWarning: No supported index is available. In the next version, calling this method in a model without a supported index will result in an exception.\n",
      "  return get_prediction_index(\n"
     ]
    },
    {
     "name": "stdout",
     "output_type": "stream",
     "text": [
      "  lat17.25_lon101.25 - Train Set:      RMSE=116.4410, MAE=4.4391, R2=0.6680\n",
      "  lat17.25_lon101.25 - Validation Set: RMSE=51.2746, MAE=5.6717, R2=0.8690\n",
      "  lat17.25_lon101.25 - Test Set:       RMSE=45.7947, MAE=5.1677, R2=0.8223\n",
      "\n",
      "--- Processing Location: lat17.25_lon101.75 ---\n",
      "  Warning: Could not infer frequency for lat17.25_lon101.75.\n",
      "  Stationarity (p-value): 0.0063 -> Stationary\n",
      "  Running auto_arima with seasonal period m=12...\n",
      "  Best model found for lat17.25_lon101.75: (2, 0, 1) (2, 1, 1, 12)\n"
     ]
    },
    {
     "name": "stderr",
     "output_type": "stream",
     "text": [
      "c:\\Users\\peera\\.conda\\envs\\drought_lstm_base\\Lib\\site-packages\\statsmodels\\tsa\\base\\tsa_model.py:837: FutureWarning: No supported index is available. In the next version, calling this method in a model without a supported index will result in an exception.\n",
      "  return get_prediction_index(\n"
     ]
    },
    {
     "name": "stdout",
     "output_type": "stream",
     "text": [
      "  lat17.25_lon101.75 - Train Set:      RMSE=118.5302, MAE=4.4025, R2=0.6479\n",
      "  lat17.25_lon101.75 - Validation Set: RMSE=45.4239, MAE=4.9352, R2=0.8736\n",
      "  lat17.25_lon101.75 - Test Set:       RMSE=46.0379, MAE=5.1306, R2=0.8192\n",
      "\n",
      "--- Processing Location: lat17.25_lon102.25 ---\n",
      "  Warning: Could not infer frequency for lat17.25_lon102.25.\n",
      "  Stationarity (p-value): 0.0041 -> Stationary\n",
      "  Running auto_arima with seasonal period m=12...\n",
      "  Best model found for lat17.25_lon102.25: (0, 0, 1) (2, 1, 2, 12)\n"
     ]
    },
    {
     "name": "stderr",
     "output_type": "stream",
     "text": [
      "c:\\Users\\peera\\.conda\\envs\\drought_lstm_base\\Lib\\site-packages\\statsmodels\\tsa\\base\\tsa_model.py:837: FutureWarning: No supported index is available. In the next version, calling this method in a model without a supported index will result in an exception.\n",
      "  return get_prediction_index(\n"
     ]
    },
    {
     "name": "stdout",
     "output_type": "stream",
     "text": [
      "  lat17.25_lon102.25 - Train Set:      RMSE=122.5379, MAE=4.5510, R2=0.6159\n",
      "  lat17.25_lon102.25 - Validation Set: RMSE=56.9867, MAE=5.9838, R2=0.8448\n",
      "  lat17.25_lon102.25 - Test Set:       RMSE=47.0963, MAE=5.0584, R2=0.8094\n",
      "\n",
      "--- Processing Location: lat17.25_lon102.75 ---\n",
      "  Warning: Could not infer frequency for lat17.25_lon102.75.\n",
      "  Stationarity (p-value): 0.0026 -> Stationary\n",
      "  Running auto_arima with seasonal period m=12...\n",
      "  Best model found for lat17.25_lon102.75: (1, 0, 1) (0, 1, 1, 12)\n"
     ]
    },
    {
     "name": "stderr",
     "output_type": "stream",
     "text": [
      "c:\\Users\\peera\\.conda\\envs\\drought_lstm_base\\Lib\\site-packages\\statsmodels\\tsa\\base\\tsa_model.py:837: FutureWarning: No supported index is available. In the next version, calling this method in a model without a supported index will result in an exception.\n",
      "  return get_prediction_index(\n"
     ]
    },
    {
     "name": "stdout",
     "output_type": "stream",
     "text": [
      "  lat17.25_lon102.75 - Train Set:      RMSE=120.7052, MAE=4.4099, R2=0.6012\n",
      "  lat17.25_lon102.75 - Validation Set: RMSE=49.0959, MAE=5.1020, R2=0.8429\n",
      "  lat17.25_lon102.75 - Test Set:       RMSE=41.4892, MAE=4.8882, R2=0.8183\n",
      "\n",
      "--- Processing Location: lat17.25_lon103.25 ---\n",
      "  Warning: Could not infer frequency for lat17.25_lon103.25.\n",
      "  Stationarity (p-value): 0.0033 -> Stationary\n",
      "  Running auto_arima with seasonal period m=12...\n",
      "  Best model found for lat17.25_lon103.25: (1, 0, 1) (0, 1, 1, 12)\n"
     ]
    },
    {
     "name": "stderr",
     "output_type": "stream",
     "text": [
      "c:\\Users\\peera\\.conda\\envs\\drought_lstm_base\\Lib\\site-packages\\statsmodels\\tsa\\base\\tsa_model.py:837: FutureWarning: No supported index is available. In the next version, calling this method in a model without a supported index will result in an exception.\n",
      "  return get_prediction_index(\n"
     ]
    },
    {
     "name": "stdout",
     "output_type": "stream",
     "text": [
      "  lat17.25_lon103.25 - Train Set:      RMSE=120.2909, MAE=4.3314, R2=0.5873\n",
      "  lat17.25_lon103.25 - Validation Set: RMSE=41.5103, MAE=4.8214, R2=0.8621\n",
      "  lat17.25_lon103.25 - Test Set:       RMSE=41.1441, MAE=4.7319, R2=0.8088\n",
      "\n",
      "--- Processing Location: lat17.25_lon103.75 ---\n",
      "  Warning: Could not infer frequency for lat17.25_lon103.75.\n",
      "  Stationarity (p-value): 0.0015 -> Stationary\n",
      "  Running auto_arima with seasonal period m=12...\n",
      "  Best model found for lat17.25_lon103.75: (0, 0, 1) (1, 1, 1, 12)\n"
     ]
    },
    {
     "name": "stderr",
     "output_type": "stream",
     "text": [
      "c:\\Users\\peera\\.conda\\envs\\drought_lstm_base\\Lib\\site-packages\\statsmodels\\tsa\\base\\tsa_model.py:837: FutureWarning: No supported index is available. In the next version, calling this method in a model without a supported index will result in an exception.\n",
      "  return get_prediction_index(\n"
     ]
    },
    {
     "name": "stdout",
     "output_type": "stream",
     "text": [
      "  lat17.25_lon103.75 - Train Set:      RMSE=120.5250, MAE=4.3353, R2=0.5785\n",
      "  lat17.25_lon103.75 - Validation Set: RMSE=46.7303, MAE=5.0929, R2=0.8413\n",
      "  lat17.25_lon103.75 - Test Set:       RMSE=39.9239, MAE=4.4400, R2=0.8068\n",
      "\n",
      "--- Processing Location: lat17.25_lon104.25 ---\n",
      "  Warning: Could not infer frequency for lat17.25_lon104.25.\n",
      "  Stationarity (p-value): 0.0006 -> Stationary\n",
      "  Running auto_arima with seasonal period m=12...\n",
      "  Best model found for lat17.25_lon104.25: (0, 0, 1) (0, 1, 2, 12)\n"
     ]
    },
    {
     "name": "stderr",
     "output_type": "stream",
     "text": [
      "c:\\Users\\peera\\.conda\\envs\\drought_lstm_base\\Lib\\site-packages\\statsmodels\\tsa\\base\\tsa_model.py:837: FutureWarning: No supported index is available. In the next version, calling this method in a model without a supported index will result in an exception.\n",
      "  return get_prediction_index(\n"
     ]
    },
    {
     "name": "stdout",
     "output_type": "stream",
     "text": [
      "  lat17.25_lon104.25 - Train Set:      RMSE=121.7474, MAE=4.3191, R2=0.5733\n",
      "  lat17.25_lon104.25 - Validation Set: RMSE=38.7188, MAE=4.5393, R2=0.8607\n",
      "  lat17.25_lon104.25 - Test Set:       RMSE=35.6513, MAE=4.4486, R2=0.8378\n",
      "\n",
      "--- Processing Location: lat17.25_lon104.75 ---\n",
      "  Warning: Could not infer frequency for lat17.25_lon104.75.\n",
      "  Stationarity (p-value): 0.0001 -> Stationary\n",
      "  Running auto_arima with seasonal period m=12...\n",
      "  Best model found for lat17.25_lon104.75: (2, 0, 0) (0, 1, 1, 12)\n"
     ]
    },
    {
     "name": "stderr",
     "output_type": "stream",
     "text": [
      "c:\\Users\\peera\\.conda\\envs\\drought_lstm_base\\Lib\\site-packages\\statsmodels\\tsa\\base\\tsa_model.py:837: FutureWarning: No supported index is available. In the next version, calling this method in a model without a supported index will result in an exception.\n",
      "  return get_prediction_index(\n"
     ]
    },
    {
     "name": "stdout",
     "output_type": "stream",
     "text": [
      "  lat17.25_lon104.75 - Train Set:      RMSE=124.3382, MAE=4.4177, R2=0.5413\n",
      "  lat17.25_lon104.75 - Validation Set: RMSE=39.4109, MAE=4.3718, R2=0.8538\n",
      "  lat17.25_lon104.75 - Test Set:       RMSE=38.2720, MAE=4.3903, R2=0.8147\n",
      "\n",
      "--- Processing Location: lat17.75_lon97.75 ---\n",
      "  Warning: Could not infer frequency for lat17.75_lon97.75.\n",
      "  Stationarity (p-value): 0.0004 -> Stationary\n",
      "  Running auto_arima with seasonal period m=12...\n",
      "  Best model found for lat17.75_lon97.75: (1, 0, 1) (1, 1, 2, 12)\n"
     ]
    },
    {
     "name": "stderr",
     "output_type": "stream",
     "text": [
      "c:\\Users\\peera\\.conda\\envs\\drought_lstm_base\\Lib\\site-packages\\statsmodels\\tsa\\base\\tsa_model.py:837: FutureWarning: No supported index is available. In the next version, calling this method in a model without a supported index will result in an exception.\n",
      "  return get_prediction_index(\n"
     ]
    },
    {
     "name": "stdout",
     "output_type": "stream",
     "text": [
      "  lat17.75_lon97.75 - Train Set:      RMSE=113.4659, MAE=4.0389, R2=0.8269\n",
      "  lat17.75_lon97.75 - Validation Set: RMSE=32.7846, MAE=4.7144, R2=0.9550\n",
      "  lat17.75_lon97.75 - Test Set:       RMSE=37.4586, MAE=4.1800, R2=0.9280\n",
      "\n",
      "--- Processing Location: lat17.75_lon98.25 ---\n",
      "  Warning: Could not infer frequency for lat17.75_lon98.25.\n",
      "  Stationarity (p-value): 0.0008 -> Stationary\n",
      "  Running auto_arima with seasonal period m=12...\n",
      "  Best model found for lat17.75_lon98.25: (1, 0, 1) (0, 1, 1, 12)\n"
     ]
    },
    {
     "name": "stderr",
     "output_type": "stream",
     "text": [
      "c:\\Users\\peera\\.conda\\envs\\drought_lstm_base\\Lib\\site-packages\\statsmodels\\tsa\\base\\tsa_model.py:837: FutureWarning: No supported index is available. In the next version, calling this method in a model without a supported index will result in an exception.\n",
      "  return get_prediction_index(\n"
     ]
    },
    {
     "name": "stdout",
     "output_type": "stream",
     "text": [
      "  lat17.75_lon98.25 - Train Set:      RMSE=107.3874, MAE=3.9659, R2=0.8208\n",
      "  lat17.75_lon98.25 - Validation Set: RMSE=34.6343, MAE=5.0037, R2=0.9483\n",
      "  lat17.75_lon98.25 - Test Set:       RMSE=39.4885, MAE=4.5679, R2=0.9173\n",
      "\n",
      "--- Processing Location: lat17.75_lon98.75 ---\n",
      "  Warning: Could not infer frequency for lat17.75_lon98.75.\n",
      "  Stationarity (p-value): 0.0005 -> Stationary\n",
      "  Running auto_arima with seasonal period m=12...\n",
      "  Best model found for lat17.75_lon98.75: (0, 0, 3) (0, 1, 1, 12)\n"
     ]
    },
    {
     "name": "stderr",
     "output_type": "stream",
     "text": [
      "c:\\Users\\peera\\.conda\\envs\\drought_lstm_base\\Lib\\site-packages\\statsmodels\\tsa\\base\\tsa_model.py:837: FutureWarning: No supported index is available. In the next version, calling this method in a model without a supported index will result in an exception.\n",
      "  return get_prediction_index(\n"
     ]
    },
    {
     "name": "stdout",
     "output_type": "stream",
     "text": [
      "  lat17.75_lon98.75 - Train Set:      RMSE=118.6371, MAE=4.2109, R2=0.8180\n",
      "  lat17.75_lon98.75 - Validation Set: RMSE=41.2585, MAE=5.3608, R2=0.9430\n",
      "  lat17.75_lon98.75 - Test Set:       RMSE=43.9953, MAE=5.0858, R2=0.9165\n",
      "\n",
      "--- Processing Location: lat17.75_lon99.25 ---\n",
      "  Warning: Could not infer frequency for lat17.75_lon99.25.\n",
      "  Stationarity (p-value): 0.0009 -> Stationary\n",
      "  Running auto_arima with seasonal period m=12...\n",
      "  Best model found for lat17.75_lon99.25: (0, 0, 3) (0, 1, 1, 12)\n"
     ]
    },
    {
     "name": "stderr",
     "output_type": "stream",
     "text": [
      "c:\\Users\\peera\\.conda\\envs\\drought_lstm_base\\Lib\\site-packages\\statsmodels\\tsa\\base\\tsa_model.py:837: FutureWarning: No supported index is available. In the next version, calling this method in a model without a supported index will result in an exception.\n",
      "  return get_prediction_index(\n"
     ]
    },
    {
     "name": "stdout",
     "output_type": "stream",
     "text": [
      "  lat17.75_lon99.25 - Train Set:      RMSE=122.0952, MAE=4.2354, R2=0.8019\n",
      "  lat17.75_lon99.25 - Validation Set: RMSE=43.8558, MAE=5.6721, R2=0.9364\n",
      "  lat17.75_lon99.25 - Test Set:       RMSE=42.7593, MAE=5.0552, R2=0.9146\n",
      "\n",
      "--- Processing Location: lat17.75_lon99.75 ---\n",
      "  Warning: Could not infer frequency for lat17.75_lon99.75.\n",
      "  Stationarity (p-value): 0.0021 -> Stationary\n",
      "  Running auto_arima with seasonal period m=12...\n",
      "  Best model found for lat17.75_lon99.75: (0, 0, 3) (0, 1, 1, 12)\n"
     ]
    },
    {
     "name": "stderr",
     "output_type": "stream",
     "text": [
      "c:\\Users\\peera\\.conda\\envs\\drought_lstm_base\\Lib\\site-packages\\statsmodels\\tsa\\base\\tsa_model.py:837: FutureWarning: No supported index is available. In the next version, calling this method in a model without a supported index will result in an exception.\n",
      "  return get_prediction_index(\n"
     ]
    },
    {
     "name": "stdout",
     "output_type": "stream",
     "text": [
      "  lat17.75_lon99.75 - Train Set:      RMSE=124.0915, MAE=4.4003, R2=0.7645\n",
      "  lat17.75_lon99.75 - Validation Set: RMSE=41.0561, MAE=5.2935, R2=0.9280\n",
      "  lat17.75_lon99.75 - Test Set:       RMSE=41.7795, MAE=4.7816, R2=0.8977\n",
      "\n",
      "--- Processing Location: lat17.75_lon100.25 ---\n",
      "  Warning: Could not infer frequency for lat17.75_lon100.25.\n",
      "  Stationarity (p-value): 0.0031 -> Stationary\n",
      "  Running auto_arima with seasonal period m=12...\n",
      "  Best model found for lat17.75_lon100.25: (0, 0, 1) (1, 1, 1, 12)\n"
     ]
    },
    {
     "name": "stderr",
     "output_type": "stream",
     "text": [
      "c:\\Users\\peera\\.conda\\envs\\drought_lstm_base\\Lib\\site-packages\\statsmodels\\tsa\\base\\tsa_model.py:837: FutureWarning: No supported index is available. In the next version, calling this method in a model without a supported index will result in an exception.\n",
      "  return get_prediction_index(\n"
     ]
    },
    {
     "name": "stdout",
     "output_type": "stream",
     "text": [
      "  lat17.75_lon100.25 - Train Set:      RMSE=121.3493, MAE=4.4932, R2=0.7274\n",
      "  lat17.75_lon100.25 - Validation Set: RMSE=42.4783, MAE=5.2349, R2=0.9143\n",
      "  lat17.75_lon100.25 - Test Set:       RMSE=40.2868, MAE=4.8056, R2=0.8826\n",
      "\n",
      "--- Processing Location: lat17.75_lon100.75 ---\n",
      "  Warning: Could not infer frequency for lat17.75_lon100.75.\n",
      "  Stationarity (p-value): 0.0031 -> Stationary\n",
      "  Running auto_arima with seasonal period m=12...\n",
      "  Best model found for lat17.75_lon100.75: (0, 0, 1) (0, 1, 2, 12)\n"
     ]
    },
    {
     "name": "stderr",
     "output_type": "stream",
     "text": [
      "c:\\Users\\peera\\.conda\\envs\\drought_lstm_base\\Lib\\site-packages\\statsmodels\\tsa\\base\\tsa_model.py:837: FutureWarning: No supported index is available. In the next version, calling this method in a model without a supported index will result in an exception.\n",
      "  return get_prediction_index(\n"
     ]
    },
    {
     "name": "stdout",
     "output_type": "stream",
     "text": [
      "  lat17.75_lon100.75 - Train Set:      RMSE=117.1951, MAE=4.4911, R2=0.7101\n",
      "  lat17.75_lon100.75 - Validation Set: RMSE=48.9379, MAE=5.4975, R2=0.8911\n",
      "  lat17.75_lon100.75 - Test Set:       RMSE=46.4015, MAE=4.9959, R2=0.8480\n",
      "\n",
      "--- Processing Location: lat17.75_lon101.75 ---\n",
      "  Warning: Could not infer frequency for lat17.75_lon101.75.\n",
      "  Stationarity (p-value): 0.0044 -> Stationary\n",
      "  Running auto_arima with seasonal period m=12...\n",
      "  Best model found for lat17.75_lon101.75: (0, 0, 2) (1, 1, 1, 12)\n"
     ]
    },
    {
     "name": "stderr",
     "output_type": "stream",
     "text": [
      "c:\\Users\\peera\\.conda\\envs\\drought_lstm_base\\Lib\\site-packages\\statsmodels\\tsa\\base\\tsa_model.py:837: FutureWarning: No supported index is available. In the next version, calling this method in a model without a supported index will result in an exception.\n",
      "  return get_prediction_index(\n"
     ]
    },
    {
     "name": "stdout",
     "output_type": "stream",
     "text": [
      "  lat17.75_lon101.75 - Train Set:      RMSE=121.4237, MAE=4.6749, R2=0.6462\n",
      "  lat17.75_lon101.75 - Validation Set: RMSE=49.7545, MAE=5.6208, R2=0.8678\n",
      "  lat17.75_lon101.75 - Test Set:       RMSE=51.0906, MAE=5.2059, R2=0.7940\n",
      "\n",
      "--- Processing Location: lat17.75_lon102.25 ---\n",
      "  Warning: Could not infer frequency for lat17.75_lon102.25.\n",
      "  Stationarity (p-value): 0.0022 -> Stationary\n",
      "  Running auto_arima with seasonal period m=12...\n",
      "  Best model found for lat17.75_lon102.25: (0, 0, 2) (1, 1, 1, 12)\n"
     ]
    },
    {
     "name": "stderr",
     "output_type": "stream",
     "text": [
      "c:\\Users\\peera\\.conda\\envs\\drought_lstm_base\\Lib\\site-packages\\statsmodels\\tsa\\base\\tsa_model.py:837: FutureWarning: No supported index is available. In the next version, calling this method in a model without a supported index will result in an exception.\n",
      "  return get_prediction_index(\n"
     ]
    },
    {
     "name": "stdout",
     "output_type": "stream",
     "text": [
      "  lat17.75_lon102.25 - Train Set:      RMSE=122.4258, MAE=4.5953, R2=0.6091\n",
      "  lat17.75_lon102.25 - Validation Set: RMSE=47.5466, MAE=5.3504, R2=0.8625\n",
      "  lat17.75_lon102.25 - Test Set:       RMSE=50.8006, MAE=5.2043, R2=0.7772\n",
      "\n",
      "--- Processing Location: lat17.75_lon102.75 ---\n",
      "  Warning: Could not infer frequency for lat17.75_lon102.75.\n",
      "  Stationarity (p-value): 0.0019 -> Stationary\n",
      "  Running auto_arima with seasonal period m=12...\n",
      "  Best model found for lat17.75_lon102.75: (1, 0, 0) (1, 1, 1, 12)\n"
     ]
    },
    {
     "name": "stderr",
     "output_type": "stream",
     "text": [
      "c:\\Users\\peera\\.conda\\envs\\drought_lstm_base\\Lib\\site-packages\\statsmodels\\tsa\\base\\tsa_model.py:837: FutureWarning: No supported index is available. In the next version, calling this method in a model without a supported index will result in an exception.\n",
      "  return get_prediction_index(\n"
     ]
    },
    {
     "name": "stdout",
     "output_type": "stream",
     "text": [
      "  lat17.75_lon102.75 - Train Set:      RMSE=122.9899, MAE=4.5432, R2=0.5826\n",
      "  lat17.75_lon102.75 - Validation Set: RMSE=42.2251, MAE=5.0716, R2=0.8608\n",
      "  lat17.75_lon102.75 - Test Set:       RMSE=52.9145, MAE=5.4364, R2=0.7559\n",
      "\n",
      "--- Processing Location: lat17.75_lon103.25 ---\n",
      "  Warning: Could not infer frequency for lat17.75_lon103.25.\n",
      "  Stationarity (p-value): 0.0014 -> Stationary\n",
      "  Running auto_arima with seasonal period m=12...\n",
      "  Best model found for lat17.75_lon103.25: (0, 0, 1) (1, 1, 1, 12)\n"
     ]
    },
    {
     "name": "stderr",
     "output_type": "stream",
     "text": [
      "c:\\Users\\peera\\.conda\\envs\\drought_lstm_base\\Lib\\site-packages\\statsmodels\\tsa\\base\\tsa_model.py:837: FutureWarning: No supported index is available. In the next version, calling this method in a model without a supported index will result in an exception.\n",
      "  return get_prediction_index(\n"
     ]
    },
    {
     "name": "stdout",
     "output_type": "stream",
     "text": [
      "  lat17.75_lon103.25 - Train Set:      RMSE=121.2190, MAE=4.5414, R2=0.5684\n",
      "  lat17.75_lon103.25 - Validation Set: RMSE=46.2678, MAE=5.2866, R2=0.8356\n",
      "  lat17.75_lon103.25 - Test Set:       RMSE=40.0268, MAE=4.7055, R2=0.7998\n",
      "\n",
      "--- Processing Location: lat17.75_lon103.75 ---\n",
      "  Warning: Could not infer frequency for lat17.75_lon103.75.\n",
      "  Stationarity (p-value): 0.0007 -> Stationary\n",
      "  Running auto_arima with seasonal period m=12...\n",
      "  Best model found for lat17.75_lon103.75: (0, 0, 1) (1, 1, 1, 12)\n"
     ]
    },
    {
     "name": "stderr",
     "output_type": "stream",
     "text": [
      "c:\\Users\\peera\\.conda\\envs\\drought_lstm_base\\Lib\\site-packages\\statsmodels\\tsa\\base\\tsa_model.py:837: FutureWarning: No supported index is available. In the next version, calling this method in a model without a supported index will result in an exception.\n",
      "  return get_prediction_index(\n"
     ]
    },
    {
     "name": "stdout",
     "output_type": "stream",
     "text": [
      "  lat17.75_lon103.75 - Train Set:      RMSE=119.0545, MAE=4.4033, R2=0.5410\n",
      "  lat17.75_lon103.75 - Validation Set: RMSE=42.1088, MAE=4.8453, R2=0.8390\n",
      "  lat17.75_lon103.75 - Test Set:       RMSE=40.1887, MAE=4.5655, R2=0.7808\n",
      "\n",
      "--- Processing Location: lat17.75_lon104.25 ---\n",
      "  Warning: Could not infer frequency for lat17.75_lon104.25.\n",
      "  Stationarity (p-value): 0.0002 -> Stationary\n",
      "  Running auto_arima with seasonal period m=12...\n",
      "  Best model found for lat17.75_lon104.25: (1, 0, 2) (2, 1, 0, 12)\n"
     ]
    },
    {
     "name": "stderr",
     "output_type": "stream",
     "text": [
      "c:\\Users\\peera\\.conda\\envs\\drought_lstm_base\\Lib\\site-packages\\statsmodels\\tsa\\base\\tsa_model.py:837: FutureWarning: No supported index is available. In the next version, calling this method in a model without a supported index will result in an exception.\n",
      "  return get_prediction_index(\n"
     ]
    },
    {
     "name": "stdout",
     "output_type": "stream",
     "text": [
      "  lat17.75_lon104.25 - Train Set:      RMSE=118.2656, MAE=4.4091, R2=0.5262\n",
      "  lat17.75_lon104.25 - Validation Set: RMSE=49.5042, MAE=4.9024, R2=0.8049\n",
      "  lat17.75_lon104.25 - Test Set:       RMSE=44.2021, MAE=4.8106, R2=0.7628\n",
      "\n",
      "--- Processing Location: lat18.25_lon97.75 ---\n",
      "  Warning: Could not infer frequency for lat18.25_lon97.75.\n",
      "  Stationarity (p-value): 0.0004 -> Stationary\n",
      "  Running auto_arima with seasonal period m=12...\n",
      "  Best model found for lat18.25_lon97.75: (1, 0, 1) (1, 1, 2, 12)\n"
     ]
    },
    {
     "name": "stderr",
     "output_type": "stream",
     "text": [
      "c:\\Users\\peera\\.conda\\envs\\drought_lstm_base\\Lib\\site-packages\\statsmodels\\tsa\\base\\tsa_model.py:837: FutureWarning: No supported index is available. In the next version, calling this method in a model without a supported index will result in an exception.\n",
      "  return get_prediction_index(\n"
     ]
    },
    {
     "name": "stdout",
     "output_type": "stream",
     "text": [
      "  lat18.25_lon97.75 - Train Set:      RMSE=109.6730, MAE=3.9189, R2=0.8357\n",
      "  lat18.25_lon97.75 - Validation Set: RMSE=31.1438, MAE=4.8978, R2=0.9587\n",
      "  lat18.25_lon97.75 - Test Set:       RMSE=36.7748, MAE=4.3142, R2=0.9307\n",
      "\n",
      "--- Processing Location: lat18.25_lon98.25 ---\n",
      "  Warning: Could not infer frequency for lat18.25_lon98.25.\n",
      "  Stationarity (p-value): 0.0007 -> Stationary\n",
      "  Running auto_arima with seasonal period m=12...\n",
      "  Best model found for lat18.25_lon98.25: (1, 0, 1) (0, 1, 1, 12)\n"
     ]
    },
    {
     "name": "stderr",
     "output_type": "stream",
     "text": [
      "c:\\Users\\peera\\.conda\\envs\\drought_lstm_base\\Lib\\site-packages\\statsmodels\\tsa\\base\\tsa_model.py:837: FutureWarning: No supported index is available. In the next version, calling this method in a model without a supported index will result in an exception.\n",
      "  return get_prediction_index(\n"
     ]
    },
    {
     "name": "stdout",
     "output_type": "stream",
     "text": [
      "  lat18.25_lon98.25 - Train Set:      RMSE=107.5652, MAE=3.9195, R2=0.8248\n",
      "  lat18.25_lon98.25 - Validation Set: RMSE=30.4686, MAE=4.5270, R2=0.9563\n",
      "  lat18.25_lon98.25 - Test Set:       RMSE=38.9606, MAE=4.3789, R2=0.9213\n",
      "\n",
      "--- Processing Location: lat18.25_lon98.75 ---\n",
      "  Warning: Could not infer frequency for lat18.25_lon98.75.\n",
      "  Stationarity (p-value): 0.0002 -> Stationary\n",
      "  Running auto_arima with seasonal period m=12...\n",
      "  Best model found for lat18.25_lon98.75: (0, 0, 2) (0, 1, 1, 12)\n"
     ]
    },
    {
     "name": "stderr",
     "output_type": "stream",
     "text": [
      "c:\\Users\\peera\\.conda\\envs\\drought_lstm_base\\Lib\\site-packages\\statsmodels\\tsa\\base\\tsa_model.py:837: FutureWarning: No supported index is available. In the next version, calling this method in a model without a supported index will result in an exception.\n",
      "  return get_prediction_index(\n"
     ]
    },
    {
     "name": "stdout",
     "output_type": "stream",
     "text": [
      "  lat18.25_lon98.75 - Train Set:      RMSE=116.9446, MAE=4.2000, R2=0.8142\n",
      "  lat18.25_lon98.75 - Validation Set: RMSE=40.6837, MAE=5.5280, R2=0.9420\n",
      "  lat18.25_lon98.75 - Test Set:       RMSE=40.7573, MAE=4.6314, R2=0.9184\n",
      "\n",
      "--- Processing Location: lat18.25_lon99.25 ---\n",
      "  Warning: Could not infer frequency for lat18.25_lon99.25.\n",
      "  Stationarity (p-value): 0.0004 -> Stationary\n",
      "  Running auto_arima with seasonal period m=12...\n",
      "  Best model found for lat18.25_lon99.25: (0, 0, 1) (1, 1, 2, 12)\n"
     ]
    },
    {
     "name": "stderr",
     "output_type": "stream",
     "text": [
      "c:\\Users\\peera\\.conda\\envs\\drought_lstm_base\\Lib\\site-packages\\statsmodels\\tsa\\base\\tsa_model.py:837: FutureWarning: No supported index is available. In the next version, calling this method in a model without a supported index will result in an exception.\n",
      "  return get_prediction_index(\n"
     ]
    },
    {
     "name": "stdout",
     "output_type": "stream",
     "text": [
      "  lat18.25_lon99.25 - Train Set:      RMSE=120.0387, MAE=4.2844, R2=0.7950\n",
      "  lat18.25_lon99.25 - Validation Set: RMSE=42.5784, MAE=5.6473, R2=0.9343\n",
      "  lat18.25_lon99.25 - Test Set:       RMSE=40.6778, MAE=4.9792, R2=0.9155\n",
      "\n",
      "--- Processing Location: lat18.25_lon99.75 ---\n",
      "  Warning: Could not infer frequency for lat18.25_lon99.75.\n",
      "  Stationarity (p-value): 0.0004 -> Stationary\n",
      "  Running auto_arima with seasonal period m=12...\n",
      "  Best model found for lat18.25_lon99.75: (0, 0, 1) (1, 1, 2, 12)\n"
     ]
    },
    {
     "name": "stderr",
     "output_type": "stream",
     "text": [
      "c:\\Users\\peera\\.conda\\envs\\drought_lstm_base\\Lib\\site-packages\\statsmodels\\tsa\\base\\tsa_model.py:837: FutureWarning: No supported index is available. In the next version, calling this method in a model without a supported index will result in an exception.\n",
      "  return get_prediction_index(\n"
     ]
    },
    {
     "name": "stdout",
     "output_type": "stream",
     "text": [
      "  lat18.25_lon99.75 - Train Set:      RMSE=121.6486, MAE=4.4516, R2=0.7785\n",
      "  lat18.25_lon99.75 - Validation Set: RMSE=40.0557, MAE=5.2699, R2=0.9321\n",
      "  lat18.25_lon99.75 - Test Set:       RMSE=38.3977, MAE=4.6158, R2=0.9147\n",
      "\n",
      "--- Processing Location: lat18.25_lon100.25 ---\n",
      "  Warning: Could not infer frequency for lat18.25_lon100.25.\n",
      "  Stationarity (p-value): 0.0009 -> Stationary\n",
      "  Running auto_arima with seasonal period m=12...\n",
      "  Best model found for lat18.25_lon100.25: (0, 0, 2) (0, 1, 1, 12)\n"
     ]
    },
    {
     "name": "stderr",
     "output_type": "stream",
     "text": [
      "c:\\Users\\peera\\.conda\\envs\\drought_lstm_base\\Lib\\site-packages\\statsmodels\\tsa\\base\\tsa_model.py:837: FutureWarning: No supported index is available. In the next version, calling this method in a model without a supported index will result in an exception.\n",
      "  return get_prediction_index(\n"
     ]
    },
    {
     "name": "stdout",
     "output_type": "stream",
     "text": [
      "  lat18.25_lon100.25 - Train Set:      RMSE=121.2681, MAE=4.4173, R2=0.7605\n",
      "  lat18.25_lon100.25 - Validation Set: RMSE=44.8277, MAE=5.5957, R2=0.9211\n",
      "  lat18.25_lon100.25 - Test Set:       RMSE=42.1683, MAE=5.0260, R2=0.8912\n",
      "\n",
      "--- Processing Location: lat18.25_lon100.75 ---\n",
      "  Warning: Could not infer frequency for lat18.25_lon100.75.\n",
      "  Stationarity (p-value): 0.0017 -> Stationary\n",
      "  Running auto_arima with seasonal period m=12...\n",
      "  Best model found for lat18.25_lon100.75: (0, 0, 1) (0, 1, 2, 12)\n"
     ]
    },
    {
     "name": "stderr",
     "output_type": "stream",
     "text": [
      "c:\\Users\\peera\\.conda\\envs\\drought_lstm_base\\Lib\\site-packages\\statsmodels\\tsa\\base\\tsa_model.py:837: FutureWarning: No supported index is available. In the next version, calling this method in a model without a supported index will result in an exception.\n",
      "  return get_prediction_index(\n"
     ]
    },
    {
     "name": "stdout",
     "output_type": "stream",
     "text": [
      "  lat18.25_lon100.75 - Train Set:      RMSE=117.6297, MAE=4.5317, R2=0.7252\n",
      "  lat18.25_lon100.75 - Validation Set: RMSE=45.6835, MAE=5.6832, R2=0.9015\n",
      "  lat18.25_lon100.75 - Test Set:       RMSE=45.5650, MAE=5.2606, R2=0.8622\n",
      "\n",
      "--- Processing Location: lat18.25_lon103.25 ---\n",
      "  Warning: Could not infer frequency for lat18.25_lon103.25.\n",
      "  Stationarity (p-value): 0.0007 -> Stationary\n",
      "  Running auto_arima with seasonal period m=12...\n",
      "  Best model found for lat18.25_lon103.25: (0, 0, 1) (1, 1, 1, 12)\n"
     ]
    },
    {
     "name": "stderr",
     "output_type": "stream",
     "text": [
      "c:\\Users\\peera\\.conda\\envs\\drought_lstm_base\\Lib\\site-packages\\statsmodels\\tsa\\base\\tsa_model.py:837: FutureWarning: No supported index is available. In the next version, calling this method in a model without a supported index will result in an exception.\n",
      "  return get_prediction_index(\n"
     ]
    },
    {
     "name": "stdout",
     "output_type": "stream",
     "text": [
      "  lat18.25_lon103.25 - Train Set:      RMSE=117.1934, MAE=4.5671, R2=0.5421\n",
      "  lat18.25_lon103.25 - Validation Set: RMSE=52.2022, MAE=5.4091, R2=0.8107\n",
      "  lat18.25_lon103.25 - Test Set:       RMSE=51.9791, MAE=5.3562, R2=0.7130\n",
      "\n",
      "--- Processing Location: lat18.25_lon103.75 ---\n",
      "  Warning: Could not infer frequency for lat18.25_lon103.75.\n",
      "  Stationarity (p-value): 0.0002 -> Stationary\n",
      "  Running auto_arima with seasonal period m=12...\n",
      "  Best model found for lat18.25_lon103.75: (0, 0, 2) (0, 1, 1, 12)\n"
     ]
    },
    {
     "name": "stderr",
     "output_type": "stream",
     "text": [
      "c:\\Users\\peera\\.conda\\envs\\drought_lstm_base\\Lib\\site-packages\\statsmodels\\tsa\\base\\tsa_model.py:837: FutureWarning: No supported index is available. In the next version, calling this method in a model without a supported index will result in an exception.\n",
      "  return get_prediction_index(\n"
     ]
    },
    {
     "name": "stdout",
     "output_type": "stream",
     "text": [
      "  lat18.25_lon103.75 - Train Set:      RMSE=115.5832, MAE=4.3351, R2=0.4918\n",
      "  lat18.25_lon103.75 - Validation Set: RMSE=43.0951, MAE=4.9863, R2=0.8255\n",
      "  lat18.25_lon103.75 - Test Set:       RMSE=43.3402, MAE=4.8247, R2=0.7492\n",
      "\n",
      "--- Processing Location: lat18.75_lon97.75 ---\n",
      "  Warning: Could not infer frequency for lat18.75_lon97.75.\n",
      "  Stationarity (p-value): 0.0001 -> Stationary\n",
      "  Running auto_arima with seasonal period m=12...\n",
      "  Best model found for lat18.75_lon97.75: (0, 0, 2) (0, 1, 1, 12)\n"
     ]
    },
    {
     "name": "stderr",
     "output_type": "stream",
     "text": [
      "c:\\Users\\peera\\.conda\\envs\\drought_lstm_base\\Lib\\site-packages\\statsmodels\\tsa\\base\\tsa_model.py:837: FutureWarning: No supported index is available. In the next version, calling this method in a model without a supported index will result in an exception.\n",
      "  return get_prediction_index(\n"
     ]
    },
    {
     "name": "stdout",
     "output_type": "stream",
     "text": [
      "  lat18.75_lon97.75 - Train Set:      RMSE=104.6809, MAE=3.7781, R2=0.8336\n",
      "  lat18.75_lon97.75 - Validation Set: RMSE=28.4676, MAE=4.5574, R2=0.9572\n",
      "  lat18.75_lon97.75 - Test Set:       RMSE=27.4613, MAE=3.7590, R2=0.9474\n",
      "\n",
      "--- Processing Location: lat18.75_lon98.25 ---\n",
      "  Warning: Could not infer frequency for lat18.75_lon98.25.\n",
      "  Stationarity (p-value): 0.0001 -> Stationary\n",
      "  Running auto_arima with seasonal period m=12...\n",
      "  Best model found for lat18.75_lon98.25: (0, 0, 2) (0, 1, 1, 12)\n"
     ]
    },
    {
     "name": "stderr",
     "output_type": "stream",
     "text": [
      "c:\\Users\\peera\\.conda\\envs\\drought_lstm_base\\Lib\\site-packages\\statsmodels\\tsa\\base\\tsa_model.py:837: FutureWarning: No supported index is available. In the next version, calling this method in a model without a supported index will result in an exception.\n",
      "  return get_prediction_index(\n"
     ]
    },
    {
     "name": "stdout",
     "output_type": "stream",
     "text": [
      "  lat18.75_lon98.25 - Train Set:      RMSE=101.3678, MAE=3.8328, R2=0.8218\n",
      "  lat18.75_lon98.25 - Validation Set: RMSE=32.7392, MAE=4.8836, R2=0.9472\n",
      "  lat18.75_lon98.25 - Test Set:       RMSE=28.5043, MAE=3.8887, R2=0.9380\n",
      "\n",
      "--- Processing Location: lat18.75_lon98.75 ---\n",
      "  Warning: Could not infer frequency for lat18.75_lon98.75.\n",
      "  Stationarity (p-value): 0.0003 -> Stationary\n",
      "  Running auto_arima with seasonal period m=12...\n",
      "  Best model found for lat18.75_lon98.75: (0, 0, 2) (1, 1, 2, 12)\n"
     ]
    },
    {
     "name": "stderr",
     "output_type": "stream",
     "text": [
      "c:\\Users\\peera\\.conda\\envs\\drought_lstm_base\\Lib\\site-packages\\statsmodels\\tsa\\base\\tsa_model.py:837: FutureWarning: No supported index is available. In the next version, calling this method in a model without a supported index will result in an exception.\n",
      "  return get_prediction_index(\n"
     ]
    },
    {
     "name": "stdout",
     "output_type": "stream",
     "text": [
      "  lat18.75_lon98.75 - Train Set:      RMSE=112.1573, MAE=4.1227, R2=0.8060\n",
      "  lat18.75_lon98.75 - Validation Set: RMSE=35.2065, MAE=5.1240, R2=0.9451\n",
      "  lat18.75_lon98.75 - Test Set:       RMSE=37.4307, MAE=4.5576, R2=0.9215\n",
      "\n",
      "--- Processing Location: lat18.75_lon99.25 ---\n",
      "  Warning: Could not infer frequency for lat18.75_lon99.25.\n",
      "  Stationarity (p-value): 0.0004 -> Stationary\n",
      "  Running auto_arima with seasonal period m=12...\n",
      "  Best model found for lat18.75_lon99.25: (0, 0, 2) (0, 1, 1, 12)\n"
     ]
    },
    {
     "name": "stderr",
     "output_type": "stream",
     "text": [
      "c:\\Users\\peera\\.conda\\envs\\drought_lstm_base\\Lib\\site-packages\\statsmodels\\tsa\\base\\tsa_model.py:837: FutureWarning: No supported index is available. In the next version, calling this method in a model without a supported index will result in an exception.\n",
      "  return get_prediction_index(\n"
     ]
    },
    {
     "name": "stdout",
     "output_type": "stream",
     "text": [
      "  lat18.75_lon99.25 - Train Set:      RMSE=114.4433, MAE=4.2379, R2=0.7866\n",
      "  lat18.75_lon99.25 - Validation Set: RMSE=38.9312, MAE=5.2531, R2=0.9352\n",
      "  lat18.75_lon99.25 - Test Set:       RMSE=41.3268, MAE=4.9043, R2=0.9078\n",
      "\n",
      "--- Processing Location: lat18.75_lon99.75 ---\n",
      "  Warning: Could not infer frequency for lat18.75_lon99.75.\n",
      "  Stationarity (p-value): 0.0006 -> Stationary\n",
      "  Running auto_arima with seasonal period m=12...\n",
      "  Best model found for lat18.75_lon99.75: (0, 0, 1) (0, 1, 1, 12)\n"
     ]
    },
    {
     "name": "stderr",
     "output_type": "stream",
     "text": [
      "c:\\Users\\peera\\.conda\\envs\\drought_lstm_base\\Lib\\site-packages\\statsmodels\\tsa\\base\\tsa_model.py:837: FutureWarning: No supported index is available. In the next version, calling this method in a model without a supported index will result in an exception.\n",
      "  return get_prediction_index(\n"
     ]
    },
    {
     "name": "stdout",
     "output_type": "stream",
     "text": [
      "  lat18.75_lon99.75 - Train Set:      RMSE=116.2064, MAE=4.3742, R2=0.7814\n",
      "  lat18.75_lon99.75 - Validation Set: RMSE=43.7556, MAE=5.6805, R2=0.9249\n",
      "  lat18.75_lon99.75 - Test Set:       RMSE=40.4774, MAE=4.7560, R2=0.9058\n",
      "\n",
      "--- Processing Location: lat18.75_lon100.25 ---\n",
      "  Warning: Could not infer frequency for lat18.75_lon100.25.\n",
      "  Stationarity (p-value): 0.0008 -> Stationary\n",
      "  Running auto_arima with seasonal period m=12...\n",
      "  Best model found for lat18.75_lon100.25: (0, 0, 2) (1, 1, 2, 12)\n"
     ]
    },
    {
     "name": "stderr",
     "output_type": "stream",
     "text": [
      "c:\\Users\\peera\\.conda\\envs\\drought_lstm_base\\Lib\\site-packages\\statsmodels\\tsa\\base\\tsa_model.py:837: FutureWarning: No supported index is available. In the next version, calling this method in a model without a supported index will result in an exception.\n",
      "  return get_prediction_index(\n"
     ]
    },
    {
     "name": "stdout",
     "output_type": "stream",
     "text": [
      "  lat18.75_lon100.25 - Train Set:      RMSE=114.1322, MAE=4.3534, R2=0.7598\n",
      "  lat18.75_lon100.25 - Validation Set: RMSE=37.9735, MAE=5.1352, R2=0.9299\n",
      "  lat18.75_lon100.25 - Test Set:       RMSE=36.2950, MAE=4.4269, R2=0.9047\n",
      "\n",
      "--- Processing Location: lat18.75_lon100.75 ---\n",
      "  Warning: Could not infer frequency for lat18.75_lon100.75.\n",
      "  Stationarity (p-value): 0.0010 -> Stationary\n",
      "  Running auto_arima with seasonal period m=12...\n",
      "  Best model found for lat18.75_lon100.75: (0, 0, 1) (0, 1, 2, 12)\n"
     ]
    },
    {
     "name": "stderr",
     "output_type": "stream",
     "text": [
      "c:\\Users\\peera\\.conda\\envs\\drought_lstm_base\\Lib\\site-packages\\statsmodels\\tsa\\base\\tsa_model.py:837: FutureWarning: No supported index is available. In the next version, calling this method in a model without a supported index will result in an exception.\n",
      "  return get_prediction_index(\n"
     ]
    },
    {
     "name": "stdout",
     "output_type": "stream",
     "text": [
      "  lat18.75_lon100.75 - Train Set:      RMSE=112.8525, MAE=4.3895, R2=0.7229\n",
      "  lat18.75_lon100.75 - Validation Set: RMSE=39.5724, MAE=5.0742, R2=0.9128\n",
      "  lat18.75_lon100.75 - Test Set:       RMSE=39.6050, MAE=4.8633, R2=0.8759\n",
      "\n",
      "--- Processing Location: lat19.25_lon98.25 ---\n",
      "  Warning: Could not infer frequency for lat19.25_lon98.25.\n",
      "  Stationarity (p-value): 0.0001 -> Stationary\n",
      "  Running auto_arima with seasonal period m=12...\n",
      "  Best model found for lat19.25_lon98.25: (3, 0, 0) (2, 1, 0, 12)\n"
     ]
    },
    {
     "name": "stderr",
     "output_type": "stream",
     "text": [
      "c:\\Users\\peera\\.conda\\envs\\drought_lstm_base\\Lib\\site-packages\\statsmodels\\tsa\\base\\tsa_model.py:837: FutureWarning: No supported index is available. In the next version, calling this method in a model without a supported index will result in an exception.\n",
      "  return get_prediction_index(\n"
     ]
    },
    {
     "name": "stdout",
     "output_type": "stream",
     "text": [
      "  lat19.25_lon98.25 - Train Set:      RMSE=105.3011, MAE=4.0805, R2=0.8089\n",
      "  lat19.25_lon98.25 - Validation Set: RMSE=29.0553, MAE=4.6607, R2=0.9516\n",
      "  lat19.25_lon98.25 - Test Set:       RMSE=45.0452, MAE=4.8862, R2=0.8985\n",
      "\n",
      "--- Processing Location: lat19.25_lon98.75 ---\n",
      "  Warning: Could not infer frequency for lat19.25_lon98.75.\n",
      "  Stationarity (p-value): 0.0001 -> Stationary\n",
      "  Running auto_arima with seasonal period m=12...\n",
      "  Best model found for lat19.25_lon98.75: (3, 0, 0) (2, 1, 0, 12)\n"
     ]
    },
    {
     "name": "stderr",
     "output_type": "stream",
     "text": [
      "c:\\Users\\peera\\.conda\\envs\\drought_lstm_base\\Lib\\site-packages\\statsmodels\\tsa\\base\\tsa_model.py:837: FutureWarning: No supported index is available. In the next version, calling this method in a model without a supported index will result in an exception.\n",
      "  return get_prediction_index(\n"
     ]
    },
    {
     "name": "stdout",
     "output_type": "stream",
     "text": [
      "  lat19.25_lon98.75 - Train Set:      RMSE=109.3004, MAE=4.2382, R2=0.8026\n",
      "  lat19.25_lon98.75 - Validation Set: RMSE=30.4443, MAE=4.9516, R2=0.9493\n",
      "  lat19.25_lon98.75 - Test Set:       RMSE=50.1612, MAE=5.2779, R2=0.8879\n",
      "\n",
      "--- Processing Location: lat19.25_lon99.25 ---\n",
      "  Warning: Could not infer frequency for lat19.25_lon99.25.\n",
      "  Stationarity (p-value): 0.0001 -> Stationary\n",
      "  Running auto_arima with seasonal period m=12...\n",
      "  Best model found for lat19.25_lon99.25: (3, 0, 0) (2, 1, 0, 12)\n"
     ]
    },
    {
     "name": "stderr",
     "output_type": "stream",
     "text": [
      "c:\\Users\\peera\\.conda\\envs\\drought_lstm_base\\Lib\\site-packages\\statsmodels\\tsa\\base\\tsa_model.py:837: FutureWarning: No supported index is available. In the next version, calling this method in a model without a supported index will result in an exception.\n",
      "  return get_prediction_index(\n"
     ]
    },
    {
     "name": "stdout",
     "output_type": "stream",
     "text": [
      "  lat19.25_lon99.25 - Train Set:      RMSE=111.5462, MAE=4.3570, R2=0.7792\n",
      "  lat19.25_lon99.25 - Validation Set: RMSE=32.7713, MAE=5.0094, R2=0.9416\n",
      "  lat19.25_lon99.25 - Test Set:       RMSE=56.5356, MAE=5.5174, R2=0.8633\n",
      "\n",
      "--- Processing Location: lat19.25_lon99.75 ---\n",
      "  Warning: Could not infer frequency for lat19.25_lon99.75.\n",
      "  Stationarity (p-value): 0.0002 -> Stationary\n",
      "  Running auto_arima with seasonal period m=12...\n",
      "  Best model found for lat19.25_lon99.75: (3, 0, 0) (2, 1, 0, 12)\n"
     ]
    },
    {
     "name": "stderr",
     "output_type": "stream",
     "text": [
      "c:\\Users\\peera\\.conda\\envs\\drought_lstm_base\\Lib\\site-packages\\statsmodels\\tsa\\base\\tsa_model.py:837: FutureWarning: No supported index is available. In the next version, calling this method in a model without a supported index will result in an exception.\n",
      "  return get_prediction_index(\n"
     ]
    },
    {
     "name": "stdout",
     "output_type": "stream",
     "text": [
      "  lat19.25_lon99.75 - Train Set:      RMSE=114.8745, MAE=4.4751, R2=0.7615\n",
      "  lat19.25_lon99.75 - Validation Set: RMSE=42.2237, MAE=5.5100, R2=0.9202\n",
      "  lat19.25_lon99.75 - Test Set:       RMSE=54.8182, MAE=5.3995, R2=0.8649\n",
      "\n",
      "--- Processing Location: lat19.25_lon100.25 ---\n",
      "  Warning: Could not infer frequency for lat19.25_lon100.25.\n",
      "  Stationarity (p-value): 0.0003 -> Stationary\n",
      "  Running auto_arima with seasonal period m=12...\n",
      "  Best model found for lat19.25_lon100.25: (0, 0, 1) (0, 1, 1, 12)\n"
     ]
    },
    {
     "name": "stderr",
     "output_type": "stream",
     "text": [
      "c:\\Users\\peera\\.conda\\envs\\drought_lstm_base\\Lib\\site-packages\\statsmodels\\tsa\\base\\tsa_model.py:837: FutureWarning: No supported index is available. In the next version, calling this method in a model without a supported index will result in an exception.\n",
      "  return get_prediction_index(\n"
     ]
    },
    {
     "name": "stdout",
     "output_type": "stream",
     "text": [
      "  lat19.25_lon100.25 - Train Set:      RMSE=108.4542, MAE=4.2460, R2=0.7462\n",
      "  lat19.25_lon100.25 - Validation Set: RMSE=41.6047, MAE=5.5575, R2=0.9125\n",
      "  lat19.25_lon100.25 - Test Set:       RMSE=38.9393, MAE=4.5835, R2=0.8887\n",
      "\n",
      "--- Processing Location: lat19.25_lon100.75 ---\n",
      "  Warning: Could not infer frequency for lat19.25_lon100.75.\n",
      "  Stationarity (p-value): 0.0003 -> Stationary\n",
      "  Running auto_arima with seasonal period m=12...\n",
      "  Best model found for lat19.25_lon100.75: (3, 0, 0) (2, 1, 0, 12)\n"
     ]
    },
    {
     "name": "stderr",
     "output_type": "stream",
     "text": [
      "c:\\Users\\peera\\.conda\\envs\\drought_lstm_base\\Lib\\site-packages\\statsmodels\\tsa\\base\\tsa_model.py:837: FutureWarning: No supported index is available. In the next version, calling this method in a model without a supported index will result in an exception.\n",
      "  return get_prediction_index(\n"
     ]
    },
    {
     "name": "stdout",
     "output_type": "stream",
     "text": [
      "  lat19.25_lon100.75 - Train Set:      RMSE=107.5700, MAE=4.4148, R2=0.7147\n",
      "  lat19.25_lon100.75 - Validation Set: RMSE=39.0263, MAE=5.4228, R2=0.9064\n",
      "  lat19.25_lon100.75 - Test Set:       RMSE=55.1494, MAE=5.5770, R2=0.8115\n",
      "\n",
      "--- Processing Location: lat19.75_lon98.75 ---\n",
      "  Warning: Could not infer frequency for lat19.75_lon98.75.\n",
      "  Stationarity (p-value): 0.0000 -> Stationary\n",
      "  Running auto_arima with seasonal period m=12...\n",
      "  Best model found for lat19.75_lon98.75: (3, 0, 0) (2, 1, 0, 12)\n"
     ]
    },
    {
     "name": "stderr",
     "output_type": "stream",
     "text": [
      "c:\\Users\\peera\\.conda\\envs\\drought_lstm_base\\Lib\\site-packages\\statsmodels\\tsa\\base\\tsa_model.py:837: FutureWarning: No supported index is available. In the next version, calling this method in a model without a supported index will result in an exception.\n",
      "  return get_prediction_index(\n"
     ]
    },
    {
     "name": "stdout",
     "output_type": "stream",
     "text": [
      "  lat19.75_lon98.75 - Train Set:      RMSE=105.7218, MAE=4.1741, R2=0.7909\n",
      "  lat19.75_lon98.75 - Validation Set: RMSE=30.7489, MAE=4.8497, R2=0.9442\n",
      "  lat19.75_lon98.75 - Test Set:       RMSE=54.0032, MAE=5.4529, R2=0.8652\n",
      "\n",
      "--- Processing Location: lat19.75_lon99.25 ---\n",
      "  Warning: Could not infer frequency for lat19.75_lon99.25.\n",
      "  Stationarity (p-value): 0.0001 -> Stationary\n",
      "  Running auto_arima with seasonal period m=12...\n",
      "  Best model found for lat19.75_lon99.25: (3, 0, 0) (2, 1, 0, 12)\n"
     ]
    },
    {
     "name": "stderr",
     "output_type": "stream",
     "text": [
      "c:\\Users\\peera\\.conda\\envs\\drought_lstm_base\\Lib\\site-packages\\statsmodels\\tsa\\base\\tsa_model.py:837: FutureWarning: No supported index is available. In the next version, calling this method in a model without a supported index will result in an exception.\n",
      "  return get_prediction_index(\n"
     ]
    },
    {
     "name": "stdout",
     "output_type": "stream",
     "text": [
      "  lat19.75_lon99.25 - Train Set:      RMSE=108.3195, MAE=4.2671, R2=0.7766\n",
      "  lat19.75_lon99.25 - Validation Set: RMSE=31.5502, MAE=4.9064, R2=0.9421\n",
      "  lat19.75_lon99.25 - Test Set:       RMSE=48.1062, MAE=5.1524, R2=0.8814\n",
      "\n",
      "--- Processing Location: lat19.75_lon99.75 ---\n",
      "  Warning: Could not infer frequency for lat19.75_lon99.75.\n",
      "  Stationarity (p-value): 0.0001 -> Stationary\n",
      "  Running auto_arima with seasonal period m=12...\n",
      "  Best model found for lat19.75_lon99.75: (3, 0, 0) (2, 1, 0, 12)\n"
     ]
    },
    {
     "name": "stderr",
     "output_type": "stream",
     "text": [
      "c:\\Users\\peera\\.conda\\envs\\drought_lstm_base\\Lib\\site-packages\\statsmodels\\tsa\\base\\tsa_model.py:837: FutureWarning: No supported index is available. In the next version, calling this method in a model without a supported index will result in an exception.\n",
      "  return get_prediction_index(\n"
     ]
    },
    {
     "name": "stdout",
     "output_type": "stream",
     "text": [
      "  lat19.75_lon99.75 - Train Set:      RMSE=112.0253, MAE=4.5404, R2=0.7435\n",
      "  lat19.75_lon99.75 - Validation Set: RMSE=35.4446, MAE=5.2912, R2=0.9279\n",
      "  lat19.75_lon99.75 - Test Set:       RMSE=58.7889, MAE=5.5815, R2=0.8399\n",
      "\n",
      "--- Processing Location: lat19.75_lon100.25 ---\n",
      "  Warning: Could not infer frequency for lat19.75_lon100.25.\n",
      "  Stationarity (p-value): 0.0001 -> Stationary\n",
      "  Running auto_arima with seasonal period m=12...\n",
      "  Best model found for lat19.75_lon100.25: (3, 0, 0) (2, 1, 0, 12)\n"
     ]
    },
    {
     "name": "stderr",
     "output_type": "stream",
     "text": [
      "c:\\Users\\peera\\.conda\\envs\\drought_lstm_base\\Lib\\site-packages\\statsmodels\\tsa\\base\\tsa_model.py:837: FutureWarning: No supported index is available. In the next version, calling this method in a model without a supported index will result in an exception.\n",
      "  return get_prediction_index(\n"
     ]
    },
    {
     "name": "stdout",
     "output_type": "stream",
     "text": [
      "  lat19.75_lon100.25 - Train Set:      RMSE=110.5992, MAE=4.5045, R2=0.7206\n",
      "  lat19.75_lon100.25 - Validation Set: RMSE=34.9997, MAE=5.2715, R2=0.9223\n",
      "  lat19.75_lon100.25 - Test Set:       RMSE=58.6729, MAE=5.4837, R2=0.8235\n",
      "\n",
      "--- Processing Location: lat20.25_lon99.75 ---\n",
      "  Warning: Could not infer frequency for lat20.25_lon99.75.\n",
      "  Stationarity (p-value): 0.0000 -> Stationary\n",
      "  Running auto_arima with seasonal period m=12...\n",
      "  Best model found for lat20.25_lon99.75: (3, 0, 0) (2, 1, 0, 12)\n"
     ]
    },
    {
     "name": "stderr",
     "output_type": "stream",
     "text": [
      "c:\\Users\\peera\\.conda\\envs\\drought_lstm_base\\Lib\\site-packages\\statsmodels\\tsa\\base\\tsa_model.py:837: FutureWarning: No supported index is available. In the next version, calling this method in a model without a supported index will result in an exception.\n",
      "  return get_prediction_index(\n"
     ]
    },
    {
     "name": "stdout",
     "output_type": "stream",
     "text": [
      "  lat20.25_lon99.75 - Train Set:      RMSE=109.4297, MAE=4.5406, R2=0.7429\n",
      "  lat20.25_lon99.75 - Validation Set: RMSE=38.1130, MAE=5.2188, R2=0.9224\n",
      "  lat20.25_lon99.75 - Test Set:       RMSE=52.2962, MAE=5.4571, R2=0.8606\n",
      "\n",
      "--- Processing Location: lat20.25_lon100.25 ---\n",
      "  Warning: Could not infer frequency for lat20.25_lon100.25.\n",
      "  Stationarity (p-value): 0.0001 -> Stationary\n",
      "  Running auto_arima with seasonal period m=12...\n",
      "  Best model found for lat20.25_lon100.25: (3, 0, 0) (2, 1, 0, 12)\n"
     ]
    },
    {
     "name": "stderr",
     "output_type": "stream",
     "text": [
      "c:\\Users\\peera\\.conda\\envs\\drought_lstm_base\\Lib\\site-packages\\statsmodels\\tsa\\base\\tsa_model.py:837: FutureWarning: No supported index is available. In the next version, calling this method in a model without a supported index will result in an exception.\n",
      "  return get_prediction_index(\n"
     ]
    },
    {
     "name": "stdout",
     "output_type": "stream",
     "text": [
      "  lat20.25_lon100.25 - Train Set:      RMSE=112.6236, MAE=4.6332, R2=0.7160\n",
      "  lat20.25_lon100.25 - Validation Set: RMSE=35.6702, MAE=5.3937, R2=0.9215\n",
      "  lat20.25_lon100.25 - Test Set:       RMSE=55.6393, MAE=5.6651, R2=0.8369\n",
      "SARIMA Pipeline: Aggregated metrics saved to c:\\Users\\peera\\Desktop\\DroughtLSTM_oneday\\run_outputs\\PET_SARIMA_Local_Run_sarima_local\\all_sarima_local_models_evaluation_metrics.json\n",
      "--- SARIMA Local Pipeline Run Finished ---\n"
     ]
    },
    {
     "ename": "",
     "evalue": "",
     "output_type": "error",
     "traceback": [
      "\u001b[1;31mThe Kernel crashed while executing code in the current cell or a previous cell. \n",
      "\u001b[1;31mPlease review the code in the cell(s) to identify a possible cause of the failure. \n",
      "\u001b[1;31mClick <a href='https://aka.ms/vscodeJupyterKernelCrash'>here</a> for more info. \n",
      "\u001b[1;31mView Jupyter <a href='command:jupyter.viewOutput'>log</a> for further details."
     ]
    }
   ],
   "source": [
    "# Ensure this path is correct from your notebook's location\n",
    "config_file = \"../config_SARIMA_PET.yaml\"\n",
    "\n",
    "# Create an instance of the pipeline\n",
    "sarima_pipeline = SarimaLocalPipeline(config_path=config_file)\n",
    "\n",
    "# Execute the pipeline\n",
    "all_sarima_metrics = sarima_pipeline.run_pipeline()"
   ]
  }
 ],
 "metadata": {
  "kernelspec": {
   "display_name": "drought_lstm_base",
   "language": "python",
   "name": "python3"
  },
  "language_info": {
   "codemirror_mode": {
    "name": "ipython",
    "version": 3
   },
   "file_extension": ".py",
   "mimetype": "text/x-python",
   "name": "python",
   "nbconvert_exporter": "python",
   "pygments_lexer": "ipython3",
   "version": "3.12.7"
  }
 },
 "nbformat": 4,
 "nbformat_minor": 5
}
