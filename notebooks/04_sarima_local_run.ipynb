{
 "cells": [
  {
   "cell_type": "code",
   "execution_count": 1,
   "id": "6a0558f6",
   "metadata": {},
   "outputs": [
    {
     "name": "stdout",
     "output_type": "stream",
     "text": [
      "Added project root to sys.path: c:\\Users\\peera\\Desktop\\DroughtLSTM_oneday\n",
      "SARIMA Pipeline Class: Successfully imported utility functions from data_utils.\n"
     ]
    }
   ],
   "source": [
    "import sys\n",
    "import os\n",
    "import numpy as np\n",
    "import pandas as pd\n",
    "\n",
    "# Add project root to Python path to find 'src'\n",
    "notebook_dir = os.getcwd()\n",
    "project_root = os.path.abspath(os.path.join(notebook_dir, '..'))\n",
    "if project_root not in sys.path:\n",
    "    sys.path.append(project_root)\n",
    "    print(f\"Added project root to sys.path: {project_root}\")\n",
    "\n",
    "# Import your new pipeline class\n",
    "from src.sarima_pipeline import SarimaLocalPipeline"
   ]
  },
  {
   "cell_type": "code",
   "execution_count": null,
   "id": "592275dd",
   "metadata": {},
   "outputs": [
    {
     "name": "stdout",
     "output_type": "stream",
     "text": [
      "SARIMA Pipeline Class: Loading config from: c:\\Users\\peera\\Desktop\\DroughtLSTM_oneday\\config_SARIMA_SPEI.yaml\n",
      "Configuration loaded from c:\\Users\\peera\\Desktop\\DroughtLSTM_oneday\\config_SARIMA_SPEI.yaml\n",
      "SARIMA Pipeline Class: Artifacts will be saved under 'c:\\Users\\peera\\Desktop\\DroughtLSTM_oneday\\run_outputs\\SPEI_SARIMA_Local_Run_sarima_local'\n",
      "\n",
      "--- Starting SARIMA Local Pipeline Run: Experiment 'SPEI_SARIMA_Local_Run_sarima_local' ---\n",
      "SARIMA Pipeline: Loading full raw data...\n",
      "Successfully loaded data from c:\\Users\\peera\\Desktop\\DroughtLSTM_oneday\\data\\full.csv. Shape: (264201, 19)\n",
      "Converted column 'time' to datetime.\n",
      "Data sorted by ['time', 'lat', 'lon'].\n",
      "SARIMA Pipeline: Found 179 unique locations.\n",
      "\n",
      "--- Processing Location: lat6.25_lon101.25 ---\n",
      "  Warning: Could not infer frequency for lat6.25_lon101.25.\n",
      "  Stationarity (p-value): 0.0000 -> Stationary\n",
      "  Running auto_arima with seasonal period m=12...\n",
      "  Best model found for lat6.25_lon101.25: (1, 0, 1) (2, 1, 0, 12)\n"
     ]
    },
    {
     "name": "stderr",
     "output_type": "stream",
     "text": [
      "c:\\Users\\peera\\.conda\\envs\\drought_lstm_base\\Lib\\site-packages\\statsmodels\\tsa\\base\\tsa_model.py:837: FutureWarning: No supported index is available. In the next version, calling this method in a model without a supported index will result in an exception.\n",
      "  return get_prediction_index(\n"
     ]
    },
    {
     "name": "stdout",
     "output_type": "stream",
     "text": [
      "  lat6.25_lon101.25 - Train Set:      RMSE=1.2339, MAE=0.9028, R2=-0.2688\n",
      "  lat6.25_lon101.25 - Validation Set: RMSE=2.0915, MAE=1.2013, R2=-0.3016\n",
      "  lat6.25_lon101.25 - Test Set:       RMSE=1.5753, MAE=1.0577, R2=-0.4764\n",
      "\n",
      "--- Processing Location: lat6.25_lon101.75 ---\n",
      "  Warning: Could not infer frequency for lat6.25_lon101.75.\n",
      "  Stationarity (p-value): 0.0000 -> Stationary\n",
      "  Running auto_arima with seasonal period m=12...\n",
      "  Best model found for lat6.25_lon101.75: (1, 0, 1) (2, 1, 0, 12)\n"
     ]
    },
    {
     "name": "stderr",
     "output_type": "stream",
     "text": [
      "c:\\Users\\peera\\.conda\\envs\\drought_lstm_base\\Lib\\site-packages\\statsmodels\\tsa\\base\\tsa_model.py:837: FutureWarning: No supported index is available. In the next version, calling this method in a model without a supported index will result in an exception.\n",
      "  return get_prediction_index(\n"
     ]
    },
    {
     "name": "stdout",
     "output_type": "stream",
     "text": [
      "  lat6.25_lon101.75 - Train Set:      RMSE=1.2278, MAE=0.8963, R2=-0.2559\n",
      "  lat6.25_lon101.75 - Validation Set: RMSE=2.1189, MAE=1.2204, R2=-0.2934\n",
      "  lat6.25_lon101.75 - Test Set:       RMSE=1.6424, MAE=1.0802, R2=-0.5595\n",
      "\n",
      "--- Processing Location: lat6.75_lon99.75 ---\n",
      "  Warning: Could not infer frequency for lat6.75_lon99.75.\n",
      "  Stationarity (p-value): 0.0000 -> Stationary\n",
      "  Running auto_arima with seasonal period m=12...\n",
      "  Best model found for lat6.75_lon99.75: (1, 0, 1) (2, 1, 0, 12)\n"
     ]
    },
    {
     "name": "stderr",
     "output_type": "stream",
     "text": [
      "c:\\Users\\peera\\.conda\\envs\\drought_lstm_base\\Lib\\site-packages\\statsmodels\\tsa\\base\\tsa_model.py:837: FutureWarning: No supported index is available. In the next version, calling this method in a model without a supported index will result in an exception.\n",
      "  return get_prediction_index(\n"
     ]
    },
    {
     "name": "stdout",
     "output_type": "stream",
     "text": [
      "  lat6.75_lon99.75 - Train Set:      RMSE=1.2575, MAE=0.9119, R2=-0.2673\n",
      "  lat6.75_lon99.75 - Validation Set: RMSE=1.2865, MAE=0.8638, R2=-0.2238\n",
      "  lat6.75_lon99.75 - Test Set:       RMSE=1.4998, MAE=1.0487, R2=-0.9753\n",
      "\n",
      "--- Processing Location: lat6.75_lon100.25 ---\n",
      "  Warning: Could not infer frequency for lat6.75_lon100.25.\n",
      "  Stationarity (p-value): 0.0000 -> Stationary\n",
      "  Running auto_arima with seasonal period m=12...\n",
      "  Best model found for lat6.75_lon100.25: (1, 0, 1) (2, 1, 0, 12)\n"
     ]
    },
    {
     "name": "stderr",
     "output_type": "stream",
     "text": [
      "c:\\Users\\peera\\.conda\\envs\\drought_lstm_base\\Lib\\site-packages\\statsmodels\\tsa\\base\\tsa_model.py:837: FutureWarning: No supported index is available. In the next version, calling this method in a model without a supported index will result in an exception.\n",
      "  return get_prediction_index(\n"
     ]
    },
    {
     "name": "stdout",
     "output_type": "stream",
     "text": [
      "  lat6.75_lon100.25 - Train Set:      RMSE=1.2372, MAE=0.9115, R2=-0.2667\n",
      "  lat6.75_lon100.25 - Validation Set: RMSE=1.5933, MAE=1.0052, R2=-0.2192\n",
      "  lat6.75_lon100.25 - Test Set:       RMSE=1.5612, MAE=1.0830, R2=-0.6125\n",
      "\n",
      "--- Processing Location: lat6.75_lon100.75 ---\n",
      "  Warning: Could not infer frequency for lat6.75_lon100.75.\n",
      "  Stationarity (p-value): 0.0000 -> Stationary\n",
      "  Running auto_arima with seasonal period m=12...\n",
      "  Best model found for lat6.75_lon100.75: (2, 0, 0) (2, 1, 0, 12)\n"
     ]
    },
    {
     "name": "stderr",
     "output_type": "stream",
     "text": [
      "c:\\Users\\peera\\.conda\\envs\\drought_lstm_base\\Lib\\site-packages\\statsmodels\\tsa\\base\\tsa_model.py:837: FutureWarning: No supported index is available. In the next version, calling this method in a model without a supported index will result in an exception.\n",
      "  return get_prediction_index(\n"
     ]
    },
    {
     "name": "stdout",
     "output_type": "stream",
     "text": [
      "  lat6.75_lon100.75 - Train Set:      RMSE=1.2281, MAE=0.8978, R2=-0.2628\n",
      "  lat6.75_lon100.75 - Validation Set: RMSE=1.7217, MAE=1.0763, R2=-0.1655\n",
      "  lat6.75_lon100.75 - Test Set:       RMSE=1.5795, MAE=1.0830, R2=-0.4770\n",
      "\n",
      "--- Processing Location: lat6.75_lon101.25 ---\n",
      "  Warning: Could not infer frequency for lat6.75_lon101.25.\n",
      "  Stationarity (p-value): 0.0000 -> Stationary\n",
      "  Running auto_arima with seasonal period m=12...\n",
      "  Best model found for lat6.75_lon101.25: (1, 0, 1) (2, 1, 0, 12)\n"
     ]
    },
    {
     "name": "stderr",
     "output_type": "stream",
     "text": [
      "c:\\Users\\peera\\.conda\\envs\\drought_lstm_base\\Lib\\site-packages\\statsmodels\\tsa\\base\\tsa_model.py:837: FutureWarning: No supported index is available. In the next version, calling this method in a model without a supported index will result in an exception.\n",
      "  return get_prediction_index(\n"
     ]
    },
    {
     "name": "stdout",
     "output_type": "stream",
     "text": [
      "  lat6.75_lon101.25 - Train Set:      RMSE=1.2299, MAE=0.8976, R2=-0.2663\n",
      "  lat6.75_lon101.25 - Validation Set: RMSE=1.8038, MAE=1.1284, R2=-0.2630\n",
      "  lat6.75_lon101.25 - Test Set:       RMSE=1.5897, MAE=1.0869, R2=-0.3805\n",
      "\n",
      "--- Processing Location: lat7.25_lon99.75 ---\n",
      "  Warning: Could not infer frequency for lat7.25_lon99.75.\n",
      "  Stationarity (p-value): 0.0000 -> Stationary\n",
      "  Running auto_arima with seasonal period m=12...\n",
      "  Best model found for lat7.25_lon99.75: (2, 0, 1) (2, 1, 0, 12)\n"
     ]
    },
    {
     "name": "stderr",
     "output_type": "stream",
     "text": [
      "c:\\Users\\peera\\.conda\\envs\\drought_lstm_base\\Lib\\site-packages\\statsmodels\\tsa\\base\\tsa_model.py:837: FutureWarning: No supported index is available. In the next version, calling this method in a model without a supported index will result in an exception.\n",
      "  return get_prediction_index(\n"
     ]
    },
    {
     "name": "stdout",
     "output_type": "stream",
     "text": [
      "  lat7.25_lon99.75 - Train Set:      RMSE=1.2355, MAE=0.8973, R2=-0.2607\n",
      "  lat7.25_lon99.75 - Validation Set: RMSE=1.4771, MAE=0.9488, R2=-0.1536\n",
      "  lat7.25_lon99.75 - Test Set:       RMSE=1.4487, MAE=1.0355, R2=-0.6559\n",
      "\n",
      "--- Processing Location: lat7.25_lon100.25 ---\n",
      "  Warning: Could not infer frequency for lat7.25_lon100.25.\n",
      "  Stationarity (p-value): 0.0000 -> Stationary\n",
      "  Running auto_arima with seasonal period m=12...\n",
      "  Best model found for lat7.25_lon100.25: (2, 0, 1) (2, 1, 0, 12)\n"
     ]
    },
    {
     "name": "stderr",
     "output_type": "stream",
     "text": [
      "c:\\Users\\peera\\.conda\\envs\\drought_lstm_base\\Lib\\site-packages\\statsmodels\\tsa\\base\\tsa_model.py:837: FutureWarning: No supported index is available. In the next version, calling this method in a model without a supported index will result in an exception.\n",
      "  return get_prediction_index(\n"
     ]
    },
    {
     "name": "stdout",
     "output_type": "stream",
     "text": [
      "  lat7.25_lon100.25 - Train Set:      RMSE=1.2316, MAE=0.8965, R2=-0.2578\n",
      "  lat7.25_lon100.25 - Validation Set: RMSE=1.4869, MAE=0.9565, R2=-0.1497\n",
      "  lat7.25_lon100.25 - Test Set:       RMSE=1.4758, MAE=1.0640, R2=-0.6864\n",
      "\n",
      "--- Processing Location: lat7.75_lon98.25 ---\n",
      "  Warning: Could not infer frequency for lat7.75_lon98.25.\n",
      "  Stationarity (p-value): 0.0000 -> Stationary\n",
      "  Running auto_arima with seasonal period m=12...\n",
      "  Best model found for lat7.75_lon98.25: (2, 0, 1) (2, 1, 0, 12)\n"
     ]
    },
    {
     "name": "stderr",
     "output_type": "stream",
     "text": [
      "c:\\Users\\peera\\.conda\\envs\\drought_lstm_base\\Lib\\site-packages\\statsmodels\\tsa\\base\\tsa_model.py:837: FutureWarning: No supported index is available. In the next version, calling this method in a model without a supported index will result in an exception.\n",
      "  return get_prediction_index(\n"
     ]
    },
    {
     "name": "stdout",
     "output_type": "stream",
     "text": [
      "  lat7.75_lon98.25 - Train Set:      RMSE=1.2378, MAE=0.8915, R2=-0.2426\n",
      "  lat7.75_lon98.25 - Validation Set: RMSE=0.7990, MAE=0.7712, R2=-0.0669\n",
      "  lat7.75_lon98.25 - Test Set:       RMSE=0.8394, MAE=0.7370, R2=-0.1672\n",
      "\n",
      "--- Processing Location: lat7.75_lon99.25 ---\n",
      "  Warning: Could not infer frequency for lat7.75_lon99.25.\n",
      "  Stationarity (p-value): 0.0000 -> Stationary\n",
      "  Running auto_arima with seasonal period m=12...\n",
      "  Best model found for lat7.75_lon99.25: (1, 0, 2) (2, 1, 0, 12)\n"
     ]
    },
    {
     "name": "stderr",
     "output_type": "stream",
     "text": [
      "c:\\Users\\peera\\.conda\\envs\\drought_lstm_base\\Lib\\site-packages\\statsmodels\\tsa\\base\\tsa_model.py:837: FutureWarning: No supported index is available. In the next version, calling this method in a model without a supported index will result in an exception.\n",
      "  return get_prediction_index(\n"
     ]
    },
    {
     "name": "stdout",
     "output_type": "stream",
     "text": [
      "  lat7.75_lon99.25 - Train Set:      RMSE=1.2224, MAE=0.8904, R2=-0.2502\n",
      "  lat7.75_lon99.25 - Validation Set: RMSE=1.5668, MAE=1.0165, R2=-0.2306\n",
      "  lat7.75_lon99.25 - Test Set:       RMSE=1.8964, MAE=1.1288, R2=-0.7937\n",
      "\n",
      "--- Processing Location: lat7.75_lon99.75 ---\n",
      "  Warning: Could not infer frequency for lat7.75_lon99.75.\n",
      "  Stationarity (p-value): 0.0000 -> Stationary\n",
      "  Running auto_arima with seasonal period m=12...\n",
      "  Best model found for lat7.75_lon99.75: (2, 0, 1) (2, 1, 0, 12)\n"
     ]
    },
    {
     "name": "stderr",
     "output_type": "stream",
     "text": [
      "c:\\Users\\peera\\.conda\\envs\\drought_lstm_base\\Lib\\site-packages\\statsmodels\\tsa\\base\\tsa_model.py:837: FutureWarning: No supported index is available. In the next version, calling this method in a model without a supported index will result in an exception.\n",
      "  return get_prediction_index(\n"
     ]
    },
    {
     "name": "stdout",
     "output_type": "stream",
     "text": [
      "  lat7.75_lon99.75 - Train Set:      RMSE=1.2142, MAE=0.8890, R2=-0.2411\n",
      "  lat7.75_lon99.75 - Validation Set: RMSE=1.4732, MAE=0.9825, R2=-0.1335\n",
      "  lat7.75_lon99.75 - Test Set:       RMSE=1.5985, MAE=1.0704, R2=-0.6245\n",
      "\n",
      "--- Processing Location: lat8.25_lon98.75 ---\n",
      "  Warning: Could not infer frequency for lat8.25_lon98.75.\n",
      "  Stationarity (p-value): 0.0000 -> Stationary\n",
      "  Running auto_arima with seasonal period m=12...\n",
      "  Best model found for lat8.25_lon98.75: (2, 0, 1) (2, 1, 0, 12)\n"
     ]
    },
    {
     "name": "stderr",
     "output_type": "stream",
     "text": [
      "c:\\Users\\peera\\.conda\\envs\\drought_lstm_base\\Lib\\site-packages\\statsmodels\\tsa\\base\\tsa_model.py:837: FutureWarning: No supported index is available. In the next version, calling this method in a model without a supported index will result in an exception.\n",
      "  return get_prediction_index(\n"
     ]
    },
    {
     "name": "stdout",
     "output_type": "stream",
     "text": [
      "  lat8.25_lon98.75 - Train Set:      RMSE=1.2032, MAE=0.8761, R2=-0.2371\n",
      "  lat8.25_lon98.75 - Validation Set: RMSE=1.4821, MAE=1.0062, R2=-0.1463\n",
      "  lat8.25_lon98.75 - Test Set:       RMSE=1.8456, MAE=1.1718, R2=-0.4907\n",
      "\n",
      "--- Processing Location: lat8.25_lon99.25 ---\n",
      "  Warning: Could not infer frequency for lat8.25_lon99.25.\n",
      "  Stationarity (p-value): 0.0000 -> Stationary\n",
      "  Running auto_arima with seasonal period m=12...\n",
      "  Best model found for lat8.25_lon99.25: (1, 0, 1) (2, 1, 0, 12)\n"
     ]
    },
    {
     "name": "stderr",
     "output_type": "stream",
     "text": [
      "c:\\Users\\peera\\.conda\\envs\\drought_lstm_base\\Lib\\site-packages\\statsmodels\\tsa\\base\\tsa_model.py:837: FutureWarning: No supported index is available. In the next version, calling this method in a model without a supported index will result in an exception.\n",
      "  return get_prediction_index(\n"
     ]
    },
    {
     "name": "stdout",
     "output_type": "stream",
     "text": [
      "  lat8.25_lon99.25 - Train Set:      RMSE=1.2089, MAE=0.8823, R2=-0.2435\n",
      "  lat8.25_lon99.25 - Validation Set: RMSE=1.5225, MAE=1.0128, R2=-0.1811\n",
      "  lat8.25_lon99.25 - Test Set:       RMSE=1.8974, MAE=1.1789, R2=-0.5059\n",
      "\n",
      "--- Processing Location: lat8.25_lon99.75 ---\n",
      "  Warning: Could not infer frequency for lat8.25_lon99.75.\n",
      "  Stationarity (p-value): 0.0000 -> Stationary\n",
      "  Running auto_arima with seasonal period m=12...\n",
      "  Best model found for lat8.25_lon99.75: (1, 0, 1) (2, 1, 0, 12)\n"
     ]
    },
    {
     "name": "stderr",
     "output_type": "stream",
     "text": [
      "c:\\Users\\peera\\.conda\\envs\\drought_lstm_base\\Lib\\site-packages\\statsmodels\\tsa\\base\\tsa_model.py:837: FutureWarning: No supported index is available. In the next version, calling this method in a model without a supported index will result in an exception.\n",
      "  return get_prediction_index(\n"
     ]
    },
    {
     "name": "stdout",
     "output_type": "stream",
     "text": [
      "  lat8.25_lon99.75 - Train Set:      RMSE=1.2094, MAE=0.8865, R2=-0.2384\n",
      "  lat8.25_lon99.75 - Validation Set: RMSE=1.3819, MAE=0.9754, R2=-0.1634\n",
      "  lat8.25_lon99.75 - Test Set:       RMSE=1.7014, MAE=1.1087, R2=-0.5250\n",
      "\n",
      "--- Processing Location: lat8.25_lon100.25 ---\n",
      "  Warning: Could not infer frequency for lat8.25_lon100.25.\n",
      "  Stationarity (p-value): 0.0000 -> Stationary\n",
      "  Running auto_arima with seasonal period m=12...\n",
      "  Best model found for lat8.25_lon100.25: (1, 0, 1) (2, 1, 0, 12)\n"
     ]
    },
    {
     "name": "stderr",
     "output_type": "stream",
     "text": [
      "c:\\Users\\peera\\.conda\\envs\\drought_lstm_base\\Lib\\site-packages\\statsmodels\\tsa\\base\\tsa_model.py:837: FutureWarning: No supported index is available. In the next version, calling this method in a model without a supported index will result in an exception.\n",
      "  return get_prediction_index(\n"
     ]
    },
    {
     "name": "stdout",
     "output_type": "stream",
     "text": [
      "  lat8.25_lon100.25 - Train Set:      RMSE=1.2294, MAE=0.8927, R2=-0.2413\n",
      "  lat8.25_lon100.25 - Validation Set: RMSE=1.2746, MAE=0.9717, R2=-0.3210\n",
      "  lat8.25_lon100.25 - Test Set:       RMSE=1.4895, MAE=1.0205, R2=-0.7811\n",
      "\n",
      "--- Processing Location: lat8.75_lon98.25 ---\n",
      "  Warning: Could not infer frequency for lat8.75_lon98.25.\n",
      "  Stationarity (p-value): 0.0000 -> Stationary\n",
      "  Running auto_arima with seasonal period m=12...\n",
      "  Best model found for lat8.75_lon98.25: (2, 0, 1) (2, 1, 0, 12)\n"
     ]
    },
    {
     "name": "stderr",
     "output_type": "stream",
     "text": [
      "c:\\Users\\peera\\.conda\\envs\\drought_lstm_base\\Lib\\site-packages\\statsmodels\\tsa\\base\\tsa_model.py:837: FutureWarning: No supported index is available. In the next version, calling this method in a model without a supported index will result in an exception.\n",
      "  return get_prediction_index(\n"
     ]
    },
    {
     "name": "stdout",
     "output_type": "stream",
     "text": [
      "  lat8.75_lon98.25 - Train Set:      RMSE=1.2098, MAE=0.8658, R2=-0.2556\n",
      "  lat8.75_lon98.25 - Validation Set: RMSE=1.6902, MAE=1.0566, R2=-0.2023\n",
      "  lat8.75_lon98.25 - Test Set:       RMSE=2.4861, MAE=1.3593, R2=-0.4624\n",
      "\n",
      "--- Processing Location: lat8.75_lon98.75 ---\n",
      "  Warning: Could not infer frequency for lat8.75_lon98.75.\n",
      "  Stationarity (p-value): 0.0000 -> Stationary\n",
      "  Running auto_arima with seasonal period m=12...\n",
      "  Best model found for lat8.75_lon98.75: (2, 0, 1) (2, 1, 0, 12)\n"
     ]
    },
    {
     "name": "stderr",
     "output_type": "stream",
     "text": [
      "c:\\Users\\peera\\.conda\\envs\\drought_lstm_base\\Lib\\site-packages\\statsmodels\\tsa\\base\\tsa_model.py:837: FutureWarning: No supported index is available. In the next version, calling this method in a model without a supported index will result in an exception.\n",
      "  return get_prediction_index(\n"
     ]
    },
    {
     "name": "stdout",
     "output_type": "stream",
     "text": [
      "  lat8.75_lon98.75 - Train Set:      RMSE=1.2044, MAE=0.8664, R2=-0.2461\n",
      "  lat8.75_lon98.75 - Validation Set: RMSE=1.5971, MAE=1.0123, R2=-0.1774\n",
      "  lat8.75_lon98.75 - Test Set:       RMSE=2.2428, MAE=1.2925, R2=-0.4628\n",
      "\n",
      "--- Processing Location: lat8.75_lon99.25 ---\n",
      "  Warning: Could not infer frequency for lat8.75_lon99.25.\n",
      "  Stationarity (p-value): 0.0000 -> Stationary\n",
      "  Running auto_arima with seasonal period m=12...\n",
      "  Best model found for lat8.75_lon99.25: (2, 0, 1) (2, 1, 0, 12)\n"
     ]
    },
    {
     "name": "stderr",
     "output_type": "stream",
     "text": [
      "c:\\Users\\peera\\.conda\\envs\\drought_lstm_base\\Lib\\site-packages\\statsmodels\\tsa\\base\\tsa_model.py:837: FutureWarning: No supported index is available. In the next version, calling this method in a model without a supported index will result in an exception.\n",
      "  return get_prediction_index(\n"
     ]
    },
    {
     "name": "stdout",
     "output_type": "stream",
     "text": [
      "  lat8.75_lon99.25 - Train Set:      RMSE=1.1971, MAE=0.8669, R2=-0.2357\n",
      "  lat8.75_lon99.25 - Validation Set: RMSE=1.4458, MAE=0.9709, R2=-0.1661\n",
      "  lat8.75_lon99.25 - Test Set:       RMSE=2.1073, MAE=1.2435, R2=-0.4642\n",
      "\n",
      "--- Processing Location: lat8.75_lon99.75 ---\n",
      "  Warning: Could not infer frequency for lat8.75_lon99.75.\n",
      "  Stationarity (p-value): 0.0000 -> Stationary\n",
      "  Running auto_arima with seasonal period m=12...\n",
      "  Best model found for lat8.75_lon99.75: (1, 0, 1) (2, 1, 0, 12)\n"
     ]
    },
    {
     "name": "stderr",
     "output_type": "stream",
     "text": [
      "c:\\Users\\peera\\.conda\\envs\\drought_lstm_base\\Lib\\site-packages\\statsmodels\\tsa\\base\\tsa_model.py:837: FutureWarning: No supported index is available. In the next version, calling this method in a model without a supported index will result in an exception.\n",
      "  return get_prediction_index(\n"
     ]
    },
    {
     "name": "stdout",
     "output_type": "stream",
     "text": [
      "  lat8.75_lon99.75 - Train Set:      RMSE=1.2170, MAE=0.8808, R2=-0.2440\n",
      "  lat8.75_lon99.75 - Validation Set: RMSE=1.2870, MAE=0.9187, R2=-0.2250\n",
      "  lat8.75_lon99.75 - Test Set:       RMSE=1.7252, MAE=1.1129, R2=-0.4568\n",
      "\n",
      "--- Processing Location: lat9.25_lon98.25 ---\n",
      "  Warning: Could not infer frequency for lat9.25_lon98.25.\n",
      "  Stationarity (p-value): 0.0000 -> Stationary\n",
      "  Running auto_arima with seasonal period m=12...\n",
      "  Best model found for lat9.25_lon98.25: (1, 0, 1) (2, 1, 0, 12)\n"
     ]
    },
    {
     "name": "stderr",
     "output_type": "stream",
     "text": [
      "c:\\Users\\peera\\.conda\\envs\\drought_lstm_base\\Lib\\site-packages\\statsmodels\\tsa\\base\\tsa_model.py:837: FutureWarning: No supported index is available. In the next version, calling this method in a model without a supported index will result in an exception.\n",
      "  return get_prediction_index(\n"
     ]
    },
    {
     "name": "stdout",
     "output_type": "stream",
     "text": [
      "  lat9.25_lon98.25 - Train Set:      RMSE=1.2261, MAE=0.8694, R2=-0.2719\n",
      "  lat9.25_lon98.25 - Validation Set: RMSE=2.0259, MAE=1.1368, R2=-0.2647\n",
      "  lat9.25_lon98.25 - Test Set:       RMSE=2.2571, MAE=1.2425, R2=-0.5875\n",
      "\n",
      "--- Processing Location: lat9.25_lon98.75 ---\n",
      "  Warning: Could not infer frequency for lat9.25_lon98.75.\n",
      "  Stationarity (p-value): 0.0000 -> Stationary\n",
      "  Running auto_arima with seasonal period m=12...\n",
      "  Best model found for lat9.25_lon98.75: (1, 0, 2) (2, 1, 0, 12)\n"
     ]
    },
    {
     "name": "stderr",
     "output_type": "stream",
     "text": [
      "c:\\Users\\peera\\.conda\\envs\\drought_lstm_base\\Lib\\site-packages\\statsmodels\\tsa\\base\\tsa_model.py:837: FutureWarning: No supported index is available. In the next version, calling this method in a model without a supported index will result in an exception.\n",
      "  return get_prediction_index(\n"
     ]
    },
    {
     "name": "stdout",
     "output_type": "stream",
     "text": [
      "  lat9.25_lon98.75 - Train Set:      RMSE=1.2286, MAE=0.8738, R2=-0.2634\n",
      "  lat9.25_lon98.75 - Validation Set: RMSE=1.8396, MAE=1.0617, R2=-0.2628\n",
      "  lat9.25_lon98.75 - Test Set:       RMSE=2.0496, MAE=1.1759, R2=-0.6058\n",
      "\n",
      "--- Processing Location: lat9.25_lon99.25 ---\n",
      "  Warning: Could not infer frequency for lat9.25_lon99.25.\n",
      "  Stationarity (p-value): 0.0000 -> Stationary\n",
      "  Running auto_arima with seasonal period m=12...\n",
      "  Best model found for lat9.25_lon99.25: (1, 0, 1) (2, 1, 0, 12)\n"
     ]
    },
    {
     "name": "stderr",
     "output_type": "stream",
     "text": [
      "c:\\Users\\peera\\.conda\\envs\\drought_lstm_base\\Lib\\site-packages\\statsmodels\\tsa\\base\\tsa_model.py:837: FutureWarning: No supported index is available. In the next version, calling this method in a model without a supported index will result in an exception.\n",
      "  return get_prediction_index(\n"
     ]
    },
    {
     "name": "stdout",
     "output_type": "stream",
     "text": [
      "  lat9.25_lon99.25 - Train Set:      RMSE=1.2254, MAE=0.8692, R2=-0.2604\n",
      "  lat9.25_lon99.25 - Validation Set: RMSE=1.7673, MAE=0.9953, R2=-0.2609\n",
      "  lat9.25_lon99.25 - Test Set:       RMSE=1.9731, MAE=1.1377, R2=-0.6057\n",
      "\n",
      "--- Processing Location: lat9.25_lon99.75 ---\n",
      "  Warning: Could not infer frequency for lat9.25_lon99.75.\n",
      "  Stationarity (p-value): 0.0000 -> Stationary\n",
      "  Running auto_arima with seasonal period m=12...\n",
      "  Best model found for lat9.25_lon99.75: (2, 0, 0) (2, 1, 0, 12)\n"
     ]
    },
    {
     "name": "stderr",
     "output_type": "stream",
     "text": [
      "c:\\Users\\peera\\.conda\\envs\\drought_lstm_base\\Lib\\site-packages\\statsmodels\\tsa\\base\\tsa_model.py:837: FutureWarning: No supported index is available. In the next version, calling this method in a model without a supported index will result in an exception.\n",
      "  return get_prediction_index(\n"
     ]
    },
    {
     "name": "stdout",
     "output_type": "stream",
     "text": [
      "  lat9.25_lon99.75 - Train Set:      RMSE=1.2041, MAE=0.8654, R2=-0.2418\n",
      "  lat9.25_lon99.75 - Validation Set: RMSE=1.4602, MAE=0.9320, R2=-0.2379\n",
      "  lat9.25_lon99.75 - Test Set:       RMSE=2.2144, MAE=1.2564, R2=-0.5008\n",
      "\n",
      "--- Processing Location: lat9.75_lon98.75 ---\n",
      "  Warning: Could not infer frequency for lat9.75_lon98.75.\n",
      "  Stationarity (p-value): 0.0000 -> Stationary\n",
      "  Running auto_arima with seasonal period m=12...\n",
      "  Best model found for lat9.75_lon98.75: (2, 0, 0) (2, 1, 0, 12)\n"
     ]
    },
    {
     "name": "stderr",
     "output_type": "stream",
     "text": [
      "c:\\Users\\peera\\.conda\\envs\\drought_lstm_base\\Lib\\site-packages\\statsmodels\\tsa\\base\\tsa_model.py:837: FutureWarning: No supported index is available. In the next version, calling this method in a model without a supported index will result in an exception.\n",
      "  return get_prediction_index(\n"
     ]
    },
    {
     "name": "stdout",
     "output_type": "stream",
     "text": [
      "  lat9.75_lon98.75 - Train Set:      RMSE=1.2333, MAE=0.8703, R2=-0.2831\n",
      "  lat9.75_lon98.75 - Validation Set: RMSE=1.9782, MAE=1.1812, R2=-0.3837\n",
      "  lat9.75_lon98.75 - Test Set:       RMSE=2.4807, MAE=1.3088, R2=-0.4712\n",
      "\n",
      "--- Processing Location: lat10.25_lon98.75 ---\n",
      "  Warning: Could not infer frequency for lat10.25_lon98.75.\n",
      "  Stationarity (p-value): 0.0000 -> Stationary\n",
      "  Running auto_arima with seasonal period m=12...\n",
      "  Best model found for lat10.25_lon98.75: (1, 0, 1) (2, 1, 0, 12)\n"
     ]
    },
    {
     "name": "stderr",
     "output_type": "stream",
     "text": [
      "c:\\Users\\peera\\.conda\\envs\\drought_lstm_base\\Lib\\site-packages\\statsmodels\\tsa\\base\\tsa_model.py:837: FutureWarning: No supported index is available. In the next version, calling this method in a model without a supported index will result in an exception.\n",
      "  return get_prediction_index(\n"
     ]
    },
    {
     "name": "stdout",
     "output_type": "stream",
     "text": [
      "  lat10.25_lon98.75 - Train Set:      RMSE=1.2398, MAE=0.8729, R2=-0.2759\n",
      "  lat10.25_lon98.75 - Validation Set: RMSE=1.9516, MAE=1.1730, R2=-0.4243\n",
      "  lat10.25_lon98.75 - Test Set:       RMSE=2.2091, MAE=1.1823, R2=-0.6597\n",
      "\n",
      "--- Processing Location: lat10.75_lon99.25 ---\n",
      "  Warning: Could not infer frequency for lat10.75_lon99.25.\n",
      "  Stationarity (p-value): 0.0000 -> Stationary\n",
      "  Running auto_arima with seasonal period m=12...\n",
      "  Best model found for lat10.75_lon99.25: (1, 0, 0) (2, 1, 0, 12)\n"
     ]
    },
    {
     "name": "stderr",
     "output_type": "stream",
     "text": [
      "c:\\Users\\peera\\.conda\\envs\\drought_lstm_base\\Lib\\site-packages\\statsmodels\\tsa\\base\\tsa_model.py:837: FutureWarning: No supported index is available. In the next version, calling this method in a model without a supported index will result in an exception.\n",
      "  return get_prediction_index(\n"
     ]
    },
    {
     "name": "stdout",
     "output_type": "stream",
     "text": [
      "  lat10.75_lon99.25 - Train Set:      RMSE=1.2197, MAE=0.8752, R2=-0.2705\n",
      "  lat10.75_lon99.25 - Validation Set: RMSE=2.0473, MAE=1.2859, R2=-0.5498\n",
      "  lat10.75_lon99.25 - Test Set:       RMSE=2.5900, MAE=1.3389, R2=-0.5836\n",
      "\n",
      "--- Processing Location: lat11.25_lon99.25 ---\n",
      "  Warning: Could not infer frequency for lat11.25_lon99.25.\n",
      "  Stationarity (p-value): 0.0000 -> Stationary\n",
      "  Running auto_arima with seasonal period m=12...\n",
      "  Best model found for lat11.25_lon99.25: (1, 0, 0) (2, 1, 0, 12)\n"
     ]
    },
    {
     "name": "stderr",
     "output_type": "stream",
     "text": [
      "c:\\Users\\peera\\.conda\\envs\\drought_lstm_base\\Lib\\site-packages\\statsmodels\\tsa\\base\\tsa_model.py:837: FutureWarning: No supported index is available. In the next version, calling this method in a model without a supported index will result in an exception.\n",
      "  return get_prediction_index(\n"
     ]
    },
    {
     "name": "stdout",
     "output_type": "stream",
     "text": [
      "  lat11.25_lon99.25 - Train Set:      RMSE=1.2237, MAE=0.8864, R2=-0.2716\n",
      "  lat11.25_lon99.25 - Validation Set: RMSE=1.9116, MAE=1.2151, R2=-0.5664\n",
      "  lat11.25_lon99.25 - Test Set:       RMSE=2.4877, MAE=1.3014, R2=-0.5955\n",
      "\n",
      "--- Processing Location: lat11.75_lon99.75 ---\n",
      "  Warning: Could not infer frequency for lat11.75_lon99.75.\n",
      "  Stationarity (p-value): 0.0000 -> Stationary\n",
      "  Running auto_arima with seasonal period m=12...\n",
      "  Best model found for lat11.75_lon99.75: (1, 0, 1) (2, 1, 0, 12)\n"
     ]
    },
    {
     "name": "stderr",
     "output_type": "stream",
     "text": [
      "c:\\Users\\peera\\.conda\\envs\\drought_lstm_base\\Lib\\site-packages\\statsmodels\\tsa\\base\\tsa_model.py:837: FutureWarning: No supported index is available. In the next version, calling this method in a model without a supported index will result in an exception.\n",
      "  return get_prediction_index(\n"
     ]
    },
    {
     "name": "stdout",
     "output_type": "stream",
     "text": [
      "  lat11.75_lon99.75 - Train Set:      RMSE=1.2126, MAE=0.8836, R2=-0.2505\n",
      "  lat11.75_lon99.75 - Validation Set: RMSE=1.6512, MAE=1.0314, R2=-0.5982\n",
      "  lat11.75_lon99.75 - Test Set:       RMSE=2.2254, MAE=1.2710, R2=-0.6942\n",
      "\n",
      "--- Processing Location: lat11.75_lon102.75 ---\n",
      "  Warning: Could not infer frequency for lat11.75_lon102.75.\n",
      "  Stationarity (p-value): 0.0000 -> Stationary\n",
      "  Running auto_arima with seasonal period m=12...\n",
      "  Best model found for lat11.75_lon102.75: (0, 0, 0) (2, 1, 0, 12)\n"
     ]
    },
    {
     "name": "stderr",
     "output_type": "stream",
     "text": [
      "c:\\Users\\peera\\.conda\\envs\\drought_lstm_base\\Lib\\site-packages\\statsmodels\\tsa\\base\\tsa_model.py:837: FutureWarning: No supported index is available. In the next version, calling this method in a model without a supported index will result in an exception.\n",
      "  return get_prediction_index(\n"
     ]
    },
    {
     "name": "stdout",
     "output_type": "stream",
     "text": [
      "  lat11.75_lon102.75 - Train Set:      RMSE=1.2964, MAE=0.8946, R2=-0.3014\n",
      "  lat11.75_lon102.75 - Validation Set: RMSE=1.3404, MAE=0.9873, R2=-0.7751\n",
      "  lat11.75_lon102.75 - Test Set:       RMSE=1.1203, MAE=0.8613, R2=-0.7131\n",
      "\n",
      "--- Processing Location: lat12.25_lon99.75 ---\n",
      "  Warning: Could not infer frequency for lat12.25_lon99.75.\n",
      "  Stationarity (p-value): 0.0000 -> Stationary\n",
      "  Running auto_arima with seasonal period m=12...\n",
      "  Best model found for lat12.25_lon99.75: (3, 0, 2) (2, 1, 0, 12)\n"
     ]
    },
    {
     "name": "stderr",
     "output_type": "stream",
     "text": [
      "c:\\Users\\peera\\.conda\\envs\\drought_lstm_base\\Lib\\site-packages\\statsmodels\\tsa\\base\\tsa_model.py:837: FutureWarning: No supported index is available. In the next version, calling this method in a model without a supported index will result in an exception.\n",
      "  return get_prediction_index(\n"
     ]
    },
    {
     "name": "stdout",
     "output_type": "stream",
     "text": [
      "  lat12.25_lon99.75 - Train Set:      RMSE=1.2161, MAE=0.8899, R2=-0.2339\n",
      "  lat12.25_lon99.75 - Validation Set: RMSE=0.9640, MAE=0.7908, R2=-0.9268\n",
      "  lat12.25_lon99.75 - Test Set:       RMSE=1.5043, MAE=1.0213, R2=-0.5114\n",
      "\n",
      "--- Processing Location: lat12.25_lon102.25 ---\n",
      "  Warning: Could not infer frequency for lat12.25_lon102.25.\n",
      "  Stationarity (p-value): 0.0000 -> Stationary\n",
      "  Running auto_arima with seasonal period m=12...\n",
      "  Best model found for lat12.25_lon102.25: (2, 0, 2) (2, 1, 0, 12)\n"
     ]
    },
    {
     "name": "stderr",
     "output_type": "stream",
     "text": [
      "c:\\Users\\peera\\.conda\\envs\\drought_lstm_base\\Lib\\site-packages\\statsmodels\\tsa\\base\\tsa_model.py:837: FutureWarning: No supported index is available. In the next version, calling this method in a model without a supported index will result in an exception.\n",
      "  return get_prediction_index(\n"
     ]
    },
    {
     "name": "stdout",
     "output_type": "stream",
     "text": [
      "  lat12.25_lon102.25 - Train Set:      RMSE=1.2647, MAE=0.9021, R2=-0.2817\n",
      "  lat12.25_lon102.25 - Validation Set: RMSE=1.1517, MAE=0.8641, R2=-0.6741\n",
      "  lat12.25_lon102.25 - Test Set:       RMSE=1.6558, MAE=1.0819, R2=-0.8904\n",
      "\n",
      "--- Processing Location: lat12.75_lon99.25 ---\n",
      "  Warning: Could not infer frequency for lat12.75_lon99.25.\n",
      "  Stationarity (p-value): 0.0000 -> Stationary\n",
      "  Running auto_arima with seasonal period m=12...\n",
      "  Best model found for lat12.75_lon99.25: (3, 0, 1) (2, 1, 0, 12)\n"
     ]
    },
    {
     "name": "stderr",
     "output_type": "stream",
     "text": [
      "c:\\Users\\peera\\.conda\\envs\\drought_lstm_base\\Lib\\site-packages\\statsmodels\\tsa\\base\\tsa_model.py:837: FutureWarning: No supported index is available. In the next version, calling this method in a model without a supported index will result in an exception.\n",
      "  return get_prediction_index(\n"
     ]
    },
    {
     "name": "stdout",
     "output_type": "stream",
     "text": [
      "  lat12.75_lon99.25 - Train Set:      RMSE=1.2248, MAE=0.8636, R2=-0.2409\n",
      "  lat12.75_lon99.25 - Validation Set: RMSE=1.7711, MAE=1.1546, R2=-1.0645\n",
      "  lat12.75_lon99.25 - Test Set:       RMSE=1.9267, MAE=1.1247, R2=-0.5809\n",
      "\n",
      "--- Processing Location: lat12.75_lon99.75 ---\n",
      "  Warning: Could not infer frequency for lat12.75_lon99.75.\n",
      "  Stationarity (p-value): 0.0000 -> Stationary\n",
      "  Running auto_arima with seasonal period m=12...\n",
      "  Best model found for lat12.75_lon99.75: (3, 0, 1) (2, 1, 0, 12)\n"
     ]
    },
    {
     "name": "stderr",
     "output_type": "stream",
     "text": [
      "c:\\Users\\peera\\.conda\\envs\\drought_lstm_base\\Lib\\site-packages\\statsmodels\\tsa\\base\\tsa_model.py:837: FutureWarning: No supported index is available. In the next version, calling this method in a model without a supported index will result in an exception.\n",
      "  return get_prediction_index(\n"
     ]
    },
    {
     "name": "stdout",
     "output_type": "stream",
     "text": [
      "  lat12.75_lon99.75 - Train Set:      RMSE=1.2228, MAE=0.8578, R2=-0.2348\n",
      "  lat12.75_lon99.75 - Validation Set: RMSE=1.6000, MAE=1.0638, R2=-0.8791\n",
      "  lat12.75_lon99.75 - Test Set:       RMSE=2.0929, MAE=1.2038, R2=-0.7200\n",
      "\n",
      "--- Processing Location: lat12.75_lon101.25 ---\n",
      "  Warning: Could not infer frequency for lat12.75_lon101.25.\n",
      "  Stationarity (p-value): 0.0000 -> Stationary\n",
      "  Running auto_arima with seasonal period m=12...\n",
      "  Best model found for lat12.75_lon101.25: (3, 0, 1) (2, 1, 0, 12)\n"
     ]
    },
    {
     "name": "stderr",
     "output_type": "stream",
     "text": [
      "c:\\Users\\peera\\.conda\\envs\\drought_lstm_base\\Lib\\site-packages\\statsmodels\\tsa\\base\\tsa_model.py:837: FutureWarning: No supported index is available. In the next version, calling this method in a model without a supported index will result in an exception.\n",
      "  return get_prediction_index(\n"
     ]
    },
    {
     "name": "stdout",
     "output_type": "stream",
     "text": [
      "  lat12.75_lon101.25 - Train Set:      RMSE=1.2223, MAE=0.8644, R2=-0.2436\n",
      "  lat12.75_lon101.25 - Validation Set: RMSE=1.3473, MAE=0.9506, R2=-0.5828\n",
      "  lat12.75_lon101.25 - Test Set:       RMSE=2.1895, MAE=1.2424, R2=-0.8593\n",
      "\n",
      "--- Processing Location: lat12.75_lon101.75 ---\n",
      "  Warning: Could not infer frequency for lat12.75_lon101.75.\n",
      "  Stationarity (p-value): 0.0000 -> Stationary\n",
      "  Running auto_arima with seasonal period m=12...\n",
      "  Best model found for lat12.75_lon101.75: (2, 0, 0) (2, 1, 0, 12)\n"
     ]
    },
    {
     "name": "stderr",
     "output_type": "stream",
     "text": [
      "c:\\Users\\peera\\.conda\\envs\\drought_lstm_base\\Lib\\site-packages\\statsmodels\\tsa\\base\\tsa_model.py:837: FutureWarning: No supported index is available. In the next version, calling this method in a model without a supported index will result in an exception.\n",
      "  return get_prediction_index(\n"
     ]
    },
    {
     "name": "stdout",
     "output_type": "stream",
     "text": [
      "  lat12.75_lon101.75 - Train Set:      RMSE=1.2405, MAE=0.8886, R2=-0.2562\n",
      "  lat12.75_lon101.75 - Validation Set: RMSE=1.0852, MAE=0.8366, R2=-0.7483\n",
      "  lat12.75_lon101.75 - Test Set:       RMSE=1.6947, MAE=1.0910, R2=-0.8266\n",
      "\n",
      "--- Processing Location: lat12.75_lon102.25 ---\n",
      "  Warning: Could not infer frequency for lat12.75_lon102.25.\n",
      "  Stationarity (p-value): 0.0000 -> Stationary\n",
      "  Running auto_arima with seasonal period m=12...\n"
     ]
    }
   ],
   "source": [
    "# Ensure this path is correct from your notebook's location\n",
    "config_file = \"../config_SARIMA_SPEI.yaml\"\n",
    "\n",
    "# Create an instance of the pipeline\n",
    "sarima_pipeline = SarimaLocalPipeline(config_path=config_file)\n",
    "\n",
    "# Execute the pipeline\n",
    "all_sarima_metrics = sarima_pipeline.run_pipeline()"
   ]
  },
  {
   "cell_type": "code",
   "execution_count": null,
   "id": "810652a1",
   "metadata": {},
   "outputs": [
    {
     "name": "stdout",
     "output_type": "stream",
     "text": [
      "\n",
      "--- SARIMA Pipeline Execution Finished ---\n",
      "Processed 1 locations with SARIMA.\n",
      "\n",
      "--- SARIMA Test Set Performance Summary ---\n",
      "       test.rmse  test.mae   test.r2\n",
      "count   1.000000   1.00000  1.000000\n",
      "mean    1.073046   0.88194 -0.079158\n",
      "std          NaN       NaN       NaN\n",
      "min     1.073046   0.88194 -0.079158\n",
      "25%     1.073046   0.88194 -0.079158\n",
      "50%     1.073046   0.88194 -0.079158\n",
      "75%     1.073046   0.88194 -0.079158\n",
      "max     1.073046   0.88194 -0.079158\n"
     ]
    }
   ],
   "source": [
    "# Ensure this path is correct from your notebook's location\n",
    "config_file = \"../config_SARIMA_PRE.yaml\"\n",
    "\n",
    "# Create an instance of the pipeline\n",
    "sarima_pipeline = SarimaLocalPipeline(config_path=config_file)\n",
    "\n",
    "# Execute the pipeline\n",
    "all_sarima_metrics = sarima_pipeline.run_pipeline()"
   ]
  },
  {
   "cell_type": "code",
   "execution_count": null,
   "id": "402d927c",
   "metadata": {},
   "outputs": [],
   "source": [
    "# Ensure this path is correct from your notebook's location\n",
    "config_file = \"../config_SARIMA_PET.yaml\"\n",
    "\n",
    "# Create an instance of the pipeline\n",
    "sarima_pipeline = SarimaLocalPipeline(config_path=config_file)\n",
    "\n",
    "# Execute the pipeline\n",
    "all_sarima_metrics = sarima_pipeline.run_pipeline()"
   ]
  }
 ],
 "metadata": {
  "kernelspec": {
   "display_name": "drought_lstm_base",
   "language": "python",
   "name": "python3"
  },
  "language_info": {
   "codemirror_mode": {
    "name": "ipython",
    "version": 3
   },
   "file_extension": ".py",
   "mimetype": "text/x-python",
   "name": "python",
   "nbconvert_exporter": "python",
   "pygments_lexer": "ipython3",
   "version": "3.12.7"
  }
 },
 "nbformat": 4,
 "nbformat_minor": 5
}
