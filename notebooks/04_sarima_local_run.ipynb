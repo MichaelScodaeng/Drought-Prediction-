{
 "cells": [
  {
   "cell_type": "code",
   "execution_count": 1,
   "id": "6a0558f6",
   "metadata": {},
   "outputs": [
    {
     "name": "stdout",
     "output_type": "stream",
     "text": [
      "Added project root to sys.path: c:\\Users\\peera\\Desktop\\DroughtLSTM_oneday\n",
      "SARIMA Pipeline Class: Successfully imported utility functions from data_utils.\n"
     ]
    }
   ],
   "source": [
    "import sys\n",
    "import os\n",
    "import numpy as np\n",
    "import pandas as pd\n",
    "\n",
    "# Add project root to Python path to find 'src'\n",
    "notebook_dir = os.getcwd()\n",
    "project_root = os.path.abspath(os.path.join(notebook_dir, '..'))\n",
    "if project_root not in sys.path:\n",
    "    sys.path.append(project_root)\n",
    "    print(f\"Added project root to sys.path: {project_root}\")\n",
    "\n",
    "# Import your new pipeline class\n",
    "from src.sarima_pipeline import SarimaLocalPipeline"
   ]
  },
  {
   "cell_type": "code",
   "execution_count": 2,
   "id": "592275dd",
   "metadata": {},
   "outputs": [
    {
     "name": "stdout",
     "output_type": "stream",
     "text": [
      "SARIMA Pipeline Class: Loading config from: c:\\Users\\peera\\Desktop\\DroughtLSTM_oneday\\config_SARIMA_SPEI.yaml\n",
      "Configuration loaded from c:\\Users\\peera\\Desktop\\DroughtLSTM_oneday\\config_SARIMA_SPEI.yaml\n",
      "SARIMA Pipeline Class: Artifacts will be saved under 'c:\\Users\\peera\\Desktop\\DroughtLSTM_oneday\\run_outputs\\SPEI_SARIMA_Local_Run_sarima_local'\n",
      "\n",
      "--- Starting SARIMA Local Pipeline Run: Experiment 'SPEI_SARIMA_Local_Run_sarima_local' ---\n",
      "SARIMA Pipeline: Loading full raw data...\n",
      "Successfully loaded data from c:\\Users\\peera\\Desktop\\DroughtLSTM_oneday\\data\\full.csv. Shape: (264201, 19)\n",
      "Converted column 'time' to datetime.\n",
      "Data sorted by ['time', 'lat', 'lon'].\n",
      "SARIMA Pipeline: Found 179 unique locations.\n",
      "\n",
      "--- Processing Location: lat6.25_lon101.25 ---\n",
      "  Warning: Could not infer frequency for lat6.25_lon101.25.\n",
      "  Stationarity (p-value): 0.0000 -> Stationary\n",
      "  Running auto_arima with seasonal period m=12...\n",
      "  Best model found for lat6.25_lon101.25: (0, 0, 3) (0, 1, 2, 12)\n"
     ]
    },
    {
     "name": "stderr",
     "output_type": "stream",
     "text": [
      "c:\\Users\\peera\\.conda\\envs\\drought_lstm_base\\Lib\\site-packages\\statsmodels\\tsa\\base\\tsa_model.py:837: FutureWarning: No supported index is available. In the next version, calling this method in a model without a supported index will result in an exception.\n",
      "  return get_prediction_index(\n",
      "c:\\Users\\peera\\.conda\\envs\\drought_lstm_base\\Lib\\site-packages\\sklearn\\metrics\\_regression.py:492: FutureWarning: 'squared' is deprecated in version 1.4 and will be removed in 1.6. To calculate the root mean squared error, use the function'root_mean_squared_error'.\n",
      "  warnings.warn(\n",
      "c:\\Users\\peera\\.conda\\envs\\drought_lstm_base\\Lib\\site-packages\\sklearn\\metrics\\_regression.py:492: FutureWarning: 'squared' is deprecated in version 1.4 and will be removed in 1.6. To calculate the root mean squared error, use the function'root_mean_squared_error'.\n",
      "  warnings.warn(\n",
      "c:\\Users\\peera\\.conda\\envs\\drought_lstm_base\\Lib\\site-packages\\sklearn\\metrics\\_regression.py:492: FutureWarning: 'squared' is deprecated in version 1.4 and will be removed in 1.6. To calculate the root mean squared error, use the function'root_mean_squared_error'.\n",
      "  warnings.warn(\n"
     ]
    },
    {
     "name": "stdout",
     "output_type": "stream",
     "text": [
      "  lat6.25_lon101.25 - Train Set:      RMSE=1.0087, MAE=0.8209, R2=-0.0461\n",
      "  lat6.25_lon101.25 - Validation Set: RMSE=1.3350, MAE=1.1343, R2=-0.1092\n",
      "  lat6.25_lon101.25 - Test Set:       RMSE=1.0730, MAE=0.8819, R2=-0.0792\n",
      "SARIMA Pipeline: Aggregated metrics saved to c:\\Users\\peera\\Desktop\\DroughtLSTM_oneday\\run_outputs\\SPEI_SARIMA_Local_Run_sarima_local\\all_sarima_local_models_evaluation_metrics.json\n",
      "--- SARIMA Local Pipeline Run Finished ---\n"
     ]
    }
   ],
   "source": [
    "# Ensure this path is correct from your notebook's location\n",
    "config_file = \"../config_SARIMA_SPEI.yaml\"\n",
    "\n",
    "# Create an instance of the pipeline\n",
    "sarima_pipeline = SarimaLocalPipeline(config_path=config_file)\n",
    "\n",
    "# Execute the pipeline\n",
    "all_sarima_metrics = sarima_pipeline.run_pipeline()"
   ]
  },
  {
   "cell_type": "code",
   "execution_count": null,
   "id": "810652a1",
   "metadata": {},
   "outputs": [
    {
     "name": "stdout",
     "output_type": "stream",
     "text": [
      "\n",
      "--- SARIMA Pipeline Execution Finished ---\n",
      "Processed 1 locations with SARIMA.\n",
      "\n",
      "--- SARIMA Test Set Performance Summary ---\n",
      "       test.rmse  test.mae   test.r2\n",
      "count   1.000000   1.00000  1.000000\n",
      "mean    1.073046   0.88194 -0.079158\n",
      "std          NaN       NaN       NaN\n",
      "min     1.073046   0.88194 -0.079158\n",
      "25%     1.073046   0.88194 -0.079158\n",
      "50%     1.073046   0.88194 -0.079158\n",
      "75%     1.073046   0.88194 -0.079158\n",
      "max     1.073046   0.88194 -0.079158\n"
     ]
    }
   ],
   "source": [
    "# Ensure this path is correct from your notebook's location\n",
    "config_file = \"../config_SARIMA_PRE.yaml\"\n",
    "\n",
    "# Create an instance of the pipeline\n",
    "sarima_pipeline = SarimaLocalPipeline(config_path=config_file)\n",
    "\n",
    "# Execute the pipeline\n",
    "all_sarima_metrics = sarima_pipeline.run_pipeline()"
   ]
  },
  {
   "cell_type": "code",
   "execution_count": null,
   "id": "402d927c",
   "metadata": {},
   "outputs": [],
   "source": [
    "# Ensure this path is correct from your notebook's location\n",
    "config_file = \"../config_SARIMA_PET.yaml\"\n",
    "\n",
    "# Create an instance of the pipeline\n",
    "sarima_pipeline = SarimaLocalPipeline(config_path=config_file)\n",
    "\n",
    "# Execute the pipeline\n",
    "all_sarima_metrics = sarima_pipeline.run_pipeline()"
   ]
  }
 ],
 "metadata": {
  "kernelspec": {
   "display_name": "drought_lstm_base",
   "language": "python",
   "name": "python3"
  },
  "language_info": {
   "codemirror_mode": {
    "name": "ipython",
    "version": 3
   },
   "file_extension": ".py",
   "mimetype": "text/x-python",
   "name": "python",
   "nbconvert_exporter": "python",
   "pygments_lexer": "ipython3",
   "version": "3.12.7"
  }
 },
 "nbformat": 4,
 "nbformat_minor": 5
}
